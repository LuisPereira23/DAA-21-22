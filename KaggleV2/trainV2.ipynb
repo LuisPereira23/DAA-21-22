{
 "cells": [
  {
   "cell_type": "code",
   "execution_count": 76,
   "metadata": {},
   "outputs": [],
   "source": [
    "import numpy as np\n",
    "import pandas as pd\n",
    "import xlrd\n",
    "import xlwt\n",
    "import matplotlib.pyplot as plt\n",
    "import seaborn as sns\n",
    "import sklearn\n",
    "import jupyterlab\n",
    "%matplotlib inline"
   ]
  },
  {
   "cell_type": "code",
   "execution_count": 77,
   "metadata": {},
   "outputs": [],
   "source": [
    "#training = pd.read_csv('training_data.csv', encoding = \"latin\")\n",
    "training = pd.read_csv('rainTrain.csv')"
   ]
  },
  {
   "cell_type": "code",
   "execution_count": 78,
   "metadata": {},
   "outputs": [
    {
     "data": {
      "text/plain": [
       "(6812, 14)"
      ]
     },
     "execution_count": 78,
     "metadata": {},
     "output_type": "execute_result"
    }
   ],
   "source": [
    "training.shape"
   ]
  },
  {
   "cell_type": "code",
   "execution_count": 79,
   "metadata": {},
   "outputs": [
    {
     "data": {
      "text/html": [
       "<div>\n",
       "<style scoped>\n",
       "    .dataframe tbody tr th:only-of-type {\n",
       "        vertical-align: middle;\n",
       "    }\n",
       "\n",
       "    .dataframe tbody tr th {\n",
       "        vertical-align: top;\n",
       "    }\n",
       "\n",
       "    .dataframe thead th {\n",
       "        text-align: right;\n",
       "    }\n",
       "</style>\n",
       "<table border=\"1\" class=\"dataframe\">\n",
       "  <thead>\n",
       "    <tr style=\"text-align: right;\">\n",
       "      <th></th>\n",
       "      <th>city_name</th>\n",
       "      <th>record_date</th>\n",
       "      <th>AVERAGE_SPEED_DIFF</th>\n",
       "      <th>AVERAGE_FREE_FLOW_SPEED</th>\n",
       "      <th>AVERAGE_TIME_DIFF</th>\n",
       "      <th>AVERAGE_FREE_FLOW_TIME</th>\n",
       "      <th>LUMINOSITY</th>\n",
       "      <th>AVERAGE_TEMPERATURE</th>\n",
       "      <th>AVERAGE_ATMOSP_PRESSURE</th>\n",
       "      <th>AVERAGE_HUMIDITY</th>\n",
       "      <th>AVERAGE_WIND_SPEED</th>\n",
       "      <th>AVERAGE_PRECIPITATION</th>\n",
       "      <th>AVERAGE_CLOUDINESS</th>\n",
       "      <th>AVERAGE_RAIN</th>\n",
       "    </tr>\n",
       "  </thead>\n",
       "  <tbody>\n",
       "    <tr>\n",
       "      <th>0</th>\n",
       "      <td>Porto</td>\n",
       "      <td>2019-08-29 07:00:00</td>\n",
       "      <td>Medium</td>\n",
       "      <td>41.5</td>\n",
       "      <td>11.5</td>\n",
       "      <td>71.4</td>\n",
       "      <td>LIGHT</td>\n",
       "      <td>15.0</td>\n",
       "      <td>1019.0</td>\n",
       "      <td>100.0</td>\n",
       "      <td>3.0</td>\n",
       "      <td>0.0</td>\n",
       "      <td>nuvens quebradas</td>\n",
       "      <td>chuva fraca</td>\n",
       "    </tr>\n",
       "    <tr>\n",
       "      <th>1</th>\n",
       "      <td>Porto</td>\n",
       "      <td>2018-08-10 14:00:00</td>\n",
       "      <td>High</td>\n",
       "      <td>41.7</td>\n",
       "      <td>48.3</td>\n",
       "      <td>87.4</td>\n",
       "      <td>LIGHT</td>\n",
       "      <td>21.0</td>\n",
       "      <td>1021.0</td>\n",
       "      <td>53.0</td>\n",
       "      <td>5.0</td>\n",
       "      <td>0.0</td>\n",
       "      <td>céu limpo</td>\n",
       "      <td>chuva fraca</td>\n",
       "    </tr>\n",
       "    <tr>\n",
       "      <th>2</th>\n",
       "      <td>Porto</td>\n",
       "      <td>2019-09-01 16:00:00</td>\n",
       "      <td>High</td>\n",
       "      <td>38.6</td>\n",
       "      <td>38.4</td>\n",
       "      <td>85.2</td>\n",
       "      <td>LIGHT</td>\n",
       "      <td>26.0</td>\n",
       "      <td>1014.0</td>\n",
       "      <td>61.0</td>\n",
       "      <td>4.0</td>\n",
       "      <td>0.0</td>\n",
       "      <td>nuvens quebradas</td>\n",
       "      <td>chuva fraca</td>\n",
       "    </tr>\n",
       "    <tr>\n",
       "      <th>3</th>\n",
       "      <td>Porto</td>\n",
       "      <td>2019-02-26 11:00:00</td>\n",
       "      <td>High</td>\n",
       "      <td>37.4</td>\n",
       "      <td>61.0</td>\n",
       "      <td>94.1</td>\n",
       "      <td>LIGHT</td>\n",
       "      <td>18.0</td>\n",
       "      <td>1025.0</td>\n",
       "      <td>48.0</td>\n",
       "      <td>4.0</td>\n",
       "      <td>0.0</td>\n",
       "      <td>céu limpo</td>\n",
       "      <td>chuva fraca</td>\n",
       "    </tr>\n",
       "    <tr>\n",
       "      <th>4</th>\n",
       "      <td>Porto</td>\n",
       "      <td>2019-06-06 12:00:00</td>\n",
       "      <td>Medium</td>\n",
       "      <td>41.6</td>\n",
       "      <td>50.4</td>\n",
       "      <td>77.0</td>\n",
       "      <td>LIGHT</td>\n",
       "      <td>15.0</td>\n",
       "      <td>1008.0</td>\n",
       "      <td>82.0</td>\n",
       "      <td>10.0</td>\n",
       "      <td>0.0</td>\n",
       "      <td>nuvens quebradas</td>\n",
       "      <td>chuva fraca</td>\n",
       "    </tr>\n",
       "  </tbody>\n",
       "</table>\n",
       "</div>"
      ],
      "text/plain": [
       "  city_name          record_date AVERAGE_SPEED_DIFF  AVERAGE_FREE_FLOW_SPEED  \\\n",
       "0     Porto  2019-08-29 07:00:00             Medium                     41.5   \n",
       "1     Porto  2018-08-10 14:00:00               High                     41.7   \n",
       "2     Porto  2019-09-01 16:00:00               High                     38.6   \n",
       "3     Porto  2019-02-26 11:00:00               High                     37.4   \n",
       "4     Porto  2019-06-06 12:00:00             Medium                     41.6   \n",
       "\n",
       "   AVERAGE_TIME_DIFF  AVERAGE_FREE_FLOW_TIME LUMINOSITY  AVERAGE_TEMPERATURE  \\\n",
       "0               11.5                    71.4      LIGHT                 15.0   \n",
       "1               48.3                    87.4      LIGHT                 21.0   \n",
       "2               38.4                    85.2      LIGHT                 26.0   \n",
       "3               61.0                    94.1      LIGHT                 18.0   \n",
       "4               50.4                    77.0      LIGHT                 15.0   \n",
       "\n",
       "   AVERAGE_ATMOSP_PRESSURE  AVERAGE_HUMIDITY  AVERAGE_WIND_SPEED  \\\n",
       "0                   1019.0             100.0                 3.0   \n",
       "1                   1021.0              53.0                 5.0   \n",
       "2                   1014.0              61.0                 4.0   \n",
       "3                   1025.0              48.0                 4.0   \n",
       "4                   1008.0              82.0                10.0   \n",
       "\n",
       "   AVERAGE_PRECIPITATION AVERAGE_CLOUDINESS AVERAGE_RAIN  \n",
       "0                    0.0   nuvens quebradas  chuva fraca  \n",
       "1                    0.0          céu limpo  chuva fraca  \n",
       "2                    0.0   nuvens quebradas  chuva fraca  \n",
       "3                    0.0          céu limpo  chuva fraca  \n",
       "4                    0.0   nuvens quebradas  chuva fraca  "
      ]
     },
     "execution_count": 79,
     "metadata": {},
     "output_type": "execute_result"
    }
   ],
   "source": [
    "training.head()"
   ]
  },
  {
   "cell_type": "code",
   "execution_count": 80,
   "metadata": {},
   "outputs": [
    {
     "name": "stdout",
     "output_type": "stream",
     "text": [
      "<class 'pandas.core.frame.DataFrame'>\n",
      "RangeIndex: 6812 entries, 0 to 6811\n",
      "Data columns (total 14 columns):\n",
      " #   Column                   Non-Null Count  Dtype  \n",
      "---  ------                   --------------  -----  \n",
      " 0   city_name                6812 non-null   object \n",
      " 1   record_date              6812 non-null   object \n",
      " 2   AVERAGE_SPEED_DIFF       6812 non-null   object \n",
      " 3   AVERAGE_FREE_FLOW_SPEED  6812 non-null   float64\n",
      " 4   AVERAGE_TIME_DIFF        6812 non-null   float64\n",
      " 5   AVERAGE_FREE_FLOW_TIME   6812 non-null   float64\n",
      " 6   LUMINOSITY               6812 non-null   object \n",
      " 7   AVERAGE_TEMPERATURE      6812 non-null   float64\n",
      " 8   AVERAGE_ATMOSP_PRESSURE  6812 non-null   float64\n",
      " 9   AVERAGE_HUMIDITY         6812 non-null   float64\n",
      " 10  AVERAGE_WIND_SPEED       6812 non-null   float64\n",
      " 11  AVERAGE_PRECIPITATION    6812 non-null   float64\n",
      " 12  AVERAGE_CLOUDINESS       6812 non-null   object \n",
      " 13  AVERAGE_RAIN             6812 non-null   object \n",
      "dtypes: float64(8), object(6)\n",
      "memory usage: 745.2+ KB\n"
     ]
    }
   ],
   "source": [
    "training.info()"
   ]
  },
  {
   "cell_type": "code",
   "execution_count": 81,
   "metadata": {},
   "outputs": [
    {
     "data": {
      "text/plain": [
       "None         2200\n",
       "Medium       1651\n",
       "Low          1419\n",
       "High         1063\n",
       "Very_High     479\n",
       "Name: AVERAGE_SPEED_DIFF, dtype: int64"
      ]
     },
     "execution_count": 81,
     "metadata": {},
     "output_type": "execute_result"
    }
   ],
   "source": [
    "training['AVERAGE_SPEED_DIFF'].value_counts()"
   ]
  },
  {
   "cell_type": "code",
   "execution_count": 82,
   "metadata": {},
   "outputs": [],
   "source": [
    "training['AVERAGE_SPEED_DIFF'] = training['AVERAGE_SPEED_DIFF'].astype('category')\n",
    "training['AVERAGE_RAIN'] = training['AVERAGE_RAIN'].astype('category')"
   ]
  },
  {
   "cell_type": "code",
   "execution_count": 83,
   "metadata": {},
   "outputs": [
    {
     "data": {
      "text/plain": [
       "Porto    6812\n",
       "Name: city_name, dtype: int64"
      ]
     },
     "execution_count": 83,
     "metadata": {},
     "output_type": "execute_result"
    }
   ],
   "source": [
    "training['city_name'].value_counts()"
   ]
  },
  {
   "cell_type": "code",
   "execution_count": 84,
   "metadata": {},
   "outputs": [
    {
     "data": {
      "text/plain": [
       "LIGHT        3293\n",
       "DARK         3253\n",
       "LOW_LIGHT     266\n",
       "Name: LUMINOSITY, dtype: int64"
      ]
     },
     "execution_count": 84,
     "metadata": {},
     "output_type": "execute_result"
    }
   ],
   "source": [
    "training['LUMINOSITY'].value_counts()"
   ]
  },
  {
   "cell_type": "code",
   "execution_count": 85,
   "metadata": {},
   "outputs": [
    {
     "data": {
      "text/plain": [
       "nuvens quebradas     4272\n",
       "céu limpo            1890\n",
       "céu pouco nublado     516\n",
       "nublado               134\n",
       "Name: AVERAGE_CLOUDINESS, dtype: int64"
      ]
     },
     "execution_count": 85,
     "metadata": {},
     "output_type": "execute_result"
    }
   ],
   "source": [
    "training['AVERAGE_CLOUDINESS'].value_counts()"
   ]
  },
  {
   "cell_type": "code",
   "execution_count": 86,
   "metadata": {},
   "outputs": [
    {
     "data": {
      "text/plain": [
       "chuva fraca          6500\n",
       "chuva moderada        160\n",
       "chuva leve             52\n",
       "aguaceiros fracos      38\n",
       "chuva                  33\n",
       "aguaceiros             16\n",
       "chuva forte            13\n",
       "Name: AVERAGE_RAIN, dtype: int64"
      ]
     },
     "execution_count": 86,
     "metadata": {},
     "output_type": "execute_result"
    }
   ],
   "source": [
    "training['AVERAGE_RAIN'].value_counts()"
   ]
  },
  {
   "cell_type": "code",
   "execution_count": 87,
   "metadata": {},
   "outputs": [
    {
     "data": {
      "text/html": [
       "<div>\n",
       "<style scoped>\n",
       "    .dataframe tbody tr th:only-of-type {\n",
       "        vertical-align: middle;\n",
       "    }\n",
       "\n",
       "    .dataframe tbody tr th {\n",
       "        vertical-align: top;\n",
       "    }\n",
       "\n",
       "    .dataframe thead th {\n",
       "        text-align: right;\n",
       "    }\n",
       "</style>\n",
       "<table border=\"1\" class=\"dataframe\">\n",
       "  <thead>\n",
       "    <tr style=\"text-align: right;\">\n",
       "      <th></th>\n",
       "      <th>AVERAGE_FREE_FLOW_SPEED</th>\n",
       "      <th>AVERAGE_TIME_DIFF</th>\n",
       "      <th>AVERAGE_FREE_FLOW_TIME</th>\n",
       "      <th>AVERAGE_TEMPERATURE</th>\n",
       "      <th>AVERAGE_ATMOSP_PRESSURE</th>\n",
       "      <th>AVERAGE_HUMIDITY</th>\n",
       "      <th>AVERAGE_WIND_SPEED</th>\n",
       "      <th>AVERAGE_PRECIPITATION</th>\n",
       "    </tr>\n",
       "  </thead>\n",
       "  <tbody>\n",
       "    <tr>\n",
       "      <th>count</th>\n",
       "      <td>6812.000000</td>\n",
       "      <td>6812.000000</td>\n",
       "      <td>6812.000000</td>\n",
       "      <td>6812.000000</td>\n",
       "      <td>6812.000000</td>\n",
       "      <td>6812.000000</td>\n",
       "      <td>6812.000000</td>\n",
       "      <td>6812.0</td>\n",
       "    </tr>\n",
       "    <tr>\n",
       "      <th>mean</th>\n",
       "      <td>40.661010</td>\n",
       "      <td>25.637111</td>\n",
       "      <td>81.143952</td>\n",
       "      <td>16.193482</td>\n",
       "      <td>1017.388139</td>\n",
       "      <td>80.084190</td>\n",
       "      <td>3.058573</td>\n",
       "      <td>0.0</td>\n",
       "    </tr>\n",
       "    <tr>\n",
       "      <th>std</th>\n",
       "      <td>4.119023</td>\n",
       "      <td>33.510507</td>\n",
       "      <td>8.294401</td>\n",
       "      <td>5.163492</td>\n",
       "      <td>5.751061</td>\n",
       "      <td>18.238863</td>\n",
       "      <td>2.138421</td>\n",
       "      <td>0.0</td>\n",
       "    </tr>\n",
       "    <tr>\n",
       "      <th>min</th>\n",
       "      <td>30.500000</td>\n",
       "      <td>0.000000</td>\n",
       "      <td>46.400000</td>\n",
       "      <td>0.000000</td>\n",
       "      <td>985.000000</td>\n",
       "      <td>14.000000</td>\n",
       "      <td>0.000000</td>\n",
       "      <td>0.0</td>\n",
       "    </tr>\n",
       "    <tr>\n",
       "      <th>25%</th>\n",
       "      <td>37.600000</td>\n",
       "      <td>2.275000</td>\n",
       "      <td>75.400000</td>\n",
       "      <td>13.000000</td>\n",
       "      <td>1015.000000</td>\n",
       "      <td>69.750000</td>\n",
       "      <td>1.000000</td>\n",
       "      <td>0.0</td>\n",
       "    </tr>\n",
       "    <tr>\n",
       "      <th>50%</th>\n",
       "      <td>40.700000</td>\n",
       "      <td>12.200000</td>\n",
       "      <td>82.400000</td>\n",
       "      <td>16.000000</td>\n",
       "      <td>1017.000000</td>\n",
       "      <td>83.000000</td>\n",
       "      <td>3.000000</td>\n",
       "      <td>0.0</td>\n",
       "    </tr>\n",
       "    <tr>\n",
       "      <th>75%</th>\n",
       "      <td>43.500000</td>\n",
       "      <td>36.200000</td>\n",
       "      <td>87.400000</td>\n",
       "      <td>19.000000</td>\n",
       "      <td>1021.000000</td>\n",
       "      <td>93.000000</td>\n",
       "      <td>4.000000</td>\n",
       "      <td>0.0</td>\n",
       "    </tr>\n",
       "    <tr>\n",
       "      <th>max</th>\n",
       "      <td>55.900000</td>\n",
       "      <td>296.500000</td>\n",
       "      <td>112.000000</td>\n",
       "      <td>35.000000</td>\n",
       "      <td>1033.000000</td>\n",
       "      <td>100.000000</td>\n",
       "      <td>14.000000</td>\n",
       "      <td>0.0</td>\n",
       "    </tr>\n",
       "  </tbody>\n",
       "</table>\n",
       "</div>"
      ],
      "text/plain": [
       "       AVERAGE_FREE_FLOW_SPEED  AVERAGE_TIME_DIFF  AVERAGE_FREE_FLOW_TIME  \\\n",
       "count              6812.000000        6812.000000             6812.000000   \n",
       "mean                 40.661010          25.637111               81.143952   \n",
       "std                   4.119023          33.510507                8.294401   \n",
       "min                  30.500000           0.000000               46.400000   \n",
       "25%                  37.600000           2.275000               75.400000   \n",
       "50%                  40.700000          12.200000               82.400000   \n",
       "75%                  43.500000          36.200000               87.400000   \n",
       "max                  55.900000         296.500000              112.000000   \n",
       "\n",
       "       AVERAGE_TEMPERATURE  AVERAGE_ATMOSP_PRESSURE  AVERAGE_HUMIDITY  \\\n",
       "count          6812.000000              6812.000000       6812.000000   \n",
       "mean             16.193482              1017.388139         80.084190   \n",
       "std               5.163492                 5.751061         18.238863   \n",
       "min               0.000000               985.000000         14.000000   \n",
       "25%              13.000000              1015.000000         69.750000   \n",
       "50%              16.000000              1017.000000         83.000000   \n",
       "75%              19.000000              1021.000000         93.000000   \n",
       "max              35.000000              1033.000000        100.000000   \n",
       "\n",
       "       AVERAGE_WIND_SPEED  AVERAGE_PRECIPITATION  \n",
       "count         6812.000000                 6812.0  \n",
       "mean             3.058573                    0.0  \n",
       "std              2.138421                    0.0  \n",
       "min              0.000000                    0.0  \n",
       "25%              1.000000                    0.0  \n",
       "50%              3.000000                    0.0  \n",
       "75%              4.000000                    0.0  \n",
       "max             14.000000                    0.0  "
      ]
     },
     "execution_count": 87,
     "metadata": {},
     "output_type": "execute_result"
    }
   ],
   "source": [
    "training.describe()"
   ]
  },
  {
   "cell_type": "code",
   "execution_count": 88,
   "metadata": {},
   "outputs": [],
   "source": [
    "trainingWork = training.copy()"
   ]
  },
  {
   "cell_type": "code",
   "execution_count": 89,
   "metadata": {},
   "outputs": [],
   "source": [
    "trainingWork['record_date'] = pd.to_datetime(trainingWork['record_date'])\n",
    "\n",
    "trainingWork['weekday'] = trainingWork['record_date'].dt.dayofweek\n",
    "trainingWork['hour'] = trainingWork['record_date'].dt.hour\n",
    "trainingWork['month'] = trainingWork['record_date'].dt.month\n",
    "#trainingWork['year'] = trainingWork['record_date'].dt.year\n",
    "trainingWork['day'] = trainingWork['record_date'].dt.day"
   ]
  },
  {
   "cell_type": "code",
   "execution_count": 90,
   "metadata": {},
   "outputs": [],
   "source": [
    "#trainingWork = trainingWork.drop(['city_name','record_date','AVERAGE_PRECIPITATION'],axis=1)"
   ]
  },
  {
   "cell_type": "code",
   "execution_count": 91,
   "metadata": {},
   "outputs": [],
   "source": [
    "#sns.pairplot(trainingWork)"
   ]
  },
  {
   "cell_type": "markdown",
   "metadata": {},
   "source": [
    "Prediction Target:\n",
    "\n",
    " 2   AVERAGE_SPEED_DIFF       6812 non-null   object \n",
    "\n",
    "Possibilities:\n",
    "\n",
    "None         2200\n",
    "Medium       1651\n",
    "Low          1419\n",
    "High         1063\n",
    "Very_High     479\n",
    " \n",
    "\n",
    "Features:\n",
    "\n",
    " 0   city_name                6812 non-null   object \n",
    " \n",
    " 1   record_date              6812 non-null   object ----> All the same value 'Porto' -> Remove\n",
    "\n",
    " 3   AVERAGE_FREE_FLOW_SPEED  6812 non-null   float64\n",
    " 4   AVERAGE_TIME_DIFF        6812 non-null   float64\n",
    " 5   AVERAGE_FREE_FLOW_TIME   6812 non-null   float64\n",
    "\n",
    "\n",
    " 6   LUMINOSITY               6812 non-null   object ----> categorical\n",
    "LIGHT        3293\n",
    "DARK         3253\n",
    "LOW_LIGHT     266\n",
    "\n",
    "\n",
    " 7   AVERAGE_TEMPERATURE      6812 non-null   float64\n",
    " 8   AVERAGE_ATMOSP_PRESSURE  6812 non-null   float64\n",
    " 9   AVERAGE_HUMIDITY         6812 non-null   float64\n",
    " 10  AVERAGE_WIND_SPEED       6812 non-null   float64\n",
    "\n",
    " 11  AVERAGE_CLOUDINESS       4130 non-null   object\n",
    "céu claro            1582\n",
    "céu pouco nublado     516\n",
    "nuvens dispersas      459\n",
    "nuvens quebrados      448\n",
    "algumas nuvens        422\n",
    "nuvens quebradas      416\n",
    "céu limpo             153\n",
    "tempo nublado          67\n",
    "nublado                67\n",
    "\n",
    "Missing data -> 39.4% ---> Mode? Removal? over/under Fitting?\n",
    "\n",
    " \n",
    " 12  AVERAGE_PRECIPITATION    6812 non-null   float64 --> All same values -> Remove\n",
    " \n",
    " 13  AVERAGE_RAIN             563 non-null    object \n",
    "chuva fraca                    261\n",
    "chuva moderada                 153\n",
    "chuva leve                      45\n",
    "aguaceiros fracos               38\n",
    "chuva                           30\n",
    "aguaceiros                      11\n",
    "chuva forte                      8\n",
    "trovoada com chuva leve          7\n",
    "chuvisco fraco                   5\n",
    "chuva de intensidade pesado      2\n",
    "chuva de intensidade pesada      1\n",
    "trovoada com chuva               1\n",
    "chuvisco e chuva fraca           1\n",
    "\n",
    "Missing data -> 91.7% ----> Removal"
   ]
  },
  {
   "cell_type": "code",
   "execution_count": 92,
   "metadata": {},
   "outputs": [
    {
     "data": {
      "text/plain": [
       "2396    2\n",
       "6185    2\n",
       "2072    2\n",
       "2078    2\n",
       "4049    2\n",
       "       ..\n",
       "4105    0\n",
       "4106    0\n",
       "4107    0\n",
       "4109    0\n",
       "6811    0\n",
       "Name: LUMINOSITY, Length: 6812, dtype: int8"
      ]
     },
     "execution_count": 92,
     "metadata": {},
     "output_type": "execute_result"
    }
   ],
   "source": [
    "corr = trainingWork.copy()\n",
    "\n",
    "corr['AVERAGE_RAIN']=corr['AVERAGE_RAIN'].astype('category').cat.codes\n",
    "corr['AVERAGE_RAIN'].sort_values(ascending=False)\n",
    "\n",
    "corr['AVERAGE_CLOUDINESS']=corr['AVERAGE_CLOUDINESS'].astype('category').cat.codes\n",
    "corr['AVERAGE_CLOUDINESS'].sort_values(ascending=False)\n",
    "\n",
    "corr['AVERAGE_SPEED_DIFF']=corr['AVERAGE_SPEED_DIFF'].astype('category').cat.codes\n",
    "corr['AVERAGE_SPEED_DIFF'].sort_values(ascending=False)\n",
    "\n",
    "corr['LUMINOSITY']=corr['LUMINOSITY'].astype('category').cat.codes\n",
    "corr['LUMINOSITY'].sort_values(ascending=False)\n",
    "\n"
   ]
  },
  {
   "cell_type": "code",
   "execution_count": 93,
   "metadata": {},
   "outputs": [
    {
     "data": {
      "text/plain": [
       "<AxesSubplot:>"
      ]
     },
     "execution_count": 93,
     "metadata": {},
     "output_type": "execute_result"
    },
    {
     "data": {
      "image/png": "[encoded data removed]",
      "text/plain": [
       "<Figure size 720x720 with 2 Axes>"
      ]
     },
     "metadata": {
      "needs_background": "light"
     },
     "output_type": "display_data"
    }
   ],
   "source": [
    "fig, ax = plt.subplots(figsize=(10,10))\n",
    "sns.heatmap(corr.corr())"
   ]
  },
  {
   "cell_type": "code",
   "execution_count": 94,
   "metadata": {},
   "outputs": [],
   "source": [
    "#trainingWork['AVERAGE_WIND_SPEED'] = np.log(trainingWork.AVERAGE_WIND_SPEED+1)\n",
    "#trainingWork['AVERAGE_TIME_DIFF'] = np.log(trainingWork.AVERAGE_TIME_DIFF+1)\n"
   ]
  },
  {
   "cell_type": "markdown",
   "metadata": {},
   "source": [
    "Numerical values:  \n",
    "\n",
    "AVERAGE_FREE_FLOW_SPEED  6812 non-null   float64  \n",
    "AVERAGE_TIME_DIFF        6812 non-null   float64  \n",
    "AVERAGE_FREE_FLOW_TIME   6812 non-null   float64  \n",
    "AVERAGE_TEMPERATURE      6812 non-null   float64  \n",
    "AVERAGE_ATMOSP_PRESSURE  6812 non-null   float64  \n",
    "AVERAGE_HUMIDITY         6812 non-null   float64  \n",
    "AVERAGE_WIND_SPEED       6812 non-null   float64  \n",
    "AVERAGE_PRECIPITATION    6812 non-null   float64  \n",
    "weekday                  6812 non-null   int64    \n",
    "hour                     6812 non-null   int64    \n",
    "month                    6812 non-null   int64    \n",
    "\n",
    "Categorical Values  \n",
    "city_name                6812 non-null   object  \n",
    "record_date              6812 non-null   object  \n",
    "AVERAGE_SPEED_DIFF       6812 non-null   object   \n",
    "LUMINOSITY               6812 non-null   object   \n",
    "AVERAGE_CLOUDINESS       4130 non-null   object   \n",
    "AVERAGE_RAIN             563 non-null    object   "
   ]
  },
  {
   "cell_type": "code",
   "execution_count": 95,
   "metadata": {},
   "outputs": [],
   "source": [
    "df_num = trainingWork[['AVERAGE_FREE_FLOW_SPEED','AVERAGE_TIME_DIFF','AVERAGE_FREE_FLOW_TIME','AVERAGE_TEMPERATURE','AVERAGE_ATMOSP_PRESSURE','AVERAGE_HUMIDITY','AVERAGE_WIND_SPEED','AVERAGE_PRECIPITATION','weekday','hour','month','day']]\n",
    "\n",
    "df_cat = trainingWork[['AVERAGE_SPEED_DIFF','LUMINOSITY','AVERAGE_CLOUDINESS','AVERAGE_RAIN']]"
   ]
  },
  {
   "cell_type": "code",
   "execution_count": 96,
   "metadata": {},
   "outputs": [
    {
     "data": {
      "image/png": "[encoded data removed]",
      "text/plain": [
       "<Figure size 432x288 with 1 Axes>"
      ]
     },
     "metadata": {
      "needs_background": "light"
     },
     "output_type": "display_data"
    },
    {
     "data": {
      "image/png": "[encoded data removed]",
      "text/plain": [
       "<Figure size 432x288 with 1 Axes>"
      ]
     },
     "metadata": {
      "needs_background": "light"
     },
     "output_type": "display_data"
    },
    {
     "data": {
      "image/png": "[encoded data removed]",
      "text/plain": [
       "<Figure size 432x288 with 1 Axes>"
      ]
     },
     "metadata": {
      "needs_background": "light"
     },
     "output_type": "display_data"
    },
    {
     "data": {
      "image/png": "[encoded data removed]",
      "text/plain": [
       "<Figure size 432x288 with 1 Axes>"
      ]
     },
     "metadata": {
      "needs_background": "light"
     },
     "output_type": "display_data"
    },
    {
     "data": {
      "image/png": "[encoded data removed]",
      "text/plain": [
       "<Figure size 432x288 with 1 Axes>"
      ]
     },
     "metadata": {
      "needs_background": "light"
     },
     "output_type": "display_data"
    },
    {
     "data": {
      "image/png": "[encoded data removed]",
      "text/plain": [
       "<Figure size 432x288 with 1 Axes>"
      ]
     },
     "metadata": {
      "needs_background": "light"
     },
     "output_type": "display_data"
    },
    {
     "data": {
      "image/png": "[encoded data removed]",
      "text/plain": [
       "<Figure size 432x288 with 1 Axes>"
      ]
     },
     "metadata": {
      "needs_background": "light"
     },
     "output_type": "display_data"
    },
    {
     "data": {
      "image/png": "[encoded data removed]",
      "text/plain": [
       "<Figure size 432x288 with 1 Axes>"
      ]
     },
     "metadata": {
      "needs_background": "light"
     },
     "output_type": "display_data"
    },
    {
     "data": {
      "image/png": "[encoded data removed]",
      "text/plain": [
       "<Figure size 432x288 with 1 Axes>"
      ]
     },
     "metadata": {
      "needs_background": "light"
     },
     "output_type": "display_data"
    },
    {
     "data": {
      "image/png": "[encoded data removed]",
      "text/plain": [
       "<Figure size 432x288 with 1 Axes>"
      ]
     },
     "metadata": {
      "needs_background": "light"
     },
     "output_type": "display_data"
    },
    {
     "data": {
      "image/png": "[encoded data removed]",
      "text/plain": [
       "<Figure size 432x288 with 1 Axes>"
      ]
     },
     "metadata": {
      "needs_background": "light"
     },
     "output_type": "display_data"
    },
    {
     "data": {
      "image/png": "[encoded data removed]",
      "text/plain": [
       "<Figure size 432x288 with 1 Axes>"
      ]
     },
     "metadata": {
      "needs_background": "light"
     },
     "output_type": "display_data"
    }
   ],
   "source": [
    "for i in df_num.columns:\n",
    "    plt.hist(df_num[i])\n",
    "    plt.title(i)\n",
    "    plt.show()"
   ]
  },
  {
   "cell_type": "code",
   "execution_count": 97,
   "metadata": {},
   "outputs": [
    {
     "name": "stdout",
     "output_type": "stream",
     "text": [
      "                         AVERAGE_FREE_FLOW_SPEED  AVERAGE_TIME_DIFF  \\\n",
      "AVERAGE_FREE_FLOW_SPEED                 1.000000          -0.083653   \n",
      "AVERAGE_TIME_DIFF                      -0.083653           1.000000   \n",
      "AVERAGE_FREE_FLOW_TIME                 -0.219890           0.055194   \n",
      "AVERAGE_TEMPERATURE                    -0.192325           0.205935   \n",
      "AVERAGE_ATMOSP_PRESSURE                -0.093648           0.006243   \n",
      "AVERAGE_HUMIDITY                        0.191598          -0.173598   \n",
      "AVERAGE_WIND_SPEED                     -0.092909           0.169855   \n",
      "AVERAGE_PRECIPITATION                        NaN                NaN   \n",
      "weekday                                -0.087912          -0.085474   \n",
      "hour                                   -0.247337           0.207378   \n",
      "month                                   0.200550           0.010306   \n",
      "day                                     0.035873          -0.005876   \n",
      "\n",
      "                         AVERAGE_FREE_FLOW_TIME  AVERAGE_TEMPERATURE  \\\n",
      "AVERAGE_FREE_FLOW_SPEED               -0.219890            -0.192325   \n",
      "AVERAGE_TIME_DIFF                      0.055194             0.205935   \n",
      "AVERAGE_FREE_FLOW_TIME                 1.000000             0.190404   \n",
      "AVERAGE_TEMPERATURE                    0.190404             1.000000   \n",
      "AVERAGE_ATMOSP_PRESSURE                0.126699            -0.104469   \n",
      "AVERAGE_HUMIDITY                      -0.128376            -0.512383   \n",
      "AVERAGE_WIND_SPEED                    -0.025516             0.131784   \n",
      "AVERAGE_PRECIPITATION                       NaN                  NaN   \n",
      "weekday                                0.039581             0.026338   \n",
      "hour                                   0.101755             0.275625   \n",
      "month                                  0.065347             0.262218   \n",
      "day                                   -0.080261            -0.020764   \n",
      "\n",
      "                         AVERAGE_ATMOSP_PRESSURE  AVERAGE_HUMIDITY  \\\n",
      "AVERAGE_FREE_FLOW_SPEED                -0.093648          0.191598   \n",
      "AVERAGE_TIME_DIFF                       0.006243         -0.173598   \n",
      "AVERAGE_FREE_FLOW_TIME                  0.126699         -0.128376   \n",
      "AVERAGE_TEMPERATURE                    -0.104469         -0.512383   \n",
      "AVERAGE_ATMOSP_PRESSURE                 1.000000         -0.067071   \n",
      "AVERAGE_HUMIDITY                       -0.067071          1.000000   \n",
      "AVERAGE_WIND_SPEED                     -0.162612         -0.248708   \n",
      "AVERAGE_PRECIPITATION                        NaN               NaN   \n",
      "weekday                                 0.070422         -0.014953   \n",
      "hour                                   -0.004713         -0.191897   \n",
      "month                                  -0.172739          0.015225   \n",
      "day                                    -0.047170          0.061623   \n",
      "\n",
      "                         AVERAGE_WIND_SPEED  AVERAGE_PRECIPITATION   weekday  \\\n",
      "AVERAGE_FREE_FLOW_SPEED           -0.092909                    NaN -0.087912   \n",
      "AVERAGE_TIME_DIFF                  0.169855                    NaN -0.085474   \n",
      "AVERAGE_FREE_FLOW_TIME            -0.025516                    NaN  0.039581   \n",
      "AVERAGE_TEMPERATURE                0.131784                    NaN  0.026338   \n",
      "AVERAGE_ATMOSP_PRESSURE           -0.162612                    NaN  0.070422   \n",
      "AVERAGE_HUMIDITY                  -0.248708                    NaN -0.014953   \n",
      "AVERAGE_WIND_SPEED                 1.000000                    NaN  0.011750   \n",
      "AVERAGE_PRECIPITATION                   NaN                    NaN       NaN   \n",
      "weekday                            0.011750                    NaN  1.000000   \n",
      "hour                               0.118298                    NaN  0.002239   \n",
      "month                             -0.049090                    NaN -0.018579   \n",
      "day                               -0.016564                    NaN -0.000217   \n",
      "\n",
      "                             hour     month       day  \n",
      "AVERAGE_FREE_FLOW_SPEED -0.247337  0.200550  0.035873  \n",
      "AVERAGE_TIME_DIFF        0.207378  0.010306 -0.005876  \n",
      "AVERAGE_FREE_FLOW_TIME   0.101755  0.065347 -0.080261  \n",
      "AVERAGE_TEMPERATURE      0.275625  0.262218 -0.020764  \n",
      "AVERAGE_ATMOSP_PRESSURE -0.004713 -0.172739 -0.047170  \n",
      "AVERAGE_HUMIDITY        -0.191897  0.015225  0.061623  \n",
      "AVERAGE_WIND_SPEED       0.118298 -0.049090 -0.016564  \n",
      "AVERAGE_PRECIPITATION         NaN       NaN       NaN  \n",
      "weekday                  0.002239 -0.018579 -0.000217  \n",
      "hour                     1.000000  0.001486  0.000952  \n",
      "month                    0.001486  1.000000 -0.128013  \n",
      "day                      0.000952 -0.128013  1.000000  \n"
     ]
    },
    {
     "data": {
      "text/plain": [
       "<AxesSubplot:>"
      ]
     },
     "execution_count": 97,
     "metadata": {},
     "output_type": "execute_result"
    },
    {
     "data": {
      "image/png": "[encoded data removed]",
      "text/plain": [
       "<Figure size 432x288 with 2 Axes>"
      ]
     },
     "metadata": {
      "needs_background": "light"
     },
     "output_type": "display_data"
    }
   ],
   "source": [
    "print(df_num.corr())\n",
    "sns.heatmap(df_num.corr())"
   ]
  },
  {
   "cell_type": "code",
   "execution_count": 98,
   "metadata": {},
   "outputs": [
    {
     "data": {
      "text/html": [
       "<div>\n",
       "<style scoped>\n",
       "    .dataframe tbody tr th:only-of-type {\n",
       "        vertical-align: middle;\n",
       "    }\n",
       "\n",
       "    .dataframe tbody tr th {\n",
       "        vertical-align: top;\n",
       "    }\n",
       "\n",
       "    .dataframe thead th {\n",
       "        text-align: right;\n",
       "    }\n",
       "</style>\n",
       "<table border=\"1\" class=\"dataframe\">\n",
       "  <thead>\n",
       "    <tr style=\"text-align: right;\">\n",
       "      <th></th>\n",
       "      <th>AVERAGE_ATMOSP_PRESSURE</th>\n",
       "      <th>AVERAGE_FREE_FLOW_SPEED</th>\n",
       "      <th>AVERAGE_FREE_FLOW_TIME</th>\n",
       "      <th>AVERAGE_HUMIDITY</th>\n",
       "      <th>AVERAGE_PRECIPITATION</th>\n",
       "      <th>AVERAGE_TEMPERATURE</th>\n",
       "      <th>AVERAGE_TIME_DIFF</th>\n",
       "      <th>AVERAGE_WIND_SPEED</th>\n",
       "      <th>day</th>\n",
       "      <th>hour</th>\n",
       "      <th>month</th>\n",
       "      <th>weekday</th>\n",
       "    </tr>\n",
       "    <tr>\n",
       "      <th>AVERAGE_SPEED_DIFF</th>\n",
       "      <th></th>\n",
       "      <th></th>\n",
       "      <th></th>\n",
       "      <th></th>\n",
       "      <th></th>\n",
       "      <th></th>\n",
       "      <th></th>\n",
       "      <th></th>\n",
       "      <th></th>\n",
       "      <th></th>\n",
       "      <th></th>\n",
       "      <th></th>\n",
       "    </tr>\n",
       "  </thead>\n",
       "  <tbody>\n",
       "    <tr>\n",
       "      <th>High</th>\n",
       "      <td>1017.357479</td>\n",
       "      <td>39.588147</td>\n",
       "      <td>82.376952</td>\n",
       "      <td>73.802916</td>\n",
       "      <td>0.0</td>\n",
       "      <td>18.632173</td>\n",
       "      <td>63.801505</td>\n",
       "      <td>3.817498</td>\n",
       "      <td>15.915334</td>\n",
       "      <td>14.806209</td>\n",
       "      <td>7.038570</td>\n",
       "      <td>2.713076</td>\n",
       "    </tr>\n",
       "    <tr>\n",
       "      <th>Low</th>\n",
       "      <td>1017.498238</td>\n",
       "      <td>40.480479</td>\n",
       "      <td>80.716561</td>\n",
       "      <td>81.341790</td>\n",
       "      <td>0.0</td>\n",
       "      <td>16.227625</td>\n",
       "      <td>9.305144</td>\n",
       "      <td>2.998591</td>\n",
       "      <td>16.347428</td>\n",
       "      <td>11.643411</td>\n",
       "      <td>7.096547</td>\n",
       "      <td>3.418605</td>\n",
       "    </tr>\n",
       "    <tr>\n",
       "      <th>Medium</th>\n",
       "      <td>1017.431254</td>\n",
       "      <td>38.831617</td>\n",
       "      <td>83.270139</td>\n",
       "      <td>74.528770</td>\n",
       "      <td>0.0</td>\n",
       "      <td>17.992732</td>\n",
       "      <td>26.654694</td>\n",
       "      <td>3.407632</td>\n",
       "      <td>16.425803</td>\n",
       "      <td>13.711084</td>\n",
       "      <td>7.057541</td>\n",
       "      <td>2.943065</td>\n",
       "    </tr>\n",
       "    <tr>\n",
       "      <th>None</th>\n",
       "      <td>1017.417273</td>\n",
       "      <td>41.874818</td>\n",
       "      <td>80.205182</td>\n",
       "      <td>86.367273</td>\n",
       "      <td>0.0</td>\n",
       "      <td>13.888182</td>\n",
       "      <td>1.593545</td>\n",
       "      <td>2.422727</td>\n",
       "      <td>15.904545</td>\n",
       "      <td>8.310909</td>\n",
       "      <td>7.120000</td>\n",
       "      <td>3.155455</td>\n",
       "    </tr>\n",
       "    <tr>\n",
       "      <th>Very_High</th>\n",
       "      <td>1016.847599</td>\n",
       "      <td>44.307307</td>\n",
       "      <td>76.656994</td>\n",
       "      <td>80.588727</td>\n",
       "      <td>0.0</td>\n",
       "      <td>15.066806</td>\n",
       "      <td>96.246973</td>\n",
       "      <td>3.269311</td>\n",
       "      <td>16.540710</td>\n",
       "      <td>11.254697</td>\n",
       "      <td>7.144050</td>\n",
       "      <td>2.200418</td>\n",
       "    </tr>\n",
       "  </tbody>\n",
       "</table>\n",
       "</div>"
      ],
      "text/plain": [
       "                    AVERAGE_ATMOSP_PRESSURE  AVERAGE_FREE_FLOW_SPEED  \\\n",
       "AVERAGE_SPEED_DIFF                                                     \n",
       "High                            1017.357479                39.588147   \n",
       "Low                             1017.498238                40.480479   \n",
       "Medium                          1017.431254                38.831617   \n",
       "None                            1017.417273                41.874818   \n",
       "Very_High                       1016.847599                44.307307   \n",
       "\n",
       "                    AVERAGE_FREE_FLOW_TIME  AVERAGE_HUMIDITY  \\\n",
       "AVERAGE_SPEED_DIFF                                             \n",
       "High                             82.376952         73.802916   \n",
       "Low                              80.716561         81.341790   \n",
       "Medium                           83.270139         74.528770   \n",
       "None                             80.205182         86.367273   \n",
       "Very_High                        76.656994         80.588727   \n",
       "\n",
       "                    AVERAGE_PRECIPITATION  AVERAGE_TEMPERATURE  \\\n",
       "AVERAGE_SPEED_DIFF                                               \n",
       "High                                  0.0            18.632173   \n",
       "Low                                   0.0            16.227625   \n",
       "Medium                                0.0            17.992732   \n",
       "None                                  0.0            13.888182   \n",
       "Very_High                             0.0            15.066806   \n",
       "\n",
       "                    AVERAGE_TIME_DIFF  AVERAGE_WIND_SPEED        day  \\\n",
       "AVERAGE_SPEED_DIFF                                                     \n",
       "High                        63.801505            3.817498  15.915334   \n",
       "Low                          9.305144            2.998591  16.347428   \n",
       "Medium                      26.654694            3.407632  16.425803   \n",
       "None                         1.593545            2.422727  15.904545   \n",
       "Very_High                   96.246973            3.269311  16.540710   \n",
       "\n",
       "                         hour     month   weekday  \n",
       "AVERAGE_SPEED_DIFF                                 \n",
       "High                14.806209  7.038570  2.713076  \n",
       "Low                 11.643411  7.096547  3.418605  \n",
       "Medium              13.711084  7.057541  2.943065  \n",
       "None                 8.310909  7.120000  3.155455  \n",
       "Very_High           11.254697  7.144050  2.200418  "
      ]
     },
     "execution_count": 98,
     "metadata": {},
     "output_type": "execute_result"
    }
   ],
   "source": [
    "pd.pivot_table(trainingWork, index= 'AVERAGE_SPEED_DIFF', values=df_num)"
   ]
  },
  {
   "cell_type": "code",
   "execution_count": 99,
   "metadata": {},
   "outputs": [
    {
     "data": {
      "image/png": "[encoded data removed]",
      "text/plain": [
       "<Figure size 2160x360 with 1 Axes>"
      ]
     },
     "metadata": {
      "needs_background": "light"
     },
     "output_type": "display_data"
    },
    {
     "data": {
      "image/png": "[encoded data removed]",
      "text/plain": [
       "<Figure size 2160x360 with 1 Axes>"
      ]
     },
     "metadata": {
      "needs_background": "light"
     },
     "output_type": "display_data"
    },
    {
     "data": {
      "image/png": "[encoded data removed]",
      "text/plain": [
       "<Figure size 2160x360 with 1 Axes>"
      ]
     },
     "metadata": {
      "needs_background": "light"
     },
     "output_type": "display_data"
    },
    {
     "data": {
      "image/png": "[encoded data removed]",
      "text/plain": [
       "<Figure size 2160x360 with 1 Axes>"
      ]
     },
     "metadata": {
      "needs_background": "light"
     },
     "output_type": "display_data"
    }
   ],
   "source": [
    "for i in df_cat.columns:\n",
    "    fig, ax = plt.subplots(figsize=(30,5))\n",
    "    sns.barplot(x=df_cat[i].value_counts().index,y= df_cat[i].value_counts()).set_title(i)\n",
    "    plt.show()"
   ]
  },
  {
   "cell_type": "code",
   "execution_count": 100,
   "metadata": {},
   "outputs": [
    {
     "name": "stdout",
     "output_type": "stream",
     "text": [
      "LUMINOSITY          DARK  LIGHT  LOW_LIGHT\n",
      "AVERAGE_SPEED_DIFF                        \n",
      "High                 149    877         37\n",
      "Low                  840    518         61\n",
      "Medium               330   1256         65\n",
      "None                1897    237         66\n",
      "Very_High             37    405         37\n",
      "\n",
      "AVERAGE_CLOUDINESS  céu limpo  céu pouco nublado  nublado  nuvens quebradas\n",
      "AVERAGE_SPEED_DIFF                                                         \n",
      "High                      220                133       11               699\n",
      "Low                       393                105       30               891\n",
      "Medium                    428                161       21              1041\n",
      "None                      762                 80       64              1294\n",
      "Very_High                  87                 37        8               347\n",
      "\n",
      "AVERAGE_RAIN        aguaceiros  aguaceiros fracos  chuva  chuva forte  \\\n",
      "AVERAGE_SPEED_DIFF                                                      \n",
      "High                         2                  7      4            1   \n",
      "Low                          5                  9      5            5   \n",
      "Medium                       4                  5     10            3   \n",
      "None                         4                 12      9            3   \n",
      "Very_High                    1                  5      5            1   \n",
      "\n",
      "AVERAGE_RAIN        chuva fraca  chuva leve  chuva moderada  \n",
      "AVERAGE_SPEED_DIFF                                           \n",
      "High                       1009           8              32  \n",
      "Low                        1361           9              25  \n",
      "Medium                     1573          19              37  \n",
      "None                       2110          15              47  \n",
      "Very_High                   447           1              19  \n"
     ]
    }
   ],
   "source": [
    "\n",
    "\n",
    "# Compare Speed Diff and each of these categorical variables \n",
    "\n",
    "print(pd.pivot_table(trainingWork, index = 'AVERAGE_SPEED_DIFF', columns = 'LUMINOSITY', values='month' ,aggfunc ='count'))\n",
    "print()\n",
    "print(pd.pivot_table(trainingWork, index = 'AVERAGE_SPEED_DIFF', columns = 'AVERAGE_CLOUDINESS', values='month' ,aggfunc ='count'))\n",
    "print()\n",
    "print(pd.pivot_table(trainingWork, index = 'AVERAGE_SPEED_DIFF', columns = 'AVERAGE_RAIN',values='month',aggfunc ='count'))\n",
    "\n"
   ]
  },
  {
   "cell_type": "code",
   "execution_count": 101,
   "metadata": {},
   "outputs": [],
   "source": [
    "#trainingWork['AVERAGE_CLOUDINESS'] = trainingWork['AVERAGE_CLOUDINESS'].fillna(trainingWork['AVERAGE_CLOUDINESS'].mode()[0])\n",
    "#trainingWork['AVERAGE_CLOUDINESS'] = trainingWork['AVERAGE_CLOUDINESS'].fillna('Not Available')"
   ]
  },
  {
   "cell_type": "code",
   "execution_count": 102,
   "metadata": {},
   "outputs": [
    {
     "name": "stdout",
     "output_type": "stream",
     "text": [
      "<class 'pandas.core.frame.DataFrame'>\n",
      "RangeIndex: 6812 entries, 0 to 6811\n",
      "Data columns (total 18 columns):\n",
      " #   Column                   Non-Null Count  Dtype         \n",
      "---  ------                   --------------  -----         \n",
      " 0   city_name                6812 non-null   object        \n",
      " 1   record_date              6812 non-null   datetime64[ns]\n",
      " 2   AVERAGE_SPEED_DIFF       6812 non-null   category      \n",
      " 3   AVERAGE_FREE_FLOW_SPEED  6812 non-null   float64       \n",
      " 4   AVERAGE_TIME_DIFF        6812 non-null   float64       \n",
      " 5   AVERAGE_FREE_FLOW_TIME   6812 non-null   float64       \n",
      " 6   LUMINOSITY               6812 non-null   object        \n",
      " 7   AVERAGE_TEMPERATURE      6812 non-null   float64       \n",
      " 8   AVERAGE_ATMOSP_PRESSURE  6812 non-null   float64       \n",
      " 9   AVERAGE_HUMIDITY         6812 non-null   float64       \n",
      " 10  AVERAGE_WIND_SPEED       6812 non-null   float64       \n",
      " 11  AVERAGE_PRECIPITATION    6812 non-null   float64       \n",
      " 12  AVERAGE_CLOUDINESS       6812 non-null   object        \n",
      " 13  AVERAGE_RAIN             6812 non-null   category      \n",
      " 14  weekday                  6812 non-null   int64         \n",
      " 15  hour                     6812 non-null   int64         \n",
      " 16  month                    6812 non-null   int64         \n",
      " 17  day                      6812 non-null   int64         \n",
      "dtypes: category(2), datetime64[ns](1), float64(8), int64(4), object(3)\n",
      "memory usage: 865.5+ KB\n"
     ]
    }
   ],
   "source": [
    "trainingWork.info()"
   ]
  },
  {
   "cell_type": "code",
   "execution_count": 103,
   "metadata": {},
   "outputs": [],
   "source": [
    "#trainingWorkDropCloudNa = trainingWork[trainingWork['AVERAGE_CLOUDINESS'].notna()]"
   ]
  },
  {
   "cell_type": "code",
   "execution_count": 104,
   "metadata": {},
   "outputs": [],
   "source": [
    "#trainingWorkDropCloudNa.info()"
   ]
  },
  {
   "cell_type": "code",
   "execution_count": 105,
   "metadata": {},
   "outputs": [],
   "source": [
    "\n",
    "df_dummies = trainingWork[['LUMINOSITY','AVERAGE_CLOUDINESS']]"
   ]
  },
  {
   "cell_type": "code",
   "execution_count": 106,
   "metadata": {},
   "outputs": [],
   "source": [
    "dummied = trainingWork.copy()"
   ]
  },
  {
   "cell_type": "code",
   "execution_count": 107,
   "metadata": {},
   "outputs": [],
   "source": [
    "for i in df_dummies:\n",
    "    dummied = pd.concat([dummied,pd.get_dummies(dummied[i])],axis='columns').drop([i],axis='columns')"
   ]
  },
  {
   "cell_type": "code",
   "execution_count": 108,
   "metadata": {},
   "outputs": [
    {
     "name": "stdout",
     "output_type": "stream",
     "text": [
      "<class 'pandas.core.frame.DataFrame'>\n",
      "RangeIndex: 6812 entries, 0 to 6811\n",
      "Data columns (total 23 columns):\n",
      " #   Column                   Non-Null Count  Dtype         \n",
      "---  ------                   --------------  -----         \n",
      " 0   city_name                6812 non-null   object        \n",
      " 1   record_date              6812 non-null   datetime64[ns]\n",
      " 2   AVERAGE_SPEED_DIFF       6812 non-null   category      \n",
      " 3   AVERAGE_FREE_FLOW_SPEED  6812 non-null   float64       \n",
      " 4   AVERAGE_TIME_DIFF        6812 non-null   float64       \n",
      " 5   AVERAGE_FREE_FLOW_TIME   6812 non-null   float64       \n",
      " 6   AVERAGE_TEMPERATURE      6812 non-null   float64       \n",
      " 7   AVERAGE_ATMOSP_PRESSURE  6812 non-null   float64       \n",
      " 8   AVERAGE_HUMIDITY         6812 non-null   float64       \n",
      " 9   AVERAGE_WIND_SPEED       6812 non-null   float64       \n",
      " 10  AVERAGE_PRECIPITATION    6812 non-null   float64       \n",
      " 11  AVERAGE_RAIN             6812 non-null   category      \n",
      " 12  weekday                  6812 non-null   int64         \n",
      " 13  hour                     6812 non-null   int64         \n",
      " 14  month                    6812 non-null   int64         \n",
      " 15  day                      6812 non-null   int64         \n",
      " 16  DARK                     6812 non-null   uint8         \n",
      " 17  LIGHT                    6812 non-null   uint8         \n",
      " 18  LOW_LIGHT                6812 non-null   uint8         \n",
      " 19  céu limpo                6812 non-null   uint8         \n",
      " 20  céu pouco nublado        6812 non-null   uint8         \n",
      " 21  nublado                  6812 non-null   uint8         \n",
      " 22  nuvens quebradas         6812 non-null   uint8         \n",
      "dtypes: category(2), datetime64[ns](1), float64(8), int64(4), object(1), uint8(7)\n",
      "memory usage: 805.6+ KB\n"
     ]
    }
   ],
   "source": [
    "dummied.info()"
   ]
  },
  {
   "cell_type": "code",
   "execution_count": 109,
   "metadata": {},
   "outputs": [],
   "source": [
    "finalTrain = dummied.drop(['city_name','record_date','AVERAGE_PRECIPITATION','AVERAGE_RAIN'],axis=1)"
   ]
  },
  {
   "cell_type": "code",
   "execution_count": 110,
   "metadata": {},
   "outputs": [
    {
     "name": "stdout",
     "output_type": "stream",
     "text": [
      "<class 'pandas.core.frame.DataFrame'>\n",
      "RangeIndex: 6812 entries, 0 to 6811\n",
      "Data columns (total 19 columns):\n",
      " #   Column                   Non-Null Count  Dtype   \n",
      "---  ------                   --------------  -----   \n",
      " 0   AVERAGE_SPEED_DIFF       6812 non-null   category\n",
      " 1   AVERAGE_FREE_FLOW_SPEED  6812 non-null   float64 \n",
      " 2   AVERAGE_TIME_DIFF        6812 non-null   float64 \n",
      " 3   AVERAGE_FREE_FLOW_TIME   6812 non-null   float64 \n",
      " 4   AVERAGE_TEMPERATURE      6812 non-null   float64 \n",
      " 5   AVERAGE_ATMOSP_PRESSURE  6812 non-null   float64 \n",
      " 6   AVERAGE_HUMIDITY         6812 non-null   float64 \n",
      " 7   AVERAGE_WIND_SPEED       6812 non-null   float64 \n",
      " 8   weekday                  6812 non-null   int64   \n",
      " 9   hour                     6812 non-null   int64   \n",
      " 10  month                    6812 non-null   int64   \n",
      " 11  day                      6812 non-null   int64   \n",
      " 12  DARK                     6812 non-null   uint8   \n",
      " 13  LIGHT                    6812 non-null   uint8   \n",
      " 14  LOW_LIGHT                6812 non-null   uint8   \n",
      " 15  céu limpo                6812 non-null   uint8   \n",
      " 16  céu pouco nublado        6812 non-null   uint8   \n",
      " 17  nublado                  6812 non-null   uint8   \n",
      " 18  nuvens quebradas         6812 non-null   uint8   \n",
      "dtypes: category(1), float64(7), int64(4), uint8(7)\n",
      "memory usage: 639.0 KB\n"
     ]
    }
   ],
   "source": [
    "finalTrain.info()"
   ]
  },
  {
   "cell_type": "code",
   "execution_count": 111,
   "metadata": {},
   "outputs": [
    {
     "data": {
      "text/plain": [
       "None         2200\n",
       "Medium       1651\n",
       "Low          1419\n",
       "High         1063\n",
       "Very_High     479\n",
       "Name: AVERAGE_SPEED_DIFF, dtype: int64"
      ]
     },
     "execution_count": 111,
     "metadata": {},
     "output_type": "execute_result"
    }
   ],
   "source": [
    "finalTrain['AVERAGE_SPEED_DIFF'].value_counts()"
   ]
  },
  {
   "cell_type": "code",
   "execution_count": 112,
   "metadata": {},
   "outputs": [],
   "source": [
    "#finalTrain['AVERAGE_SPEED_DIFF'] = finalTrain['AVERAGE_SPEED_DIFF'].map(lambda x: '0' if 'None' in x else \"1\" if 'Low' in x else '2' if 'Medium' in x else '4' if 'Very_High' in x else '3' if 'Very' in x else \"\")\n",
    "\n",
    "#finalTrain.loc[finalTrain.AVERAGE_SPEED_DIFF == 'None', 'AVERAGE_SPEED_DIFF'] = 0\n",
    "#finalTrain.loc[finalTrain.AVERAGE_SPEED_DIFF == 'Low', 'AVERAGE_SPEED_DIFF'] = 1\n",
    "#finalTrain.loc[finalTrain.AVERAGE_SPEED_DIFF == 'Medium', 'AVERAGE_SPEED_DIFF'] = 2\n",
    "#finalTrain.loc[finalTrain.AVERAGE_SPEED_DIFF == 'High', 'AVERAGE_SPEED_DIFF'] = 3\n",
    "#finalTrain.loc[finalTrain.AVERAGE_SPEED_DIFF == 'Very_High', 'AVERAGE_SPEED_DIFF'] = 4"
   ]
  },
  {
   "cell_type": "code",
   "execution_count": 113,
   "metadata": {},
   "outputs": [
    {
     "data": {
      "text/plain": [
       "None         2200\n",
       "Medium       1651\n",
       "Low          1419\n",
       "High         1063\n",
       "Very_High     479\n",
       "Name: AVERAGE_SPEED_DIFF, dtype: int64"
      ]
     },
     "execution_count": 113,
     "metadata": {},
     "output_type": "execute_result"
    }
   ],
   "source": [
    "finalTrain['AVERAGE_SPEED_DIFF'].value_counts()"
   ]
  },
  {
   "cell_type": "code",
   "execution_count": 114,
   "metadata": {},
   "outputs": [],
   "source": [
    "finalTrain = finalTrain.reindex(sorted(finalTrain.columns), axis=1)"
   ]
  },
  {
   "cell_type": "code",
   "execution_count": 115,
   "metadata": {},
   "outputs": [
    {
     "name": "stdout",
     "output_type": "stream",
     "text": [
      "<class 'pandas.core.frame.DataFrame'>\n",
      "RangeIndex: 6812 entries, 0 to 6811\n",
      "Data columns (total 19 columns):\n",
      " #   Column                   Non-Null Count  Dtype   \n",
      "---  ------                   --------------  -----   \n",
      " 0   AVERAGE_ATMOSP_PRESSURE  6812 non-null   float64 \n",
      " 1   AVERAGE_FREE_FLOW_SPEED  6812 non-null   float64 \n",
      " 2   AVERAGE_FREE_FLOW_TIME   6812 non-null   float64 \n",
      " 3   AVERAGE_HUMIDITY         6812 non-null   float64 \n",
      " 4   AVERAGE_SPEED_DIFF       6812 non-null   category\n",
      " 5   AVERAGE_TEMPERATURE      6812 non-null   float64 \n",
      " 6   AVERAGE_TIME_DIFF        6812 non-null   float64 \n",
      " 7   AVERAGE_WIND_SPEED       6812 non-null   float64 \n",
      " 8   DARK                     6812 non-null   uint8   \n",
      " 9   LIGHT                    6812 non-null   uint8   \n",
      " 10  LOW_LIGHT                6812 non-null   uint8   \n",
      " 11  céu limpo                6812 non-null   uint8   \n",
      " 12  céu pouco nublado        6812 non-null   uint8   \n",
      " 13  day                      6812 non-null   int64   \n",
      " 14  hour                     6812 non-null   int64   \n",
      " 15  month                    6812 non-null   int64   \n",
      " 16  nublado                  6812 non-null   uint8   \n",
      " 17  nuvens quebradas         6812 non-null   uint8   \n",
      " 18  weekday                  6812 non-null   int64   \n",
      "dtypes: category(1), float64(7), int64(4), uint8(7)\n",
      "memory usage: 639.0 KB\n"
     ]
    }
   ],
   "source": [
    "finalTrain.info()"
   ]
  },
  {
   "cell_type": "code",
   "execution_count": 116,
   "metadata": {},
   "outputs": [],
   "source": [
    "\n",
    "X = finalTrain.drop(['AVERAGE_SPEED_DIFF'],axis=1)\n",
    "\n",
    "y = finalTrain['AVERAGE_SPEED_DIFF']\n"
   ]
  },
  {
   "cell_type": "code",
   "execution_count": 117,
   "metadata": {},
   "outputs": [],
   "source": [
    "from sklearn.model_selection import train_test_split\n",
    "from imblearn.over_sampling import SMOTE\n",
    "from imblearn.over_sampling import RandomOverSampler\n",
    "from imblearn.over_sampling import BorderlineSMOTE\n",
    "from imblearn.over_sampling import SVMSMOTE "
   ]
  },
  {
   "cell_type": "code",
   "execution_count": 118,
   "metadata": {},
   "outputs": [],
   "source": [
    "X_train,X_test,y_train,y_test = train_test_split(X,y,test_size=0.2, random_state=2021,stratify=y)"
   ]
  },
  {
   "cell_type": "code",
   "execution_count": 119,
   "metadata": {},
   "outputs": [],
   "source": [
    "smote = SMOTE()"
   ]
  },
  {
   "cell_type": "code",
   "execution_count": 120,
   "metadata": {},
   "outputs": [],
   "source": [
    "ros = RandomOverSampler(sampling_strategy=\"not majority\",random_state=2021)\n",
    "X_res, y_res = ros.fit_resample(X_train, y_train)\n",
    "#y_res.value_counts()"
   ]
  },
  {
   "cell_type": "code",
   "execution_count": 121,
   "metadata": {},
   "outputs": [
    {
     "data": {
      "text/html": [
       "<div>\n",
       "<style scoped>\n",
       "    .dataframe tbody tr th:only-of-type {\n",
       "        vertical-align: middle;\n",
       "    }\n",
       "\n",
       "    .dataframe tbody tr th {\n",
       "        vertical-align: top;\n",
       "    }\n",
       "\n",
       "    .dataframe thead th {\n",
       "        text-align: right;\n",
       "    }\n",
       "</style>\n",
       "<table border=\"1\" class=\"dataframe\">\n",
       "  <thead>\n",
       "    <tr style=\"text-align: right;\">\n",
       "      <th></th>\n",
       "      <th>AVERAGE_ATMOSP_PRESSURE</th>\n",
       "      <th>AVERAGE_FREE_FLOW_SPEED</th>\n",
       "      <th>AVERAGE_FREE_FLOW_TIME</th>\n",
       "      <th>AVERAGE_HUMIDITY</th>\n",
       "      <th>AVERAGE_TEMPERATURE</th>\n",
       "      <th>AVERAGE_TIME_DIFF</th>\n",
       "      <th>AVERAGE_WIND_SPEED</th>\n",
       "      <th>DARK</th>\n",
       "      <th>LIGHT</th>\n",
       "      <th>LOW_LIGHT</th>\n",
       "      <th>céu limpo</th>\n",
       "      <th>céu pouco nublado</th>\n",
       "      <th>day</th>\n",
       "      <th>hour</th>\n",
       "      <th>month</th>\n",
       "      <th>nublado</th>\n",
       "      <th>nuvens quebradas</th>\n",
       "      <th>weekday</th>\n",
       "    </tr>\n",
       "  </thead>\n",
       "  <tbody>\n",
       "    <tr>\n",
       "      <th>count</th>\n",
       "      <td>8800.000000</td>\n",
       "      <td>8800.000000</td>\n",
       "      <td>8800.000000</td>\n",
       "      <td>8800.000000</td>\n",
       "      <td>8800.000000</td>\n",
       "      <td>8800.000000</td>\n",
       "      <td>8800.000000</td>\n",
       "      <td>8800.000000</td>\n",
       "      <td>8800.000000</td>\n",
       "      <td>8800.000000</td>\n",
       "      <td>8800.000000</td>\n",
       "      <td>8800.000000</td>\n",
       "      <td>8800.000000</td>\n",
       "      <td>8800.000000</td>\n",
       "      <td>8800.000000</td>\n",
       "      <td>8800.000000</td>\n",
       "      <td>8800.000000</td>\n",
       "      <td>8800.000000</td>\n",
       "    </tr>\n",
       "    <tr>\n",
       "      <th>mean</th>\n",
       "      <td>1017.290000</td>\n",
       "      <td>41.034159</td>\n",
       "      <td>80.698818</td>\n",
       "      <td>79.493466</td>\n",
       "      <td>16.334318</td>\n",
       "      <td>39.158807</td>\n",
       "      <td>3.117727</td>\n",
       "      <td>0.377841</td>\n",
       "      <td>0.574091</td>\n",
       "      <td>0.048068</td>\n",
       "      <td>0.259659</td>\n",
       "      <td>0.078636</td>\n",
       "      <td>16.252386</td>\n",
       "      <td>11.899205</td>\n",
       "      <td>7.100682</td>\n",
       "      <td>0.018409</td>\n",
       "      <td>0.643295</td>\n",
       "      <td>2.873750</td>\n",
       "    </tr>\n",
       "    <tr>\n",
       "      <th>std</th>\n",
       "      <td>5.910688</td>\n",
       "      <td>4.198363</td>\n",
       "      <td>8.276000</td>\n",
       "      <td>18.264938</td>\n",
       "      <td>5.321267</td>\n",
       "      <td>41.456862</td>\n",
       "      <td>2.131756</td>\n",
       "      <td>0.484875</td>\n",
       "      <td>0.494508</td>\n",
       "      <td>0.213922</td>\n",
       "      <td>0.438472</td>\n",
       "      <td>0.269186</td>\n",
       "      <td>8.762817</td>\n",
       "      <td>6.391493</td>\n",
       "      <td>2.941464</td>\n",
       "      <td>0.134433</td>\n",
       "      <td>0.479054</td>\n",
       "      <td>1.938735</td>\n",
       "    </tr>\n",
       "    <tr>\n",
       "      <th>min</th>\n",
       "      <td>985.000000</td>\n",
       "      <td>30.500000</td>\n",
       "      <td>46.400000</td>\n",
       "      <td>14.000000</td>\n",
       "      <td>0.000000</td>\n",
       "      <td>0.000000</td>\n",
       "      <td>0.000000</td>\n",
       "      <td>0.000000</td>\n",
       "      <td>0.000000</td>\n",
       "      <td>0.000000</td>\n",
       "      <td>0.000000</td>\n",
       "      <td>0.000000</td>\n",
       "      <td>1.000000</td>\n",
       "      <td>0.000000</td>\n",
       "      <td>1.000000</td>\n",
       "      <td>0.000000</td>\n",
       "      <td>0.000000</td>\n",
       "      <td>0.000000</td>\n",
       "    </tr>\n",
       "    <tr>\n",
       "      <th>25%</th>\n",
       "      <td>1015.000000</td>\n",
       "      <td>37.800000</td>\n",
       "      <td>75.075000</td>\n",
       "      <td>68.000000</td>\n",
       "      <td>13.000000</td>\n",
       "      <td>5.400000</td>\n",
       "      <td>2.000000</td>\n",
       "      <td>0.000000</td>\n",
       "      <td>0.000000</td>\n",
       "      <td>0.000000</td>\n",
       "      <td>0.000000</td>\n",
       "      <td>0.000000</td>\n",
       "      <td>9.000000</td>\n",
       "      <td>7.000000</td>\n",
       "      <td>5.000000</td>\n",
       "      <td>0.000000</td>\n",
       "      <td>0.000000</td>\n",
       "      <td>1.000000</td>\n",
       "    </tr>\n",
       "    <tr>\n",
       "      <th>50%</th>\n",
       "      <td>1017.000000</td>\n",
       "      <td>41.300000</td>\n",
       "      <td>81.900000</td>\n",
       "      <td>82.000000</td>\n",
       "      <td>16.000000</td>\n",
       "      <td>24.150000</td>\n",
       "      <td>3.000000</td>\n",
       "      <td>0.000000</td>\n",
       "      <td>1.000000</td>\n",
       "      <td>0.000000</td>\n",
       "      <td>0.000000</td>\n",
       "      <td>0.000000</td>\n",
       "      <td>17.000000</td>\n",
       "      <td>12.000000</td>\n",
       "      <td>8.000000</td>\n",
       "      <td>0.000000</td>\n",
       "      <td>1.000000</td>\n",
       "      <td>3.000000</td>\n",
       "    </tr>\n",
       "    <tr>\n",
       "      <th>75%</th>\n",
       "      <td>1020.000000</td>\n",
       "      <td>44.000000</td>\n",
       "      <td>87.000000</td>\n",
       "      <td>93.000000</td>\n",
       "      <td>20.000000</td>\n",
       "      <td>63.500000</td>\n",
       "      <td>4.000000</td>\n",
       "      <td>1.000000</td>\n",
       "      <td>1.000000</td>\n",
       "      <td>0.000000</td>\n",
       "      <td>1.000000</td>\n",
       "      <td>0.000000</td>\n",
       "      <td>24.000000</td>\n",
       "      <td>17.000000</td>\n",
       "      <td>9.000000</td>\n",
       "      <td>0.000000</td>\n",
       "      <td>1.000000</td>\n",
       "      <td>4.000000</td>\n",
       "    </tr>\n",
       "    <tr>\n",
       "      <th>max</th>\n",
       "      <td>1033.000000</td>\n",
       "      <td>55.900000</td>\n",
       "      <td>112.000000</td>\n",
       "      <td>100.000000</td>\n",
       "      <td>35.000000</td>\n",
       "      <td>296.500000</td>\n",
       "      <td>14.000000</td>\n",
       "      <td>1.000000</td>\n",
       "      <td>1.000000</td>\n",
       "      <td>1.000000</td>\n",
       "      <td>1.000000</td>\n",
       "      <td>1.000000</td>\n",
       "      <td>31.000000</td>\n",
       "      <td>23.000000</td>\n",
       "      <td>12.000000</td>\n",
       "      <td>1.000000</td>\n",
       "      <td>1.000000</td>\n",
       "      <td>6.000000</td>\n",
       "    </tr>\n",
       "  </tbody>\n",
       "</table>\n",
       "</div>"
      ],
      "text/plain": [
       "       AVERAGE_ATMOSP_PRESSURE  AVERAGE_FREE_FLOW_SPEED  \\\n",
       "count              8800.000000              8800.000000   \n",
       "mean               1017.290000                41.034159   \n",
       "std                   5.910688                 4.198363   \n",
       "min                 985.000000                30.500000   \n",
       "25%                1015.000000                37.800000   \n",
       "50%                1017.000000                41.300000   \n",
       "75%                1020.000000                44.000000   \n",
       "max                1033.000000                55.900000   \n",
       "\n",
       "       AVERAGE_FREE_FLOW_TIME  AVERAGE_HUMIDITY  AVERAGE_TEMPERATURE  \\\n",
       "count             8800.000000       8800.000000          8800.000000   \n",
       "mean                80.698818         79.493466            16.334318   \n",
       "std                  8.276000         18.264938             5.321267   \n",
       "min                 46.400000         14.000000             0.000000   \n",
       "25%                 75.075000         68.000000            13.000000   \n",
       "50%                 81.900000         82.000000            16.000000   \n",
       "75%                 87.000000         93.000000            20.000000   \n",
       "max                112.000000        100.000000            35.000000   \n",
       "\n",
       "       AVERAGE_TIME_DIFF  AVERAGE_WIND_SPEED         DARK        LIGHT  \\\n",
       "count        8800.000000         8800.000000  8800.000000  8800.000000   \n",
       "mean           39.158807            3.117727     0.377841     0.574091   \n",
       "std            41.456862            2.131756     0.484875     0.494508   \n",
       "min             0.000000            0.000000     0.000000     0.000000   \n",
       "25%             5.400000            2.000000     0.000000     0.000000   \n",
       "50%            24.150000            3.000000     0.000000     1.000000   \n",
       "75%            63.500000            4.000000     1.000000     1.000000   \n",
       "max           296.500000           14.000000     1.000000     1.000000   \n",
       "\n",
       "         LOW_LIGHT    céu limpo  céu pouco nublado          day         hour  \\\n",
       "count  8800.000000  8800.000000        8800.000000  8800.000000  8800.000000   \n",
       "mean      0.048068     0.259659           0.078636    16.252386    11.899205   \n",
       "std       0.213922     0.438472           0.269186     8.762817     6.391493   \n",
       "min       0.000000     0.000000           0.000000     1.000000     0.000000   \n",
       "25%       0.000000     0.000000           0.000000     9.000000     7.000000   \n",
       "50%       0.000000     0.000000           0.000000    17.000000    12.000000   \n",
       "75%       0.000000     1.000000           0.000000    24.000000    17.000000   \n",
       "max       1.000000     1.000000           1.000000    31.000000    23.000000   \n",
       "\n",
       "             month      nublado  nuvens quebradas      weekday  \n",
       "count  8800.000000  8800.000000       8800.000000  8800.000000  \n",
       "mean      7.100682     0.018409          0.643295     2.873750  \n",
       "std       2.941464     0.134433          0.479054     1.938735  \n",
       "min       1.000000     0.000000          0.000000     0.000000  \n",
       "25%       5.000000     0.000000          0.000000     1.000000  \n",
       "50%       8.000000     0.000000          1.000000     3.000000  \n",
       "75%       9.000000     0.000000          1.000000     4.000000  \n",
       "max      12.000000     1.000000          1.000000     6.000000  "
      ]
     },
     "execution_count": 121,
     "metadata": {},
     "output_type": "execute_result"
    }
   ],
   "source": [
    "X_res.describe()"
   ]
  },
  {
   "cell_type": "code",
   "execution_count": 122,
   "metadata": {},
   "outputs": [],
   "source": [
    "from sklearn.preprocessing import StandardScaler"
   ]
  },
  {
   "cell_type": "code",
   "execution_count": 123,
   "metadata": {},
   "outputs": [],
   "source": [
    "scaler = StandardScaler()"
   ]
  },
  {
   "cell_type": "code",
   "execution_count": 124,
   "metadata": {},
   "outputs": [],
   "source": [
    "X_res[['AVERAGE_ATMOSP_PRESSURE','AVERAGE_FREE_FLOW_SPEED','AVERAGE_FREE_FLOW_TIME','AVERAGE_HUMIDITY','AVERAGE_TEMPERATURE','AVERAGE_TIME_DIFF','AVERAGE_WIND_SPEED']] = scaler.fit_transform(X_res[['AVERAGE_ATMOSP_PRESSURE','AVERAGE_FREE_FLOW_SPEED','AVERAGE_FREE_FLOW_TIME','AVERAGE_HUMIDITY','AVERAGE_TEMPERATURE','AVERAGE_TIME_DIFF','AVERAGE_WIND_SPEED']])\n",
    "X_test[['AVERAGE_ATMOSP_PRESSURE','AVERAGE_FREE_FLOW_SPEED','AVERAGE_FREE_FLOW_TIME','AVERAGE_HUMIDITY','AVERAGE_TEMPERATURE','AVERAGE_TIME_DIFF','AVERAGE_WIND_SPEED']] = scaler.transform(X_test[['AVERAGE_ATMOSP_PRESSURE','AVERAGE_FREE_FLOW_SPEED','AVERAGE_FREE_FLOW_TIME','AVERAGE_HUMIDITY','AVERAGE_TEMPERATURE','AVERAGE_TIME_DIFF','AVERAGE_WIND_SPEED']])"
   ]
  },
  {
   "cell_type": "code",
   "execution_count": 125,
   "metadata": {},
   "outputs": [],
   "source": [
    "# transform training data\n",
    "#X_res = norm.transform(X_res)\n",
    "\n",
    "# transform testing data\n",
    "#X_test = norm.transform(X_test)"
   ]
  },
  {
   "cell_type": "code",
   "execution_count": 126,
   "metadata": {},
   "outputs": [
    {
     "data": {
      "text/plain": [
       "<seaborn.axisgrid.FacetGrid at 0x1fedaeaf040>"
      ]
     },
     "execution_count": 126,
     "metadata": {},
     "output_type": "execute_result"
    },
    {
     "data": {
      "image/png": "[encoded data removed]",
      "text/plain": [
       "<Figure size 360x360 with 1 Axes>"
      ]
     },
     "metadata": {
      "needs_background": "light"
     },
     "output_type": "display_data"
    }
   ],
   "source": [
    "sns.displot(X_test['AVERAGE_ATMOSP_PRESSURE'])"
   ]
  },
  {
   "cell_type": "code",
   "execution_count": 127,
   "metadata": {},
   "outputs": [],
   "source": [
    "#smote = SMOTE(sampling_strategy=\"not majority\",random_state=2021)\n",
    "#X_res, y_res = smote.fit_resample(X_train, y_train)"
   ]
  },
  {
   "cell_type": "code",
   "execution_count": 128,
   "metadata": {},
   "outputs": [],
   "source": [
    "#sm = BorderlineSMOTE(random_state=2021,kind='borderline-1')\n",
    "#X_res, y_res = sm.fit_resample(X_train, y_train)"
   ]
  },
  {
   "cell_type": "code",
   "execution_count": 129,
   "metadata": {},
   "outputs": [],
   "source": [
    "#sm = SVMSMOTE(random_state=2021,sampling_strategy=\"not majority\")\n",
    "#X_res, y_res = sm.fit_resample(X_train, y_train)"
   ]
  },
  {
   "cell_type": "code",
   "execution_count": 130,
   "metadata": {},
   "outputs": [
    {
     "data": {
      "text/plain": [
       "<AxesSubplot:ylabel='AVERAGE_SPEED_DIFF'>"
      ]
     },
     "execution_count": 130,
     "metadata": {},
     "output_type": "execute_result"
    },
    {
     "data": {
      "image/png": "[encoded data removed]",
      "text/plain": [
       "<Figure size 432x288 with 1 Axes>"
      ]
     },
     "metadata": {},
     "output_type": "display_data"
    }
   ],
   "source": [
    "y_train.value_counts().plot.pie(autopct='%.2f')"
   ]
  },
  {
   "cell_type": "code",
   "execution_count": 131,
   "metadata": {},
   "outputs": [
    {
     "data": {
      "text/plain": [
       "<AxesSubplot:ylabel='AVERAGE_SPEED_DIFF'>"
      ]
     },
     "execution_count": 131,
     "metadata": {},
     "output_type": "execute_result"
    },
    {
     "data": {
      "image/png": "[encoded data removed]",
      "text/plain": [
       "<Figure size 432x288 with 1 Axes>"
      ]
     },
     "metadata": {},
     "output_type": "display_data"
    }
   ],
   "source": [
    "y_res.value_counts().plot.pie(autopct='%.2f')"
   ]
  },
  {
   "cell_type": "code",
   "execution_count": 132,
   "metadata": {},
   "outputs": [
    {
     "data": {
      "text/plain": [
       "<seaborn.axisgrid.FacetGrid at 0x1fedb010490>"
      ]
     },
     "execution_count": 132,
     "metadata": {},
     "output_type": "execute_result"
    },
    {
     "data": {
      "image/png": "[encoded data removed]",
      "text/plain": [
       "<Figure size 360x360 with 1 Axes>"
      ]
     },
     "metadata": {
      "needs_background": "light"
     },
     "output_type": "display_data"
    },
    {
     "data": {
      "image/png": "[encoded data removed]",
      "text/plain": [
       "<Figure size 360x360 with 1 Axes>"
      ]
     },
     "metadata": {
      "needs_background": "light"
     },
     "output_type": "display_data"
    }
   ],
   "source": [
    "sns.displot(y_res)\n",
    "sns.displot(y_test)"
   ]
  },
  {
   "cell_type": "code",
   "execution_count": 133,
   "metadata": {},
   "outputs": [],
   "source": [
    "from sklearn.linear_model import LogisticRegression\n",
    "from sklearn.metrics import plot_confusion_matrix\n",
    "from sklearn.model_selection import cross_val_score\n",
    "from sklearn.naive_bayes import GaussianNB\n",
    "from sklearn.linear_model import LogisticRegression\n",
    "from sklearn import tree\n",
    "from sklearn.neighbors import KNeighborsClassifier\n",
    "from sklearn.ensemble import RandomForestClassifier\n",
    "from sklearn.svm import SVC"
   ]
  },
  {
   "cell_type": "code",
   "execution_count": 134,
   "metadata": {},
   "outputs": [
    {
     "name": "stdout",
     "output_type": "stream",
     "text": [
      "[0.63693182 0.64772727 0.64602273 0.62954545 0.63295455]\n",
      "0.6386363636363636\n"
     ]
    }
   ],
   "source": [
    "#I usually use Naive Bayes as a baseline for my classification tasks \n",
    "'''\n",
    "gnb = GaussianNB()\n",
    "cv = cross_val_score(gnb,X_res,y_res,cv=5)\n",
    "print(cv)\n",
    "print(cv.mean())\n",
    "'''"
   ]
  },
  {
   "cell_type": "code",
   "execution_count": 135,
   "metadata": {},
   "outputs": [
    {
     "name": "stdout",
     "output_type": "stream",
     "text": [
      "[0.75795455 0.77954545 0.74659091 0.77102273 0.78011364]\n",
      "0.7670454545454546\n"
     ]
    }
   ],
   "source": [
    "'''\n",
    "lr = LogisticRegression(random_state=2021,max_iter = 90000000000000,n_jobs=-1)\n",
    "cv = cross_val_score(lr,X_res,y_res,cv=5)\n",
    "print(cv)\n",
    "print(cv.mean())\n",
    "'''"
   ]
  },
  {
   "cell_type": "code",
   "execution_count": 136,
   "metadata": {},
   "outputs": [
    {
     "name": "stdout",
     "output_type": "stream",
     "text": [
      "[0.85340909 0.84147727 0.85397727 0.90852273 0.97102273]\n",
      "0.8856818181818182\n"
     ]
    }
   ],
   "source": [
    "'''\n",
    "dt = tree.DecisionTreeClassifier(random_state=2021)\n",
    "cv = cross_val_score(dt,X_res,y_res,cv=5)\n",
    "print(cv)\n",
    "print(cv.mean())\n",
    "'''"
   ]
  },
  {
   "cell_type": "code",
   "execution_count": 137,
   "metadata": {},
   "outputs": [
    {
     "name": "stdout",
     "output_type": "stream",
     "text": [
      "[0.63920455 0.63579545 0.64886364 0.68579545 0.72102273]\n",
      "0.6661363636363636\n"
     ]
    }
   ],
   "source": [
    "'''\n",
    "knn = KNeighborsClassifier(n_jobs=-1)\n",
    "cv = cross_val_score(knn,X_res.values,y_res.values,cv=5)\n",
    "print(cv)\n",
    "print(cv.mean())\n",
    "'''"
   ]
  },
  {
   "cell_type": "code",
   "execution_count": 138,
   "metadata": {},
   "outputs": [
    {
     "name": "stdout",
     "output_type": "stream",
     "text": [
      "[0.8875     0.87897727 0.89772727 0.93579545 0.975     ]\n",
      "0.9149999999999998\n"
     ]
    }
   ],
   "source": [
    "rf = RandomForestClassifier(random_state=2021,n_jobs=-1)\n",
    "cv = cross_val_score(rf,X_res,y_res,cv=5)\n",
    "print(cv)\n",
    "print(cv.mean())"
   ]
  },
  {
   "cell_type": "code",
   "execution_count": 139,
   "metadata": {},
   "outputs": [
    {
     "name": "stdout",
     "output_type": "stream",
     "text": [
      "[0.63238636 0.63125    0.64318182 0.64659091 0.64261364]\n",
      "0.6392045454545454\n"
     ]
    }
   ],
   "source": [
    "'''\n",
    "svc = SVC(probability = True,random_state=2021)\n",
    "cv = cross_val_score(svc,X_res,y_res,cv=5)\n",
    "print(cv)\n",
    "print(cv.mean())\n",
    "'''"
   ]
  },
  {
   "cell_type": "code",
   "execution_count": 140,
   "metadata": {},
   "outputs": [
    {
     "name": "stdout",
     "output_type": "stream",
     "text": [
      "[23:33:30] WARNING: C:/Users/Administrator/workspace/xgboost-win64_release_1.5.0/src/learner.cc:1115: Starting in XGBoost 1.3.0, the default evaluation metric used with the objective 'multi:softprob' was changed from 'merror' to 'mlogloss'. Explicitly set eval_metric if you'd like to restore the old behavior.\n"
     ]
    },
    {
     "name": "stderr",
     "output_type": "stream",
     "text": [
      "C:\\Users\\Krow\\AppData\\Local\\Programs\\Python\\Python39\\lib\\site-packages\\xgboost\\sklearn.py:1224: UserWarning: The use of label encoder in XGBClassifier is deprecated and will be removed in a future release. To remove this warning, do the following: 1) Pass option use_label_encoder=False when constructing XGBClassifier object; and 2) Encode your labels (y) as integers starting with 0, i.e. 0, 1, 2, ..., [num_class - 1].\n",
      "  warnings.warn(label_encoder_deprecation_msg, UserWarning)\n",
      "C:\\Users\\Krow\\AppData\\Local\\Programs\\Python\\Python39\\lib\\site-packages\\xgboost\\sklearn.py:1224: UserWarning: The use of label encoder in XGBClassifier is deprecated and will be removed in a future release. To remove this warning, do the following: 1) Pass option use_label_encoder=False when constructing XGBClassifier object; and 2) Encode your labels (y) as integers starting with 0, i.e. 0, 1, 2, ..., [num_class - 1].\n",
      "  warnings.warn(label_encoder_deprecation_msg, UserWarning)\n"
     ]
    },
    {
     "name": "stdout",
     "output_type": "stream",
     "text": [
      "[23:33:31] WARNING: C:/Users/Administrator/workspace/xgboost-win64_release_1.5.0/src/learner.cc:1115: Starting in XGBoost 1.3.0, the default evaluation metric used with the objective 'multi:softprob' was changed from 'merror' to 'mlogloss'. Explicitly set eval_metric if you'd like to restore the old behavior.\n"
     ]
    },
    {
     "name": "stderr",
     "output_type": "stream",
     "text": [
      "C:\\Users\\Krow\\AppData\\Local\\Programs\\Python\\Python39\\lib\\site-packages\\xgboost\\sklearn.py:1224: UserWarning: The use of label encoder in XGBClassifier is deprecated and will be removed in a future release. To remove this warning, do the following: 1) Pass option use_label_encoder=False when constructing XGBClassifier object; and 2) Encode your labels (y) as integers starting with 0, i.e. 0, 1, 2, ..., [num_class - 1].\n",
      "  warnings.warn(label_encoder_deprecation_msg, UserWarning)\n"
     ]
    },
    {
     "name": "stdout",
     "output_type": "stream",
     "text": [
      "[23:33:32] WARNING: C:/Users/Administrator/workspace/xgboost-win64_release_1.5.0/src/learner.cc:1115: Starting in XGBoost 1.3.0, the default evaluation metric used with the objective 'multi:softprob' was changed from 'merror' to 'mlogloss'. Explicitly set eval_metric if you'd like to restore the old behavior.\n"
     ]
    },
    {
     "name": "stderr",
     "output_type": "stream",
     "text": [
      "C:\\Users\\Krow\\AppData\\Local\\Programs\\Python\\Python39\\lib\\site-packages\\xgboost\\sklearn.py:1224: UserWarning: The use of label encoder in XGBClassifier is deprecated and will be removed in a future release. To remove this warning, do the following: 1) Pass option use_label_encoder=False when constructing XGBClassifier object; and 2) Encode your labels (y) as integers starting with 0, i.e. 0, 1, 2, ..., [num_class - 1].\n",
      "  warnings.warn(label_encoder_deprecation_msg, UserWarning)\n"
     ]
    },
    {
     "name": "stdout",
     "output_type": "stream",
     "text": [
      "[23:33:33] WARNING: C:/Users/Administrator/workspace/xgboost-win64_release_1.5.0/src/learner.cc:1115: Starting in XGBoost 1.3.0, the default evaluation metric used with the objective 'multi:softprob' was changed from 'merror' to 'mlogloss'. Explicitly set eval_metric if you'd like to restore the old behavior.\n"
     ]
    },
    {
     "name": "stderr",
     "output_type": "stream",
     "text": [
      "C:\\Users\\Krow\\AppData\\Local\\Programs\\Python\\Python39\\lib\\site-packages\\xgboost\\sklearn.py:1224: UserWarning: The use of label encoder in XGBClassifier is deprecated and will be removed in a future release. To remove this warning, do the following: 1) Pass option use_label_encoder=False when constructing XGBClassifier object; and 2) Encode your labels (y) as integers starting with 0, i.e. 0, 1, 2, ..., [num_class - 1].\n",
      "  warnings.warn(label_encoder_deprecation_msg, UserWarning)\n"
     ]
    },
    {
     "name": "stdout",
     "output_type": "stream",
     "text": [
      "[23:33:34] WARNING: C:/Users/Administrator/workspace/xgboost-win64_release_1.5.0/src/learner.cc:1115: Starting in XGBoost 1.3.0, the default evaluation metric used with the objective 'multi:softprob' was changed from 'merror' to 'mlogloss'. Explicitly set eval_metric if you'd like to restore the old behavior.\n",
      "[0.88465909 0.88636364 0.89375    0.93409091 0.97556818]\n",
      "0.9148863636363636\n"
     ]
    }
   ],
   "source": [
    "\n",
    "from xgboost import XGBClassifier\n",
    "xgb = XGBClassifier(random_state=2021,n_jobs=-1)\n",
    "cv = cross_val_score(xgb,X_res,y_res,cv=5)\n",
    "print(cv)\n",
    "print(cv.mean())\n"
   ]
  },
  {
   "cell_type": "code",
   "execution_count": 141,
   "metadata": {},
   "outputs": [],
   "source": [
    "from sklearn.ensemble import VotingClassifier\n",
    "#voting_clf = VotingClassifier(estimators = [('lr',lr),('knn',knn),('rf',rf),('gnb',gnb),('svc',svc),('xgb',xgb)], voting = 'soft',n_jobs=-1) "
   ]
  },
  {
   "cell_type": "code",
   "execution_count": 142,
   "metadata": {},
   "outputs": [
    {
     "data": {
      "text/plain": [
       "'\\ncv = cross_val_score(voting_clf,X_res.values,y_res.values,cv=5)\\nprint(cv)\\nprint(cv.mean())\\n'"
      ]
     },
     "execution_count": 142,
     "metadata": {},
     "output_type": "execute_result"
    }
   ],
   "source": [
    "'''\n",
    "cv = cross_val_score(voting_clf,X_res.values,y_res.values,cv=5)\n",
    "print(cv)\n",
    "print(cv.mean())\n",
    "'''"
   ]
  },
  {
   "cell_type": "code",
   "execution_count": 143,
   "metadata": {},
   "outputs": [],
   "source": [
    "from sklearn.model_selection import GridSearchCV \n",
    "from sklearn.model_selection import RandomizedSearchCV "
   ]
  },
  {
   "cell_type": "code",
   "execution_count": 144,
   "metadata": {},
   "outputs": [],
   "source": [
    "#simple performance reporting function\n",
    "def clf_performance(classifier, model_name):\n",
    "    print(model_name)\n",
    "    print('Best Score: ' + str(classifier.best_score_))\n",
    "    print('Best Parameters: ' + str(classifier.best_params_))"
   ]
  },
  {
   "cell_type": "code",
   "execution_count": 145,
   "metadata": {},
   "outputs": [
    {
     "name": "stdout",
     "output_type": "stream",
     "text": [
      "Fitting 5 folds for each of 40 candidates, totalling 200 fits\n"
     ]
    },
    {
     "name": "stderr",
     "output_type": "stream",
     "text": [
      "C:\\Users\\Krow\\AppData\\Local\\Programs\\Python\\Python39\\lib\\site-packages\\sklearn\\linear_model\\_logistic.py:1523: UserWarning: 'n_jobs' > 1 does not have any effect when 'solver' is set to 'liblinear'. Got 'n_jobs' = 12.\n",
      "  warnings.warn(\n"
     ]
    },
    {
     "name": "stdout",
     "output_type": "stream",
     "text": [
      "Logistic Regression\n",
      "Best Score: 0.7164772727272728\n",
      "Best Parameters: {'C': 1438.44988828766, 'max_iter': 200000000, 'penalty': 'l1', 'solver': 'liblinear'}\n"
     ]
    }
   ],
   "source": [
    "'''\n",
    "param_grid = {'max_iter' : [200000000],\n",
    "              'penalty' : ['l1', 'l2'],\n",
    "              'C' : np.logspace(-4, 4, 20),\n",
    "              'solver' : ['liblinear']}\n",
    "\n",
    "clf_lr = GridSearchCV(lr, param_grid = param_grid, cv = 5, verbose = True, n_jobs = -1)\n",
    "best_clf_lr = clf_lr.fit(X_res,y_res)\n",
    "clf_performance(best_clf_lr,'Logistic Regression')\n",
    "'''"
   ]
  },
  {
   "cell_type": "code",
   "execution_count": 146,
   "metadata": {},
   "outputs": [
    {
     "name": "stdout",
     "output_type": "stream",
     "text": [
      "Fitting 5 folds for each of 48 candidates, totalling 240 fits\n",
      "KNN\n",
      "Best Score: 0.8231818181818182\n",
      "Best Parameters: {'algorithm': 'auto', 'n_neighbors': 9, 'p': 1, 'weights': 'distance'}\n"
     ]
    }
   ],
   "source": [
    "'''\n",
    "param_grid = {'n_neighbors' : [3,5,7,9],\n",
    "              'weights' : ['uniform', 'distance'],\n",
    "              'algorithm' : ['auto', 'ball_tree','kd_tree'],\n",
    "              'p' : [1,2]}\n",
    "clf_knn = GridSearchCV(knn, param_grid = param_grid, cv = 5, verbose = True, n_jobs = -1)\n",
    "best_clf_knn = clf_knn.fit(X_res,y_res.values)\n",
    "clf_performance(best_clf_knn,'KNN')\n",
    "'''"
   ]
  },
  {
   "cell_type": "code",
   "execution_count": 147,
   "metadata": {},
   "outputs": [
    {
     "data": {
      "text/plain": [
       "\"\\nparam_grid =  {'n_estimators': [50,100,200,300,400,500,600,700,800,900,1000],\\n               'criterion':['gini','entropy'],\\n                                  'bootstrap': [True,False],\\n                                  'max_depth': [3,5,10,20,50,75,100,None],\\n                                  'max_features': ['auto','sqrt'],\\n                                  'min_samples_leaf': [1,2,4,10],\\n                                  'min_samples_split': [2,5,10]}\\n                                  \\nclf_rf = RandomizedSearchCV(rf, param_distributions= param_grid,cv = 5,n_iter=100, verbose = True, n_jobs = -1)\\nbest_clf_rf = clf_rf.fit(X_res,y_res)\\nclf_performance(best_clf_rf,'Random Forest')\\n\""
      ]
     },
     "execution_count": 147,
     "metadata": {},
     "output_type": "execute_result"
    }
   ],
   "source": [
    "'''\n",
    "param_grid =  {'n_estimators': [50,100,200,300,400,500,600,700,800,900,1000],\n",
    "               'criterion':['gini','entropy'],\n",
    "                                  'bootstrap': [True,False],\n",
    "                                  'max_depth': [3,5,10,20,50,75,100,None],\n",
    "                                  'max_features': ['auto','sqrt'],\n",
    "                                  'min_samples_leaf': [1,2,4,10],\n",
    "                                  'min_samples_split': [2,5,10]}\n",
    "                                  \n",
    "clf_rf = RandomizedSearchCV(rf, param_distributions= param_grid,cv = 5,n_iter=100, verbose = True, n_jobs = -1)\n",
    "best_clf_rf = clf_rf.fit(X_res,y_res)\n",
    "clf_performance(best_clf_rf,'Random Forest')\n",
    "'''\n"
   ]
  },
  {
   "cell_type": "code",
   "execution_count": 148,
   "metadata": {},
   "outputs": [
    {
     "name": "stdout",
     "output_type": "stream",
     "text": [
      "Fitting 5 folds for each of 1 candidates, totalling 5 fits\n",
      "Random Forest\n",
      "Best Score: 0.9222727272727272\n",
      "Best Parameters: {'bootstrap': False, 'criterion': 'entropy', 'max_depth': 25, 'max_features': 'sqrt', 'min_samples_leaf': 1, 'min_samples_split': 5, 'n_estimators': 650}\n"
     ]
    }
   ],
   "source": [
    "param_grid =  {'n_estimators': [650],\n",
    "               'min_samples_split': [5],\n",
    "               'min_samples_leaf': [1],\n",
    "               'max_features': ['sqrt'],\n",
    "               'max_depth': [25],\n",
    "               'criterion': ['entropy'],\n",
    "               'bootstrap': [False]}\n",
    "                                  \n",
    "clf_rf = GridSearchCV(rf, param_grid= param_grid,cv = 5, verbose = True, n_jobs = -1)\n",
    "best_clf_rf = clf_rf.fit(X_res,y_res)\n",
    "clf_performance(best_clf_rf,'Random Forest')"
   ]
  },
  {
   "cell_type": "code",
   "execution_count": 149,
   "metadata": {},
   "outputs": [
    {
     "data": {
      "text/plain": [
       "<AxesSubplot:>"
      ]
     },
     "execution_count": 149,
     "metadata": {},
     "output_type": "execute_result"
    },
    {
     "data": {
      "image/png": "[encoded data removed]",
      "text/plain": [
       "<Figure size 432x288 with 1 Axes>"
      ]
     },
     "metadata": {
      "needs_background": "light"
     },
     "output_type": "display_data"
    }
   ],
   "source": [
    "best_rf = best_clf_rf.best_estimator_.fit(X_res,y_res)\n",
    "feat_importances = pd.Series(best_rf.feature_importances_, index=X_train.columns)\n",
    "feat_importances.nlargest(20).plot(kind='barh')"
   ]
  },
  {
   "cell_type": "code",
   "execution_count": 150,
   "metadata": {},
   "outputs": [
    {
     "name": "stdout",
     "output_type": "stream",
     "text": [
      "Fitting 5 folds for each of 10 candidates, totalling 50 fits\n",
      "SVC\n",
      "Best Score: 0.8017045454545455\n",
      "Best Parameters: {'kernel': 'poly', 'degree': 3, 'C': 1000}\n"
     ]
    }
   ],
   "source": [
    "'''\n",
    "param_grid = tuned_parameters = [{'kernel': ['rbf'], 'gamma': [.1,.5,1,2,5,10],\n",
    "                                  'C': [.1, 1, 10, 100, 1000]},\n",
    "                                 {'kernel': ['linear'], 'C': [.1, 1, 10, 100, 1000]},\n",
    "                                 {'kernel': ['poly'], 'degree' : [2,3,4,5], 'C': [.1, 1, 10, 100, 1000]}]\n",
    "\n",
    "clf_svc = RandomizedSearchCV(svc, param_distributions = param_grid, cv = 5, verbose = True, n_jobs = -1)\n",
    "best_clf_svc = clf_svc.fit(X_res,y_res)\n",
    "clf_performance(best_clf_svc,'SVC')\n",
    "'''"
   ]
  },
  {
   "cell_type": "code",
   "execution_count": 151,
   "metadata": {},
   "outputs": [
    {
     "name": "stdout",
     "output_type": "stream",
     "text": [
      "Fitting 5 folds for each of 10 candidates, totalling 50 fits\n"
     ]
    },
    {
     "name": "stderr",
     "output_type": "stream",
     "text": [
      "C:\\Users\\Krow\\AppData\\Local\\Programs\\Python\\Python39\\lib\\site-packages\\xgboost\\sklearn.py:1224: UserWarning: The use of label encoder in XGBClassifier is deprecated and will be removed in a future release. To remove this warning, do the following: 1) Pass option use_label_encoder=False when constructing XGBClassifier object; and 2) Encode your labels (y) as integers starting with 0, i.e. 0, 1, 2, ..., [num_class - 1].\n",
      "  warnings.warn(label_encoder_deprecation_msg, UserWarning)\n"
     ]
    },
    {
     "name": "stdout",
     "output_type": "stream",
     "text": [
      "[23:39:23] WARNING: C:/Users/Administrator/workspace/xgboost-win64_release_1.5.0/src/learner.cc:1115: Starting in XGBoost 1.3.0, the default evaluation metric used with the objective 'multi:softprob' was changed from 'merror' to 'mlogloss'. Explicitly set eval_metric if you'd like to restore the old behavior.\n",
      "XGB\n",
      "Best Score: 0.9147727272727273\n",
      "Best Parameters: {'subsample': 0.55, 'sampling_method': 'uniform', 'reg_lambda': 2, 'reg_alpha': 1, 'n_estimators': 550, 'min_child_weight': 0.01, 'max_depth': None, 'learning_rate': 0.5, 'gamma': 0.5, 'colsample_bytree': 0.75}\n"
     ]
    }
   ],
   "source": [
    "'''\n",
    "param_grid = {\n",
    "    'n_estimators': [450,500,550],\n",
    "    'colsample_bytree': [0.75,0.8,0.85],\n",
    "    'max_depth': [None],\n",
    "    'reg_alpha': [1],\n",
    "    'reg_lambda': [2, 5, 10],\n",
    "    'subsample': [0.55, 0.6, .65],\n",
    "    'learning_rate':[0.5],\n",
    "    'gamma':[.5,1,2],\n",
    "    'min_child_weight':[0.01],\n",
    "    'sampling_method': ['uniform']\n",
    "}\n",
    "\n",
    "clf_xgb = RandomizedSearchCV(xgb, param_distributions = param_grid, cv = 5, verbose = True, n_jobs = -1)\n",
    "best_clf_xgb = clf_xgb.fit(X_res,y_res)\n",
    "clf_performance(best_clf_xgb,'XGB')\n",
    "'''"
   ]
  },
  {
   "cell_type": "code",
   "execution_count": null,
   "metadata": {},
   "outputs": [],
   "source": [
    "\n",
    "param_grid = {\n",
    "    'n_estimators': [550],\n",
    "    'colsample_bytree': [0.75],\n",
    "    'max_depth': [None],\n",
    "    'reg_alpha': [1],\n",
    "    'reg_lambda': [2],\n",
    "    'subsample': [0.55],\n",
    "    'learning_rate':[0.5],\n",
    "    'gamma':[.5],\n",
    "    'min_child_weight':[0.01],\n",
    "    'sampling_method': ['uniform']\n",
    "}\n",
    "\n",
    "clf_xgb = GridSearchCV(xgb, param_grid = param_grid, cv = 5, verbose = True, n_jobs = -1)\n",
    "best_clf_xgb = clf_xgb.fit(X_res,y_res)\n",
    "clf_performance(best_clf_xgb,'XGB')\n"
   ]
  },
  {
   "cell_type": "code",
   "execution_count": 152,
   "metadata": {},
   "outputs": [
    {
     "data": {
      "text/plain": [
       "RandomForestClassifier(n_jobs=-1, random_state=2021)"
      ]
     },
     "execution_count": 152,
     "metadata": {},
     "output_type": "execute_result"
    }
   ],
   "source": [
    "#lr.fit(X_res,y_res)\n",
    "#dt.fit(X_res,y_res)\n",
    "#knn.fit(X_res,y_res)\n",
    "rf.fit(X_res,y_res)\n",
    "#xgb.fit(X_res,y_res)"
   ]
  },
  {
   "cell_type": "code",
   "execution_count": 153,
   "metadata": {},
   "outputs": [],
   "source": [
    "predictions = best_clf_rf.predict(X_test)"
   ]
  },
  {
   "cell_type": "code",
   "execution_count": 154,
   "metadata": {},
   "outputs": [
    {
     "data": {
      "text/plain": [
       "<matplotlib.collections.PathCollection at 0x1fedab124c0>"
      ]
     },
     "execution_count": 154,
     "metadata": {},
     "output_type": "execute_result"
    },
    {
     "data": {
      "image/png": "[encoded data removed]",
      "text/plain": [
       "<Figure size 432x288 with 1 Axes>"
      ]
     },
     "metadata": {
      "needs_background": "light"
     },
     "output_type": "display_data"
    }
   ],
   "source": [
    "plt.scatter(y_test,predictions)"
   ]
  },
  {
   "cell_type": "code",
   "execution_count": 155,
   "metadata": {},
   "outputs": [],
   "source": [
    "from sklearn.metrics import ConfusionMatrixDisplay\n",
    "from sklearn.svm import SVC\n",
    "from sklearn.datasets import make_classification"
   ]
  },
  {
   "cell_type": "code",
   "execution_count": 156,
   "metadata": {},
   "outputs": [],
   "source": [
    "#ConfusionMatrixDisplay.from_estimator(lr, X_test, y_test)"
   ]
  },
  {
   "cell_type": "code",
   "execution_count": 157,
   "metadata": {},
   "outputs": [],
   "source": [
    "#ConfusionMatrixDisplay.from_estimator(dt, X_test, y_test)"
   ]
  },
  {
   "cell_type": "code",
   "execution_count": 158,
   "metadata": {},
   "outputs": [],
   "source": [
    "#ConfusionMatrixDisplay.from_estimator(knn, X_test, y_test)"
   ]
  },
  {
   "cell_type": "code",
   "execution_count": 159,
   "metadata": {},
   "outputs": [
    {
     "data": {
      "text/plain": [
       "<sklearn.metrics._plot.confusion_matrix.ConfusionMatrixDisplay at 0x1fed7483340>"
      ]
     },
     "execution_count": 159,
     "metadata": {},
     "output_type": "execute_result"
    },
    {
     "data": {
      "image/png": "[encoded data removed]",
      "text/plain": [
       "<Figure size 432x288 with 2 Axes>"
      ]
     },
     "metadata": {
      "needs_background": "light"
     },
     "output_type": "display_data"
    }
   ],
   "source": [
    "ConfusionMatrixDisplay.from_estimator(rf, X_test, y_test)"
   ]
  },
  {
   "cell_type": "code",
   "execution_count": 160,
   "metadata": {},
   "outputs": [
    {
     "data": {
      "text/plain": [
       "<sklearn.metrics._plot.confusion_matrix.ConfusionMatrixDisplay at 0x1fedac35be0>"
      ]
     },
     "execution_count": 160,
     "metadata": {},
     "output_type": "execute_result"
    },
    {
     "data": {
      "image/png": "[encoded data removed]",
      "text/plain": [
       "<Figure size 432x288 with 2 Axes>"
      ]
     },
     "metadata": {
      "needs_background": "light"
     },
     "output_type": "display_data"
    }
   ],
   "source": [
    "ConfusionMatrixDisplay.from_estimator(best_clf_rf, X_test, y_test)"
   ]
  },
  {
   "cell_type": "code",
   "execution_count": 161,
   "metadata": {},
   "outputs": [],
   "source": [
    "#ConfusionMatrixDisplay.from_estimator(xgb, X_test, y_test)"
   ]
  },
  {
   "cell_type": "code",
   "execution_count": 162,
   "metadata": {},
   "outputs": [],
   "source": [
    "testing = pd.read_csv('workedTesting.csv')"
   ]
  },
  {
   "cell_type": "code",
   "execution_count": 163,
   "metadata": {},
   "outputs": [
    {
     "name": "stdout",
     "output_type": "stream",
     "text": [
      "<class 'pandas.core.frame.DataFrame'>\n",
      "RangeIndex: 6812 entries, 0 to 6811\n",
      "Data columns (total 19 columns):\n",
      " #   Column                   Non-Null Count  Dtype   \n",
      "---  ------                   --------------  -----   \n",
      " 0   AVERAGE_ATMOSP_PRESSURE  6812 non-null   float64 \n",
      " 1   AVERAGE_FREE_FLOW_SPEED  6812 non-null   float64 \n",
      " 2   AVERAGE_FREE_FLOW_TIME   6812 non-null   float64 \n",
      " 3   AVERAGE_HUMIDITY         6812 non-null   float64 \n",
      " 4   AVERAGE_SPEED_DIFF       6812 non-null   category\n",
      " 5   AVERAGE_TEMPERATURE      6812 non-null   float64 \n",
      " 6   AVERAGE_TIME_DIFF        6812 non-null   float64 \n",
      " 7   AVERAGE_WIND_SPEED       6812 non-null   float64 \n",
      " 8   DARK                     6812 non-null   uint8   \n",
      " 9   LIGHT                    6812 non-null   uint8   \n",
      " 10  LOW_LIGHT                6812 non-null   uint8   \n",
      " 11  céu limpo                6812 non-null   uint8   \n",
      " 12  céu pouco nublado        6812 non-null   uint8   \n",
      " 13  day                      6812 non-null   int64   \n",
      " 14  hour                     6812 non-null   int64   \n",
      " 15  month                    6812 non-null   int64   \n",
      " 16  nublado                  6812 non-null   uint8   \n",
      " 17  nuvens quebradas         6812 non-null   uint8   \n",
      " 18  weekday                  6812 non-null   int64   \n",
      "dtypes: category(1), float64(7), int64(4), uint8(7)\n",
      "memory usage: 639.0 KB\n"
     ]
    }
   ],
   "source": [
    "finalTrain.info()"
   ]
  },
  {
   "cell_type": "code",
   "execution_count": 164,
   "metadata": {},
   "outputs": [
    {
     "name": "stdout",
     "output_type": "stream",
     "text": [
      "<class 'pandas.core.frame.DataFrame'>\n",
      "RangeIndex: 1500 entries, 0 to 1499\n",
      "Data columns (total 18 columns):\n",
      " #   Column                   Non-Null Count  Dtype  \n",
      "---  ------                   --------------  -----  \n",
      " 0   AVERAGE_ATMOSP_PRESSURE  1500 non-null   float64\n",
      " 1   AVERAGE_FREE_FLOW_SPEED  1500 non-null   float64\n",
      " 2   AVERAGE_FREE_FLOW_TIME   1500 non-null   float64\n",
      " 3   AVERAGE_HUMIDITY         1500 non-null   float64\n",
      " 4   AVERAGE_TEMPERATURE      1500 non-null   float64\n",
      " 5   AVERAGE_TIME_DIFF        1500 non-null   float64\n",
      " 6   AVERAGE_WIND_SPEED       1500 non-null   float64\n",
      " 7   DARK                     1500 non-null   int64  \n",
      " 8   LIGHT                    1500 non-null   int64  \n",
      " 9   LOW_LIGHT                1500 non-null   int64  \n",
      " 10  céu limpo                1500 non-null   int64  \n",
      " 11  céu pouco nublado        1500 non-null   int64  \n",
      " 12  day                      1500 non-null   int64  \n",
      " 13  hour                     1500 non-null   int64  \n",
      " 14  month                    1500 non-null   int64  \n",
      " 15  nublado                  1500 non-null   int64  \n",
      " 16  nuvens quebradas         1500 non-null   int64  \n",
      " 17  weekday                  1500 non-null   int64  \n",
      "dtypes: float64(7), int64(11)\n",
      "memory usage: 211.1 KB\n"
     ]
    }
   ],
   "source": [
    "testing.info()"
   ]
  },
  {
   "cell_type": "code",
   "execution_count": 165,
   "metadata": {},
   "outputs": [],
   "source": [
    "testing[['AVERAGE_ATMOSP_PRESSURE','AVERAGE_FREE_FLOW_SPEED','AVERAGE_FREE_FLOW_TIME','AVERAGE_HUMIDITY','AVERAGE_TEMPERATURE','AVERAGE_TIME_DIFF','AVERAGE_WIND_SPEED']] = scaler.transform(testing[['AVERAGE_ATMOSP_PRESSURE','AVERAGE_FREE_FLOW_SPEED','AVERAGE_FREE_FLOW_TIME','AVERAGE_HUMIDITY','AVERAGE_TEMPERATURE','AVERAGE_TIME_DIFF','AVERAGE_WIND_SPEED']])"
   ]
  },
  {
   "cell_type": "code",
   "execution_count": 166,
   "metadata": {},
   "outputs": [],
   "source": [
    "prediction = best_clf_rf.predict(testing)"
   ]
  },
  {
   "cell_type": "code",
   "execution_count": 167,
   "metadata": {},
   "outputs": [],
   "source": [
    "sub_df = pd.read_csv('example_submission.csv')\n",
    "final_data = {'RowId': sub_df.RowId, 'Speed_Diff': prediction}\n",
    "submission = pd.DataFrame(data=final_data)"
   ]
  },
  {
   "cell_type": "code",
   "execution_count": 168,
   "metadata": {},
   "outputs": [
    {
     "data": {
      "text/plain": [
       "None         495\n",
       "Medium       326\n",
       "Low          312\n",
       "High         268\n",
       "Very_High     99\n",
       "Name: Speed_Diff, dtype: int64"
      ]
     },
     "execution_count": 168,
     "metadata": {},
     "output_type": "execute_result"
    }
   ],
   "source": [
    "submission['Speed_Diff'].value_counts()"
   ]
  },
  {
   "cell_type": "code",
   "execution_count": 169,
   "metadata": {},
   "outputs": [],
   "source": [
    "#pred = pd.DataFrame(prediction)\n",
    "#sub_df = pd.read_csv('example_submission.csv')\n",
    "#datasets=pd.concat([sub_df['RowId'],pred],axis=1)\n",
    "#datasets.columns=['RowId','Speed_Diff']\n",
    "#datasets"
   ]
  },
  {
   "cell_type": "code",
   "execution_count": 170,
   "metadata": {},
   "outputs": [],
   "source": [
    "compare = pd.read_csv('sample_submission.csv')"
   ]
  },
  {
   "cell_type": "code",
   "execution_count": 171,
   "metadata": {},
   "outputs": [
    {
     "data": {
      "text/plain": [
       "None         500\n",
       "Medium       337\n",
       "Low          308\n",
       "High         265\n",
       "Very_High     90\n",
       "Name: Speed_Diff, dtype: int64"
      ]
     },
     "execution_count": 171,
     "metadata": {},
     "output_type": "execute_result"
    }
   ],
   "source": [
    "compare['Speed_Diff'].value_counts()"
   ]
  },
  {
   "cell_type": "code",
   "execution_count": 172,
   "metadata": {},
   "outputs": [
    {
     "data": {
      "text/plain": [
       "equals\n",
       "True      1369\n",
       "False      131\n",
       "dtype: int64"
      ]
     },
     "execution_count": 172,
     "metadata": {},
     "output_type": "execute_result"
    }
   ],
   "source": [
    "df1 = np.where(submission['Speed_Diff'] == compare['Speed_Diff'], 'True', 'False')\n",
    "df1 = pd.DataFrame(df1)\n",
    "df1.columns=['equals']\n",
    "df1.value_counts()"
   ]
  },
  {
   "cell_type": "code",
   "execution_count": 173,
   "metadata": {},
   "outputs": [],
   "source": [
    "submission.to_csv('submission.csv',index=False)"
   ]
  }
 ],
 "metadata": {
  "interpreter": {
   "hash": "93f4246b72b1dfd2a0724448b6458aeeaf8f9dfbfbe240c26e171f90999410ad"
  },
  "kernelspec": {
   "display_name": "Python 3.8.8 64-bit ('base': conda)",
   "language": "python",
   "name": "python3"
  },
  "language_info": {
   "codemirror_mode": {
    "name": "ipython",
    "version": 3
   },
   "file_extension": ".py",
   "mimetype": "text/x-python",
   "name": "python",
   "nbconvert_exporter": "python",
   "pygments_lexer": "ipython3",
   "version": "3.9.9"
  },
  "orig_nbformat": 4
 },
 "nbformat": 4,
 "nbformat_minor": 2
}
