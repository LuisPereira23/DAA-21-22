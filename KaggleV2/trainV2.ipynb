{
 "cells": [
  {
   "cell_type": "code",
   "execution_count": 282,
   "metadata": {},
   "outputs": [],
   "source": [
    "import numpy as np\n",
    "import pandas as pd\n",
    "import xlrd\n",
    "import xlwt\n",
    "import matplotlib.pyplot as plt\n",
    "import seaborn as sns\n",
    "import sklearn\n",
    "import jupyterlab\n",
    "%matplotlib inline"
   ]
  },
  {
   "cell_type": "code",
   "execution_count": 283,
   "metadata": {},
   "outputs": [],
   "source": [
    "#training = pd.read_csv('training_data.csv', encoding = \"latin\")\n",
    "training = pd.read_csv('rainTrain.csv')"
   ]
  },
  {
   "cell_type": "code",
   "execution_count": 284,
   "metadata": {},
   "outputs": [
    {
     "data": {
      "text/plain": [
       "(6812, 14)"
      ]
     },
     "execution_count": 284,
     "metadata": {},
     "output_type": "execute_result"
    }
   ],
   "source": [
    "training.shape"
   ]
  },
  {
   "cell_type": "code",
   "execution_count": 285,
   "metadata": {},
   "outputs": [
    {
     "data": {
      "text/html": [
       "<div>\n",
       "<style scoped>\n",
       "    .dataframe tbody tr th:only-of-type {\n",
       "        vertical-align: middle;\n",
       "    }\n",
       "\n",
       "    .dataframe tbody tr th {\n",
       "        vertical-align: top;\n",
       "    }\n",
       "\n",
       "    .dataframe thead th {\n",
       "        text-align: right;\n",
       "    }\n",
       "</style>\n",
       "<table border=\"1\" class=\"dataframe\">\n",
       "  <thead>\n",
       "    <tr style=\"text-align: right;\">\n",
       "      <th></th>\n",
       "      <th>city_name</th>\n",
       "      <th>record_date</th>\n",
       "      <th>AVERAGE_SPEED_DIFF</th>\n",
       "      <th>AVERAGE_FREE_FLOW_SPEED</th>\n",
       "      <th>AVERAGE_TIME_DIFF</th>\n",
       "      <th>AVERAGE_FREE_FLOW_TIME</th>\n",
       "      <th>LUMINOSITY</th>\n",
       "      <th>AVERAGE_TEMPERATURE</th>\n",
       "      <th>AVERAGE_ATMOSP_PRESSURE</th>\n",
       "      <th>AVERAGE_HUMIDITY</th>\n",
       "      <th>AVERAGE_WIND_SPEED</th>\n",
       "      <th>AVERAGE_PRECIPITATION</th>\n",
       "      <th>AVERAGE_CLOUDINESS</th>\n",
       "      <th>AVERAGE_RAIN</th>\n",
       "    </tr>\n",
       "  </thead>\n",
       "  <tbody>\n",
       "    <tr>\n",
       "      <th>0</th>\n",
       "      <td>Porto</td>\n",
       "      <td>2019-08-29 07:00:00</td>\n",
       "      <td>Medium</td>\n",
       "      <td>41.5</td>\n",
       "      <td>11.5</td>\n",
       "      <td>71.4</td>\n",
       "      <td>LIGHT</td>\n",
       "      <td>15.0</td>\n",
       "      <td>1019.0</td>\n",
       "      <td>100.0</td>\n",
       "      <td>3.0</td>\n",
       "      <td>0.0</td>\n",
       "      <td>nuvens quebradas</td>\n",
       "      <td>chuva fraca</td>\n",
       "    </tr>\n",
       "    <tr>\n",
       "      <th>1</th>\n",
       "      <td>Porto</td>\n",
       "      <td>2018-08-10 14:00:00</td>\n",
       "      <td>High</td>\n",
       "      <td>41.7</td>\n",
       "      <td>48.3</td>\n",
       "      <td>87.4</td>\n",
       "      <td>LIGHT</td>\n",
       "      <td>21.0</td>\n",
       "      <td>1021.0</td>\n",
       "      <td>53.0</td>\n",
       "      <td>5.0</td>\n",
       "      <td>0.0</td>\n",
       "      <td>céu limpo</td>\n",
       "      <td>chuva fraca</td>\n",
       "    </tr>\n",
       "    <tr>\n",
       "      <th>2</th>\n",
       "      <td>Porto</td>\n",
       "      <td>2019-09-01 16:00:00</td>\n",
       "      <td>High</td>\n",
       "      <td>38.6</td>\n",
       "      <td>38.4</td>\n",
       "      <td>85.2</td>\n",
       "      <td>LIGHT</td>\n",
       "      <td>26.0</td>\n",
       "      <td>1014.0</td>\n",
       "      <td>61.0</td>\n",
       "      <td>4.0</td>\n",
       "      <td>0.0</td>\n",
       "      <td>nuvens quebradas</td>\n",
       "      <td>chuva fraca</td>\n",
       "    </tr>\n",
       "    <tr>\n",
       "      <th>3</th>\n",
       "      <td>Porto</td>\n",
       "      <td>2019-02-26 11:00:00</td>\n",
       "      <td>High</td>\n",
       "      <td>37.4</td>\n",
       "      <td>61.0</td>\n",
       "      <td>94.1</td>\n",
       "      <td>LIGHT</td>\n",
       "      <td>18.0</td>\n",
       "      <td>1025.0</td>\n",
       "      <td>48.0</td>\n",
       "      <td>4.0</td>\n",
       "      <td>0.0</td>\n",
       "      <td>céu limpo</td>\n",
       "      <td>chuva fraca</td>\n",
       "    </tr>\n",
       "    <tr>\n",
       "      <th>4</th>\n",
       "      <td>Porto</td>\n",
       "      <td>2019-06-06 12:00:00</td>\n",
       "      <td>Medium</td>\n",
       "      <td>41.6</td>\n",
       "      <td>50.4</td>\n",
       "      <td>77.0</td>\n",
       "      <td>LIGHT</td>\n",
       "      <td>15.0</td>\n",
       "      <td>1008.0</td>\n",
       "      <td>82.0</td>\n",
       "      <td>10.0</td>\n",
       "      <td>0.0</td>\n",
       "      <td>nuvens quebradas</td>\n",
       "      <td>chuva fraca</td>\n",
       "    </tr>\n",
       "  </tbody>\n",
       "</table>\n",
       "</div>"
      ],
      "text/plain": [
       "  city_name          record_date AVERAGE_SPEED_DIFF  AVERAGE_FREE_FLOW_SPEED  \\\n",
       "0     Porto  2019-08-29 07:00:00             Medium                     41.5   \n",
       "1     Porto  2018-08-10 14:00:00               High                     41.7   \n",
       "2     Porto  2019-09-01 16:00:00               High                     38.6   \n",
       "3     Porto  2019-02-26 11:00:00               High                     37.4   \n",
       "4     Porto  2019-06-06 12:00:00             Medium                     41.6   \n",
       "\n",
       "   AVERAGE_TIME_DIFF  AVERAGE_FREE_FLOW_TIME LUMINOSITY  AVERAGE_TEMPERATURE  \\\n",
       "0               11.5                    71.4      LIGHT                 15.0   \n",
       "1               48.3                    87.4      LIGHT                 21.0   \n",
       "2               38.4                    85.2      LIGHT                 26.0   \n",
       "3               61.0                    94.1      LIGHT                 18.0   \n",
       "4               50.4                    77.0      LIGHT                 15.0   \n",
       "\n",
       "   AVERAGE_ATMOSP_PRESSURE  AVERAGE_HUMIDITY  AVERAGE_WIND_SPEED  \\\n",
       "0                   1019.0             100.0                 3.0   \n",
       "1                   1021.0              53.0                 5.0   \n",
       "2                   1014.0              61.0                 4.0   \n",
       "3                   1025.0              48.0                 4.0   \n",
       "4                   1008.0              82.0                10.0   \n",
       "\n",
       "   AVERAGE_PRECIPITATION AVERAGE_CLOUDINESS AVERAGE_RAIN  \n",
       "0                    0.0   nuvens quebradas  chuva fraca  \n",
       "1                    0.0          céu limpo  chuva fraca  \n",
       "2                    0.0   nuvens quebradas  chuva fraca  \n",
       "3                    0.0          céu limpo  chuva fraca  \n",
       "4                    0.0   nuvens quebradas  chuva fraca  "
      ]
     },
     "execution_count": 285,
     "metadata": {},
     "output_type": "execute_result"
    }
   ],
   "source": [
    "training.head()"
   ]
  },
  {
   "cell_type": "code",
   "execution_count": 286,
   "metadata": {},
   "outputs": [
    {
     "name": "stdout",
     "output_type": "stream",
     "text": [
      "<class 'pandas.core.frame.DataFrame'>\n",
      "RangeIndex: 6812 entries, 0 to 6811\n",
      "Data columns (total 14 columns):\n",
      " #   Column                   Non-Null Count  Dtype  \n",
      "---  ------                   --------------  -----  \n",
      " 0   city_name                6812 non-null   object \n",
      " 1   record_date              6812 non-null   object \n",
      " 2   AVERAGE_SPEED_DIFF       6812 non-null   object \n",
      " 3   AVERAGE_FREE_FLOW_SPEED  6812 non-null   float64\n",
      " 4   AVERAGE_TIME_DIFF        6812 non-null   float64\n",
      " 5   AVERAGE_FREE_FLOW_TIME   6812 non-null   float64\n",
      " 6   LUMINOSITY               6812 non-null   object \n",
      " 7   AVERAGE_TEMPERATURE      6812 non-null   float64\n",
      " 8   AVERAGE_ATMOSP_PRESSURE  6812 non-null   float64\n",
      " 9   AVERAGE_HUMIDITY         6812 non-null   float64\n",
      " 10  AVERAGE_WIND_SPEED       6812 non-null   float64\n",
      " 11  AVERAGE_PRECIPITATION    6812 non-null   float64\n",
      " 12  AVERAGE_CLOUDINESS       6812 non-null   object \n",
      " 13  AVERAGE_RAIN             6812 non-null   object \n",
      "dtypes: float64(8), object(6)\n",
      "memory usage: 745.2+ KB\n"
     ]
    }
   ],
   "source": [
    "training.info()"
   ]
  },
  {
   "cell_type": "code",
   "execution_count": 287,
   "metadata": {},
   "outputs": [],
   "source": [
    "training['AVERAGE_DISTANCE_FREE'] = training['AVERAGE_FREE_FLOW_TIME'] * training['AVERAGE_FREE_FLOW_SPEED']"
   ]
  },
  {
   "cell_type": "code",
   "execution_count": 288,
   "metadata": {},
   "outputs": [],
   "source": [
    "training['AVERAGE_TIME'] = training['AVERAGE_TIME_DIFF'] + training['AVERAGE_FREE_FLOW_TIME'] "
   ]
  },
  {
   "cell_type": "code",
   "execution_count": 289,
   "metadata": {},
   "outputs": [],
   "source": [
    "training['AVERAGE_SPEED'] =  training['AVERAGE_DISTANCE_FREE'] / training['AVERAGE_TIME']"
   ]
  },
  {
   "cell_type": "code",
   "execution_count": 290,
   "metadata": {},
   "outputs": [],
   "source": [
    "training['AVERAGE_SPEED_DIFF_Num'] =  training['AVERAGE_FREE_FLOW_SPEED'] - training['AVERAGE_SPEED']"
   ]
  },
  {
   "cell_type": "code",
   "execution_count": 291,
   "metadata": {},
   "outputs": [
    {
     "data": {
      "text/html": [
       "<div>\n",
       "<style scoped>\n",
       "    .dataframe tbody tr th:only-of-type {\n",
       "        vertical-align: middle;\n",
       "    }\n",
       "\n",
       "    .dataframe tbody tr th {\n",
       "        vertical-align: top;\n",
       "    }\n",
       "\n",
       "    .dataframe thead th {\n",
       "        text-align: right;\n",
       "    }\n",
       "</style>\n",
       "<table border=\"1\" class=\"dataframe\">\n",
       "  <thead>\n",
       "    <tr style=\"text-align: right;\">\n",
       "      <th></th>\n",
       "      <th>city_name</th>\n",
       "      <th>record_date</th>\n",
       "      <th>AVERAGE_SPEED_DIFF</th>\n",
       "      <th>AVERAGE_FREE_FLOW_SPEED</th>\n",
       "      <th>AVERAGE_TIME_DIFF</th>\n",
       "      <th>AVERAGE_FREE_FLOW_TIME</th>\n",
       "      <th>LUMINOSITY</th>\n",
       "      <th>AVERAGE_TEMPERATURE</th>\n",
       "      <th>AVERAGE_ATMOSP_PRESSURE</th>\n",
       "      <th>AVERAGE_HUMIDITY</th>\n",
       "      <th>AVERAGE_WIND_SPEED</th>\n",
       "      <th>AVERAGE_PRECIPITATION</th>\n",
       "      <th>AVERAGE_CLOUDINESS</th>\n",
       "      <th>AVERAGE_RAIN</th>\n",
       "      <th>AVERAGE_DISTANCE_FREE</th>\n",
       "      <th>AVERAGE_TIME</th>\n",
       "      <th>AVERAGE_SPEED</th>\n",
       "      <th>AVERAGE_SPEED_DIFF_Num</th>\n",
       "    </tr>\n",
       "  </thead>\n",
       "  <tbody>\n",
       "    <tr>\n",
       "      <th>0</th>\n",
       "      <td>Porto</td>\n",
       "      <td>2019-08-29 07:00:00</td>\n",
       "      <td>Medium</td>\n",
       "      <td>41.5</td>\n",
       "      <td>11.5</td>\n",
       "      <td>71.4</td>\n",
       "      <td>LIGHT</td>\n",
       "      <td>15.0</td>\n",
       "      <td>1019.0</td>\n",
       "      <td>100.0</td>\n",
       "      <td>3.0</td>\n",
       "      <td>0.0</td>\n",
       "      <td>nuvens quebradas</td>\n",
       "      <td>chuva fraca</td>\n",
       "      <td>2963.10</td>\n",
       "      <td>82.9</td>\n",
       "      <td>35.743064</td>\n",
       "      <td>5.756936</td>\n",
       "    </tr>\n",
       "    <tr>\n",
       "      <th>1</th>\n",
       "      <td>Porto</td>\n",
       "      <td>2018-08-10 14:00:00</td>\n",
       "      <td>High</td>\n",
       "      <td>41.7</td>\n",
       "      <td>48.3</td>\n",
       "      <td>87.4</td>\n",
       "      <td>LIGHT</td>\n",
       "      <td>21.0</td>\n",
       "      <td>1021.0</td>\n",
       "      <td>53.0</td>\n",
       "      <td>5.0</td>\n",
       "      <td>0.0</td>\n",
       "      <td>céu limpo</td>\n",
       "      <td>chuva fraca</td>\n",
       "      <td>3644.58</td>\n",
       "      <td>135.7</td>\n",
       "      <td>26.857627</td>\n",
       "      <td>14.842373</td>\n",
       "    </tr>\n",
       "    <tr>\n",
       "      <th>2</th>\n",
       "      <td>Porto</td>\n",
       "      <td>2019-09-01 16:00:00</td>\n",
       "      <td>High</td>\n",
       "      <td>38.6</td>\n",
       "      <td>38.4</td>\n",
       "      <td>85.2</td>\n",
       "      <td>LIGHT</td>\n",
       "      <td>26.0</td>\n",
       "      <td>1014.0</td>\n",
       "      <td>61.0</td>\n",
       "      <td>4.0</td>\n",
       "      <td>0.0</td>\n",
       "      <td>nuvens quebradas</td>\n",
       "      <td>chuva fraca</td>\n",
       "      <td>3288.72</td>\n",
       "      <td>123.6</td>\n",
       "      <td>26.607767</td>\n",
       "      <td>11.992233</td>\n",
       "    </tr>\n",
       "    <tr>\n",
       "      <th>3</th>\n",
       "      <td>Porto</td>\n",
       "      <td>2019-02-26 11:00:00</td>\n",
       "      <td>High</td>\n",
       "      <td>37.4</td>\n",
       "      <td>61.0</td>\n",
       "      <td>94.1</td>\n",
       "      <td>LIGHT</td>\n",
       "      <td>18.0</td>\n",
       "      <td>1025.0</td>\n",
       "      <td>48.0</td>\n",
       "      <td>4.0</td>\n",
       "      <td>0.0</td>\n",
       "      <td>céu limpo</td>\n",
       "      <td>chuva fraca</td>\n",
       "      <td>3519.34</td>\n",
       "      <td>155.1</td>\n",
       "      <td>22.690780</td>\n",
       "      <td>14.709220</td>\n",
       "    </tr>\n",
       "    <tr>\n",
       "      <th>4</th>\n",
       "      <td>Porto</td>\n",
       "      <td>2019-06-06 12:00:00</td>\n",
       "      <td>Medium</td>\n",
       "      <td>41.6</td>\n",
       "      <td>50.4</td>\n",
       "      <td>77.0</td>\n",
       "      <td>LIGHT</td>\n",
       "      <td>15.0</td>\n",
       "      <td>1008.0</td>\n",
       "      <td>82.0</td>\n",
       "      <td>10.0</td>\n",
       "      <td>0.0</td>\n",
       "      <td>nuvens quebradas</td>\n",
       "      <td>chuva fraca</td>\n",
       "      <td>3203.20</td>\n",
       "      <td>127.4</td>\n",
       "      <td>25.142857</td>\n",
       "      <td>16.457143</td>\n",
       "    </tr>\n",
       "  </tbody>\n",
       "</table>\n",
       "</div>"
      ],
      "text/plain": [
       "  city_name          record_date AVERAGE_SPEED_DIFF  AVERAGE_FREE_FLOW_SPEED  \\\n",
       "0     Porto  2019-08-29 07:00:00             Medium                     41.5   \n",
       "1     Porto  2018-08-10 14:00:00               High                     41.7   \n",
       "2     Porto  2019-09-01 16:00:00               High                     38.6   \n",
       "3     Porto  2019-02-26 11:00:00               High                     37.4   \n",
       "4     Porto  2019-06-06 12:00:00             Medium                     41.6   \n",
       "\n",
       "   AVERAGE_TIME_DIFF  AVERAGE_FREE_FLOW_TIME LUMINOSITY  AVERAGE_TEMPERATURE  \\\n",
       "0               11.5                    71.4      LIGHT                 15.0   \n",
       "1               48.3                    87.4      LIGHT                 21.0   \n",
       "2               38.4                    85.2      LIGHT                 26.0   \n",
       "3               61.0                    94.1      LIGHT                 18.0   \n",
       "4               50.4                    77.0      LIGHT                 15.0   \n",
       "\n",
       "   AVERAGE_ATMOSP_PRESSURE  AVERAGE_HUMIDITY  AVERAGE_WIND_SPEED  \\\n",
       "0                   1019.0             100.0                 3.0   \n",
       "1                   1021.0              53.0                 5.0   \n",
       "2                   1014.0              61.0                 4.0   \n",
       "3                   1025.0              48.0                 4.0   \n",
       "4                   1008.0              82.0                10.0   \n",
       "\n",
       "   AVERAGE_PRECIPITATION AVERAGE_CLOUDINESS AVERAGE_RAIN  \\\n",
       "0                    0.0   nuvens quebradas  chuva fraca   \n",
       "1                    0.0          céu limpo  chuva fraca   \n",
       "2                    0.0   nuvens quebradas  chuva fraca   \n",
       "3                    0.0          céu limpo  chuva fraca   \n",
       "4                    0.0   nuvens quebradas  chuva fraca   \n",
       "\n",
       "   AVERAGE_DISTANCE_FREE  AVERAGE_TIME  AVERAGE_SPEED  AVERAGE_SPEED_DIFF_Num  \n",
       "0                2963.10          82.9      35.743064                5.756936  \n",
       "1                3644.58         135.7      26.857627               14.842373  \n",
       "2                3288.72         123.6      26.607767               11.992233  \n",
       "3                3519.34         155.1      22.690780               14.709220  \n",
       "4                3203.20         127.4      25.142857               16.457143  "
      ]
     },
     "execution_count": 291,
     "metadata": {},
     "output_type": "execute_result"
    }
   ],
   "source": [
    "training.head()"
   ]
  },
  {
   "cell_type": "code",
   "execution_count": 292,
   "metadata": {},
   "outputs": [
    {
     "data": {
      "text/plain": [
       "None         2200\n",
       "Medium       1651\n",
       "Low          1419\n",
       "High         1063\n",
       "Very_High     479\n",
       "Name: AVERAGE_SPEED_DIFF, dtype: int64"
      ]
     },
     "execution_count": 292,
     "metadata": {},
     "output_type": "execute_result"
    }
   ],
   "source": [
    "training['AVERAGE_SPEED_DIFF'].value_counts()"
   ]
  },
  {
   "cell_type": "code",
   "execution_count": 293,
   "metadata": {},
   "outputs": [],
   "source": [
    "training['AVERAGE_SPEED_DIFF'] = training['AVERAGE_SPEED_DIFF'].astype('category')\n",
    "training['AVERAGE_RAIN'] = training['AVERAGE_RAIN'].astype('category')"
   ]
  },
  {
   "cell_type": "code",
   "execution_count": 294,
   "metadata": {},
   "outputs": [
    {
     "data": {
      "text/plain": [
       "Porto    6812\n",
       "Name: city_name, dtype: int64"
      ]
     },
     "execution_count": 294,
     "metadata": {},
     "output_type": "execute_result"
    }
   ],
   "source": [
    "training['city_name'].value_counts()"
   ]
  },
  {
   "cell_type": "code",
   "execution_count": 295,
   "metadata": {},
   "outputs": [
    {
     "data": {
      "text/plain": [
       "LIGHT        3293\n",
       "DARK         3253\n",
       "LOW_LIGHT     266\n",
       "Name: LUMINOSITY, dtype: int64"
      ]
     },
     "execution_count": 295,
     "metadata": {},
     "output_type": "execute_result"
    }
   ],
   "source": [
    "training['LUMINOSITY'].value_counts()"
   ]
  },
  {
   "cell_type": "code",
   "execution_count": 296,
   "metadata": {},
   "outputs": [
    {
     "data": {
      "text/plain": [
       "nuvens quebradas     4272\n",
       "céu limpo            1890\n",
       "céu pouco nublado     516\n",
       "nublado               134\n",
       "Name: AVERAGE_CLOUDINESS, dtype: int64"
      ]
     },
     "execution_count": 296,
     "metadata": {},
     "output_type": "execute_result"
    }
   ],
   "source": [
    "training['AVERAGE_CLOUDINESS'].value_counts()"
   ]
  },
  {
   "cell_type": "code",
   "execution_count": 297,
   "metadata": {},
   "outputs": [
    {
     "data": {
      "text/plain": [
       "chuva fraca          6500\n",
       "chuva moderada        160\n",
       "chuva leve             52\n",
       "aguaceiros fracos      38\n",
       "chuva                  33\n",
       "aguaceiros             16\n",
       "chuva forte            13\n",
       "Name: AVERAGE_RAIN, dtype: int64"
      ]
     },
     "execution_count": 297,
     "metadata": {},
     "output_type": "execute_result"
    }
   ],
   "source": [
    "training['AVERAGE_RAIN'].value_counts()"
   ]
  },
  {
   "cell_type": "code",
   "execution_count": 298,
   "metadata": {},
   "outputs": [
    {
     "data": {
      "text/html": [
       "<div>\n",
       "<style scoped>\n",
       "    .dataframe tbody tr th:only-of-type {\n",
       "        vertical-align: middle;\n",
       "    }\n",
       "\n",
       "    .dataframe tbody tr th {\n",
       "        vertical-align: top;\n",
       "    }\n",
       "\n",
       "    .dataframe thead th {\n",
       "        text-align: right;\n",
       "    }\n",
       "</style>\n",
       "<table border=\"1\" class=\"dataframe\">\n",
       "  <thead>\n",
       "    <tr style=\"text-align: right;\">\n",
       "      <th></th>\n",
       "      <th>AVERAGE_FREE_FLOW_SPEED</th>\n",
       "      <th>AVERAGE_TIME_DIFF</th>\n",
       "      <th>AVERAGE_FREE_FLOW_TIME</th>\n",
       "      <th>AVERAGE_TEMPERATURE</th>\n",
       "      <th>AVERAGE_ATMOSP_PRESSURE</th>\n",
       "      <th>AVERAGE_HUMIDITY</th>\n",
       "      <th>AVERAGE_WIND_SPEED</th>\n",
       "      <th>AVERAGE_PRECIPITATION</th>\n",
       "      <th>AVERAGE_DISTANCE_FREE</th>\n",
       "      <th>AVERAGE_TIME</th>\n",
       "      <th>AVERAGE_SPEED</th>\n",
       "      <th>AVERAGE_SPEED_DIFF_Num</th>\n",
       "    </tr>\n",
       "  </thead>\n",
       "  <tbody>\n",
       "    <tr>\n",
       "      <th>count</th>\n",
       "      <td>6812.000000</td>\n",
       "      <td>6812.000000</td>\n",
       "      <td>6812.000000</td>\n",
       "      <td>6812.000000</td>\n",
       "      <td>6812.000000</td>\n",
       "      <td>6812.000000</td>\n",
       "      <td>6812.000000</td>\n",
       "      <td>6812.0</td>\n",
       "      <td>6812.000000</td>\n",
       "      <td>6812.000000</td>\n",
       "      <td>6812.000000</td>\n",
       "      <td>6.812000e+03</td>\n",
       "    </tr>\n",
       "    <tr>\n",
       "      <th>mean</th>\n",
       "      <td>40.661010</td>\n",
       "      <td>25.637111</td>\n",
       "      <td>81.143952</td>\n",
       "      <td>16.193482</td>\n",
       "      <td>1017.388139</td>\n",
       "      <td>80.084190</td>\n",
       "      <td>3.058573</td>\n",
       "      <td>0.0</td>\n",
       "      <td>3291.883629</td>\n",
       "      <td>106.781063</td>\n",
       "      <td>33.242410</td>\n",
       "      <td>7.418600e+00</td>\n",
       "    </tr>\n",
       "    <tr>\n",
       "      <th>std</th>\n",
       "      <td>4.119023</td>\n",
       "      <td>33.510507</td>\n",
       "      <td>8.294401</td>\n",
       "      <td>5.163492</td>\n",
       "      <td>5.751061</td>\n",
       "      <td>18.238863</td>\n",
       "      <td>2.138421</td>\n",
       "      <td>0.0</td>\n",
       "      <td>413.668194</td>\n",
       "      <td>34.963319</td>\n",
       "      <td>8.696429</td>\n",
       "      <td>7.499522e+00</td>\n",
       "    </tr>\n",
       "    <tr>\n",
       "      <th>min</th>\n",
       "      <td>30.500000</td>\n",
       "      <td>0.000000</td>\n",
       "      <td>46.400000</td>\n",
       "      <td>0.000000</td>\n",
       "      <td>985.000000</td>\n",
       "      <td>14.000000</td>\n",
       "      <td>0.000000</td>\n",
       "      <td>0.0</td>\n",
       "      <td>1647.200000</td>\n",
       "      <td>48.100000</td>\n",
       "      <td>8.772108</td>\n",
       "      <td>-7.105427e-15</td>\n",
       "    </tr>\n",
       "    <tr>\n",
       "      <th>25%</th>\n",
       "      <td>37.600000</td>\n",
       "      <td>2.275000</td>\n",
       "      <td>75.400000</td>\n",
       "      <td>13.000000</td>\n",
       "      <td>1015.000000</td>\n",
       "      <td>69.750000</td>\n",
       "      <td>1.000000</td>\n",
       "      <td>0.0</td>\n",
       "      <td>3024.030000</td>\n",
       "      <td>84.000000</td>\n",
       "      <td>26.610483</td>\n",
       "      <td>1.163352e+00</td>\n",
       "    </tr>\n",
       "    <tr>\n",
       "      <th>50%</th>\n",
       "      <td>40.700000</td>\n",
       "      <td>12.200000</td>\n",
       "      <td>82.400000</td>\n",
       "      <td>16.000000</td>\n",
       "      <td>1017.000000</td>\n",
       "      <td>83.000000</td>\n",
       "      <td>3.000000</td>\n",
       "      <td>0.0</td>\n",
       "      <td>3342.710000</td>\n",
       "      <td>95.600000</td>\n",
       "      <td>33.951761</td>\n",
       "      <td>5.116578e+00</td>\n",
       "    </tr>\n",
       "    <tr>\n",
       "      <th>75%</th>\n",
       "      <td>43.500000</td>\n",
       "      <td>36.200000</td>\n",
       "      <td>87.400000</td>\n",
       "      <td>19.000000</td>\n",
       "      <td>1021.000000</td>\n",
       "      <td>93.000000</td>\n",
       "      <td>4.000000</td>\n",
       "      <td>0.0</td>\n",
       "      <td>3593.520000</td>\n",
       "      <td>121.300000</td>\n",
       "      <td>40.600000</td>\n",
       "      <td>1.157550e+01</td>\n",
       "    </tr>\n",
       "    <tr>\n",
       "      <th>max</th>\n",
       "      <td>55.900000</td>\n",
       "      <td>296.500000</td>\n",
       "      <td>112.000000</td>\n",
       "      <td>35.000000</td>\n",
       "      <td>1033.000000</td>\n",
       "      <td>100.000000</td>\n",
       "      <td>14.000000</td>\n",
       "      <td>0.0</td>\n",
       "      <td>4751.320000</td>\n",
       "      <td>369.900000</td>\n",
       "      <td>55.600000</td>\n",
       "      <td>3.799432e+01</td>\n",
       "    </tr>\n",
       "  </tbody>\n",
       "</table>\n",
       "</div>"
      ],
      "text/plain": [
       "       AVERAGE_FREE_FLOW_SPEED  AVERAGE_TIME_DIFF  AVERAGE_FREE_FLOW_TIME  \\\n",
       "count              6812.000000        6812.000000             6812.000000   \n",
       "mean                 40.661010          25.637111               81.143952   \n",
       "std                   4.119023          33.510507                8.294401   \n",
       "min                  30.500000           0.000000               46.400000   \n",
       "25%                  37.600000           2.275000               75.400000   \n",
       "50%                  40.700000          12.200000               82.400000   \n",
       "75%                  43.500000          36.200000               87.400000   \n",
       "max                  55.900000         296.500000              112.000000   \n",
       "\n",
       "       AVERAGE_TEMPERATURE  AVERAGE_ATMOSP_PRESSURE  AVERAGE_HUMIDITY  \\\n",
       "count          6812.000000              6812.000000       6812.000000   \n",
       "mean             16.193482              1017.388139         80.084190   \n",
       "std               5.163492                 5.751061         18.238863   \n",
       "min               0.000000               985.000000         14.000000   \n",
       "25%              13.000000              1015.000000         69.750000   \n",
       "50%              16.000000              1017.000000         83.000000   \n",
       "75%              19.000000              1021.000000         93.000000   \n",
       "max              35.000000              1033.000000        100.000000   \n",
       "\n",
       "       AVERAGE_WIND_SPEED  AVERAGE_PRECIPITATION  AVERAGE_DISTANCE_FREE  \\\n",
       "count         6812.000000                 6812.0            6812.000000   \n",
       "mean             3.058573                    0.0            3291.883629   \n",
       "std              2.138421                    0.0             413.668194   \n",
       "min              0.000000                    0.0            1647.200000   \n",
       "25%              1.000000                    0.0            3024.030000   \n",
       "50%              3.000000                    0.0            3342.710000   \n",
       "75%              4.000000                    0.0            3593.520000   \n",
       "max             14.000000                    0.0            4751.320000   \n",
       "\n",
       "       AVERAGE_TIME  AVERAGE_SPEED  AVERAGE_SPEED_DIFF_Num  \n",
       "count   6812.000000    6812.000000            6.812000e+03  \n",
       "mean     106.781063      33.242410            7.418600e+00  \n",
       "std       34.963319       8.696429            7.499522e+00  \n",
       "min       48.100000       8.772108           -7.105427e-15  \n",
       "25%       84.000000      26.610483            1.163352e+00  \n",
       "50%       95.600000      33.951761            5.116578e+00  \n",
       "75%      121.300000      40.600000            1.157550e+01  \n",
       "max      369.900000      55.600000            3.799432e+01  "
      ]
     },
     "execution_count": 298,
     "metadata": {},
     "output_type": "execute_result"
    }
   ],
   "source": [
    "training.describe()"
   ]
  },
  {
   "cell_type": "code",
   "execution_count": 299,
   "metadata": {},
   "outputs": [],
   "source": [
    "trainingWork = training.copy()"
   ]
  },
  {
   "cell_type": "code",
   "execution_count": 300,
   "metadata": {},
   "outputs": [],
   "source": [
    "trainingWork['record_date'] = pd.to_datetime(trainingWork['record_date'])\n",
    "\n",
    "trainingWork['weekday'] = trainingWork['record_date'].dt.dayofweek\n",
    "trainingWork['hour'] = trainingWork['record_date'].dt.hour\n",
    "trainingWork['month'] = trainingWork['record_date'].dt.month\n",
    "trainingWork['year'] = trainingWork['record_date'].dt.year\n",
    "trainingWork['day'] = trainingWork['record_date'].dt.day"
   ]
  },
  {
   "cell_type": "code",
   "execution_count": 301,
   "metadata": {},
   "outputs": [],
   "source": [
    "def applyer(row):\n",
    "    if row == 5 or row == 6:\n",
    "        return 1\n",
    "    else:\n",
    "        return 0 \n",
    "temp2 = trainingWork['weekday'].apply(applyer) \n",
    "trainingWork['weekend']=temp2"
   ]
  },
  {
   "cell_type": "code",
   "execution_count": 302,
   "metadata": {},
   "outputs": [],
   "source": [
    "#trainingWork = trainingWork.drop(['city_name','record_date','AVERAGE_PRECIPITATION'],axis=1)"
   ]
  },
  {
   "cell_type": "code",
   "execution_count": 303,
   "metadata": {},
   "outputs": [],
   "source": [
    "#sns.pairplot(trainingWork)"
   ]
  },
  {
   "cell_type": "markdown",
   "metadata": {},
   "source": [
    "Prediction Target:\n",
    "\n",
    " 2   AVERAGE_SPEED_DIFF       6812 non-null   object \n",
    "\n",
    "Possibilities:\n",
    "\n",
    "None         2200\n",
    "Medium       1651\n",
    "Low          1419\n",
    "High         1063\n",
    "Very_High     479\n",
    " \n",
    "\n",
    "Features:\n",
    "\n",
    " 0   city_name                6812 non-null   object \n",
    " \n",
    " 1   record_date              6812 non-null   object ----> All the same value 'Porto' -> Remove\n",
    "\n",
    " 3   AVERAGE_FREE_FLOW_SPEED  6812 non-null   float64\n",
    " 4   AVERAGE_TIME_DIFF        6812 non-null   float64\n",
    " 5   AVERAGE_FREE_FLOW_TIME   6812 non-null   float64\n",
    "\n",
    "\n",
    " 6   LUMINOSITY               6812 non-null   object ----> categorical\n",
    "LIGHT        3293\n",
    "DARK         3253\n",
    "LOW_LIGHT     266\n",
    "\n",
    "\n",
    " 7   AVERAGE_TEMPERATURE      6812 non-null   float64\n",
    " 8   AVERAGE_ATMOSP_PRESSURE  6812 non-null   float64\n",
    " 9   AVERAGE_HUMIDITY         6812 non-null   float64\n",
    " 10  AVERAGE_WIND_SPEED       6812 non-null   float64\n",
    "\n",
    " 11  AVERAGE_CLOUDINESS       4130 non-null   object\n",
    "céu claro            1582\n",
    "céu pouco nublado     516\n",
    "nuvens dispersas      459\n",
    "nuvens quebrados      448\n",
    "algumas nuvens        422\n",
    "nuvens quebradas      416\n",
    "céu limpo             153\n",
    "tempo nublado          67\n",
    "nublado                67\n",
    "\n",
    "Missing data -> 39.4% ---> Mode? Removal? over/under Fitting?\n",
    "\n",
    " \n",
    " 12  AVERAGE_PRECIPITATION    6812 non-null   float64 --> All same values -> Remove\n",
    " \n",
    " 13  AVERAGE_RAIN             563 non-null    object \n",
    "chuva fraca                    261\n",
    "chuva moderada                 153\n",
    "chuva leve                      45\n",
    "aguaceiros fracos               38\n",
    "chuva                           30\n",
    "aguaceiros                      11\n",
    "chuva forte                      8\n",
    "trovoada com chuva leve          7\n",
    "chuvisco fraco                   5\n",
    "chuva de intensidade pesado      2\n",
    "chuva de intensidade pesada      1\n",
    "trovoada com chuva               1\n",
    "chuvisco e chuva fraca           1\n",
    "\n",
    "Missing data -> 91.7% ----> Removal"
   ]
  },
  {
   "cell_type": "code",
   "execution_count": 304,
   "metadata": {},
   "outputs": [
    {
     "data": {
      "text/plain": [
       "2396    2\n",
       "6185    2\n",
       "2072    2\n",
       "2078    2\n",
       "4049    2\n",
       "       ..\n",
       "4105    0\n",
       "4106    0\n",
       "4107    0\n",
       "4109    0\n",
       "6811    0\n",
       "Name: LUMINOSITY, Length: 6812, dtype: int8"
      ]
     },
     "execution_count": 304,
     "metadata": {},
     "output_type": "execute_result"
    }
   ],
   "source": [
    "corr = trainingWork.copy()\n",
    "\n",
    "corr['AVERAGE_RAIN']=corr['AVERAGE_RAIN'].astype('category').cat.codes\n",
    "corr['AVERAGE_RAIN'].sort_values(ascending=False)\n",
    "\n",
    "corr['AVERAGE_CLOUDINESS']=corr['AVERAGE_CLOUDINESS'].astype('category').cat.codes\n",
    "corr['AVERAGE_CLOUDINESS'].sort_values(ascending=False)\n",
    "\n",
    "corr['AVERAGE_SPEED_DIFF']=corr['AVERAGE_SPEED_DIFF'].astype('category').cat.codes\n",
    "corr['AVERAGE_SPEED_DIFF'].sort_values(ascending=False)\n",
    "\n",
    "corr['LUMINOSITY']=corr['LUMINOSITY'].astype('category').cat.codes\n",
    "corr['LUMINOSITY'].sort_values(ascending=False)\n",
    "\n"
   ]
  },
  {
   "cell_type": "code",
   "execution_count": 305,
   "metadata": {},
   "outputs": [
    {
     "data": {
      "text/plain": [
       "<AxesSubplot:>"
      ]
     },
     "execution_count": 305,
     "metadata": {},
     "output_type": "execute_result"
    },
    {
     "data": {
      "image/png": "[encoded data removed]",
      "text/plain": [
       "<Figure size 1080x1080 with 2 Axes>"
      ]
     },
     "metadata": {
      "needs_background": "light"
     },
     "output_type": "display_data"
    }
   ],
   "source": [
    "fig, ax = plt.subplots(figsize=(15,15))\n",
    "sns.heatmap(corr.corr())"
   ]
  },
  {
   "cell_type": "code",
   "execution_count": 306,
   "metadata": {},
   "outputs": [],
   "source": [
    "#trainingWork['AVERAGE_WIND_SPEED'] = np.log(trainingWork.AVERAGE_WIND_SPEED+1)\n",
    "#trainingWork['AVERAGE_TIME_DIFF'] = np.log(trainingWork.AVERAGE_TIME_DIFF+1)\n"
   ]
  },
  {
   "cell_type": "markdown",
   "metadata": {},
   "source": [
    "Numerical values:  \n",
    "\n",
    "AVERAGE_FREE_FLOW_SPEED  6812 non-null   float64  \n",
    "AVERAGE_TIME_DIFF        6812 non-null   float64  \n",
    "AVERAGE_FREE_FLOW_TIME   6812 non-null   float64  \n",
    "AVERAGE_TEMPERATURE      6812 non-null   float64  \n",
    "AVERAGE_ATMOSP_PRESSURE  6812 non-null   float64  \n",
    "AVERAGE_HUMIDITY         6812 non-null   float64  \n",
    "AVERAGE_WIND_SPEED       6812 non-null   float64  \n",
    "AVERAGE_PRECIPITATION    6812 non-null   float64  \n",
    "weekday                  6812 non-null   int64    \n",
    "hour                     6812 non-null   int64    \n",
    "month                    6812 non-null   int64    \n",
    "\n",
    "Categorical Values  \n",
    "city_name                6812 non-null   object  \n",
    "record_date              6812 non-null   object  \n",
    "AVERAGE_SPEED_DIFF       6812 non-null   object   \n",
    "LUMINOSITY               6812 non-null   object   \n",
    "AVERAGE_CLOUDINESS       4130 non-null   object   \n",
    "AVERAGE_RAIN             563 non-null    object   "
   ]
  },
  {
   "cell_type": "code",
   "execution_count": 307,
   "metadata": {},
   "outputs": [
    {
     "name": "stdout",
     "output_type": "stream",
     "text": [
      "<class 'pandas.core.frame.DataFrame'>\n",
      "RangeIndex: 6812 entries, 0 to 6811\n",
      "Data columns (total 24 columns):\n",
      " #   Column                   Non-Null Count  Dtype         \n",
      "---  ------                   --------------  -----         \n",
      " 0   city_name                6812 non-null   object        \n",
      " 1   record_date              6812 non-null   datetime64[ns]\n",
      " 2   AVERAGE_SPEED_DIFF       6812 non-null   category      \n",
      " 3   AVERAGE_FREE_FLOW_SPEED  6812 non-null   float64       \n",
      " 4   AVERAGE_TIME_DIFF        6812 non-null   float64       \n",
      " 5   AVERAGE_FREE_FLOW_TIME   6812 non-null   float64       \n",
      " 6   LUMINOSITY               6812 non-null   object        \n",
      " 7   AVERAGE_TEMPERATURE      6812 non-null   float64       \n",
      " 8   AVERAGE_ATMOSP_PRESSURE  6812 non-null   float64       \n",
      " 9   AVERAGE_HUMIDITY         6812 non-null   float64       \n",
      " 10  AVERAGE_WIND_SPEED       6812 non-null   float64       \n",
      " 11  AVERAGE_PRECIPITATION    6812 non-null   float64       \n",
      " 12  AVERAGE_CLOUDINESS       6812 non-null   object        \n",
      " 13  AVERAGE_RAIN             6812 non-null   category      \n",
      " 14  AVERAGE_DISTANCE_FREE    6812 non-null   float64       \n",
      " 15  AVERAGE_TIME             6812 non-null   float64       \n",
      " 16  AVERAGE_SPEED            6812 non-null   float64       \n",
      " 17  AVERAGE_SPEED_DIFF_Num   6812 non-null   float64       \n",
      " 18  weekday                  6812 non-null   int64         \n",
      " 19  hour                     6812 non-null   int64         \n",
      " 20  month                    6812 non-null   int64         \n",
      " 21  year                     6812 non-null   int64         \n",
      " 22  day                      6812 non-null   int64         \n",
      " 23  weekend                  6812 non-null   int64         \n",
      "dtypes: category(2), datetime64[ns](1), float64(12), int64(6), object(3)\n",
      "memory usage: 1.2+ MB\n"
     ]
    }
   ],
   "source": [
    "trainingWork.info()"
   ]
  },
  {
   "cell_type": "code",
   "execution_count": 308,
   "metadata": {},
   "outputs": [],
   "source": [
    "df_num = trainingWork[['AVERAGE_FREE_FLOW_SPEED','AVERAGE_TIME_DIFF','AVERAGE_FREE_FLOW_TIME','AVERAGE_TEMPERATURE','AVERAGE_ATMOSP_PRESSURE','AVERAGE_HUMIDITY','AVERAGE_WIND_SPEED','AVERAGE_PRECIPITATION','weekday','hour','month','year','AVERAGE_DISTANCE_FREE','AVERAGE_TIME','AVERAGE_SPEED','AVERAGE_SPEED_DIFF_Num']]\n",
    "\n",
    "df_cat = trainingWork[['AVERAGE_SPEED_DIFF','LUMINOSITY','AVERAGE_CLOUDINESS','AVERAGE_RAIN']]"
   ]
  },
  {
   "cell_type": "code",
   "execution_count": 309,
   "metadata": {},
   "outputs": [
    {
     "data": {
      "image/png": "[encoded data removed]",
      "text/plain": [
       "<Figure size 432x288 with 1 Axes>"
      ]
     },
     "metadata": {
      "needs_background": "light"
     },
     "output_type": "display_data"
    },
    {
     "data": {
      "image/png": "[encoded data removed]",
      "text/plain": [
       "<Figure size 432x288 with 1 Axes>"
      ]
     },
     "metadata": {
      "needs_background": "light"
     },
     "output_type": "display_data"
    },
    {
     "data": {
      "image/png": "[encoded data removed]",
      "text/plain": [
       "<Figure size 432x288 with 1 Axes>"
      ]
     },
     "metadata": {
      "needs_background": "light"
     },
     "output_type": "display_data"
    },
    {
     "data": {
      "image/png": "[encoded data removed]",
      "text/plain": [
       "<Figure size 432x288 with 1 Axes>"
      ]
     },
     "metadata": {
      "needs_background": "light"
     },
     "output_type": "display_data"
    },
    {
     "data": {
      "image/png": "[encoded data removed]",
      "text/plain": [
       "<Figure size 432x288 with 1 Axes>"
      ]
     },
     "metadata": {
      "needs_background": "light"
     },
     "output_type": "display_data"
    },
    {
     "data": {
      "image/png": "[encoded data removed]",
      "text/plain": [
       "<Figure size 432x288 with 1 Axes>"
      ]
     },
     "metadata": {
      "needs_background": "light"
     },
     "output_type": "display_data"
    },
    {
     "data": {
      "image/png": "[encoded data removed]",
      "text/plain": [
       "<Figure size 432x288 with 1 Axes>"
      ]
     },
     "metadata": {
      "needs_background": "light"
     },
     "output_type": "display_data"
    },
    {
     "data": {
      "image/png": "[encoded data removed]",
      "text/plain": [
       "<Figure size 432x288 with 1 Axes>"
      ]
     },
     "metadata": {
      "needs_background": "light"
     },
     "output_type": "display_data"
    },
    {
     "data": {
      "image/png": "[encoded data removed]",
      "text/plain": [
       "<Figure size 432x288 with 1 Axes>"
      ]
     },
     "metadata": {
      "needs_background": "light"
     },
     "output_type": "display_data"
    },
    {
     "data": {
      "image/png": "[encoded data removed]",
      "text/plain": [
       "<Figure size 432x288 with 1 Axes>"
      ]
     },
     "metadata": {
      "needs_background": "light"
     },
     "output_type": "display_data"
    },
    {
     "data": {
      "image/png": "[encoded data removed]",
      "text/plain": [
       "<Figure size 432x288 with 1 Axes>"
      ]
     },
     "metadata": {
      "needs_background": "light"
     },
     "output_type": "display_data"
    },
    {
     "data": {
      "image/png": "[encoded data removed]",
      "text/plain": [
       "<Figure size 432x288 with 1 Axes>"
      ]
     },
     "metadata": {
      "needs_background": "light"
     },
     "output_type": "display_data"
    },
    {
     "data": {
      "image/png": "[encoded data removed]",
      "text/plain": [
       "<Figure size 432x288 with 1 Axes>"
      ]
     },
     "metadata": {
      "needs_background": "light"
     },
     "output_type": "display_data"
    },
    {
     "data": {
      "image/png": "[encoded data removed]",
      "text/plain": [
       "<Figure size 432x288 with 1 Axes>"
      ]
     },
     "metadata": {
      "needs_background": "light"
     },
     "output_type": "display_data"
    },
    {
     "data": {
      "image/png": "[encoded data removed]",
      "text/plain": [
       "<Figure size 432x288 with 1 Axes>"
      ]
     },
     "metadata": {
      "needs_background": "light"
     },
     "output_type": "display_data"
    },
    {
     "data": {
      "image/png": "[encoded data removed]",
      "text/plain": [
       "<Figure size 432x288 with 1 Axes>"
      ]
     },
     "metadata": {
      "needs_background": "light"
     },
     "output_type": "display_data"
    }
   ],
   "source": [
    "for i in df_num.columns:\n",
    "    plt.hist(df_num[i])\n",
    "    plt.title(i)\n",
    "    plt.show()"
   ]
  },
  {
   "cell_type": "code",
   "execution_count": 310,
   "metadata": {},
   "outputs": [
    {
     "name": "stdout",
     "output_type": "stream",
     "text": [
      "                         AVERAGE_FREE_FLOW_SPEED  AVERAGE_TIME_DIFF  \\\n",
      "AVERAGE_FREE_FLOW_SPEED                 1.000000          -0.083653   \n",
      "AVERAGE_TIME_DIFF                      -0.083653           1.000000   \n",
      "AVERAGE_FREE_FLOW_TIME                 -0.219890           0.055194   \n",
      "AVERAGE_TEMPERATURE                    -0.192325           0.205935   \n",
      "AVERAGE_ATMOSP_PRESSURE                -0.093648           0.006243   \n",
      "AVERAGE_HUMIDITY                        0.191598          -0.173598   \n",
      "AVERAGE_WIND_SPEED                     -0.092909           0.169855   \n",
      "AVERAGE_PRECIPITATION                        NaN                NaN   \n",
      "weekday                                -0.087912          -0.085474   \n",
      "hour                                   -0.247337           0.207378   \n",
      "month                                   0.200550           0.010306   \n",
      "year                                   -0.164433           0.074928   \n",
      "AVERAGE_DISTANCE_FREE                   0.621077          -0.034005   \n",
      "AVERAGE_TIME                           -0.132341           0.971541   \n",
      "AVERAGE_SPEED                           0.507407          -0.856565   \n",
      "AVERAGE_SPEED_DIFF_Num                 -0.039149           0.947325   \n",
      "\n",
      "                         AVERAGE_FREE_FLOW_TIME  AVERAGE_TEMPERATURE  \\\n",
      "AVERAGE_FREE_FLOW_SPEED               -0.219890            -0.192325   \n",
      "AVERAGE_TIME_DIFF                      0.055194             0.205935   \n",
      "AVERAGE_FREE_FLOW_TIME                 1.000000             0.190404   \n",
      "AVERAGE_TEMPERATURE                    0.190404             1.000000   \n",
      "AVERAGE_ATMOSP_PRESSURE                0.126699            -0.104469   \n",
      "AVERAGE_HUMIDITY                      -0.128376            -0.512383   \n",
      "AVERAGE_WIND_SPEED                    -0.025516             0.131784   \n",
      "AVERAGE_PRECIPITATION                       NaN                  NaN   \n",
      "weekday                                0.039581             0.026338   \n",
      "hour                                   0.101755             0.275625   \n",
      "month                                  0.065347             0.262218   \n",
      "year                                  -0.274166            -0.039407   \n",
      "AVERAGE_DISTANCE_FREE                  0.623303             0.001542   \n",
      "AVERAGE_TIME                           0.290132             0.242547   \n",
      "AVERAGE_SPEED                         -0.113576            -0.302103   \n",
      "AVERAGE_SPEED_DIFF_Num                 0.010931             0.244686   \n",
      "\n",
      "                         AVERAGE_ATMOSP_PRESSURE  AVERAGE_HUMIDITY  \\\n",
      "AVERAGE_FREE_FLOW_SPEED                -0.093648          0.191598   \n",
      "AVERAGE_TIME_DIFF                       0.006243         -0.173598   \n",
      "AVERAGE_FREE_FLOW_TIME                  0.126699         -0.128376   \n",
      "AVERAGE_TEMPERATURE                    -0.104469         -0.512383   \n",
      "AVERAGE_ATMOSP_PRESSURE                 1.000000         -0.067071   \n",
      "AVERAGE_HUMIDITY                       -0.067071          1.000000   \n",
      "AVERAGE_WIND_SPEED                     -0.162612         -0.248708   \n",
      "AVERAGE_PRECIPITATION                        NaN               NaN   \n",
      "weekday                                 0.070422         -0.014953   \n",
      "hour                                   -0.004713         -0.191897   \n",
      "month                                  -0.172739          0.015225   \n",
      "year                                    0.117785          0.027881   \n",
      "AVERAGE_DISTANCE_FREE                   0.021142          0.054190   \n",
      "AVERAGE_TIME                            0.036041         -0.196840   \n",
      "AVERAGE_SPEED                          -0.035572          0.264816   \n",
      "AVERAGE_SPEED_DIFF_Num                 -0.010186         -0.201847   \n",
      "\n",
      "                         AVERAGE_WIND_SPEED  AVERAGE_PRECIPITATION   weekday  \\\n",
      "AVERAGE_FREE_FLOW_SPEED           -0.092909                    NaN -0.087912   \n",
      "AVERAGE_TIME_DIFF                  0.169855                    NaN -0.085474   \n",
      "AVERAGE_FREE_FLOW_TIME            -0.025516                    NaN  0.039581   \n",
      "AVERAGE_TEMPERATURE                0.131784                    NaN  0.026338   \n",
      "AVERAGE_ATMOSP_PRESSURE           -0.162612                    NaN  0.070422   \n",
      "AVERAGE_HUMIDITY                  -0.248708                    NaN -0.014953   \n",
      "AVERAGE_WIND_SPEED                 1.000000                    NaN  0.011750   \n",
      "AVERAGE_PRECIPITATION                   NaN                    NaN       NaN   \n",
      "weekday                            0.011750                    NaN  1.000000   \n",
      "hour                               0.118298                    NaN  0.002239   \n",
      "month                             -0.049090                    NaN -0.018579   \n",
      "year                               0.098460                    NaN  0.011121   \n",
      "AVERAGE_DISTANCE_FREE             -0.099466                    NaN -0.035811   \n",
      "AVERAGE_TIME                       0.156744                    NaN -0.072532   \n",
      "AVERAGE_SPEED                     -0.210521                    NaN  0.053097   \n",
      "AVERAGE_SPEED_DIFF_Num             0.193091                    NaN -0.109855   \n",
      "\n",
      "                             hour     month      year  AVERAGE_DISTANCE_FREE  \\\n",
      "AVERAGE_FREE_FLOW_SPEED -0.247337  0.200550 -0.164433               0.621077   \n",
      "AVERAGE_TIME_DIFF        0.207378  0.010306  0.074928              -0.034005   \n",
      "AVERAGE_FREE_FLOW_TIME   0.101755  0.065347 -0.274166               0.623303   \n",
      "AVERAGE_TEMPERATURE      0.275625  0.262218 -0.039407               0.001542   \n",
      "AVERAGE_ATMOSP_PRESSURE -0.004713 -0.172739  0.117785               0.021142   \n",
      "AVERAGE_HUMIDITY        -0.191897  0.015225  0.027881               0.054190   \n",
      "AVERAGE_WIND_SPEED       0.118298 -0.049090  0.098460              -0.099466   \n",
      "AVERAGE_PRECIPITATION         NaN       NaN       NaN                    NaN   \n",
      "weekday                  0.002239 -0.018579  0.011121              -0.035811   \n",
      "hour                     1.000000  0.001486 -0.001815              -0.119989   \n",
      "month                    0.001486  1.000000 -0.686564               0.224558   \n",
      "year                    -0.001815 -0.686564  1.000000              -0.363354   \n",
      "AVERAGE_DISTANCE_FREE   -0.119989  0.224558 -0.363354               1.000000   \n",
      "AVERAGE_TIME             0.222900  0.025380  0.006773               0.115275   \n",
      "AVERAGE_SPEED           -0.332510  0.074563 -0.142333               0.323564   \n",
      "AVERAGE_SPEED_DIFF_Num   0.249731  0.023686  0.074736              -0.034085   \n",
      "\n",
      "                         AVERAGE_TIME  AVERAGE_SPEED  AVERAGE_SPEED_DIFF_Num  \n",
      "AVERAGE_FREE_FLOW_SPEED     -0.132341       0.507407               -0.039149  \n",
      "AVERAGE_TIME_DIFF            0.971541      -0.856565                0.947325  \n",
      "AVERAGE_FREE_FLOW_TIME       0.290132      -0.113576                0.010931  \n",
      "AVERAGE_TEMPERATURE          0.242547      -0.302103                0.244686  \n",
      "AVERAGE_ATMOSP_PRESSURE      0.036041      -0.035572               -0.010186  \n",
      "AVERAGE_HUMIDITY            -0.196840       0.264816               -0.201847  \n",
      "AVERAGE_WIND_SPEED           0.156744      -0.210521                0.193091  \n",
      "AVERAGE_PRECIPITATION             NaN            NaN                     NaN  \n",
      "weekday                     -0.072532       0.053097               -0.109855  \n",
      "hour                         0.222900      -0.332510                0.249731  \n",
      "month                        0.025380       0.074563                0.023686  \n",
      "year                         0.006773      -0.142333                0.074736  \n",
      "AVERAGE_DISTANCE_FREE        0.115275       0.323564               -0.034085  \n",
      "AVERAGE_TIME                 1.000000      -0.847916                0.910555  \n",
      "AVERAGE_SPEED               -0.847916       1.000000               -0.880911  \n",
      "AVERAGE_SPEED_DIFF_Num       0.910555      -0.880911                1.000000  \n"
     ]
    },
    {
     "data": {
      "text/plain": [
       "<AxesSubplot:>"
      ]
     },
     "execution_count": 310,
     "metadata": {},
     "output_type": "execute_result"
    },
    {
     "data": {
      "image/png": "[encoded data removed]",
      "text/plain": [
       "<Figure size 432x288 with 2 Axes>"
      ]
     },
     "metadata": {
      "needs_background": "light"
     },
     "output_type": "display_data"
    }
   ],
   "source": [
    "print(df_num.corr())\n",
    "sns.heatmap(df_num.corr())"
   ]
  },
  {
   "cell_type": "code",
   "execution_count": 311,
   "metadata": {},
   "outputs": [
    {
     "data": {
      "text/html": [
       "<div>\n",
       "<style scoped>\n",
       "    .dataframe tbody tr th:only-of-type {\n",
       "        vertical-align: middle;\n",
       "    }\n",
       "\n",
       "    .dataframe tbody tr th {\n",
       "        vertical-align: top;\n",
       "    }\n",
       "\n",
       "    .dataframe thead th {\n",
       "        text-align: right;\n",
       "    }\n",
       "</style>\n",
       "<table border=\"1\" class=\"dataframe\">\n",
       "  <thead>\n",
       "    <tr style=\"text-align: right;\">\n",
       "      <th></th>\n",
       "      <th>AVERAGE_ATMOSP_PRESSURE</th>\n",
       "      <th>AVERAGE_DISTANCE_FREE</th>\n",
       "      <th>AVERAGE_FREE_FLOW_SPEED</th>\n",
       "      <th>AVERAGE_FREE_FLOW_TIME</th>\n",
       "      <th>AVERAGE_HUMIDITY</th>\n",
       "      <th>AVERAGE_PRECIPITATION</th>\n",
       "      <th>AVERAGE_SPEED</th>\n",
       "      <th>AVERAGE_SPEED_DIFF_Num</th>\n",
       "      <th>AVERAGE_TEMPERATURE</th>\n",
       "      <th>AVERAGE_TIME</th>\n",
       "      <th>AVERAGE_TIME_DIFF</th>\n",
       "      <th>AVERAGE_WIND_SPEED</th>\n",
       "      <th>hour</th>\n",
       "      <th>month</th>\n",
       "      <th>weekday</th>\n",
       "      <th>year</th>\n",
       "    </tr>\n",
       "    <tr>\n",
       "      <th>AVERAGE_SPEED_DIFF</th>\n",
       "      <th></th>\n",
       "      <th></th>\n",
       "      <th></th>\n",
       "      <th></th>\n",
       "      <th></th>\n",
       "      <th></th>\n",
       "      <th></th>\n",
       "      <th></th>\n",
       "      <th></th>\n",
       "      <th></th>\n",
       "      <th></th>\n",
       "      <th></th>\n",
       "      <th></th>\n",
       "      <th></th>\n",
       "      <th></th>\n",
       "      <th></th>\n",
       "    </tr>\n",
       "  </thead>\n",
       "  <tbody>\n",
       "    <tr>\n",
       "      <th>High</th>\n",
       "      <td>1017.357479</td>\n",
       "      <td>3255.291552</td>\n",
       "      <td>39.588147</td>\n",
       "      <td>82.376952</td>\n",
       "      <td>73.802916</td>\n",
       "      <td>0.0</td>\n",
       "      <td>23.413224</td>\n",
       "      <td>16.174922</td>\n",
       "      <td>18.632173</td>\n",
       "      <td>146.178457</td>\n",
       "      <td>63.801505</td>\n",
       "      <td>3.817498</td>\n",
       "      <td>14.806209</td>\n",
       "      <td>7.038570</td>\n",
       "      <td>2.713076</td>\n",
       "      <td>2018.665099</td>\n",
       "    </tr>\n",
       "    <tr>\n",
       "      <th>Low</th>\n",
       "      <td>1017.498238</td>\n",
       "      <td>3261.511156</td>\n",
       "      <td>40.480479</td>\n",
       "      <td>80.716561</td>\n",
       "      <td>81.341790</td>\n",
       "      <td>0.0</td>\n",
       "      <td>36.545859</td>\n",
       "      <td>3.934620</td>\n",
       "      <td>16.227625</td>\n",
       "      <td>90.021705</td>\n",
       "      <td>9.305144</td>\n",
       "      <td>2.998591</td>\n",
       "      <td>11.643411</td>\n",
       "      <td>7.096547</td>\n",
       "      <td>3.418605</td>\n",
       "      <td>2018.618746</td>\n",
       "    </tr>\n",
       "    <tr>\n",
       "      <th>Medium</th>\n",
       "      <td>1017.431254</td>\n",
       "      <td>3222.723998</td>\n",
       "      <td>38.831617</td>\n",
       "      <td>83.270139</td>\n",
       "      <td>74.528770</td>\n",
       "      <td>0.0</td>\n",
       "      <td>30.006639</td>\n",
       "      <td>8.824979</td>\n",
       "      <td>17.992732</td>\n",
       "      <td>109.924833</td>\n",
       "      <td>26.654694</td>\n",
       "      <td>3.407632</td>\n",
       "      <td>13.711084</td>\n",
       "      <td>7.057541</td>\n",
       "      <td>2.943065</td>\n",
       "      <td>2018.614173</td>\n",
       "    </tr>\n",
       "    <tr>\n",
       "      <th>None</th>\n",
       "      <td>1017.417273</td>\n",
       "      <td>3359.646986</td>\n",
       "      <td>41.874818</td>\n",
       "      <td>80.205182</td>\n",
       "      <td>86.367273</td>\n",
       "      <td>0.0</td>\n",
       "      <td>41.120961</td>\n",
       "      <td>0.753857</td>\n",
       "      <td>13.888182</td>\n",
       "      <td>81.798727</td>\n",
       "      <td>1.593545</td>\n",
       "      <td>2.422727</td>\n",
       "      <td>8.310909</td>\n",
       "      <td>7.120000</td>\n",
       "      <td>3.155455</td>\n",
       "      <td>2018.537727</td>\n",
       "    </tr>\n",
       "    <tr>\n",
       "      <th>Very_High</th>\n",
       "      <td>1016.847599</td>\n",
       "      <td>3390.211566</td>\n",
       "      <td>44.307307</td>\n",
       "      <td>76.656994</td>\n",
       "      <td>80.588727</td>\n",
       "      <td>0.0</td>\n",
       "      <td>20.236719</td>\n",
       "      <td>24.070588</td>\n",
       "      <td>15.066806</td>\n",
       "      <td>172.903967</td>\n",
       "      <td>96.246973</td>\n",
       "      <td>3.269311</td>\n",
       "      <td>11.254697</td>\n",
       "      <td>7.144050</td>\n",
       "      <td>2.200418</td>\n",
       "      <td>2018.638831</td>\n",
       "    </tr>\n",
       "  </tbody>\n",
       "</table>\n",
       "</div>"
      ],
      "text/plain": [
       "                    AVERAGE_ATMOSP_PRESSURE  AVERAGE_DISTANCE_FREE  \\\n",
       "AVERAGE_SPEED_DIFF                                                   \n",
       "High                            1017.357479            3255.291552   \n",
       "Low                             1017.498238            3261.511156   \n",
       "Medium                          1017.431254            3222.723998   \n",
       "None                            1017.417273            3359.646986   \n",
       "Very_High                       1016.847599            3390.211566   \n",
       "\n",
       "                    AVERAGE_FREE_FLOW_SPEED  AVERAGE_FREE_FLOW_TIME  \\\n",
       "AVERAGE_SPEED_DIFF                                                    \n",
       "High                              39.588147               82.376952   \n",
       "Low                               40.480479               80.716561   \n",
       "Medium                            38.831617               83.270139   \n",
       "None                              41.874818               80.205182   \n",
       "Very_High                         44.307307               76.656994   \n",
       "\n",
       "                    AVERAGE_HUMIDITY  AVERAGE_PRECIPITATION  AVERAGE_SPEED  \\\n",
       "AVERAGE_SPEED_DIFF                                                           \n",
       "High                       73.802916                    0.0      23.413224   \n",
       "Low                        81.341790                    0.0      36.545859   \n",
       "Medium                     74.528770                    0.0      30.006639   \n",
       "None                       86.367273                    0.0      41.120961   \n",
       "Very_High                  80.588727                    0.0      20.236719   \n",
       "\n",
       "                    AVERAGE_SPEED_DIFF_Num  AVERAGE_TEMPERATURE  AVERAGE_TIME  \\\n",
       "AVERAGE_SPEED_DIFF                                                              \n",
       "High                             16.174922            18.632173    146.178457   \n",
       "Low                               3.934620            16.227625     90.021705   \n",
       "Medium                            8.824979            17.992732    109.924833   \n",
       "None                              0.753857            13.888182     81.798727   \n",
       "Very_High                        24.070588            15.066806    172.903967   \n",
       "\n",
       "                    AVERAGE_TIME_DIFF  AVERAGE_WIND_SPEED       hour  \\\n",
       "AVERAGE_SPEED_DIFF                                                     \n",
       "High                        63.801505            3.817498  14.806209   \n",
       "Low                          9.305144            2.998591  11.643411   \n",
       "Medium                      26.654694            3.407632  13.711084   \n",
       "None                         1.593545            2.422727   8.310909   \n",
       "Very_High                   96.246973            3.269311  11.254697   \n",
       "\n",
       "                       month   weekday         year  \n",
       "AVERAGE_SPEED_DIFF                                   \n",
       "High                7.038570  2.713076  2018.665099  \n",
       "Low                 7.096547  3.418605  2018.618746  \n",
       "Medium              7.057541  2.943065  2018.614173  \n",
       "None                7.120000  3.155455  2018.537727  \n",
       "Very_High           7.144050  2.200418  2018.638831  "
      ]
     },
     "execution_count": 311,
     "metadata": {},
     "output_type": "execute_result"
    }
   ],
   "source": [
    "pd.pivot_table(trainingWork, index= 'AVERAGE_SPEED_DIFF', values=df_num)"
   ]
  },
  {
   "cell_type": "code",
   "execution_count": 312,
   "metadata": {},
   "outputs": [
    {
     "data": {
      "image/png": "[encoded data removed]",
      "text/plain": [
       "<Figure size 2160x360 with 1 Axes>"
      ]
     },
     "metadata": {
      "needs_background": "light"
     },
     "output_type": "display_data"
    },
    {
     "data": {
      "image/png": "[encoded data removed]",
      "text/plain": [
       "<Figure size 2160x360 with 1 Axes>"
      ]
     },
     "metadata": {
      "needs_background": "light"
     },
     "output_type": "display_data"
    },
    {
     "data": {
      "image/png": "[encoded data removed]",
      "text/plain": [
       "<Figure size 2160x360 with 1 Axes>"
      ]
     },
     "metadata": {
      "needs_background": "light"
     },
     "output_type": "display_data"
    },
    {
     "data": {
      "image/png": "[encoded data removed]",
      "text/plain": [
       "<Figure size 2160x360 with 1 Axes>"
      ]
     },
     "metadata": {
      "needs_background": "light"
     },
     "output_type": "display_data"
    }
   ],
   "source": [
    "for i in df_cat.columns:\n",
    "    fig, ax = plt.subplots(figsize=(30,5))\n",
    "    sns.barplot(x=df_cat[i].value_counts().index,y= df_cat[i].value_counts()).set_title(i)\n",
    "    plt.show()"
   ]
  },
  {
   "cell_type": "code",
   "execution_count": 313,
   "metadata": {},
   "outputs": [
    {
     "name": "stdout",
     "output_type": "stream",
     "text": [
      "LUMINOSITY          DARK  LIGHT  LOW_LIGHT\n",
      "AVERAGE_SPEED_DIFF                        \n",
      "High                 149    877         37\n",
      "Low                  840    518         61\n",
      "Medium               330   1256         65\n",
      "None                1897    237         66\n",
      "Very_High             37    405         37\n",
      "\n",
      "AVERAGE_CLOUDINESS  céu limpo  céu pouco nublado  nublado  nuvens quebradas\n",
      "AVERAGE_SPEED_DIFF                                                         \n",
      "High                      220                133       11               699\n",
      "Low                       393                105       30               891\n",
      "Medium                    428                161       21              1041\n",
      "None                      762                 80       64              1294\n",
      "Very_High                  87                 37        8               347\n",
      "\n",
      "AVERAGE_RAIN        aguaceiros  aguaceiros fracos  chuva  chuva forte  \\\n",
      "AVERAGE_SPEED_DIFF                                                      \n",
      "High                         2                  7      4            1   \n",
      "Low                          5                  9      5            5   \n",
      "Medium                       4                  5     10            3   \n",
      "None                         4                 12      9            3   \n",
      "Very_High                    1                  5      5            1   \n",
      "\n",
      "AVERAGE_RAIN        chuva fraca  chuva leve  chuva moderada  \n",
      "AVERAGE_SPEED_DIFF                                           \n",
      "High                       1009           8              32  \n",
      "Low                        1361           9              25  \n",
      "Medium                     1573          19              37  \n",
      "None                       2110          15              47  \n",
      "Very_High                   447           1              19  \n"
     ]
    }
   ],
   "source": [
    "\n",
    "\n",
    "# Compare Speed Diff and each of these categorical variables \n",
    "\n",
    "print(pd.pivot_table(trainingWork, index = 'AVERAGE_SPEED_DIFF', columns = 'LUMINOSITY', values='month' ,aggfunc ='count'))\n",
    "print()\n",
    "print(pd.pivot_table(trainingWork, index = 'AVERAGE_SPEED_DIFF', columns = 'AVERAGE_CLOUDINESS', values='month' ,aggfunc ='count'))\n",
    "print()\n",
    "print(pd.pivot_table(trainingWork, index = 'AVERAGE_SPEED_DIFF', columns = 'AVERAGE_RAIN',values='month',aggfunc ='count'))\n",
    "\n"
   ]
  },
  {
   "cell_type": "code",
   "execution_count": 314,
   "metadata": {},
   "outputs": [],
   "source": [
    "#trainingWork['AVERAGE_CLOUDINESS'] = trainingWork['AVERAGE_CLOUDINESS'].fillna(trainingWork['AVERAGE_CLOUDINESS'].mode()[0])\n",
    "#trainingWork['AVERAGE_CLOUDINESS'] = trainingWork['AVERAGE_CLOUDINESS'].fillna('Not Available')"
   ]
  },
  {
   "cell_type": "code",
   "execution_count": 315,
   "metadata": {},
   "outputs": [
    {
     "name": "stdout",
     "output_type": "stream",
     "text": [
      "<class 'pandas.core.frame.DataFrame'>\n",
      "RangeIndex: 6812 entries, 0 to 6811\n",
      "Data columns (total 24 columns):\n",
      " #   Column                   Non-Null Count  Dtype         \n",
      "---  ------                   --------------  -----         \n",
      " 0   city_name                6812 non-null   object        \n",
      " 1   record_date              6812 non-null   datetime64[ns]\n",
      " 2   AVERAGE_SPEED_DIFF       6812 non-null   category      \n",
      " 3   AVERAGE_FREE_FLOW_SPEED  6812 non-null   float64       \n",
      " 4   AVERAGE_TIME_DIFF        6812 non-null   float64       \n",
      " 5   AVERAGE_FREE_FLOW_TIME   6812 non-null   float64       \n",
      " 6   LUMINOSITY               6812 non-null   object        \n",
      " 7   AVERAGE_TEMPERATURE      6812 non-null   float64       \n",
      " 8   AVERAGE_ATMOSP_PRESSURE  6812 non-null   float64       \n",
      " 9   AVERAGE_HUMIDITY         6812 non-null   float64       \n",
      " 10  AVERAGE_WIND_SPEED       6812 non-null   float64       \n",
      " 11  AVERAGE_PRECIPITATION    6812 non-null   float64       \n",
      " 12  AVERAGE_CLOUDINESS       6812 non-null   object        \n",
      " 13  AVERAGE_RAIN             6812 non-null   category      \n",
      " 14  AVERAGE_DISTANCE_FREE    6812 non-null   float64       \n",
      " 15  AVERAGE_TIME             6812 non-null   float64       \n",
      " 16  AVERAGE_SPEED            6812 non-null   float64       \n",
      " 17  AVERAGE_SPEED_DIFF_Num   6812 non-null   float64       \n",
      " 18  weekday                  6812 non-null   int64         \n",
      " 19  hour                     6812 non-null   int64         \n",
      " 20  month                    6812 non-null   int64         \n",
      " 21  year                     6812 non-null   int64         \n",
      " 22  day                      6812 non-null   int64         \n",
      " 23  weekend                  6812 non-null   int64         \n",
      "dtypes: category(2), datetime64[ns](1), float64(12), int64(6), object(3)\n",
      "memory usage: 1.2+ MB\n"
     ]
    }
   ],
   "source": [
    "trainingWork.info()"
   ]
  },
  {
   "cell_type": "code",
   "execution_count": 316,
   "metadata": {},
   "outputs": [],
   "source": [
    "#trainingWorkDropCloudNa = trainingWork[trainingWork['AVERAGE_CLOUDINESS'].notna()]"
   ]
  },
  {
   "cell_type": "code",
   "execution_count": 317,
   "metadata": {},
   "outputs": [],
   "source": [
    "#trainingWorkDropCloudNa.info()"
   ]
  },
  {
   "cell_type": "code",
   "execution_count": 318,
   "metadata": {},
   "outputs": [],
   "source": [
    "\n",
    "df_dummies = trainingWork[['LUMINOSITY','AVERAGE_CLOUDINESS']]"
   ]
  },
  {
   "cell_type": "code",
   "execution_count": 319,
   "metadata": {},
   "outputs": [],
   "source": [
    "dummied = trainingWork.copy()"
   ]
  },
  {
   "cell_type": "code",
   "execution_count": 320,
   "metadata": {},
   "outputs": [],
   "source": [
    "for i in df_dummies:\n",
    "    dummied = pd.concat([dummied,pd.get_dummies(dummied[i])],axis='columns').drop([i],axis='columns')"
   ]
  },
  {
   "cell_type": "code",
   "execution_count": 321,
   "metadata": {},
   "outputs": [
    {
     "name": "stdout",
     "output_type": "stream",
     "text": [
      "<class 'pandas.core.frame.DataFrame'>\n",
      "RangeIndex: 6812 entries, 0 to 6811\n",
      "Data columns (total 29 columns):\n",
      " #   Column                   Non-Null Count  Dtype         \n",
      "---  ------                   --------------  -----         \n",
      " 0   city_name                6812 non-null   object        \n",
      " 1   record_date              6812 non-null   datetime64[ns]\n",
      " 2   AVERAGE_SPEED_DIFF       6812 non-null   category      \n",
      " 3   AVERAGE_FREE_FLOW_SPEED  6812 non-null   float64       \n",
      " 4   AVERAGE_TIME_DIFF        6812 non-null   float64       \n",
      " 5   AVERAGE_FREE_FLOW_TIME   6812 non-null   float64       \n",
      " 6   AVERAGE_TEMPERATURE      6812 non-null   float64       \n",
      " 7   AVERAGE_ATMOSP_PRESSURE  6812 non-null   float64       \n",
      " 8   AVERAGE_HUMIDITY         6812 non-null   float64       \n",
      " 9   AVERAGE_WIND_SPEED       6812 non-null   float64       \n",
      " 10  AVERAGE_PRECIPITATION    6812 non-null   float64       \n",
      " 11  AVERAGE_RAIN             6812 non-null   category      \n",
      " 12  AVERAGE_DISTANCE_FREE    6812 non-null   float64       \n",
      " 13  AVERAGE_TIME             6812 non-null   float64       \n",
      " 14  AVERAGE_SPEED            6812 non-null   float64       \n",
      " 15  AVERAGE_SPEED_DIFF_Num   6812 non-null   float64       \n",
      " 16  weekday                  6812 non-null   int64         \n",
      " 17  hour                     6812 non-null   int64         \n",
      " 18  month                    6812 non-null   int64         \n",
      " 19  year                     6812 non-null   int64         \n",
      " 20  day                      6812 non-null   int64         \n",
      " 21  weekend                  6812 non-null   int64         \n",
      " 22  DARK                     6812 non-null   uint8         \n",
      " 23  LIGHT                    6812 non-null   uint8         \n",
      " 24  LOW_LIGHT                6812 non-null   uint8         \n",
      " 25  céu limpo                6812 non-null   uint8         \n",
      " 26  céu pouco nublado        6812 non-null   uint8         \n",
      " 27  nublado                  6812 non-null   uint8         \n",
      " 28  nuvens quebradas         6812 non-null   uint8         \n",
      "dtypes: category(2), datetime64[ns](1), float64(12), int64(6), object(1), uint8(7)\n",
      "memory usage: 1.1+ MB\n"
     ]
    }
   ],
   "source": [
    "dummied.info()"
   ]
  },
  {
   "cell_type": "code",
   "execution_count": 322,
   "metadata": {},
   "outputs": [],
   "source": [
    "finalTrain = dummied.drop(['city_name','record_date','AVERAGE_PRECIPITATION','AVERAGE_RAIN','AVERAGE_FREE_FLOW_SPEED','AVERAGE_FREE_FLOW_TIME','AVERAGE_DISTANCE_FREE'],axis=1)"
   ]
  },
  {
   "cell_type": "code",
   "execution_count": 323,
   "metadata": {},
   "outputs": [
    {
     "name": "stdout",
     "output_type": "stream",
     "text": [
      "<class 'pandas.core.frame.DataFrame'>\n",
      "RangeIndex: 6812 entries, 0 to 6811\n",
      "Data columns (total 22 columns):\n",
      " #   Column                   Non-Null Count  Dtype   \n",
      "---  ------                   --------------  -----   \n",
      " 0   AVERAGE_SPEED_DIFF       6812 non-null   category\n",
      " 1   AVERAGE_TIME_DIFF        6812 non-null   float64 \n",
      " 2   AVERAGE_TEMPERATURE      6812 non-null   float64 \n",
      " 3   AVERAGE_ATMOSP_PRESSURE  6812 non-null   float64 \n",
      " 4   AVERAGE_HUMIDITY         6812 non-null   float64 \n",
      " 5   AVERAGE_WIND_SPEED       6812 non-null   float64 \n",
      " 6   AVERAGE_TIME             6812 non-null   float64 \n",
      " 7   AVERAGE_SPEED            6812 non-null   float64 \n",
      " 8   AVERAGE_SPEED_DIFF_Num   6812 non-null   float64 \n",
      " 9   weekday                  6812 non-null   int64   \n",
      " 10  hour                     6812 non-null   int64   \n",
      " 11  month                    6812 non-null   int64   \n",
      " 12  year                     6812 non-null   int64   \n",
      " 13  day                      6812 non-null   int64   \n",
      " 14  weekend                  6812 non-null   int64   \n",
      " 15  DARK                     6812 non-null   uint8   \n",
      " 16  LIGHT                    6812 non-null   uint8   \n",
      " 17  LOW_LIGHT                6812 non-null   uint8   \n",
      " 18  céu limpo                6812 non-null   uint8   \n",
      " 19  céu pouco nublado        6812 non-null   uint8   \n",
      " 20  nublado                  6812 non-null   uint8   \n",
      " 21  nuvens quebradas         6812 non-null   uint8   \n",
      "dtypes: category(1), float64(8), int64(6), uint8(7)\n",
      "memory usage: 798.6 KB\n"
     ]
    }
   ],
   "source": [
    "finalTrain.info()"
   ]
  },
  {
   "cell_type": "code",
   "execution_count": 324,
   "metadata": {},
   "outputs": [
    {
     "data": {
      "text/plain": [
       "None         2200\n",
       "Medium       1651\n",
       "Low          1419\n",
       "High         1063\n",
       "Very_High     479\n",
       "Name: AVERAGE_SPEED_DIFF, dtype: int64"
      ]
     },
     "execution_count": 324,
     "metadata": {},
     "output_type": "execute_result"
    }
   ],
   "source": [
    "finalTrain['AVERAGE_SPEED_DIFF'].value_counts()"
   ]
  },
  {
   "cell_type": "code",
   "execution_count": 325,
   "metadata": {},
   "outputs": [],
   "source": [
    "#finalTrain['AVERAGE_SPEED_DIFF'] = finalTrain['AVERAGE_SPEED_DIFF'].map(lambda x: '0' if 'None' in x else \"1\" if 'Low' in x else '2' if 'Medium' in x else '4' if 'Very_High' in x else '3' if 'Very' in x else \"\")\n",
    "\n",
    "#finalTrain.loc[finalTrain.AVERAGE_SPEED_DIFF == 'None', 'AVERAGE_SPEED_DIFF'] = 0\n",
    "#finalTrain.loc[finalTrain.AVERAGE_SPEED_DIFF == 'Low', 'AVERAGE_SPEED_DIFF'] = 1\n",
    "#finalTrain.loc[finalTrain.AVERAGE_SPEED_DIFF == 'Medium', 'AVERAGE_SPEED_DIFF'] = 2\n",
    "#finalTrain.loc[finalTrain.AVERAGE_SPEED_DIFF == 'High', 'AVERAGE_SPEED_DIFF'] = 3\n",
    "#finalTrain.loc[finalTrain.AVERAGE_SPEED_DIFF == 'Very_High', 'AVERAGE_SPEED_DIFF'] = 4"
   ]
  },
  {
   "cell_type": "code",
   "execution_count": 326,
   "metadata": {},
   "outputs": [
    {
     "data": {
      "text/plain": [
       "None         2200\n",
       "Medium       1651\n",
       "Low          1419\n",
       "High         1063\n",
       "Very_High     479\n",
       "Name: AVERAGE_SPEED_DIFF, dtype: int64"
      ]
     },
     "execution_count": 326,
     "metadata": {},
     "output_type": "execute_result"
    }
   ],
   "source": [
    "finalTrain['AVERAGE_SPEED_DIFF'].value_counts()"
   ]
  },
  {
   "cell_type": "code",
   "execution_count": 327,
   "metadata": {},
   "outputs": [],
   "source": [
    "finalTrain = finalTrain.reindex(sorted(finalTrain.columns), axis=1)"
   ]
  },
  {
   "cell_type": "code",
   "execution_count": 328,
   "metadata": {},
   "outputs": [
    {
     "name": "stdout",
     "output_type": "stream",
     "text": [
      "<class 'pandas.core.frame.DataFrame'>\n",
      "RangeIndex: 6812 entries, 0 to 6811\n",
      "Data columns (total 22 columns):\n",
      " #   Column                   Non-Null Count  Dtype   \n",
      "---  ------                   --------------  -----   \n",
      " 0   AVERAGE_ATMOSP_PRESSURE  6812 non-null   float64 \n",
      " 1   AVERAGE_HUMIDITY         6812 non-null   float64 \n",
      " 2   AVERAGE_SPEED            6812 non-null   float64 \n",
      " 3   AVERAGE_SPEED_DIFF       6812 non-null   category\n",
      " 4   AVERAGE_SPEED_DIFF_Num   6812 non-null   float64 \n",
      " 5   AVERAGE_TEMPERATURE      6812 non-null   float64 \n",
      " 6   AVERAGE_TIME             6812 non-null   float64 \n",
      " 7   AVERAGE_TIME_DIFF        6812 non-null   float64 \n",
      " 8   AVERAGE_WIND_SPEED       6812 non-null   float64 \n",
      " 9   DARK                     6812 non-null   uint8   \n",
      " 10  LIGHT                    6812 non-null   uint8   \n",
      " 11  LOW_LIGHT                6812 non-null   uint8   \n",
      " 12  céu limpo                6812 non-null   uint8   \n",
      " 13  céu pouco nublado        6812 non-null   uint8   \n",
      " 14  day                      6812 non-null   int64   \n",
      " 15  hour                     6812 non-null   int64   \n",
      " 16  month                    6812 non-null   int64   \n",
      " 17  nublado                  6812 non-null   uint8   \n",
      " 18  nuvens quebradas         6812 non-null   uint8   \n",
      " 19  weekday                  6812 non-null   int64   \n",
      " 20  weekend                  6812 non-null   int64   \n",
      " 21  year                     6812 non-null   int64   \n",
      "dtypes: category(1), float64(8), int64(6), uint8(7)\n",
      "memory usage: 798.6 KB\n"
     ]
    }
   ],
   "source": [
    "finalTrain.info()"
   ]
  },
  {
   "cell_type": "code",
   "execution_count": 329,
   "metadata": {},
   "outputs": [],
   "source": [
    "\n",
    "X = finalTrain.drop(['AVERAGE_SPEED_DIFF'],axis=1)\n",
    "\n",
    "y = finalTrain['AVERAGE_SPEED_DIFF']\n"
   ]
  },
  {
   "cell_type": "code",
   "execution_count": 330,
   "metadata": {},
   "outputs": [],
   "source": [
    "from sklearn.model_selection import train_test_split\n",
    "from imblearn.over_sampling import SMOTE\n",
    "from imblearn.over_sampling import RandomOverSampler\n",
    "from imblearn.over_sampling import BorderlineSMOTE\n",
    "from imblearn.over_sampling import SVMSMOTE \n",
    "from imblearn.combine import SMOTEENN \n",
    "from imblearn.combine import SMOTETomek "
   ]
  },
  {
   "cell_type": "code",
   "execution_count": 331,
   "metadata": {},
   "outputs": [],
   "source": [
    "X_train,X_test,y_train,y_test = train_test_split(X,y,test_size=0.25, random_state=2021,stratify=y)"
   ]
  },
  {
   "cell_type": "code",
   "execution_count": 332,
   "metadata": {},
   "outputs": [],
   "source": [
    "smote = SMOTE()"
   ]
  },
  {
   "cell_type": "code",
   "execution_count": 333,
   "metadata": {},
   "outputs": [
    {
     "data": {
      "text/plain": [
       "'\\nros = RandomOverSampler(sampling_strategy=\"not majority\",random_state=2021)\\nX_res, y_res = ros.fit_resample(X_train, y_train)\\n#y_res.value_counts()\\n'"
      ]
     },
     "execution_count": 333,
     "metadata": {},
     "output_type": "execute_result"
    }
   ],
   "source": [
    "'''\n",
    "ros = RandomOverSampler(sampling_strategy=\"not majority\",random_state=2021)\n",
    "X_res, y_res = ros.fit_resample(X_train, y_train)\n",
    "#y_res.value_counts()\n",
    "'''"
   ]
  },
  {
   "cell_type": "code",
   "execution_count": 334,
   "metadata": {},
   "outputs": [],
   "source": [
    "from sklearn.preprocessing import StandardScaler"
   ]
  },
  {
   "cell_type": "code",
   "execution_count": 335,
   "metadata": {},
   "outputs": [],
   "source": [
    "scaler = StandardScaler()"
   ]
  },
  {
   "cell_type": "code",
   "execution_count": 336,
   "metadata": {},
   "outputs": [],
   "source": [
    "#smote = SMOTE(sampling_strategy=\"not majority\",random_state=2021)\n",
    "#X_res, y_res = smote.fit_resample(X_train, y_train)"
   ]
  },
  {
   "cell_type": "code",
   "execution_count": 337,
   "metadata": {},
   "outputs": [],
   "source": [
    "#sm = BorderlineSMOTE(random_state=2021,kind='borderline-2')\n",
    "#X_res, y_res = sm.fit_resample(X_train, y_train)"
   ]
  },
  {
   "cell_type": "code",
   "execution_count": 339,
   "metadata": {},
   "outputs": [],
   "source": [
    "sme = SMOTEENN(random_state=2021,sampling_strategy='not majority')\n",
    "X_res, y_res = sme.fit_resample(X_train, y_train)"
   ]
  },
  {
   "cell_type": "code",
   "execution_count": 340,
   "metadata": {},
   "outputs": [],
   "source": [
    "#smt = SMOTETomek(random_state=2021,sampling_strategy='auto')\n",
    "#X_res, y_res = smt.fit_resample(X_train, y_train)"
   ]
  },
  {
   "cell_type": "code",
   "execution_count": 341,
   "metadata": {},
   "outputs": [],
   "source": [
    "#sm = SVMSMOTE(random_state=2021,sampling_strategy=\"not majority\")\n",
    "#X_res, y_res = sm.fit_resample(X_train, y_train)"
   ]
  },
  {
   "cell_type": "code",
   "execution_count": 342,
   "metadata": {},
   "outputs": [],
   "source": [
    "X_res[['AVERAGE_ATMOSP_PRESSURE','AVERAGE_HUMIDITY','AVERAGE_TEMPERATURE','AVERAGE_TIME_DIFF','AVERAGE_WIND_SPEED','AVERAGE_TIME','AVERAGE_SPEED','AVERAGE_SPEED_DIFF_Num']] = scaler.fit_transform(X_res[['AVERAGE_ATMOSP_PRESSURE','AVERAGE_HUMIDITY','AVERAGE_TEMPERATURE','AVERAGE_TIME_DIFF','AVERAGE_WIND_SPEED','AVERAGE_TIME','AVERAGE_SPEED','AVERAGE_SPEED_DIFF_Num']])\n",
    "X_test[['AVERAGE_ATMOSP_PRESSURE','AVERAGE_HUMIDITY','AVERAGE_TEMPERATURE','AVERAGE_TIME_DIFF','AVERAGE_WIND_SPEED','AVERAGE_TIME','AVERAGE_SPEED','AVERAGE_SPEED_DIFF_Num']] = scaler.transform(X_test[['AVERAGE_ATMOSP_PRESSURE','AVERAGE_HUMIDITY','AVERAGE_TEMPERATURE','AVERAGE_TIME_DIFF','AVERAGE_WIND_SPEED','AVERAGE_TIME','AVERAGE_SPEED','AVERAGE_SPEED_DIFF_Num']])"
   ]
  },
  {
   "cell_type": "code",
   "execution_count": 343,
   "metadata": {},
   "outputs": [
    {
     "data": {
      "text/plain": [
       "<AxesSubplot:ylabel='AVERAGE_SPEED_DIFF'>"
      ]
     },
     "execution_count": 343,
     "metadata": {},
     "output_type": "execute_result"
    },
    {
     "data": {
      "image/png": "[encoded data removed]",
      "text/plain": [
       "<Figure size 432x288 with 1 Axes>"
      ]
     },
     "metadata": {},
     "output_type": "display_data"
    }
   ],
   "source": [
    "y_train.value_counts().plot.pie(autopct='%.2f')"
   ]
  },
  {
   "cell_type": "code",
   "execution_count": 344,
   "metadata": {},
   "outputs": [
    {
     "data": {
      "text/plain": [
       "<AxesSubplot:ylabel='AVERAGE_SPEED_DIFF'>"
      ]
     },
     "execution_count": 344,
     "metadata": {},
     "output_type": "execute_result"
    },
    {
     "data": {
      "image/png": "[encoded data removed]",
      "text/plain": [
       "<Figure size 432x288 with 1 Axes>"
      ]
     },
     "metadata": {},
     "output_type": "display_data"
    }
   ],
   "source": [
    "y_res.value_counts().plot.pie(autopct='%.2f')"
   ]
  },
  {
   "cell_type": "code",
   "execution_count": 345,
   "metadata": {},
   "outputs": [
    {
     "data": {
      "text/plain": [
       "<seaborn.axisgrid.FacetGrid at 0x26f945c6340>"
      ]
     },
     "execution_count": 345,
     "metadata": {},
     "output_type": "execute_result"
    },
    {
     "data": {
      "image/png": "[encoded data removed]",
      "text/plain": [
       "<Figure size 360x360 with 1 Axes>"
      ]
     },
     "metadata": {
      "needs_background": "light"
     },
     "output_type": "display_data"
    },
    {
     "data": {
      "image/png": "[encoded data removed]",
      "text/plain": [
       "<Figure size 360x360 with 1 Axes>"
      ]
     },
     "metadata": {
      "needs_background": "light"
     },
     "output_type": "display_data"
    }
   ],
   "source": [
    "sns.displot(y_res)\n",
    "sns.displot(y_test)"
   ]
  },
  {
   "cell_type": "code",
   "execution_count": 346,
   "metadata": {},
   "outputs": [],
   "source": [
    "from sklearn.linear_model import LogisticRegression\n",
    "from sklearn.metrics import plot_confusion_matrix\n",
    "from sklearn.model_selection import cross_val_score\n",
    "from sklearn.naive_bayes import GaussianNB\n",
    "from sklearn.linear_model import LogisticRegression\n",
    "from sklearn import tree\n",
    "from sklearn.neighbors import KNeighborsClassifier\n",
    "from sklearn.ensemble import RandomForestClassifier\n",
    "from sklearn.svm import SVC"
   ]
  },
  {
   "cell_type": "code",
   "execution_count": 347,
   "metadata": {},
   "outputs": [
    {
     "name": "stdout",
     "output_type": "stream",
     "text": [
      "[0.76026119 0.86287313 0.82276119 0.80392157 0.82446312]\n",
      "0.8148560419192552\n"
     ]
    }
   ],
   "source": [
    "#I usually use Naive Bayes as a baseline for my classification tasks \n",
    "\n",
    "gnb = GaussianNB()\n",
    "cv = cross_val_score(gnb,X_res,y_res,cv=5)\n",
    "print(cv)\n",
    "print(cv.mean())\n"
   ]
  },
  {
   "cell_type": "code",
   "execution_count": 348,
   "metadata": {},
   "outputs": [
    {
     "name": "stdout",
     "output_type": "stream",
     "text": [
      "[0.89179104 0.91231343 0.90858209 0.90569561 0.8907563 ]\n",
      "0.9018276962526304\n"
     ]
    }
   ],
   "source": [
    "\n",
    "lr = LogisticRegression(random_state=2021,max_iter = 90000000000000,n_jobs=-1)\n",
    "cv = cross_val_score(lr,X_res,y_res,cv=5)\n",
    "print(cv)\n",
    "print(cv.mean())\n"
   ]
  },
  {
   "cell_type": "code",
   "execution_count": 349,
   "metadata": {},
   "outputs": [
    {
     "name": "stdout",
     "output_type": "stream",
     "text": [
      "[0.9113806  0.91884328 0.93470149 0.92156863 0.92810458]\n",
      "0.9229197151497415\n"
     ]
    }
   ],
   "source": [
    "\n",
    "dt = tree.DecisionTreeClassifier(random_state=2021)\n",
    "cv = cross_val_score(dt,X_res,y_res,cv=5)\n",
    "print(cv)\n",
    "print(cv.mean())\n"
   ]
  },
  {
   "cell_type": "code",
   "execution_count": 350,
   "metadata": {},
   "outputs": [
    {
     "name": "stdout",
     "output_type": "stream",
     "text": [
      "[0.79291045 0.77518657 0.78824627 0.78151261 0.80952381]\n",
      "0.7894759396295832\n"
     ]
    }
   ],
   "source": [
    "\n",
    "knn = KNeighborsClassifier(n_jobs=-1)\n",
    "cv = cross_val_score(knn,X_res.values,y_res.values,cv=5)\n",
    "print(cv)\n",
    "print(cv.mean())\n"
   ]
  },
  {
   "cell_type": "code",
   "execution_count": 351,
   "metadata": {},
   "outputs": [
    {
     "name": "stdout",
     "output_type": "stream",
     "text": [
      "[0.9505597  0.95708955 0.97014925 0.94677871 0.95144725]\n",
      "0.9552048929024346\n"
     ]
    }
   ],
   "source": [
    "rf = RandomForestClassifier(random_state=2021,n_jobs=-1)\n",
    "cv = cross_val_score(rf,X_res,y_res,cv=5)\n",
    "print(cv)\n",
    "print(cv.mean())"
   ]
  },
  {
   "cell_type": "code",
   "execution_count": 352,
   "metadata": {},
   "outputs": [
    {
     "data": {
      "text/plain": [
       "'\\nsvc = SVC(probability = True,random_state=2021)\\ncv = cross_val_score(svc,X_res,y_res,cv=5)\\nprint(cv)\\nprint(cv.mean())\\n'"
      ]
     },
     "execution_count": 352,
     "metadata": {},
     "output_type": "execute_result"
    }
   ],
   "source": [
    "'''\n",
    "svc = SVC(probability = True,random_state=2021)\n",
    "cv = cross_val_score(svc,X_res,y_res,cv=5)\n",
    "print(cv)\n",
    "print(cv.mean())\n",
    "'''"
   ]
  },
  {
   "cell_type": "code",
   "execution_count": 353,
   "metadata": {},
   "outputs": [
    {
     "name": "stdout",
     "output_type": "stream",
     "text": [
      "[03:03:43] WARNING: C:/Users/Administrator/workspace/xgboost-win64_release_1.5.0/src/learner.cc:1115: Starting in XGBoost 1.3.0, the default evaluation metric used with the objective 'multi:softprob' was changed from 'merror' to 'mlogloss'. Explicitly set eval_metric if you'd like to restore the old behavior.\n"
     ]
    },
    {
     "name": "stderr",
     "output_type": "stream",
     "text": [
      "C:\\Users\\Krow\\AppData\\Local\\Programs\\Python\\Python39\\lib\\site-packages\\xgboost\\sklearn.py:1224: UserWarning: The use of label encoder in XGBClassifier is deprecated and will be removed in a future release. To remove this warning, do the following: 1) Pass option use_label_encoder=False when constructing XGBClassifier object; and 2) Encode your labels (y) as integers starting with 0, i.e. 0, 1, 2, ..., [num_class - 1].\n",
      "  warnings.warn(label_encoder_deprecation_msg, UserWarning)\n",
      "C:\\Users\\Krow\\AppData\\Local\\Programs\\Python\\Python39\\lib\\site-packages\\xgboost\\sklearn.py:1224: UserWarning: The use of label encoder in XGBClassifier is deprecated and will be removed in a future release. To remove this warning, do the following: 1) Pass option use_label_encoder=False when constructing XGBClassifier object; and 2) Encode your labels (y) as integers starting with 0, i.e. 0, 1, 2, ..., [num_class - 1].\n",
      "  warnings.warn(label_encoder_deprecation_msg, UserWarning)\n"
     ]
    },
    {
     "name": "stdout",
     "output_type": "stream",
     "text": [
      "[03:03:43] WARNING: C:/Users/Administrator/workspace/xgboost-win64_release_1.5.0/src/learner.cc:1115: Starting in XGBoost 1.3.0, the default evaluation metric used with the objective 'multi:softprob' was changed from 'merror' to 'mlogloss'. Explicitly set eval_metric if you'd like to restore the old behavior.\n"
     ]
    },
    {
     "name": "stderr",
     "output_type": "stream",
     "text": [
      "C:\\Users\\Krow\\AppData\\Local\\Programs\\Python\\Python39\\lib\\site-packages\\xgboost\\sklearn.py:1224: UserWarning: The use of label encoder in XGBClassifier is deprecated and will be removed in a future release. To remove this warning, do the following: 1) Pass option use_label_encoder=False when constructing XGBClassifier object; and 2) Encode your labels (y) as integers starting with 0, i.e. 0, 1, 2, ..., [num_class - 1].\n",
      "  warnings.warn(label_encoder_deprecation_msg, UserWarning)\n"
     ]
    },
    {
     "name": "stdout",
     "output_type": "stream",
     "text": [
      "[03:03:44] WARNING: C:/Users/Administrator/workspace/xgboost-win64_release_1.5.0/src/learner.cc:1115: Starting in XGBoost 1.3.0, the default evaluation metric used with the objective 'multi:softprob' was changed from 'merror' to 'mlogloss'. Explicitly set eval_metric if you'd like to restore the old behavior.\n"
     ]
    },
    {
     "name": "stderr",
     "output_type": "stream",
     "text": [
      "C:\\Users\\Krow\\AppData\\Local\\Programs\\Python\\Python39\\lib\\site-packages\\xgboost\\sklearn.py:1224: UserWarning: The use of label encoder in XGBClassifier is deprecated and will be removed in a future release. To remove this warning, do the following: 1) Pass option use_label_encoder=False when constructing XGBClassifier object; and 2) Encode your labels (y) as integers starting with 0, i.e. 0, 1, 2, ..., [num_class - 1].\n",
      "  warnings.warn(label_encoder_deprecation_msg, UserWarning)\n"
     ]
    },
    {
     "name": "stdout",
     "output_type": "stream",
     "text": [
      "[03:03:45] WARNING: C:/Users/Administrator/workspace/xgboost-win64_release_1.5.0/src/learner.cc:1115: Starting in XGBoost 1.3.0, the default evaluation metric used with the objective 'multi:softprob' was changed from 'merror' to 'mlogloss'. Explicitly set eval_metric if you'd like to restore the old behavior.\n"
     ]
    },
    {
     "name": "stderr",
     "output_type": "stream",
     "text": [
      "C:\\Users\\Krow\\AppData\\Local\\Programs\\Python\\Python39\\lib\\site-packages\\xgboost\\sklearn.py:1224: UserWarning: The use of label encoder in XGBClassifier is deprecated and will be removed in a future release. To remove this warning, do the following: 1) Pass option use_label_encoder=False when constructing XGBClassifier object; and 2) Encode your labels (y) as integers starting with 0, i.e. 0, 1, 2, ..., [num_class - 1].\n",
      "  warnings.warn(label_encoder_deprecation_msg, UserWarning)\n"
     ]
    },
    {
     "name": "stdout",
     "output_type": "stream",
     "text": [
      "[03:03:45] WARNING: C:/Users/Administrator/workspace/xgboost-win64_release_1.5.0/src/learner.cc:1115: Starting in XGBoost 1.3.0, the default evaluation metric used with the objective 'multi:softprob' was changed from 'merror' to 'mlogloss'. Explicitly set eval_metric if you'd like to restore the old behavior.\n",
      "[0.95615672 0.95242537 0.96921642 0.9589169  0.95985061]\n",
      "0.9593132028930975\n"
     ]
    }
   ],
   "source": [
    "\n",
    "from xgboost import XGBClassifier\n",
    "xgb = XGBClassifier(random_state=2021,n_jobs=-1)\n",
    "cv = cross_val_score(xgb,X_res,y_res,cv=5)\n",
    "print(cv)\n",
    "print(cv.mean())\n"
   ]
  },
  {
   "cell_type": "code",
   "execution_count": 354,
   "metadata": {},
   "outputs": [],
   "source": [
    "#from sklearn.ensemble import VotingClassifier\n",
    "#voting_clf = VotingClassifier(estimators = [('lr',lr),('knn',knn),('rf',rf),('gnb',gnb),('svc',svc),('xgb',xgb)], voting = 'soft',n_jobs=-1) "
   ]
  },
  {
   "cell_type": "code",
   "execution_count": 355,
   "metadata": {},
   "outputs": [
    {
     "data": {
      "text/plain": [
       "'\\ncv = cross_val_score(voting_clf,X_res.values,y_res.values,cv=5)\\nprint(cv)\\nprint(cv.mean())\\n'"
      ]
     },
     "execution_count": 355,
     "metadata": {},
     "output_type": "execute_result"
    }
   ],
   "source": [
    "'''\n",
    "cv = cross_val_score(voting_clf,X_res.values,y_res.values,cv=5)\n",
    "print(cv)\n",
    "print(cv.mean())\n",
    "'''"
   ]
  },
  {
   "cell_type": "code",
   "execution_count": 356,
   "metadata": {},
   "outputs": [],
   "source": [
    "from sklearn.model_selection import GridSearchCV \n",
    "from sklearn.model_selection import RandomizedSearchCV "
   ]
  },
  {
   "cell_type": "code",
   "execution_count": 357,
   "metadata": {},
   "outputs": [],
   "source": [
    "#simple performance reporting function\n",
    "def clf_performance(classifier, model_name):\n",
    "    print(model_name)\n",
    "    print('Best Score: ' + str(classifier.best_score_))\n",
    "    print('Best Parameters: ' + str(classifier.best_params_))"
   ]
  },
  {
   "cell_type": "code",
   "execution_count": 358,
   "metadata": {},
   "outputs": [
    {
     "name": "stdout",
     "output_type": "stream",
     "text": [
      "Fitting 5 folds for each of 40 candidates, totalling 200 fits\n"
     ]
    },
    {
     "name": "stderr",
     "output_type": "stream",
     "text": [
      "C:\\Users\\Krow\\AppData\\Local\\Programs\\Python\\Python39\\lib\\site-packages\\sklearn\\linear_model\\_logistic.py:1523: UserWarning: 'n_jobs' > 1 does not have any effect when 'solver' is set to 'liblinear'. Got 'n_jobs' = 12.\n",
      "  warnings.warn(\n"
     ]
    },
    {
     "name": "stdout",
     "output_type": "stream",
     "text": [
      "Logistic Regression\n",
      "Best Score: 0.846959530080689\n",
      "Best Parameters: {'C': 29.763514416313132, 'max_iter': 200000000, 'penalty': 'l1', 'solver': 'liblinear'}\n"
     ]
    }
   ],
   "source": [
    "\n",
    "param_grid = {'max_iter' : [200000000],\n",
    "              'penalty' : ['l1', 'l2'],\n",
    "              'C' : np.logspace(-4, 4, 20),\n",
    "              'solver' : ['liblinear']}\n",
    "\n",
    "clf_lr = GridSearchCV(lr, param_grid = param_grid, cv = 5, verbose = True, n_jobs = -1)\n",
    "best_clf_lr = clf_lr.fit(X_res,y_res)\n",
    "clf_performance(best_clf_lr,'Logistic Regression')\n"
   ]
  },
  {
   "cell_type": "code",
   "execution_count": 359,
   "metadata": {},
   "outputs": [
    {
     "name": "stdout",
     "output_type": "stream",
     "text": [
      "Fitting 5 folds for each of 48 candidates, totalling 240 fits\n",
      "KNN\n",
      "Best Score: 0.8902643644522487\n",
      "Best Parameters: {'algorithm': 'auto', 'n_neighbors': 3, 'p': 1, 'weights': 'distance'}\n"
     ]
    }
   ],
   "source": [
    "\n",
    "param_grid = {'n_neighbors' : [3,5,7,9],\n",
    "              'weights' : ['uniform', 'distance'],\n",
    "              'algorithm' : ['auto', 'ball_tree','kd_tree'],\n",
    "              'p' : [1,2]}\n",
    "clf_knn = GridSearchCV(knn, param_grid = param_grid, cv = 5, verbose = True, n_jobs = -1)\n",
    "best_clf_knn = clf_knn.fit(X_res,y_res.values)\n",
    "clf_performance(best_clf_knn,'KNN')\n"
   ]
  },
  {
   "cell_type": "code",
   "execution_count": 360,
   "metadata": {},
   "outputs": [
    {
     "name": "stdout",
     "output_type": "stream",
     "text": [
      "Fitting 5 folds for each of 10 candidates, totalling 50 fits\n",
      "Random Forest\n",
      "Best Score: 0.9585644954499213\n",
      "Best Parameters: {'n_estimators': 500, 'min_samples_split': 2, 'min_samples_leaf': 2, 'max_features': 'sqrt', 'max_depth': 100, 'criterion': 'gini', 'bootstrap': False}\n"
     ]
    }
   ],
   "source": [
    "\n",
    "param_grid =  {'n_estimators': [50,100,200,300,400,500,600,700,800,900,1000],\n",
    "               'criterion':['gini','entropy'],\n",
    "                                  'bootstrap': [True,False],\n",
    "                                  'max_depth': [3,5,10,20,50,75,100,None],\n",
    "                                  'max_features': ['auto','sqrt'],\n",
    "                                  'min_samples_leaf': [1,2,4,10],\n",
    "                                  'min_samples_split': [2,5,10]}\n",
    "                                  \n",
    "clf_rf = RandomizedSearchCV(rf, param_distributions= param_grid,cv = 5, verbose = True, n_jobs = -1)\n",
    "best_clf_rf = clf_rf.fit(X_res,y_res)\n",
    "clf_performance(best_clf_rf,'Random Forest')\n",
    "\n"
   ]
  },
  {
   "cell_type": "code",
   "execution_count": 361,
   "metadata": {},
   "outputs": [
    {
     "name": "stdout",
     "output_type": "stream",
     "text": [
      "Fitting 5 folds for each of 1 candidates, totalling 5 fits\n",
      "Random Forest\n",
      "Best Score: 0.9611788745348886\n",
      "Best Parameters: {'bootstrap': False, 'criterion': 'entropy', 'max_depth': 25, 'max_features': 'sqrt', 'min_samples_leaf': 1, 'min_samples_split': 5, 'n_estimators': 600}\n"
     ]
    }
   ],
   "source": [
    "param_grid =  {'n_estimators': [600],\n",
    "               'min_samples_split': [5],\n",
    "               'min_samples_leaf': [1],\n",
    "               'max_features': ['sqrt'],\n",
    "               'max_depth': [25],\n",
    "               'criterion': ['entropy'],\n",
    "               'bootstrap': [False]}\n",
    "                                  \n",
    "clf_rf = GridSearchCV(rf, param_grid= param_grid,cv = 5, verbose = True, n_jobs = -1)\n",
    "best_clf_rf = clf_rf.fit(X_res,y_res)\n",
    "clf_performance(best_clf_rf,'Random Forest')"
   ]
  },
  {
   "cell_type": "code",
   "execution_count": 362,
   "metadata": {},
   "outputs": [
    {
     "ename": "KeyboardInterrupt",
     "evalue": "",
     "output_type": "error",
     "traceback": [
      "\u001b[1;31m---------------------------------------------------------------------------\u001b[0m",
      "\u001b[1;31mKeyboardInterrupt\u001b[0m                         Traceback (most recent call last)",
      "\u001b[1;32m~\\AppData\\Local\\Temp/ipykernel_15856/2791601281.py\u001b[0m in \u001b[0;36m<module>\u001b[1;34m\u001b[0m\n\u001b[1;32m----> 1\u001b[1;33m \u001b[0mbest_rf\u001b[0m \u001b[1;33m=\u001b[0m \u001b[0mbest_clf_rf\u001b[0m\u001b[1;33m.\u001b[0m\u001b[0mbest_estimator_\u001b[0m\u001b[1;33m.\u001b[0m\u001b[0mfit\u001b[0m\u001b[1;33m(\u001b[0m\u001b[0mX_res\u001b[0m\u001b[1;33m,\u001b[0m\u001b[0my_res\u001b[0m\u001b[1;33m)\u001b[0m\u001b[1;33m\u001b[0m\u001b[1;33m\u001b[0m\u001b[0m\n\u001b[0m\u001b[0;32m      2\u001b[0m \u001b[0mfeat_importances\u001b[0m \u001b[1;33m=\u001b[0m \u001b[0mpd\u001b[0m\u001b[1;33m.\u001b[0m\u001b[0mSeries\u001b[0m\u001b[1;33m(\u001b[0m\u001b[0mbest_rf\u001b[0m\u001b[1;33m.\u001b[0m\u001b[0mfeature_importances_\u001b[0m\u001b[1;33m,\u001b[0m \u001b[0mindex\u001b[0m\u001b[1;33m=\u001b[0m\u001b[0mX_train\u001b[0m\u001b[1;33m.\u001b[0m\u001b[0mcolumns\u001b[0m\u001b[1;33m)\u001b[0m\u001b[1;33m\u001b[0m\u001b[1;33m\u001b[0m\u001b[0m\n\u001b[0;32m      3\u001b[0m \u001b[0mfeat_importances\u001b[0m\u001b[1;33m.\u001b[0m\u001b[0mnlargest\u001b[0m\u001b[1;33m(\u001b[0m\u001b[1;36m20\u001b[0m\u001b[1;33m)\u001b[0m\u001b[1;33m.\u001b[0m\u001b[0mplot\u001b[0m\u001b[1;33m(\u001b[0m\u001b[0mkind\u001b[0m\u001b[1;33m=\u001b[0m\u001b[1;34m'barh'\u001b[0m\u001b[1;33m)\u001b[0m\u001b[1;33m\u001b[0m\u001b[1;33m\u001b[0m\u001b[0m\n",
      "\u001b[1;32m~\\AppData\\Local\\Programs\\Python\\Python39\\lib\\site-packages\\sklearn\\ensemble\\_forest.py\u001b[0m in \u001b[0;36mfit\u001b[1;34m(self, X, y, sample_weight)\u001b[0m\n\u001b[0;32m    440\u001b[0m             \u001b[1;31m# parallel_backend contexts set at a higher level,\u001b[0m\u001b[1;33m\u001b[0m\u001b[1;33m\u001b[0m\u001b[0m\n\u001b[0;32m    441\u001b[0m             \u001b[1;31m# since correctness does not rely on using threads.\u001b[0m\u001b[1;33m\u001b[0m\u001b[1;33m\u001b[0m\u001b[0m\n\u001b[1;32m--> 442\u001b[1;33m             trees = Parallel(\n\u001b[0m\u001b[0;32m    443\u001b[0m                 \u001b[0mn_jobs\u001b[0m\u001b[1;33m=\u001b[0m\u001b[0mself\u001b[0m\u001b[1;33m.\u001b[0m\u001b[0mn_jobs\u001b[0m\u001b[1;33m,\u001b[0m\u001b[1;33m\u001b[0m\u001b[1;33m\u001b[0m\u001b[0m\n\u001b[0;32m    444\u001b[0m                 \u001b[0mverbose\u001b[0m\u001b[1;33m=\u001b[0m\u001b[0mself\u001b[0m\u001b[1;33m.\u001b[0m\u001b[0mverbose\u001b[0m\u001b[1;33m,\u001b[0m\u001b[1;33m\u001b[0m\u001b[1;33m\u001b[0m\u001b[0m\n",
      "\u001b[1;32m~\\AppData\\Local\\Programs\\Python\\Python39\\lib\\site-packages\\joblib\\parallel.py\u001b[0m in \u001b[0;36m__call__\u001b[1;34m(self, iterable)\u001b[0m\n\u001b[0;32m   1054\u001b[0m \u001b[1;33m\u001b[0m\u001b[0m\n\u001b[0;32m   1055\u001b[0m             \u001b[1;32mwith\u001b[0m \u001b[0mself\u001b[0m\u001b[1;33m.\u001b[0m\u001b[0m_backend\u001b[0m\u001b[1;33m.\u001b[0m\u001b[0mretrieval_context\u001b[0m\u001b[1;33m(\u001b[0m\u001b[1;33m)\u001b[0m\u001b[1;33m:\u001b[0m\u001b[1;33m\u001b[0m\u001b[1;33m\u001b[0m\u001b[0m\n\u001b[1;32m-> 1056\u001b[1;33m                 \u001b[0mself\u001b[0m\u001b[1;33m.\u001b[0m\u001b[0mretrieve\u001b[0m\u001b[1;33m(\u001b[0m\u001b[1;33m)\u001b[0m\u001b[1;33m\u001b[0m\u001b[1;33m\u001b[0m\u001b[0m\n\u001b[0m\u001b[0;32m   1057\u001b[0m             \u001b[1;31m# Make sure that we get a last message telling us we are done\u001b[0m\u001b[1;33m\u001b[0m\u001b[1;33m\u001b[0m\u001b[0m\n\u001b[0;32m   1058\u001b[0m             \u001b[0melapsed_time\u001b[0m \u001b[1;33m=\u001b[0m \u001b[0mtime\u001b[0m\u001b[1;33m.\u001b[0m\u001b[0mtime\u001b[0m\u001b[1;33m(\u001b[0m\u001b[1;33m)\u001b[0m \u001b[1;33m-\u001b[0m \u001b[0mself\u001b[0m\u001b[1;33m.\u001b[0m\u001b[0m_start_time\u001b[0m\u001b[1;33m\u001b[0m\u001b[1;33m\u001b[0m\u001b[0m\n",
      "\u001b[1;32m~\\AppData\\Local\\Programs\\Python\\Python39\\lib\\site-packages\\joblib\\parallel.py\u001b[0m in \u001b[0;36mretrieve\u001b[1;34m(self)\u001b[0m\n\u001b[0;32m    933\u001b[0m             \u001b[1;32mtry\u001b[0m\u001b[1;33m:\u001b[0m\u001b[1;33m\u001b[0m\u001b[1;33m\u001b[0m\u001b[0m\n\u001b[0;32m    934\u001b[0m                 \u001b[1;32mif\u001b[0m \u001b[0mgetattr\u001b[0m\u001b[1;33m(\u001b[0m\u001b[0mself\u001b[0m\u001b[1;33m.\u001b[0m\u001b[0m_backend\u001b[0m\u001b[1;33m,\u001b[0m \u001b[1;34m'supports_timeout'\u001b[0m\u001b[1;33m,\u001b[0m \u001b[1;32mFalse\u001b[0m\u001b[1;33m)\u001b[0m\u001b[1;33m:\u001b[0m\u001b[1;33m\u001b[0m\u001b[1;33m\u001b[0m\u001b[0m\n\u001b[1;32m--> 935\u001b[1;33m                     \u001b[0mself\u001b[0m\u001b[1;33m.\u001b[0m\u001b[0m_output\u001b[0m\u001b[1;33m.\u001b[0m\u001b[0mextend\u001b[0m\u001b[1;33m(\u001b[0m\u001b[0mjob\u001b[0m\u001b[1;33m.\u001b[0m\u001b[0mget\u001b[0m\u001b[1;33m(\u001b[0m\u001b[0mtimeout\u001b[0m\u001b[1;33m=\u001b[0m\u001b[0mself\u001b[0m\u001b[1;33m.\u001b[0m\u001b[0mtimeout\u001b[0m\u001b[1;33m)\u001b[0m\u001b[1;33m)\u001b[0m\u001b[1;33m\u001b[0m\u001b[1;33m\u001b[0m\u001b[0m\n\u001b[0m\u001b[0;32m    936\u001b[0m                 \u001b[1;32melse\u001b[0m\u001b[1;33m:\u001b[0m\u001b[1;33m\u001b[0m\u001b[1;33m\u001b[0m\u001b[0m\n\u001b[0;32m    937\u001b[0m                     \u001b[0mself\u001b[0m\u001b[1;33m.\u001b[0m\u001b[0m_output\u001b[0m\u001b[1;33m.\u001b[0m\u001b[0mextend\u001b[0m\u001b[1;33m(\u001b[0m\u001b[0mjob\u001b[0m\u001b[1;33m.\u001b[0m\u001b[0mget\u001b[0m\u001b[1;33m(\u001b[0m\u001b[1;33m)\u001b[0m\u001b[1;33m)\u001b[0m\u001b[1;33m\u001b[0m\u001b[1;33m\u001b[0m\u001b[0m\n",
      "\u001b[1;32m~\\AppData\\Local\\Programs\\Python\\Python39\\lib\\multiprocessing\\pool.py\u001b[0m in \u001b[0;36mget\u001b[1;34m(self, timeout)\u001b[0m\n\u001b[0;32m    763\u001b[0m \u001b[1;33m\u001b[0m\u001b[0m\n\u001b[0;32m    764\u001b[0m     \u001b[1;32mdef\u001b[0m \u001b[0mget\u001b[0m\u001b[1;33m(\u001b[0m\u001b[0mself\u001b[0m\u001b[1;33m,\u001b[0m \u001b[0mtimeout\u001b[0m\u001b[1;33m=\u001b[0m\u001b[1;32mNone\u001b[0m\u001b[1;33m)\u001b[0m\u001b[1;33m:\u001b[0m\u001b[1;33m\u001b[0m\u001b[1;33m\u001b[0m\u001b[0m\n\u001b[1;32m--> 765\u001b[1;33m         \u001b[0mself\u001b[0m\u001b[1;33m.\u001b[0m\u001b[0mwait\u001b[0m\u001b[1;33m(\u001b[0m\u001b[0mtimeout\u001b[0m\u001b[1;33m)\u001b[0m\u001b[1;33m\u001b[0m\u001b[1;33m\u001b[0m\u001b[0m\n\u001b[0m\u001b[0;32m    766\u001b[0m         \u001b[1;32mif\u001b[0m \u001b[1;32mnot\u001b[0m \u001b[0mself\u001b[0m\u001b[1;33m.\u001b[0m\u001b[0mready\u001b[0m\u001b[1;33m(\u001b[0m\u001b[1;33m)\u001b[0m\u001b[1;33m:\u001b[0m\u001b[1;33m\u001b[0m\u001b[1;33m\u001b[0m\u001b[0m\n\u001b[0;32m    767\u001b[0m             \u001b[1;32mraise\u001b[0m \u001b[0mTimeoutError\u001b[0m\u001b[1;33m\u001b[0m\u001b[1;33m\u001b[0m\u001b[0m\n",
      "\u001b[1;32m~\\AppData\\Local\\Programs\\Python\\Python39\\lib\\multiprocessing\\pool.py\u001b[0m in \u001b[0;36mwait\u001b[1;34m(self, timeout)\u001b[0m\n\u001b[0;32m    760\u001b[0m \u001b[1;33m\u001b[0m\u001b[0m\n\u001b[0;32m    761\u001b[0m     \u001b[1;32mdef\u001b[0m \u001b[0mwait\u001b[0m\u001b[1;33m(\u001b[0m\u001b[0mself\u001b[0m\u001b[1;33m,\u001b[0m \u001b[0mtimeout\u001b[0m\u001b[1;33m=\u001b[0m\u001b[1;32mNone\u001b[0m\u001b[1;33m)\u001b[0m\u001b[1;33m:\u001b[0m\u001b[1;33m\u001b[0m\u001b[1;33m\u001b[0m\u001b[0m\n\u001b[1;32m--> 762\u001b[1;33m         \u001b[0mself\u001b[0m\u001b[1;33m.\u001b[0m\u001b[0m_event\u001b[0m\u001b[1;33m.\u001b[0m\u001b[0mwait\u001b[0m\u001b[1;33m(\u001b[0m\u001b[0mtimeout\u001b[0m\u001b[1;33m)\u001b[0m\u001b[1;33m\u001b[0m\u001b[1;33m\u001b[0m\u001b[0m\n\u001b[0m\u001b[0;32m    763\u001b[0m \u001b[1;33m\u001b[0m\u001b[0m\n\u001b[0;32m    764\u001b[0m     \u001b[1;32mdef\u001b[0m \u001b[0mget\u001b[0m\u001b[1;33m(\u001b[0m\u001b[0mself\u001b[0m\u001b[1;33m,\u001b[0m \u001b[0mtimeout\u001b[0m\u001b[1;33m=\u001b[0m\u001b[1;32mNone\u001b[0m\u001b[1;33m)\u001b[0m\u001b[1;33m:\u001b[0m\u001b[1;33m\u001b[0m\u001b[1;33m\u001b[0m\u001b[0m\n",
      "\u001b[1;32m~\\AppData\\Local\\Programs\\Python\\Python39\\lib\\threading.py\u001b[0m in \u001b[0;36mwait\u001b[1;34m(self, timeout)\u001b[0m\n\u001b[0;32m    572\u001b[0m             \u001b[0msignaled\u001b[0m \u001b[1;33m=\u001b[0m \u001b[0mself\u001b[0m\u001b[1;33m.\u001b[0m\u001b[0m_flag\u001b[0m\u001b[1;33m\u001b[0m\u001b[1;33m\u001b[0m\u001b[0m\n\u001b[0;32m    573\u001b[0m             \u001b[1;32mif\u001b[0m \u001b[1;32mnot\u001b[0m \u001b[0msignaled\u001b[0m\u001b[1;33m:\u001b[0m\u001b[1;33m\u001b[0m\u001b[1;33m\u001b[0m\u001b[0m\n\u001b[1;32m--> 574\u001b[1;33m                 \u001b[0msignaled\u001b[0m \u001b[1;33m=\u001b[0m \u001b[0mself\u001b[0m\u001b[1;33m.\u001b[0m\u001b[0m_cond\u001b[0m\u001b[1;33m.\u001b[0m\u001b[0mwait\u001b[0m\u001b[1;33m(\u001b[0m\u001b[0mtimeout\u001b[0m\u001b[1;33m)\u001b[0m\u001b[1;33m\u001b[0m\u001b[1;33m\u001b[0m\u001b[0m\n\u001b[0m\u001b[0;32m    575\u001b[0m             \u001b[1;32mreturn\u001b[0m \u001b[0msignaled\u001b[0m\u001b[1;33m\u001b[0m\u001b[1;33m\u001b[0m\u001b[0m\n\u001b[0;32m    576\u001b[0m \u001b[1;33m\u001b[0m\u001b[0m\n",
      "\u001b[1;32m~\\AppData\\Local\\Programs\\Python\\Python39\\lib\\threading.py\u001b[0m in \u001b[0;36mwait\u001b[1;34m(self, timeout)\u001b[0m\n\u001b[0;32m    310\u001b[0m         \u001b[1;32mtry\u001b[0m\u001b[1;33m:\u001b[0m    \u001b[1;31m# restore state no matter what (e.g., KeyboardInterrupt)\u001b[0m\u001b[1;33m\u001b[0m\u001b[1;33m\u001b[0m\u001b[0m\n\u001b[0;32m    311\u001b[0m             \u001b[1;32mif\u001b[0m \u001b[0mtimeout\u001b[0m \u001b[1;32mis\u001b[0m \u001b[1;32mNone\u001b[0m\u001b[1;33m:\u001b[0m\u001b[1;33m\u001b[0m\u001b[1;33m\u001b[0m\u001b[0m\n\u001b[1;32m--> 312\u001b[1;33m                 \u001b[0mwaiter\u001b[0m\u001b[1;33m.\u001b[0m\u001b[0macquire\u001b[0m\u001b[1;33m(\u001b[0m\u001b[1;33m)\u001b[0m\u001b[1;33m\u001b[0m\u001b[1;33m\u001b[0m\u001b[0m\n\u001b[0m\u001b[0;32m    313\u001b[0m                 \u001b[0mgotit\u001b[0m \u001b[1;33m=\u001b[0m \u001b[1;32mTrue\u001b[0m\u001b[1;33m\u001b[0m\u001b[1;33m\u001b[0m\u001b[0m\n\u001b[0;32m    314\u001b[0m             \u001b[1;32melse\u001b[0m\u001b[1;33m:\u001b[0m\u001b[1;33m\u001b[0m\u001b[1;33m\u001b[0m\u001b[0m\n",
      "\u001b[1;31mKeyboardInterrupt\u001b[0m: "
     ]
    }
   ],
   "source": [
    "best_rf = best_clf_rf.best_estimator_.fit(X_res,y_res)\n",
    "feat_importances = pd.Series(best_rf.feature_importances_, index=X_train.columns)\n",
    "feat_importances.nlargest(20).plot(kind='barh')"
   ]
  },
  {
   "cell_type": "code",
   "execution_count": null,
   "metadata": {},
   "outputs": [
    {
     "data": {
      "text/plain": [
       "\"\\nparam_grid = tuned_parameters = [{'kernel': ['rbf'], 'gamma': [.1,.5,1,2,5,10],\\n                                  'C': [.1, 1, 10, 100, 1000]},\\n                                 {'kernel': ['linear'], 'C': [.1, 1, 10, 100, 1000]},\\n                                 {'kernel': ['poly'], 'degree' : [2,3,4,5], 'C': [.1, 1, 10, 100, 1000]}]\\n\\nclf_svc = RandomizedSearchCV(svc, param_distributions = param_grid, cv = 5, verbose = True, n_jobs = -1)\\nbest_clf_svc = clf_svc.fit(X_res,y_res)\\nclf_performance(best_clf_svc,'SVC')\\n\""
      ]
     },
     "execution_count": 257,
     "metadata": {},
     "output_type": "execute_result"
    }
   ],
   "source": [
    "'''\n",
    "param_grid = tuned_parameters = [{'kernel': ['rbf'], 'gamma': [.1,.5,1,2,5,10],\n",
    "                                  'C': [.1, 1, 10, 100, 1000]},\n",
    "                                 {'kernel': ['linear'], 'C': [.1, 1, 10, 100, 1000]},\n",
    "                                 {'kernel': ['poly'], 'degree' : [2,3,4,5], 'C': [.1, 1, 10, 100, 1000]}]\n",
    "\n",
    "clf_svc = RandomizedSearchCV(svc, param_distributions = param_grid, cv = 5, verbose = True, n_jobs = -1)\n",
    "best_clf_svc = clf_svc.fit(X_res,y_res)\n",
    "clf_performance(best_clf_svc,'SVC')\n",
    "'''"
   ]
  },
  {
   "cell_type": "code",
   "execution_count": null,
   "metadata": {},
   "outputs": [
    {
     "data": {
      "text/plain": [
       "\"\\nparam_grid = {\\n    'n_estimators': [450,500,550],\\n    'colsample_bytree': [0.75,0.8,0.85],\\n    'max_depth': [None],\\n    'reg_alpha': [1],\\n    'reg_lambda': [2, 5, 10],\\n    'subsample': [0.55, 0.6, .65],\\n    'learning_rate':[0.5],\\n    'gamma':[.5,1,2],\\n    'min_child_weight':[0.01],\\n    'sampling_method': ['uniform']\\n}\\n\\nclf_xgb = RandomizedSearchCV(xgb, param_distributions = param_grid, cv = 5, verbose = True, n_jobs = -1)\\nbest_clf_xgb = clf_xgb.fit(X_res,y_res)\\nclf_performance(best_clf_xgb,'XGB')\\n\""
      ]
     },
     "execution_count": 258,
     "metadata": {},
     "output_type": "execute_result"
    }
   ],
   "source": [
    "'''\n",
    "param_grid = {\n",
    "    'n_estimators': [450,500,550],\n",
    "    'colsample_bytree': [0.75,0.8,0.85],\n",
    "    'max_depth': [None],\n",
    "    'reg_alpha': [1],\n",
    "    'reg_lambda': [2, 5, 10],\n",
    "    'subsample': [0.55, 0.6, .65],\n",
    "    'learning_rate':[0.5],\n",
    "    'gamma':[.5,1,2],\n",
    "    'min_child_weight':[0.01],\n",
    "    'sampling_method': ['uniform']\n",
    "}\n",
    "\n",
    "clf_xgb = RandomizedSearchCV(xgb, param_distributions = param_grid, cv = 5, verbose = True, n_jobs = -1)\n",
    "best_clf_xgb = clf_xgb.fit(X_res,y_res)\n",
    "clf_performance(best_clf_xgb,'XGB')\n",
    "'''"
   ]
  },
  {
   "cell_type": "code",
   "execution_count": null,
   "metadata": {},
   "outputs": [
    {
     "name": "stdout",
     "output_type": "stream",
     "text": [
      "Fitting 5 folds for each of 1 candidates, totalling 5 fits\n"
     ]
    },
    {
     "name": "stderr",
     "output_type": "stream",
     "text": [
      "C:\\Users\\Krow\\AppData\\Local\\Programs\\Python\\Python39\\lib\\site-packages\\xgboost\\sklearn.py:1224: UserWarning: The use of label encoder in XGBClassifier is deprecated and will be removed in a future release. To remove this warning, do the following: 1) Pass option use_label_encoder=False when constructing XGBClassifier object; and 2) Encode your labels (y) as integers starting with 0, i.e. 0, 1, 2, ..., [num_class - 1].\n",
      "  warnings.warn(label_encoder_deprecation_msg, UserWarning)\n"
     ]
    },
    {
     "name": "stdout",
     "output_type": "stream",
     "text": [
      "[02:59:38] WARNING: C:/Users/Administrator/workspace/xgboost-win64_release_1.5.0/src/learner.cc:1115: Starting in XGBoost 1.3.0, the default evaluation metric used with the objective 'multi:softprob' was changed from 'merror' to 'mlogloss'. Explicitly set eval_metric if you'd like to restore the old behavior.\n",
      "XGB\n",
      "Best Score: 0.8782323686486097\n",
      "Best Parameters: {'colsample_bytree': 0.75, 'gamma': 0.5, 'learning_rate': 0.5, 'max_depth': None, 'min_child_weight': 0.01, 'n_estimators': 550, 'reg_alpha': 1, 'reg_lambda': 2, 'sampling_method': 'uniform', 'subsample': 0.55}\n"
     ]
    }
   ],
   "source": [
    "\n",
    "param_grid = {\n",
    "    'n_estimators': [550],\n",
    "    'colsample_bytree': [0.75],\n",
    "    'max_depth': [None],\n",
    "    'reg_alpha': [1],\n",
    "    'reg_lambda': [2],\n",
    "    'subsample': [0.55],\n",
    "    'learning_rate':[0.5],\n",
    "    'gamma':[.5],\n",
    "    'min_child_weight':[0.01],\n",
    "    'sampling_method': ['uniform']\n",
    "}\n",
    "\n",
    "clf_xgb = GridSearchCV(xgb, param_grid = param_grid, cv = 5, verbose = True, n_jobs = -1)\n",
    "best_clf_xgb = clf_xgb.fit(X_res,y_res)\n",
    "clf_performance(best_clf_xgb,'XGB')\n"
   ]
  },
  {
   "cell_type": "code",
   "execution_count": null,
   "metadata": {},
   "outputs": [
    {
     "name": "stderr",
     "output_type": "stream",
     "text": [
      "C:\\Users\\Krow\\AppData\\Local\\Programs\\Python\\Python39\\lib\\site-packages\\xgboost\\sklearn.py:1224: UserWarning: The use of label encoder in XGBClassifier is deprecated and will be removed in a future release. To remove this warning, do the following: 1) Pass option use_label_encoder=False when constructing XGBClassifier object; and 2) Encode your labels (y) as integers starting with 0, i.e. 0, 1, 2, ..., [num_class - 1].\n",
      "  warnings.warn(label_encoder_deprecation_msg, UserWarning)\n"
     ]
    },
    {
     "name": "stdout",
     "output_type": "stream",
     "text": [
      "[03:00:18] WARNING: C:/Users/Administrator/workspace/xgboost-win64_release_1.5.0/src/learner.cc:1115: Starting in XGBoost 1.3.0, the default evaluation metric used with the objective 'multi:softprob' was changed from 'merror' to 'mlogloss'. Explicitly set eval_metric if you'd like to restore the old behavior.\n"
     ]
    },
    {
     "data": {
      "text/plain": [
       "XGBClassifier(base_score=0.5, booster='gbtree', colsample_bylevel=1,\n",
       "              colsample_bynode=1, colsample_bytree=1, enable_categorical=False,\n",
       "              gamma=0, gpu_id=-1, importance_type=None,\n",
       "              interaction_constraints='', learning_rate=0.300000012,\n",
       "              max_delta_step=0, max_depth=6, min_child_weight=1, missing=nan,\n",
       "              monotone_constraints='()', n_estimators=100, n_jobs=-1,\n",
       "              num_parallel_tree=1, objective='multi:softprob', predictor='auto',\n",
       "              random_state=2021, reg_alpha=0, reg_lambda=1,\n",
       "              scale_pos_weight=None, subsample=1, tree_method='exact',\n",
       "              validate_parameters=1, verbosity=None)"
      ]
     },
     "execution_count": 260,
     "metadata": {},
     "output_type": "execute_result"
    }
   ],
   "source": [
    "lr.fit(X_res,y_res)\n",
    "dt.fit(X_res,y_res)\n",
    "knn.fit(X_res,y_res)\n",
    "rf.fit(X_res,y_res)\n",
    "xgb.fit(X_res,y_res)"
   ]
  },
  {
   "cell_type": "code",
   "execution_count": null,
   "metadata": {},
   "outputs": [],
   "source": [
    "predictions = rf.predict(X_test)"
   ]
  },
  {
   "cell_type": "code",
   "execution_count": null,
   "metadata": {},
   "outputs": [
    {
     "data": {
      "text/plain": [
       "<matplotlib.collections.PathCollection at 0x26f8b362220>"
      ]
     },
     "execution_count": 262,
     "metadata": {},
     "output_type": "execute_result"
    },
    {
     "data": {
      "image/png": "[encoded data removed]",
      "text/plain": [
       "<Figure size 432x288 with 1 Axes>"
      ]
     },
     "metadata": {
      "needs_background": "light"
     },
     "output_type": "display_data"
    }
   ],
   "source": [
    "plt.scatter(y_test,predictions)"
   ]
  },
  {
   "cell_type": "code",
   "execution_count": null,
   "metadata": {},
   "outputs": [],
   "source": [
    "from sklearn.metrics import ConfusionMatrixDisplay\n",
    "from sklearn.svm import SVC\n",
    "from sklearn.datasets import make_classification"
   ]
  },
  {
   "cell_type": "code",
   "execution_count": null,
   "metadata": {},
   "outputs": [
    {
     "data": {
      "text/plain": [
       "<sklearn.metrics._plot.confusion_matrix.ConfusionMatrixDisplay at 0x26f88f2c250>"
      ]
     },
     "execution_count": 264,
     "metadata": {},
     "output_type": "execute_result"
    },
    {
     "data": {
      "image/png": "[encoded data removed]",
      "text/plain": [
       "<Figure size 432x288 with 2 Axes>"
      ]
     },
     "metadata": {
      "needs_background": "light"
     },
     "output_type": "display_data"
    }
   ],
   "source": [
    "ConfusionMatrixDisplay.from_estimator(lr, X_test, y_test)"
   ]
  },
  {
   "cell_type": "code",
   "execution_count": null,
   "metadata": {},
   "outputs": [
    {
     "data": {
      "text/plain": [
       "<sklearn.metrics._plot.confusion_matrix.ConfusionMatrixDisplay at 0x26f88fa2880>"
      ]
     },
     "execution_count": 265,
     "metadata": {},
     "output_type": "execute_result"
    },
    {
     "data": {
      "image/png": "[encoded data removed]",
      "text/plain": [
       "<Figure size 432x288 with 2 Axes>"
      ]
     },
     "metadata": {
      "needs_background": "light"
     },
     "output_type": "display_data"
    }
   ],
   "source": [
    "ConfusionMatrixDisplay.from_estimator(dt, X_test, y_test)"
   ]
  },
  {
   "cell_type": "code",
   "execution_count": null,
   "metadata": {},
   "outputs": [
    {
     "data": {
      "text/plain": [
       "<sklearn.metrics._plot.confusion_matrix.ConfusionMatrixDisplay at 0x26f8b4886d0>"
      ]
     },
     "execution_count": 266,
     "metadata": {},
     "output_type": "execute_result"
    },
    {
     "data": {
      "image/png": "[encoded data removed]",
      "text/plain": [
       "<Figure size 432x288 with 2 Axes>"
      ]
     },
     "metadata": {
      "needs_background": "light"
     },
     "output_type": "display_data"
    }
   ],
   "source": [
    "ConfusionMatrixDisplay.from_estimator(knn, X_test, y_test)"
   ]
  },
  {
   "cell_type": "code",
   "execution_count": null,
   "metadata": {},
   "outputs": [
    {
     "data": {
      "text/plain": [
       "<sklearn.metrics._plot.confusion_matrix.ConfusionMatrixDisplay at 0x26f8fabc2b0>"
      ]
     },
     "execution_count": 267,
     "metadata": {},
     "output_type": "execute_result"
    },
    {
     "data": {
      "image/png": "[encoded data removed]",
      "text/plain": [
       "<Figure size 432x288 with 2 Axes>"
      ]
     },
     "metadata": {
      "needs_background": "light"
     },
     "output_type": "display_data"
    }
   ],
   "source": [
    "ConfusionMatrixDisplay.from_estimator(rf, X_test, y_test)"
   ]
  },
  {
   "cell_type": "code",
   "execution_count": null,
   "metadata": {},
   "outputs": [
    {
     "data": {
      "text/plain": [
       "<sklearn.metrics._plot.confusion_matrix.ConfusionMatrixDisplay at 0x26f91e6c0d0>"
      ]
     },
     "execution_count": 268,
     "metadata": {},
     "output_type": "execute_result"
    },
    {
     "data": {
      "image/png": "[encoded data removed]",
      "text/plain": [
       "<Figure size 432x288 with 2 Axes>"
      ]
     },
     "metadata": {
      "needs_background": "light"
     },
     "output_type": "display_data"
    }
   ],
   "source": [
    "ConfusionMatrixDisplay.from_estimator(best_clf_rf, X_test, y_test)"
   ]
  },
  {
   "cell_type": "code",
   "execution_count": null,
   "metadata": {},
   "outputs": [
    {
     "data": {
      "text/plain": [
       "<sklearn.metrics._plot.confusion_matrix.ConfusionMatrixDisplay at 0x26f86c36190>"
      ]
     },
     "execution_count": 269,
     "metadata": {},
     "output_type": "execute_result"
    },
    {
     "data": {
      "image/png": "[encoded data removed]",
      "text/plain": [
       "<Figure size 432x288 with 2 Axes>"
      ]
     },
     "metadata": {
      "needs_background": "light"
     },
     "output_type": "display_data"
    }
   ],
   "source": [
    "ConfusionMatrixDisplay.from_estimator(best_clf_xgb, X_test, y_test)"
   ]
  },
  {
   "cell_type": "code",
   "execution_count": null,
   "metadata": {},
   "outputs": [],
   "source": [
    "testing = pd.read_csv('workedTesting.csv')"
   ]
  },
  {
   "cell_type": "code",
   "execution_count": null,
   "metadata": {},
   "outputs": [
    {
     "name": "stdout",
     "output_type": "stream",
     "text": [
      "<class 'pandas.core.frame.DataFrame'>\n",
      "RangeIndex: 6812 entries, 0 to 6811\n",
      "Data columns (total 22 columns):\n",
      " #   Column                   Non-Null Count  Dtype   \n",
      "---  ------                   --------------  -----   \n",
      " 0   AVERAGE_ATMOSP_PRESSURE  6812 non-null   float64 \n",
      " 1   AVERAGE_HUMIDITY         6812 non-null   float64 \n",
      " 2   AVERAGE_SPEED            6812 non-null   float64 \n",
      " 3   AVERAGE_SPEED_DIFF       6812 non-null   category\n",
      " 4   AVERAGE_SPEED_DIFF_Num   6812 non-null   float64 \n",
      " 5   AVERAGE_TEMPERATURE      6812 non-null   float64 \n",
      " 6   AVERAGE_TIME             6812 non-null   float64 \n",
      " 7   AVERAGE_TIME_DIFF        6812 non-null   float64 \n",
      " 8   AVERAGE_WIND_SPEED       6812 non-null   float64 \n",
      " 9   DARK                     6812 non-null   uint8   \n",
      " 10  LIGHT                    6812 non-null   uint8   \n",
      " 11  LOW_LIGHT                6812 non-null   uint8   \n",
      " 12  céu limpo                6812 non-null   uint8   \n",
      " 13  céu pouco nublado        6812 non-null   uint8   \n",
      " 14  day                      6812 non-null   int64   \n",
      " 15  hour                     6812 non-null   int64   \n",
      " 16  month                    6812 non-null   int64   \n",
      " 17  nublado                  6812 non-null   uint8   \n",
      " 18  nuvens quebradas         6812 non-null   uint8   \n",
      " 19  weekday                  6812 non-null   int64   \n",
      " 20  weekend                  6812 non-null   int64   \n",
      " 21  year                     6812 non-null   int64   \n",
      "dtypes: category(1), float64(8), int64(6), uint8(7)\n",
      "memory usage: 798.6 KB\n"
     ]
    }
   ],
   "source": [
    "finalTrain.info()"
   ]
  },
  {
   "cell_type": "code",
   "execution_count": null,
   "metadata": {},
   "outputs": [
    {
     "name": "stdout",
     "output_type": "stream",
     "text": [
      "<class 'pandas.core.frame.DataFrame'>\n",
      "RangeIndex: 1500 entries, 0 to 1499\n",
      "Data columns (total 21 columns):\n",
      " #   Column                   Non-Null Count  Dtype  \n",
      "---  ------                   --------------  -----  \n",
      " 0   AVERAGE_ATMOSP_PRESSURE  1500 non-null   float64\n",
      " 1   AVERAGE_HUMIDITY         1500 non-null   float64\n",
      " 2   AVERAGE_SPEED            1500 non-null   float64\n",
      " 3   AVERAGE_SPEED_DIFF_Num   1500 non-null   float64\n",
      " 4   AVERAGE_TEMPERATURE      1500 non-null   float64\n",
      " 5   AVERAGE_TIME             1500 non-null   float64\n",
      " 6   AVERAGE_TIME_DIFF        1500 non-null   float64\n",
      " 7   AVERAGE_WIND_SPEED       1500 non-null   float64\n",
      " 8   DARK                     1500 non-null   int64  \n",
      " 9   LIGHT                    1500 non-null   int64  \n",
      " 10  LOW_LIGHT                1500 non-null   int64  \n",
      " 11  céu limpo                1500 non-null   int64  \n",
      " 12  céu pouco nublado        1500 non-null   int64  \n",
      " 13  day                      1500 non-null   int64  \n",
      " 14  hour                     1500 non-null   int64  \n",
      " 15  month                    1500 non-null   int64  \n",
      " 16  nublado                  1500 non-null   int64  \n",
      " 17  nuvens quebradas         1500 non-null   int64  \n",
      " 18  weekday                  1500 non-null   int64  \n",
      " 19  weekend                  1500 non-null   int64  \n",
      " 20  year                     1500 non-null   int64  \n",
      "dtypes: float64(8), int64(13)\n",
      "memory usage: 246.2 KB\n"
     ]
    }
   ],
   "source": [
    "testing.info()"
   ]
  },
  {
   "cell_type": "code",
   "execution_count": null,
   "metadata": {},
   "outputs": [],
   "source": [
    "testing[['AVERAGE_ATMOSP_PRESSURE','AVERAGE_HUMIDITY','AVERAGE_TEMPERATURE','AVERAGE_TIME_DIFF','AVERAGE_WIND_SPEED','AVERAGE_TIME','AVERAGE_SPEED','AVERAGE_SPEED_DIFF_Num']] = scaler.transform(testing[['AVERAGE_ATMOSP_PRESSURE','AVERAGE_HUMIDITY','AVERAGE_TEMPERATURE','AVERAGE_TIME_DIFF','AVERAGE_WIND_SPEED','AVERAGE_TIME','AVERAGE_SPEED','AVERAGE_SPEED_DIFF_Num']])"
   ]
  },
  {
   "cell_type": "code",
   "execution_count": null,
   "metadata": {},
   "outputs": [],
   "source": [
    "prediction = best_clf_rf.predict(testing)"
   ]
  },
  {
   "cell_type": "code",
   "execution_count": null,
   "metadata": {},
   "outputs": [],
   "source": [
    "sub_df = pd.read_csv('example_submission.csv')\n",
    "final_data = {'RowId': sub_df.RowId, 'Speed_Diff': prediction}\n",
    "submission = pd.DataFrame(data=final_data)"
   ]
  },
  {
   "cell_type": "code",
   "execution_count": null,
   "metadata": {},
   "outputs": [
    {
     "data": {
      "text/plain": [
       "None         474\n",
       "Low          332\n",
       "Medium       321\n",
       "High         261\n",
       "Very_High    112\n",
       "Name: Speed_Diff, dtype: int64"
      ]
     },
     "execution_count": 276,
     "metadata": {},
     "output_type": "execute_result"
    }
   ],
   "source": [
    "submission['Speed_Diff'].value_counts()"
   ]
  },
  {
   "cell_type": "code",
   "execution_count": null,
   "metadata": {},
   "outputs": [],
   "source": [
    "#pred = pd.DataFrame(prediction)\n",
    "#sub_df = pd.read_csv('example_submission.csv')\n",
    "#datasets=pd.concat([sub_df['RowId'],pred],axis=1)\n",
    "#datasets.columns=['RowId','Speed_Diff']\n",
    "#datasets"
   ]
  },
  {
   "cell_type": "code",
   "execution_count": null,
   "metadata": {},
   "outputs": [],
   "source": [
    "compare = pd.read_csv('sample_submission.csv')"
   ]
  },
  {
   "cell_type": "code",
   "execution_count": null,
   "metadata": {},
   "outputs": [
    {
     "data": {
      "text/plain": [
       "None         495\n",
       "Medium       326\n",
       "Low          312\n",
       "High         268\n",
       "Very_High     99\n",
       "Name: Speed_Diff, dtype: int64"
      ]
     },
     "execution_count": 279,
     "metadata": {},
     "output_type": "execute_result"
    }
   ],
   "source": [
    "compare['Speed_Diff'].value_counts()"
   ]
  },
  {
   "cell_type": "code",
   "execution_count": null,
   "metadata": {},
   "outputs": [
    {
     "data": {
      "text/plain": [
       "equals\n",
       "True      1378\n",
       "False      122\n",
       "dtype: int64"
      ]
     },
     "execution_count": 280,
     "metadata": {},
     "output_type": "execute_result"
    }
   ],
   "source": [
    "df1 = np.where(submission['Speed_Diff'] == compare['Speed_Diff'], 'True', 'False')\n",
    "df1 = pd.DataFrame(df1)\n",
    "df1.columns=['equals']\n",
    "df1.value_counts()"
   ]
  },
  {
   "cell_type": "code",
   "execution_count": null,
   "metadata": {},
   "outputs": [],
   "source": [
    "submission.to_csv('submission.csv',index=False)"
   ]
  }
 ],
 "metadata": {
  "interpreter": {
   "hash": "93f4246b72b1dfd2a0724448b6458aeeaf8f9dfbfbe240c26e171f90999410ad"
  },
  "kernelspec": {
   "display_name": "Python 3.8.8 64-bit ('base': conda)",
   "language": "python",
   "name": "python3"
  },
  "language_info": {
   "codemirror_mode": {
    "name": "ipython",
    "version": 3
   },
   "file_extension": ".py",
   "mimetype": "text/x-python",
   "name": "python",
   "nbconvert_exporter": "python",
   "pygments_lexer": "ipython3",
   "version": "3.9.9"
  },
  "orig_nbformat": 4
 },
 "nbformat": 4,
 "nbformat_minor": 2
}
