{
 "cells": [
  {
   "cell_type": "code",
   "execution_count": 537,
   "metadata": {},
   "outputs": [],
   "source": [
    "import numpy as np\n",
    "import pandas as pd\n",
    "import xlrd\n",
    "import xlwt\n",
    "import matplotlib.pyplot as plt\n",
    "import seaborn as sns\n",
    "import sklearn\n",
    "import jupyterlab\n",
    "%matplotlib inline"
   ]
  },
  {
   "cell_type": "code",
   "execution_count": 538,
   "metadata": {},
   "outputs": [],
   "source": [
    "#training = pd.read_csv('training_data.csv', encoding = \"latin\")\n",
    "training = pd.read_csv('test_data.csv', encoding = \"latin\")"
   ]
  },
  {
   "cell_type": "code",
   "execution_count": 539,
   "metadata": {},
   "outputs": [],
   "source": [
    "training = training.fillna('NOTHING')"
   ]
  },
  {
   "cell_type": "code",
   "execution_count": 540,
   "metadata": {},
   "outputs": [
    {
     "data": {
      "text/plain": [
       "NOTHING              599\n",
       "céu claro            345\n",
       "céu pouco nublado    109\n",
       "algumas nuvens        98\n",
       "nuvens quebrados      96\n",
       "nuvens quebradas      95\n",
       "nuvens dispersas      94\n",
       "céu limpo             27\n",
       "tempo nublado         20\n",
       "nublado               17\n",
       "Name: AVERAGE_CLOUDINESS, dtype: int64"
      ]
     },
     "execution_count": 540,
     "metadata": {},
     "output_type": "execute_result"
    }
   ],
   "source": [
    "training['AVERAGE_CLOUDINESS'].value_counts()"
   ]
  },
  {
   "cell_type": "code",
   "execution_count": 541,
   "metadata": {},
   "outputs": [],
   "source": [
    "training.loc[training.AVERAGE_CLOUDINESS == 'céu claro', 'AVERAGE_CLOUDINESS'] = 'céu limpo'\n",
    "training.loc[training.AVERAGE_CLOUDINESS == 'nuvens dispersas', 'AVERAGE_CLOUDINESS'] = 'nuvens quebradas'\n",
    "training.loc[training.AVERAGE_CLOUDINESS == 'nuvens quebrados', 'AVERAGE_CLOUDINESS'] = 'nuvens quebradas'\n",
    "training.loc[training.AVERAGE_CLOUDINESS == 'algumas nuvens', 'AVERAGE_CLOUDINESS'] = 'nuvens quebradas'\n",
    "training.loc[training.AVERAGE_CLOUDINESS == 'tempo nublado', 'AVERAGE_CLOUDINESS'] = 'nublado'"
   ]
  },
  {
   "cell_type": "code",
   "execution_count": 542,
   "metadata": {},
   "outputs": [
    {
     "data": {
      "text/plain": [
       "NOTHING              599\n",
       "nuvens quebradas     383\n",
       "céu limpo            372\n",
       "céu pouco nublado    109\n",
       "nublado               37\n",
       "Name: AVERAGE_CLOUDINESS, dtype: int64"
      ]
     },
     "execution_count": 542,
     "metadata": {},
     "output_type": "execute_result"
    }
   ],
   "source": [
    "training['AVERAGE_CLOUDINESS'].value_counts()"
   ]
  },
  {
   "cell_type": "code",
   "execution_count": 543,
   "metadata": {},
   "outputs": [],
   "source": [
    "training['AVERAGE_CLOUDINESS'] = pd.Categorical(training['AVERAGE_CLOUDINESS'])"
   ]
  },
  {
   "cell_type": "code",
   "execution_count": 544,
   "metadata": {},
   "outputs": [
    {
     "name": "stdout",
     "output_type": "stream",
     "text": [
      "<class 'pandas.core.frame.DataFrame'>\n",
      "RangeIndex: 1500 entries, 0 to 1499\n",
      "Data columns (total 13 columns):\n",
      " #   Column                   Non-Null Count  Dtype   \n",
      "---  ------                   --------------  -----   \n",
      " 0   city_name                1500 non-null   object  \n",
      " 1   record_date              1500 non-null   object  \n",
      " 2   AVERAGE_FREE_FLOW_SPEED  1500 non-null   float64 \n",
      " 3   AVERAGE_TIME_DIFF        1500 non-null   float64 \n",
      " 4   AVERAGE_FREE_FLOW_TIME   1500 non-null   float64 \n",
      " 5   LUMINOSITY               1500 non-null   object  \n",
      " 6   AVERAGE_TEMPERATURE      1500 non-null   float64 \n",
      " 7   AVERAGE_ATMOSP_PRESSURE  1500 non-null   float64 \n",
      " 8   AVERAGE_HUMIDITY         1500 non-null   float64 \n",
      " 9   AVERAGE_WIND_SPEED       1500 non-null   float64 \n",
      " 10  AVERAGE_CLOUDINESS       1500 non-null   category\n",
      " 11  AVERAGE_PRECIPITATION    1500 non-null   float64 \n",
      " 12  AVERAGE_RAIN             1500 non-null   object  \n",
      "dtypes: category(1), float64(8), object(4)\n",
      "memory usage: 142.4+ KB\n"
     ]
    }
   ],
   "source": [
    "training.info()"
   ]
  },
  {
   "cell_type": "code",
   "execution_count": 545,
   "metadata": {},
   "outputs": [],
   "source": [
    "training['record_date'] = pd.to_datetime(training['record_date'])\n",
    "training['weekday'] = training['record_date'].dt.dayofweek\n",
    "training['hour'] = training['record_date'].dt.hour\n",
    "training['month'] = training['record_date'].dt.month\n",
    "#training['year'] = training['record_date'].dt.year\n",
    "#training['day'] = training['record_date'].dt.day"
   ]
  },
  {
   "cell_type": "code",
   "execution_count": 546,
   "metadata": {},
   "outputs": [],
   "source": [
    "training['unique_id'] = training.index + 1"
   ]
  },
  {
   "cell_type": "code",
   "execution_count": 547,
   "metadata": {},
   "outputs": [],
   "source": [
    "#trainingWork = training.drop(['AVERAGE_PRECIPITATION','city_name','record_date','AVERAGE_RAIN','AVERAGE_SPEED_DIFF'],axis=1)\n",
    "trainingWork = training.drop(['AVERAGE_PRECIPITATION','city_name','record_date','AVERAGE_RAIN'],axis=1)"
   ]
  },
  {
   "cell_type": "code",
   "execution_count": 548,
   "metadata": {},
   "outputs": [
    {
     "data": {
      "text/html": [
       "<div>\n",
       "<style scoped>\n",
       "    .dataframe tbody tr th:only-of-type {\n",
       "        vertical-align: middle;\n",
       "    }\n",
       "\n",
       "    .dataframe tbody tr th {\n",
       "        vertical-align: top;\n",
       "    }\n",
       "\n",
       "    .dataframe thead th {\n",
       "        text-align: right;\n",
       "    }\n",
       "</style>\n",
       "<table border=\"1\" class=\"dataframe\">\n",
       "  <thead>\n",
       "    <tr style=\"text-align: right;\">\n",
       "      <th></th>\n",
       "      <th>city_name</th>\n",
       "      <th>record_date</th>\n",
       "      <th>AVERAGE_FREE_FLOW_SPEED</th>\n",
       "      <th>AVERAGE_TIME_DIFF</th>\n",
       "      <th>AVERAGE_FREE_FLOW_TIME</th>\n",
       "      <th>LUMINOSITY</th>\n",
       "      <th>AVERAGE_TEMPERATURE</th>\n",
       "      <th>AVERAGE_ATMOSP_PRESSURE</th>\n",
       "      <th>AVERAGE_HUMIDITY</th>\n",
       "      <th>AVERAGE_WIND_SPEED</th>\n",
       "      <th>AVERAGE_CLOUDINESS</th>\n",
       "      <th>AVERAGE_PRECIPITATION</th>\n",
       "      <th>AVERAGE_RAIN</th>\n",
       "      <th>weekday</th>\n",
       "      <th>hour</th>\n",
       "      <th>month</th>\n",
       "      <th>unique_id</th>\n",
       "    </tr>\n",
       "  </thead>\n",
       "  <tbody>\n",
       "    <tr>\n",
       "      <th>0</th>\n",
       "      <td>Porto</td>\n",
       "      <td>2019-02-13 23:00:00</td>\n",
       "      <td>39.2</td>\n",
       "      <td>0.0</td>\n",
       "      <td>91.0</td>\n",
       "      <td>DARK</td>\n",
       "      <td>8.0</td>\n",
       "      <td>1026.0</td>\n",
       "      <td>71.0</td>\n",
       "      <td>1.0</td>\n",
       "      <td>céu limpo</td>\n",
       "      <td>0.0</td>\n",
       "      <td>NOTHING</td>\n",
       "      <td>2</td>\n",
       "      <td>23</td>\n",
       "      <td>2</td>\n",
       "      <td>1</td>\n",
       "    </tr>\n",
       "    <tr>\n",
       "      <th>1</th>\n",
       "      <td>Porto</td>\n",
       "      <td>2018-11-28 20:00:00</td>\n",
       "      <td>42.5</td>\n",
       "      <td>12.2</td>\n",
       "      <td>76.8</td>\n",
       "      <td>DARK</td>\n",
       "      <td>11.0</td>\n",
       "      <td>1020.0</td>\n",
       "      <td>93.0</td>\n",
       "      <td>4.0</td>\n",
       "      <td>nuvens quebradas</td>\n",
       "      <td>0.0</td>\n",
       "      <td>NOTHING</td>\n",
       "      <td>2</td>\n",
       "      <td>20</td>\n",
       "      <td>11</td>\n",
       "      <td>2</td>\n",
       "    </tr>\n",
       "    <tr>\n",
       "      <th>2</th>\n",
       "      <td>Porto</td>\n",
       "      <td>2018-08-14 05:00:00</td>\n",
       "      <td>45.9</td>\n",
       "      <td>0.0</td>\n",
       "      <td>86.3</td>\n",
       "      <td>DARK</td>\n",
       "      <td>14.0</td>\n",
       "      <td>1017.0</td>\n",
       "      <td>93.0</td>\n",
       "      <td>0.0</td>\n",
       "      <td>NOTHING</td>\n",
       "      <td>0.0</td>\n",
       "      <td>NOTHING</td>\n",
       "      <td>1</td>\n",
       "      <td>5</td>\n",
       "      <td>8</td>\n",
       "      <td>3</td>\n",
       "    </tr>\n",
       "    <tr>\n",
       "      <th>3</th>\n",
       "      <td>Porto</td>\n",
       "      <td>2019-07-06 17:00:00</td>\n",
       "      <td>33.2</td>\n",
       "      <td>51.7</td>\n",
       "      <td>89.9</td>\n",
       "      <td>LIGHT</td>\n",
       "      <td>22.0</td>\n",
       "      <td>1016.0</td>\n",
       "      <td>77.0</td>\n",
       "      <td>4.0</td>\n",
       "      <td>céu pouco nublado</td>\n",
       "      <td>0.0</td>\n",
       "      <td>NOTHING</td>\n",
       "      <td>5</td>\n",
       "      <td>17</td>\n",
       "      <td>7</td>\n",
       "      <td>4</td>\n",
       "    </tr>\n",
       "    <tr>\n",
       "      <th>4</th>\n",
       "      <td>Porto</td>\n",
       "      <td>2018-10-15 06:00:00</td>\n",
       "      <td>44.0</td>\n",
       "      <td>3.5</td>\n",
       "      <td>85.5</td>\n",
       "      <td>DARK</td>\n",
       "      <td>12.0</td>\n",
       "      <td>1004.0</td>\n",
       "      <td>100.0</td>\n",
       "      <td>9.0</td>\n",
       "      <td>NOTHING</td>\n",
       "      <td>0.0</td>\n",
       "      <td>chuva fraca</td>\n",
       "      <td>0</td>\n",
       "      <td>6</td>\n",
       "      <td>10</td>\n",
       "      <td>5</td>\n",
       "    </tr>\n",
       "  </tbody>\n",
       "</table>\n",
       "</div>"
      ],
      "text/plain": [
       "  city_name         record_date  AVERAGE_FREE_FLOW_SPEED  AVERAGE_TIME_DIFF  \\\n",
       "0     Porto 2019-02-13 23:00:00                     39.2                0.0   \n",
       "1     Porto 2018-11-28 20:00:00                     42.5               12.2   \n",
       "2     Porto 2018-08-14 05:00:00                     45.9                0.0   \n",
       "3     Porto 2019-07-06 17:00:00                     33.2               51.7   \n",
       "4     Porto 2018-10-15 06:00:00                     44.0                3.5   \n",
       "\n",
       "   AVERAGE_FREE_FLOW_TIME LUMINOSITY  AVERAGE_TEMPERATURE  \\\n",
       "0                    91.0       DARK                  8.0   \n",
       "1                    76.8       DARK                 11.0   \n",
       "2                    86.3       DARK                 14.0   \n",
       "3                    89.9      LIGHT                 22.0   \n",
       "4                    85.5       DARK                 12.0   \n",
       "\n",
       "   AVERAGE_ATMOSP_PRESSURE  AVERAGE_HUMIDITY  AVERAGE_WIND_SPEED  \\\n",
       "0                   1026.0              71.0                 1.0   \n",
       "1                   1020.0              93.0                 4.0   \n",
       "2                   1017.0              93.0                 0.0   \n",
       "3                   1016.0              77.0                 4.0   \n",
       "4                   1004.0             100.0                 9.0   \n",
       "\n",
       "  AVERAGE_CLOUDINESS  AVERAGE_PRECIPITATION AVERAGE_RAIN  weekday  hour  \\\n",
       "0          céu limpo                    0.0      NOTHING        2    23   \n",
       "1   nuvens quebradas                    0.0      NOTHING        2    20   \n",
       "2            NOTHING                    0.0      NOTHING        1     5   \n",
       "3  céu pouco nublado                    0.0      NOTHING        5    17   \n",
       "4            NOTHING                    0.0  chuva fraca        0     6   \n",
       "\n",
       "   month  unique_id  \n",
       "0      2          1  \n",
       "1     11          2  \n",
       "2      8          3  \n",
       "3      7          4  \n",
       "4     10          5  "
      ]
     },
     "execution_count": 548,
     "metadata": {},
     "output_type": "execute_result"
    }
   ],
   "source": [
    "training.head()"
   ]
  },
  {
   "cell_type": "code",
   "execution_count": 549,
   "metadata": {},
   "outputs": [],
   "source": [
    "dummied = trainingWork.copy()"
   ]
  },
  {
   "cell_type": "code",
   "execution_count": 550,
   "metadata": {},
   "outputs": [],
   "source": [
    "dummied = pd.concat([dummied,pd.get_dummies(dummied['LUMINOSITY'])],axis='columns').drop(['LUMINOSITY'],axis='columns')"
   ]
  },
  {
   "cell_type": "code",
   "execution_count": 551,
   "metadata": {},
   "outputs": [
    {
     "data": {
      "text/html": [
       "<div>\n",
       "<style scoped>\n",
       "    .dataframe tbody tr th:only-of-type {\n",
       "        vertical-align: middle;\n",
       "    }\n",
       "\n",
       "    .dataframe tbody tr th {\n",
       "        vertical-align: top;\n",
       "    }\n",
       "\n",
       "    .dataframe thead th {\n",
       "        text-align: right;\n",
       "    }\n",
       "</style>\n",
       "<table border=\"1\" class=\"dataframe\">\n",
       "  <thead>\n",
       "    <tr style=\"text-align: right;\">\n",
       "      <th></th>\n",
       "      <th>AVERAGE_FREE_FLOW_SPEED</th>\n",
       "      <th>AVERAGE_TIME_DIFF</th>\n",
       "      <th>AVERAGE_FREE_FLOW_TIME</th>\n",
       "      <th>AVERAGE_TEMPERATURE</th>\n",
       "      <th>AVERAGE_ATMOSP_PRESSURE</th>\n",
       "      <th>AVERAGE_HUMIDITY</th>\n",
       "      <th>AVERAGE_WIND_SPEED</th>\n",
       "      <th>AVERAGE_CLOUDINESS</th>\n",
       "      <th>weekday</th>\n",
       "      <th>hour</th>\n",
       "      <th>month</th>\n",
       "      <th>unique_id</th>\n",
       "      <th>DARK</th>\n",
       "      <th>LIGHT</th>\n",
       "      <th>LOW_LIGHT</th>\n",
       "    </tr>\n",
       "  </thead>\n",
       "  <tbody>\n",
       "    <tr>\n",
       "      <th>0</th>\n",
       "      <td>39.2</td>\n",
       "      <td>0.0</td>\n",
       "      <td>91.0</td>\n",
       "      <td>8.0</td>\n",
       "      <td>1026.0</td>\n",
       "      <td>71.0</td>\n",
       "      <td>1.0</td>\n",
       "      <td>céu limpo</td>\n",
       "      <td>2</td>\n",
       "      <td>23</td>\n",
       "      <td>2</td>\n",
       "      <td>1</td>\n",
       "      <td>1</td>\n",
       "      <td>0</td>\n",
       "      <td>0</td>\n",
       "    </tr>\n",
       "    <tr>\n",
       "      <th>1</th>\n",
       "      <td>42.5</td>\n",
       "      <td>12.2</td>\n",
       "      <td>76.8</td>\n",
       "      <td>11.0</td>\n",
       "      <td>1020.0</td>\n",
       "      <td>93.0</td>\n",
       "      <td>4.0</td>\n",
       "      <td>nuvens quebradas</td>\n",
       "      <td>2</td>\n",
       "      <td>20</td>\n",
       "      <td>11</td>\n",
       "      <td>2</td>\n",
       "      <td>1</td>\n",
       "      <td>0</td>\n",
       "      <td>0</td>\n",
       "    </tr>\n",
       "    <tr>\n",
       "      <th>2</th>\n",
       "      <td>45.9</td>\n",
       "      <td>0.0</td>\n",
       "      <td>86.3</td>\n",
       "      <td>14.0</td>\n",
       "      <td>1017.0</td>\n",
       "      <td>93.0</td>\n",
       "      <td>0.0</td>\n",
       "      <td>NOTHING</td>\n",
       "      <td>1</td>\n",
       "      <td>5</td>\n",
       "      <td>8</td>\n",
       "      <td>3</td>\n",
       "      <td>1</td>\n",
       "      <td>0</td>\n",
       "      <td>0</td>\n",
       "    </tr>\n",
       "    <tr>\n",
       "      <th>3</th>\n",
       "      <td>33.2</td>\n",
       "      <td>51.7</td>\n",
       "      <td>89.9</td>\n",
       "      <td>22.0</td>\n",
       "      <td>1016.0</td>\n",
       "      <td>77.0</td>\n",
       "      <td>4.0</td>\n",
       "      <td>céu pouco nublado</td>\n",
       "      <td>5</td>\n",
       "      <td>17</td>\n",
       "      <td>7</td>\n",
       "      <td>4</td>\n",
       "      <td>0</td>\n",
       "      <td>1</td>\n",
       "      <td>0</td>\n",
       "    </tr>\n",
       "    <tr>\n",
       "      <th>4</th>\n",
       "      <td>44.0</td>\n",
       "      <td>3.5</td>\n",
       "      <td>85.5</td>\n",
       "      <td>12.0</td>\n",
       "      <td>1004.0</td>\n",
       "      <td>100.0</td>\n",
       "      <td>9.0</td>\n",
       "      <td>NOTHING</td>\n",
       "      <td>0</td>\n",
       "      <td>6</td>\n",
       "      <td>10</td>\n",
       "      <td>5</td>\n",
       "      <td>1</td>\n",
       "      <td>0</td>\n",
       "      <td>0</td>\n",
       "    </tr>\n",
       "  </tbody>\n",
       "</table>\n",
       "</div>"
      ],
      "text/plain": [
       "   AVERAGE_FREE_FLOW_SPEED  AVERAGE_TIME_DIFF  AVERAGE_FREE_FLOW_TIME  \\\n",
       "0                     39.2                0.0                    91.0   \n",
       "1                     42.5               12.2                    76.8   \n",
       "2                     45.9                0.0                    86.3   \n",
       "3                     33.2               51.7                    89.9   \n",
       "4                     44.0                3.5                    85.5   \n",
       "\n",
       "   AVERAGE_TEMPERATURE  AVERAGE_ATMOSP_PRESSURE  AVERAGE_HUMIDITY  \\\n",
       "0                  8.0                   1026.0              71.0   \n",
       "1                 11.0                   1020.0              93.0   \n",
       "2                 14.0                   1017.0              93.0   \n",
       "3                 22.0                   1016.0              77.0   \n",
       "4                 12.0                   1004.0             100.0   \n",
       "\n",
       "   AVERAGE_WIND_SPEED AVERAGE_CLOUDINESS  weekday  hour  month  unique_id  \\\n",
       "0                 1.0          céu limpo        2    23      2          1   \n",
       "1                 4.0   nuvens quebradas        2    20     11          2   \n",
       "2                 0.0            NOTHING        1     5      8          3   \n",
       "3                 4.0  céu pouco nublado        5    17      7          4   \n",
       "4                 9.0            NOTHING        0     6     10          5   \n",
       "\n",
       "   DARK  LIGHT  LOW_LIGHT  \n",
       "0     1      0          0  \n",
       "1     1      0          0  \n",
       "2     1      0          0  \n",
       "3     0      1          0  \n",
       "4     1      0          0  "
      ]
     },
     "execution_count": 551,
     "metadata": {},
     "output_type": "execute_result"
    }
   ],
   "source": [
    "dummied.head()"
   ]
  },
  {
   "cell_type": "code",
   "execution_count": 552,
   "metadata": {},
   "outputs": [],
   "source": [
    "naCloud = dummied[training['AVERAGE_CLOUDINESS'] == 'NOTHING']\n",
    "\n",
    "cloud = dummied[training['AVERAGE_CLOUDINESS'] != 'NOTHING']\n"
   ]
  },
  {
   "cell_type": "code",
   "execution_count": 553,
   "metadata": {},
   "outputs": [
    {
     "data": {
      "text/html": [
       "<div>\n",
       "<style scoped>\n",
       "    .dataframe tbody tr th:only-of-type {\n",
       "        vertical-align: middle;\n",
       "    }\n",
       "\n",
       "    .dataframe tbody tr th {\n",
       "        vertical-align: top;\n",
       "    }\n",
       "\n",
       "    .dataframe thead th {\n",
       "        text-align: right;\n",
       "    }\n",
       "</style>\n",
       "<table border=\"1\" class=\"dataframe\">\n",
       "  <thead>\n",
       "    <tr style=\"text-align: right;\">\n",
       "      <th></th>\n",
       "      <th>AVERAGE_FREE_FLOW_SPEED</th>\n",
       "      <th>AVERAGE_TIME_DIFF</th>\n",
       "      <th>AVERAGE_FREE_FLOW_TIME</th>\n",
       "      <th>AVERAGE_TEMPERATURE</th>\n",
       "      <th>AVERAGE_ATMOSP_PRESSURE</th>\n",
       "      <th>AVERAGE_HUMIDITY</th>\n",
       "      <th>AVERAGE_WIND_SPEED</th>\n",
       "      <th>AVERAGE_CLOUDINESS</th>\n",
       "      <th>weekday</th>\n",
       "      <th>hour</th>\n",
       "      <th>month</th>\n",
       "      <th>unique_id</th>\n",
       "      <th>DARK</th>\n",
       "      <th>LIGHT</th>\n",
       "      <th>LOW_LIGHT</th>\n",
       "    </tr>\n",
       "  </thead>\n",
       "  <tbody>\n",
       "    <tr>\n",
       "      <th>2</th>\n",
       "      <td>45.9</td>\n",
       "      <td>0.0</td>\n",
       "      <td>86.3</td>\n",
       "      <td>14.0</td>\n",
       "      <td>1017.0</td>\n",
       "      <td>93.0</td>\n",
       "      <td>0.0</td>\n",
       "      <td>NOTHING</td>\n",
       "      <td>1</td>\n",
       "      <td>5</td>\n",
       "      <td>8</td>\n",
       "      <td>3</td>\n",
       "      <td>1</td>\n",
       "      <td>0</td>\n",
       "      <td>0</td>\n",
       "    </tr>\n",
       "    <tr>\n",
       "      <th>4</th>\n",
       "      <td>44.0</td>\n",
       "      <td>3.5</td>\n",
       "      <td>85.5</td>\n",
       "      <td>12.0</td>\n",
       "      <td>1004.0</td>\n",
       "      <td>100.0</td>\n",
       "      <td>9.0</td>\n",
       "      <td>NOTHING</td>\n",
       "      <td>0</td>\n",
       "      <td>6</td>\n",
       "      <td>10</td>\n",
       "      <td>5</td>\n",
       "      <td>1</td>\n",
       "      <td>0</td>\n",
       "      <td>0</td>\n",
       "    </tr>\n",
       "    <tr>\n",
       "      <th>7</th>\n",
       "      <td>34.7</td>\n",
       "      <td>19.1</td>\n",
       "      <td>68.3</td>\n",
       "      <td>17.0</td>\n",
       "      <td>1015.0</td>\n",
       "      <td>67.0</td>\n",
       "      <td>2.0</td>\n",
       "      <td>NOTHING</td>\n",
       "      <td>0</td>\n",
       "      <td>19</td>\n",
       "      <td>5</td>\n",
       "      <td>8</td>\n",
       "      <td>0</td>\n",
       "      <td>1</td>\n",
       "      <td>0</td>\n",
       "    </tr>\n",
       "    <tr>\n",
       "      <th>8</th>\n",
       "      <td>46.5</td>\n",
       "      <td>1.3</td>\n",
       "      <td>75.4</td>\n",
       "      <td>17.0</td>\n",
       "      <td>1013.0</td>\n",
       "      <td>100.0</td>\n",
       "      <td>1.0</td>\n",
       "      <td>NOTHING</td>\n",
       "      <td>4</td>\n",
       "      <td>6</td>\n",
       "      <td>7</td>\n",
       "      <td>9</td>\n",
       "      <td>0</td>\n",
       "      <td>1</td>\n",
       "      <td>0</td>\n",
       "    </tr>\n",
       "    <tr>\n",
       "      <th>12</th>\n",
       "      <td>40.7</td>\n",
       "      <td>26.3</td>\n",
       "      <td>80.9</td>\n",
       "      <td>13.0</td>\n",
       "      <td>1006.0</td>\n",
       "      <td>76.0</td>\n",
       "      <td>4.0</td>\n",
       "      <td>NOTHING</td>\n",
       "      <td>0</td>\n",
       "      <td>11</td>\n",
       "      <td>11</td>\n",
       "      <td>13</td>\n",
       "      <td>0</td>\n",
       "      <td>1</td>\n",
       "      <td>0</td>\n",
       "    </tr>\n",
       "  </tbody>\n",
       "</table>\n",
       "</div>"
      ],
      "text/plain": [
       "    AVERAGE_FREE_FLOW_SPEED  AVERAGE_TIME_DIFF  AVERAGE_FREE_FLOW_TIME  \\\n",
       "2                      45.9                0.0                    86.3   \n",
       "4                      44.0                3.5                    85.5   \n",
       "7                      34.7               19.1                    68.3   \n",
       "8                      46.5                1.3                    75.4   \n",
       "12                     40.7               26.3                    80.9   \n",
       "\n",
       "    AVERAGE_TEMPERATURE  AVERAGE_ATMOSP_PRESSURE  AVERAGE_HUMIDITY  \\\n",
       "2                  14.0                   1017.0              93.0   \n",
       "4                  12.0                   1004.0             100.0   \n",
       "7                  17.0                   1015.0              67.0   \n",
       "8                  17.0                   1013.0             100.0   \n",
       "12                 13.0                   1006.0              76.0   \n",
       "\n",
       "    AVERAGE_WIND_SPEED AVERAGE_CLOUDINESS  weekday  hour  month  unique_id  \\\n",
       "2                  0.0            NOTHING        1     5      8          3   \n",
       "4                  9.0            NOTHING        0     6     10          5   \n",
       "7                  2.0            NOTHING        0    19      5          8   \n",
       "8                  1.0            NOTHING        4     6      7          9   \n",
       "12                 4.0            NOTHING        0    11     11         13   \n",
       "\n",
       "    DARK  LIGHT  LOW_LIGHT  \n",
       "2      1      0          0  \n",
       "4      1      0          0  \n",
       "7      0      1          0  \n",
       "8      0      1          0  \n",
       "12     0      1          0  "
      ]
     },
     "execution_count": 553,
     "metadata": {},
     "output_type": "execute_result"
    }
   ],
   "source": [
    "naCloud.head()"
   ]
  },
  {
   "cell_type": "code",
   "execution_count": 554,
   "metadata": {},
   "outputs": [],
   "source": [
    "naCloud = naCloud.drop(['AVERAGE_CLOUDINESS'],axis=1)"
   ]
  },
  {
   "cell_type": "code",
   "execution_count": 555,
   "metadata": {},
   "outputs": [],
   "source": [
    "X = cloud.drop(['AVERAGE_CLOUDINESS'],axis=1)\n",
    "\n",
    "y = cloud['AVERAGE_CLOUDINESS']"
   ]
  },
  {
   "cell_type": "code",
   "execution_count": 556,
   "metadata": {},
   "outputs": [
    {
     "data": {
      "text/html": [
       "<div>\n",
       "<style scoped>\n",
       "    .dataframe tbody tr th:only-of-type {\n",
       "        vertical-align: middle;\n",
       "    }\n",
       "\n",
       "    .dataframe tbody tr th {\n",
       "        vertical-align: top;\n",
       "    }\n",
       "\n",
       "    .dataframe thead th {\n",
       "        text-align: right;\n",
       "    }\n",
       "</style>\n",
       "<table border=\"1\" class=\"dataframe\">\n",
       "  <thead>\n",
       "    <tr style=\"text-align: right;\">\n",
       "      <th></th>\n",
       "      <th>city_name</th>\n",
       "      <th>record_date</th>\n",
       "      <th>AVERAGE_FREE_FLOW_SPEED</th>\n",
       "      <th>AVERAGE_TIME_DIFF</th>\n",
       "      <th>AVERAGE_FREE_FLOW_TIME</th>\n",
       "      <th>LUMINOSITY</th>\n",
       "      <th>AVERAGE_TEMPERATURE</th>\n",
       "      <th>AVERAGE_ATMOSP_PRESSURE</th>\n",
       "      <th>AVERAGE_HUMIDITY</th>\n",
       "      <th>AVERAGE_WIND_SPEED</th>\n",
       "      <th>AVERAGE_CLOUDINESS</th>\n",
       "      <th>AVERAGE_PRECIPITATION</th>\n",
       "      <th>AVERAGE_RAIN</th>\n",
       "      <th>weekday</th>\n",
       "      <th>hour</th>\n",
       "      <th>month</th>\n",
       "      <th>unique_id</th>\n",
       "    </tr>\n",
       "  </thead>\n",
       "  <tbody>\n",
       "    <tr>\n",
       "      <th>0</th>\n",
       "      <td>Porto</td>\n",
       "      <td>2019-02-13 23:00:00</td>\n",
       "      <td>39.2</td>\n",
       "      <td>0.0</td>\n",
       "      <td>91.0</td>\n",
       "      <td>DARK</td>\n",
       "      <td>8.0</td>\n",
       "      <td>1026.0</td>\n",
       "      <td>71.0</td>\n",
       "      <td>1.0</td>\n",
       "      <td>céu limpo</td>\n",
       "      <td>0.0</td>\n",
       "      <td>NOTHING</td>\n",
       "      <td>2</td>\n",
       "      <td>23</td>\n",
       "      <td>2</td>\n",
       "      <td>1</td>\n",
       "    </tr>\n",
       "    <tr>\n",
       "      <th>1</th>\n",
       "      <td>Porto</td>\n",
       "      <td>2018-11-28 20:00:00</td>\n",
       "      <td>42.5</td>\n",
       "      <td>12.2</td>\n",
       "      <td>76.8</td>\n",
       "      <td>DARK</td>\n",
       "      <td>11.0</td>\n",
       "      <td>1020.0</td>\n",
       "      <td>93.0</td>\n",
       "      <td>4.0</td>\n",
       "      <td>nuvens quebradas</td>\n",
       "      <td>0.0</td>\n",
       "      <td>NOTHING</td>\n",
       "      <td>2</td>\n",
       "      <td>20</td>\n",
       "      <td>11</td>\n",
       "      <td>2</td>\n",
       "    </tr>\n",
       "    <tr>\n",
       "      <th>2</th>\n",
       "      <td>Porto</td>\n",
       "      <td>2018-08-14 05:00:00</td>\n",
       "      <td>45.9</td>\n",
       "      <td>0.0</td>\n",
       "      <td>86.3</td>\n",
       "      <td>DARK</td>\n",
       "      <td>14.0</td>\n",
       "      <td>1017.0</td>\n",
       "      <td>93.0</td>\n",
       "      <td>0.0</td>\n",
       "      <td>NOTHING</td>\n",
       "      <td>0.0</td>\n",
       "      <td>NOTHING</td>\n",
       "      <td>1</td>\n",
       "      <td>5</td>\n",
       "      <td>8</td>\n",
       "      <td>3</td>\n",
       "    </tr>\n",
       "    <tr>\n",
       "      <th>3</th>\n",
       "      <td>Porto</td>\n",
       "      <td>2019-07-06 17:00:00</td>\n",
       "      <td>33.2</td>\n",
       "      <td>51.7</td>\n",
       "      <td>89.9</td>\n",
       "      <td>LIGHT</td>\n",
       "      <td>22.0</td>\n",
       "      <td>1016.0</td>\n",
       "      <td>77.0</td>\n",
       "      <td>4.0</td>\n",
       "      <td>céu pouco nublado</td>\n",
       "      <td>0.0</td>\n",
       "      <td>NOTHING</td>\n",
       "      <td>5</td>\n",
       "      <td>17</td>\n",
       "      <td>7</td>\n",
       "      <td>4</td>\n",
       "    </tr>\n",
       "    <tr>\n",
       "      <th>4</th>\n",
       "      <td>Porto</td>\n",
       "      <td>2018-10-15 06:00:00</td>\n",
       "      <td>44.0</td>\n",
       "      <td>3.5</td>\n",
       "      <td>85.5</td>\n",
       "      <td>DARK</td>\n",
       "      <td>12.0</td>\n",
       "      <td>1004.0</td>\n",
       "      <td>100.0</td>\n",
       "      <td>9.0</td>\n",
       "      <td>NOTHING</td>\n",
       "      <td>0.0</td>\n",
       "      <td>chuva fraca</td>\n",
       "      <td>0</td>\n",
       "      <td>6</td>\n",
       "      <td>10</td>\n",
       "      <td>5</td>\n",
       "    </tr>\n",
       "  </tbody>\n",
       "</table>\n",
       "</div>"
      ],
      "text/plain": [
       "  city_name         record_date  AVERAGE_FREE_FLOW_SPEED  AVERAGE_TIME_DIFF  \\\n",
       "0     Porto 2019-02-13 23:00:00                     39.2                0.0   \n",
       "1     Porto 2018-11-28 20:00:00                     42.5               12.2   \n",
       "2     Porto 2018-08-14 05:00:00                     45.9                0.0   \n",
       "3     Porto 2019-07-06 17:00:00                     33.2               51.7   \n",
       "4     Porto 2018-10-15 06:00:00                     44.0                3.5   \n",
       "\n",
       "   AVERAGE_FREE_FLOW_TIME LUMINOSITY  AVERAGE_TEMPERATURE  \\\n",
       "0                    91.0       DARK                  8.0   \n",
       "1                    76.8       DARK                 11.0   \n",
       "2                    86.3       DARK                 14.0   \n",
       "3                    89.9      LIGHT                 22.0   \n",
       "4                    85.5       DARK                 12.0   \n",
       "\n",
       "   AVERAGE_ATMOSP_PRESSURE  AVERAGE_HUMIDITY  AVERAGE_WIND_SPEED  \\\n",
       "0                   1026.0              71.0                 1.0   \n",
       "1                   1020.0              93.0                 4.0   \n",
       "2                   1017.0              93.0                 0.0   \n",
       "3                   1016.0              77.0                 4.0   \n",
       "4                   1004.0             100.0                 9.0   \n",
       "\n",
       "  AVERAGE_CLOUDINESS  AVERAGE_PRECIPITATION AVERAGE_RAIN  weekday  hour  \\\n",
       "0          céu limpo                    0.0      NOTHING        2    23   \n",
       "1   nuvens quebradas                    0.0      NOTHING        2    20   \n",
       "2            NOTHING                    0.0      NOTHING        1     5   \n",
       "3  céu pouco nublado                    0.0      NOTHING        5    17   \n",
       "4            NOTHING                    0.0  chuva fraca        0     6   \n",
       "\n",
       "   month  unique_id  \n",
       "0      2          1  \n",
       "1     11          2  \n",
       "2      8          3  \n",
       "3      7          4  \n",
       "4     10          5  "
      ]
     },
     "execution_count": 556,
     "metadata": {},
     "output_type": "execute_result"
    }
   ],
   "source": [
    "training.head()"
   ]
  },
  {
   "cell_type": "code",
   "execution_count": 557,
   "metadata": {},
   "outputs": [],
   "source": [
    "from sklearn.model_selection import train_test_split\n",
    "from imblearn.over_sampling import SMOTE\n",
    "from imblearn.over_sampling import RandomOverSampler\n",
    "from imblearn.over_sampling import BorderlineSMOTE"
   ]
  },
  {
   "cell_type": "code",
   "execution_count": 558,
   "metadata": {},
   "outputs": [],
   "source": [
    "X_train,X_test,y_train,y_test = train_test_split(X,y,test_size=0.30, random_state=2021,stratify=y)"
   ]
  },
  {
   "cell_type": "code",
   "execution_count": 559,
   "metadata": {},
   "outputs": [],
   "source": [
    "smote = SMOTE()"
   ]
  },
  {
   "cell_type": "code",
   "execution_count": 560,
   "metadata": {},
   "outputs": [],
   "source": [
    "sm = BorderlineSMOTE(random_state=2021,kind='borderline-1')\n",
    "X_res, y_res = sm.fit_resample(X_train, y_train)"
   ]
  },
  {
   "cell_type": "code",
   "execution_count": 561,
   "metadata": {},
   "outputs": [
    {
     "data": {
      "text/plain": [
       "<AxesSubplot:ylabel='AVERAGE_CLOUDINESS'>"
      ]
     },
     "execution_count": 561,
     "metadata": {},
     "output_type": "execute_result"
    },
    {
     "data": {
      "image/png": "[encoded data removed]",
      "text/plain": [
       "<Figure size 432x288 with 1 Axes>"
      ]
     },
     "metadata": {},
     "output_type": "display_data"
    }
   ],
   "source": [
    "y_train.value_counts().plot.pie(autopct='%.2f')"
   ]
  },
  {
   "cell_type": "code",
   "execution_count": 562,
   "metadata": {},
   "outputs": [
    {
     "data": {
      "text/plain": [
       "<AxesSubplot:ylabel='AVERAGE_CLOUDINESS'>"
      ]
     },
     "execution_count": 562,
     "metadata": {},
     "output_type": "execute_result"
    },
    {
     "data": {
      "image/png": "[encoded data removed]",
      "text/plain": [
       "<Figure size 432x288 with 1 Axes>"
      ]
     },
     "metadata": {},
     "output_type": "display_data"
    }
   ],
   "source": [
    "y_res.value_counts().plot.pie(autopct='%.2f')"
   ]
  },
  {
   "cell_type": "code",
   "execution_count": 563,
   "metadata": {},
   "outputs": [
    {
     "data": {
      "text/plain": [
       "<seaborn.axisgrid.FacetGrid at 0x7f102a2d74f0>"
      ]
     },
     "execution_count": 563,
     "metadata": {},
     "output_type": "execute_result"
    },
    {
     "data": {
      "image/png": "[encoded data removed]",
      "text/plain": [
       "<Figure size 360x360 with 1 Axes>"
      ]
     },
     "metadata": {
      "needs_background": "light"
     },
     "output_type": "display_data"
    },
    {
     "data": {
      "image/png": "[encoded data removed]",
      "text/plain": [
       "<Figure size 360x360 with 1 Axes>"
      ]
     },
     "metadata": {
      "needs_background": "light"
     },
     "output_type": "display_data"
    }
   ],
   "source": [
    "sns.displot(y_res)\n",
    "sns.displot(y_test)"
   ]
  },
  {
   "cell_type": "code",
   "execution_count": 564,
   "metadata": {},
   "outputs": [],
   "source": [
    "from sklearn.linear_model import LogisticRegression\n",
    "from sklearn.metrics import plot_confusion_matrix\n",
    "from sklearn.model_selection import cross_val_score\n",
    "from sklearn.naive_bayes import GaussianNB\n",
    "from sklearn.linear_model import LogisticRegression\n",
    "from sklearn import tree\n",
    "from sklearn.neighbors import KNeighborsClassifier\n",
    "from sklearn.ensemble import RandomForestClassifier\n",
    "from sklearn.svm import SVC"
   ]
  },
  {
   "cell_type": "code",
   "execution_count": 565,
   "metadata": {},
   "outputs": [],
   "source": [
    "#I usually use Naive Bayes as a baseline for my classification tasks \n",
    "#gnb = GaussianNB()\n",
    "#cv = cross_val_score(gnb,X_res,y_res,cv=5)\n",
    "#print(cv)\n",
    "#print(cv.mean())"
   ]
  },
  {
   "cell_type": "code",
   "execution_count": 566,
   "metadata": {},
   "outputs": [],
   "source": [
    "#lr = LogisticRegression(class_weight='balanced',random_state=2021,max_iter = 90000000000000)\n",
    "#cv = cross_val_score(lr,X_res,y_res,cv=5)\n",
    "#print(cv)\n",
    "#print(cv.mean())"
   ]
  },
  {
   "cell_type": "code",
   "execution_count": 567,
   "metadata": {},
   "outputs": [
    {
     "name": "stdout",
     "output_type": "stream",
     "text": [
      "[0.59534884 0.70232558 0.6682243  0.75233645 0.71028037]\n",
      "0.6857031080199957\n"
     ]
    }
   ],
   "source": [
    "dt = tree.DecisionTreeClassifier(random_state=2021)\n",
    "cv = cross_val_score(dt,X_res,y_res,cv=5)\n",
    "print(cv)\n",
    "print(cv.mean())"
   ]
  },
  {
   "cell_type": "code",
   "execution_count": 568,
   "metadata": {},
   "outputs": [
    {
     "name": "stdout",
     "output_type": "stream",
     "text": [
      "[0.5627907  0.57209302 0.64018692 0.61214953 0.70560748]\n",
      "0.6185655292327755\n"
     ]
    }
   ],
   "source": [
    "knn = KNeighborsClassifier()\n",
    "cv = cross_val_score(knn,X_res.values,y_res.values,cv=5)\n",
    "print(cv)\n",
    "print(cv.mean())"
   ]
  },
  {
   "cell_type": "code",
   "execution_count": 569,
   "metadata": {},
   "outputs": [
    {
     "name": "stdout",
     "output_type": "stream",
     "text": [
      "[0.74418605 0.79069767 0.81775701 0.85046729 0.8271028 ]\n",
      "0.8060421647467942\n"
     ]
    }
   ],
   "source": [
    "rf = RandomForestClassifier(random_state=2021)\n",
    "cv = cross_val_score(rf,X_res,y_res,cv=5)\n",
    "print(cv)\n",
    "print(cv.mean())"
   ]
  },
  {
   "cell_type": "code",
   "execution_count": 570,
   "metadata": {},
   "outputs": [],
   "source": [
    "#svc = SVC(probability = True,random_state=2021)\n",
    "#cv = cross_val_score(svc,X_res,y_res,cv=5)\n",
    "#print(cv)\n",
    "#print(cv.mean())"
   ]
  },
  {
   "cell_type": "code",
   "execution_count": 571,
   "metadata": {},
   "outputs": [],
   "source": [
    "#from xgboost import XGBClassifier\n",
    "#xgb = XGBClassifier(random_state=2021)\n",
    "#cv = cross_val_score(xgb,X_res,y_res,cv=5)\n",
    "#print(cv)\n",
    "#print(cv.mean())"
   ]
  },
  {
   "cell_type": "code",
   "execution_count": 572,
   "metadata": {},
   "outputs": [
    {
     "data": {
      "text/plain": [
       "RandomForestClassifier(random_state=2021)"
      ]
     },
     "execution_count": 572,
     "metadata": {},
     "output_type": "execute_result"
    }
   ],
   "source": [
    "#lr.fit(X_res,y_res)\n",
    "#dt.fit(X_res,y_res)\n",
    "#knn.fit(X_res,y_res)\n",
    "rf.fit(X_res,y_res)\n",
    "#xgb.fit(X_res,y_res)"
   ]
  },
  {
   "cell_type": "code",
   "execution_count": 573,
   "metadata": {},
   "outputs": [],
   "source": [
    "predictions = rf.predict(X_test)"
   ]
  },
  {
   "cell_type": "code",
   "execution_count": 574,
   "metadata": {},
   "outputs": [],
   "source": [
    "from sklearn.metrics import ConfusionMatrixDisplay\n",
    "from sklearn.svm import SVC\n",
    "from sklearn.datasets import make_classification"
   ]
  },
  {
   "cell_type": "code",
   "execution_count": 575,
   "metadata": {},
   "outputs": [],
   "source": [
    "#ConfusionMatrixDisplay.from_estimator(lr, X_test, y_test)"
   ]
  },
  {
   "cell_type": "code",
   "execution_count": 576,
   "metadata": {},
   "outputs": [],
   "source": [
    "#ConfusionMatrixDisplay.from_estimator(dt, X_test, y_test)"
   ]
  },
  {
   "cell_type": "code",
   "execution_count": 577,
   "metadata": {},
   "outputs": [],
   "source": [
    "#ConfusionMatrixDisplay.from_estimator(knn, X_test, y_test)"
   ]
  },
  {
   "cell_type": "code",
   "execution_count": 578,
   "metadata": {},
   "outputs": [
    {
     "data": {
      "text/plain": [
       "<sklearn.metrics._plot.confusion_matrix.ConfusionMatrixDisplay at 0x7f102a4afe80>"
      ]
     },
     "execution_count": 578,
     "metadata": {},
     "output_type": "execute_result"
    },
    {
     "data": {
      "image/png": "[encoded data removed]",
      "text/plain": [
       "<Figure size 432x288 with 2 Axes>"
      ]
     },
     "metadata": {
      "needs_background": "light"
     },
     "output_type": "display_data"
    }
   ],
   "source": [
    "ConfusionMatrixDisplay.from_estimator(rf, X_test, y_test)"
   ]
  },
  {
   "cell_type": "code",
   "execution_count": 579,
   "metadata": {},
   "outputs": [],
   "source": [
    "#ConfusionMatrixDisplay.from_estimator(xgb, X_test, y_test)"
   ]
  },
  {
   "cell_type": "code",
   "execution_count": 580,
   "metadata": {},
   "outputs": [],
   "source": [
    "testing = naCloud"
   ]
  },
  {
   "cell_type": "code",
   "execution_count": 581,
   "metadata": {},
   "outputs": [],
   "source": [
    "prediction = rf.predict(testing)"
   ]
  },
  {
   "cell_type": "code",
   "execution_count": 582,
   "metadata": {},
   "outputs": [
    {
     "data": {
      "text/plain": [
       "array(['céu limpo', 'nuvens quebradas', 'céu pouco nublado',\n",
       "       'nuvens quebradas', 'nuvens quebradas', 'nublado',\n",
       "       'nuvens quebradas', 'nuvens quebradas', 'nuvens quebradas',\n",
       "       'nuvens quebradas', 'céu limpo', 'céu pouco nublado',\n",
       "       'nuvens quebradas', 'nuvens quebradas', 'nuvens quebradas',\n",
       "       'céu limpo', 'nuvens quebradas', 'nublado', 'nuvens quebradas',\n",
       "       'céu limpo', 'céu limpo', 'nuvens quebradas', 'nuvens quebradas',\n",
       "       'nuvens quebradas', 'céu limpo', 'céu pouco nublado',\n",
       "       'nuvens quebradas', 'nuvens quebradas', 'céu limpo', 'céu limpo',\n",
       "       'céu limpo', 'céu limpo', 'nublado', 'céu pouco nublado',\n",
       "       'nuvens quebradas', 'céu limpo', 'nuvens quebradas',\n",
       "       'nuvens quebradas', 'nuvens quebradas', 'nuvens quebradas',\n",
       "       'nuvens quebradas', 'nuvens quebradas', 'céu pouco nublado',\n",
       "       'nuvens quebradas', 'nublado', 'céu limpo', 'nuvens quebradas',\n",
       "       'nuvens quebradas', 'céu limpo', 'céu limpo', 'céu pouco nublado',\n",
       "       'céu limpo', 'céu limpo', 'nuvens quebradas', 'céu limpo',\n",
       "       'nuvens quebradas', 'nuvens quebradas', 'céu pouco nublado',\n",
       "       'nuvens quebradas', 'céu limpo', 'céu limpo', 'nuvens quebradas',\n",
       "       'nuvens quebradas', 'céu pouco nublado', 'nuvens quebradas',\n",
       "       'céu limpo', 'céu limpo', 'nuvens quebradas', 'nuvens quebradas',\n",
       "       'nuvens quebradas', 'nuvens quebradas', 'nuvens quebradas',\n",
       "       'céu pouco nublado', 'nuvens quebradas', 'nuvens quebradas',\n",
       "       'nuvens quebradas', 'nuvens quebradas', 'nublado',\n",
       "       'céu pouco nublado', 'nuvens quebradas', 'nuvens quebradas',\n",
       "       'céu limpo', 'nuvens quebradas', 'céu pouco nublado',\n",
       "       'nuvens quebradas', 'nuvens quebradas', 'nuvens quebradas',\n",
       "       'nuvens quebradas', 'nuvens quebradas', 'nublado',\n",
       "       'nuvens quebradas', 'céu limpo', 'céu pouco nublado',\n",
       "       'nuvens quebradas', 'nublado', 'nuvens quebradas',\n",
       "       'céu pouco nublado', 'nuvens quebradas', 'nuvens quebradas',\n",
       "       'céu limpo', 'nuvens quebradas', 'nuvens quebradas',\n",
       "       'nuvens quebradas', 'nuvens quebradas', 'céu limpo',\n",
       "       'nuvens quebradas', 'nuvens quebradas', 'céu limpo',\n",
       "       'nuvens quebradas', 'nuvens quebradas', 'céu pouco nublado',\n",
       "       'nuvens quebradas', 'nublado', 'nuvens quebradas', 'nublado',\n",
       "       'nublado', 'nuvens quebradas', 'céu limpo', 'nuvens quebradas',\n",
       "       'nublado', 'céu pouco nublado', 'nuvens quebradas', 'céu limpo',\n",
       "       'nuvens quebradas', 'nuvens quebradas', 'céu pouco nublado',\n",
       "       'nuvens quebradas', 'céu pouco nublado', 'céu limpo',\n",
       "       'nuvens quebradas', 'nuvens quebradas', 'nuvens quebradas',\n",
       "       'nuvens quebradas', 'céu pouco nublado', 'nuvens quebradas',\n",
       "       'nuvens quebradas', 'céu limpo', 'nuvens quebradas',\n",
       "       'nuvens quebradas', 'nuvens quebradas', 'nuvens quebradas',\n",
       "       'nuvens quebradas', 'nuvens quebradas', 'céu limpo',\n",
       "       'nuvens quebradas', 'céu limpo', 'céu limpo', 'nuvens quebradas',\n",
       "       'céu pouco nublado', 'nuvens quebradas', 'céu limpo',\n",
       "       'nuvens quebradas', 'céu limpo', 'céu pouco nublado',\n",
       "       'nuvens quebradas', 'céu limpo', 'nublado', 'nuvens quebradas',\n",
       "       'nublado', 'céu limpo', 'céu limpo', 'céu limpo',\n",
       "       'nuvens quebradas', 'céu pouco nublado', 'nuvens quebradas',\n",
       "       'nuvens quebradas', 'nuvens quebradas', 'nuvens quebradas',\n",
       "       'nuvens quebradas', 'nuvens quebradas', 'nuvens quebradas',\n",
       "       'nuvens quebradas', 'nuvens quebradas', 'nuvens quebradas',\n",
       "       'nuvens quebradas', 'céu pouco nublado', 'nuvens quebradas',\n",
       "       'céu pouco nublado', 'céu limpo', 'nuvens quebradas',\n",
       "       'nuvens quebradas', 'nuvens quebradas', 'nuvens quebradas',\n",
       "       'céu limpo', 'nuvens quebradas', 'céu limpo', 'nuvens quebradas',\n",
       "       'céu limpo', 'nuvens quebradas', 'nuvens quebradas',\n",
       "       'nuvens quebradas', 'nuvens quebradas', 'céu limpo',\n",
       "       'nuvens quebradas', 'nuvens quebradas', 'nuvens quebradas',\n",
       "       'nublado', 'nuvens quebradas', 'céu limpo', 'nuvens quebradas',\n",
       "       'nublado', 'nuvens quebradas', 'céu limpo', 'céu limpo',\n",
       "       'nuvens quebradas', 'nuvens quebradas', 'nuvens quebradas',\n",
       "       'nuvens quebradas', 'nuvens quebradas', 'nuvens quebradas',\n",
       "       'nuvens quebradas', 'nublado', 'céu limpo', 'nuvens quebradas',\n",
       "       'céu pouco nublado', 'nuvens quebradas', 'nuvens quebradas',\n",
       "       'céu limpo', 'nuvens quebradas', 'nuvens quebradas',\n",
       "       'nuvens quebradas', 'nublado', 'céu pouco nublado',\n",
       "       'nuvens quebradas', 'nuvens quebradas', 'nuvens quebradas',\n",
       "       'nuvens quebradas', 'nublado', 'nuvens quebradas', 'nublado',\n",
       "       'nuvens quebradas', 'nuvens quebradas', 'nublado', 'nublado',\n",
       "       'céu pouco nublado', 'nuvens quebradas', 'nuvens quebradas',\n",
       "       'nuvens quebradas', 'nuvens quebradas', 'nuvens quebradas',\n",
       "       'nuvens quebradas', 'céu limpo', 'céu pouco nublado', 'céu limpo',\n",
       "       'céu limpo', 'céu limpo', 'céu limpo', 'céu limpo',\n",
       "       'nuvens quebradas', 'nuvens quebradas', 'nublado', 'céu limpo',\n",
       "       'céu pouco nublado', 'céu limpo', 'nuvens quebradas',\n",
       "       'céu pouco nublado', 'céu limpo', 'céu pouco nublado',\n",
       "       'nuvens quebradas', 'nublado', 'nuvens quebradas', 'céu limpo',\n",
       "       'nuvens quebradas', 'nuvens quebradas', 'céu limpo',\n",
       "       'nuvens quebradas', 'nuvens quebradas', 'nuvens quebradas',\n",
       "       'nublado', 'nuvens quebradas', 'nublado', 'nuvens quebradas',\n",
       "       'nuvens quebradas', 'céu limpo', 'céu limpo', 'nuvens quebradas',\n",
       "       'nuvens quebradas', 'nuvens quebradas', 'céu limpo',\n",
       "       'nuvens quebradas', 'nuvens quebradas', 'céu pouco nublado',\n",
       "       'céu pouco nublado', 'céu pouco nublado', 'nuvens quebradas',\n",
       "       'céu pouco nublado', 'céu pouco nublado', 'nuvens quebradas',\n",
       "       'nuvens quebradas', 'nuvens quebradas', 'nublado',\n",
       "       'nuvens quebradas', 'nuvens quebradas', 'céu limpo', 'céu limpo',\n",
       "       'céu limpo', 'nuvens quebradas', 'nuvens quebradas',\n",
       "       'nuvens quebradas', 'céu pouco nublado', 'céu pouco nublado',\n",
       "       'céu limpo', 'céu pouco nublado', 'nuvens quebradas',\n",
       "       'nuvens quebradas', 'nuvens quebradas', 'céu limpo', 'céu limpo',\n",
       "       'céu limpo', 'céu limpo', 'céu pouco nublado', 'céu limpo',\n",
       "       'céu pouco nublado', 'céu pouco nublado', 'céu limpo',\n",
       "       'nuvens quebradas', 'nuvens quebradas', 'céu limpo',\n",
       "       'céu pouco nublado', 'céu limpo', 'nublado', 'nuvens quebradas',\n",
       "       'céu pouco nublado', 'nuvens quebradas', 'nuvens quebradas',\n",
       "       'céu pouco nublado', 'nuvens quebradas', 'nuvens quebradas',\n",
       "       'nuvens quebradas', 'nuvens quebradas', 'nuvens quebradas',\n",
       "       'nuvens quebradas', 'nuvens quebradas', 'nuvens quebradas',\n",
       "       'céu pouco nublado', 'nublado', 'céu pouco nublado', 'céu limpo',\n",
       "       'nuvens quebradas', 'nuvens quebradas', 'nuvens quebradas',\n",
       "       'nuvens quebradas', 'nuvens quebradas', 'céu limpo', 'céu limpo',\n",
       "       'nuvens quebradas', 'céu limpo', 'céu limpo', 'céu limpo',\n",
       "       'nuvens quebradas', 'nuvens quebradas', 'nublado',\n",
       "       'céu pouco nublado', 'céu pouco nublado', 'nuvens quebradas',\n",
       "       'céu limpo', 'céu pouco nublado', 'nuvens quebradas',\n",
       "       'nuvens quebradas', 'céu limpo', 'nublado', 'céu limpo',\n",
       "       'nuvens quebradas', 'céu limpo', 'céu pouco nublado',\n",
       "       'nuvens quebradas', 'nuvens quebradas', 'nuvens quebradas',\n",
       "       'nuvens quebradas', 'céu pouco nublado', 'céu limpo',\n",
       "       'nuvens quebradas', 'nuvens quebradas', 'céu limpo',\n",
       "       'nuvens quebradas', 'céu limpo', 'nuvens quebradas',\n",
       "       'nuvens quebradas', 'nuvens quebradas', 'nuvens quebradas',\n",
       "       'nuvens quebradas', 'nuvens quebradas', 'nuvens quebradas',\n",
       "       'céu pouco nublado', 'céu limpo', 'céu limpo', 'céu limpo',\n",
       "       'céu pouco nublado', 'nublado', 'céu limpo', 'céu pouco nublado',\n",
       "       'nuvens quebradas', 'nublado', 'céu limpo', 'céu pouco nublado',\n",
       "       'céu limpo', 'nuvens quebradas', 'nuvens quebradas',\n",
       "       'céu pouco nublado', 'nuvens quebradas', 'nuvens quebradas',\n",
       "       'céu pouco nublado', 'céu pouco nublado', 'céu pouco nublado',\n",
       "       'nuvens quebradas', 'nublado', 'céu limpo', 'nuvens quebradas',\n",
       "       'nuvens quebradas', 'nublado', 'céu limpo', 'nuvens quebradas',\n",
       "       'nuvens quebradas', 'céu pouco nublado', 'nuvens quebradas',\n",
       "       'céu limpo', 'nuvens quebradas', 'céu pouco nublado',\n",
       "       'nuvens quebradas', 'nuvens quebradas', 'nuvens quebradas',\n",
       "       'céu pouco nublado', 'nublado', 'nuvens quebradas',\n",
       "       'nuvens quebradas', 'céu limpo', 'nublado', 'céu limpo',\n",
       "       'nuvens quebradas', 'nuvens quebradas', 'céu pouco nublado',\n",
       "       'céu limpo', 'nuvens quebradas', 'céu pouco nublado',\n",
       "       'nuvens quebradas', 'nuvens quebradas', 'nuvens quebradas',\n",
       "       'nuvens quebradas', 'nuvens quebradas', 'nuvens quebradas',\n",
       "       'céu pouco nublado', 'nuvens quebradas', 'nuvens quebradas',\n",
       "       'nublado', 'nuvens quebradas', 'nuvens quebradas',\n",
       "       'nuvens quebradas', 'céu limpo', 'nuvens quebradas', 'céu limpo',\n",
       "       'nuvens quebradas', 'nuvens quebradas', 'nuvens quebradas',\n",
       "       'nublado', 'céu limpo', 'nuvens quebradas', 'nuvens quebradas',\n",
       "       'nuvens quebradas', 'nuvens quebradas', 'nublado', 'céu limpo',\n",
       "       'céu limpo', 'nuvens quebradas', 'céu limpo', 'nuvens quebradas',\n",
       "       'céu limpo', 'céu limpo', 'nublado', 'céu limpo',\n",
       "       'nuvens quebradas', 'céu limpo', 'nuvens quebradas',\n",
       "       'nuvens quebradas', 'nuvens quebradas', 'céu limpo', 'céu limpo',\n",
       "       'nuvens quebradas', 'nuvens quebradas', 'nuvens quebradas',\n",
       "       'nuvens quebradas', 'nuvens quebradas', 'céu limpo',\n",
       "       'nuvens quebradas', 'céu limpo', 'céu pouco nublado', 'céu limpo',\n",
       "       'céu pouco nublado', 'nuvens quebradas', 'céu pouco nublado',\n",
       "       'nuvens quebradas', 'nuvens quebradas', 'nuvens quebradas',\n",
       "       'nuvens quebradas', 'nuvens quebradas', 'nuvens quebradas',\n",
       "       'nuvens quebradas', 'céu limpo', 'céu pouco nublado',\n",
       "       'céu pouco nublado', 'nuvens quebradas', 'nuvens quebradas',\n",
       "       'nuvens quebradas', 'nuvens quebradas', 'céu pouco nublado',\n",
       "       'céu pouco nublado', 'nuvens quebradas', 'céu limpo',\n",
       "       'nuvens quebradas', 'céu limpo', 'nuvens quebradas', 'céu limpo',\n",
       "       'céu limpo', 'céu limpo', 'céu limpo', 'nuvens quebradas',\n",
       "       'nuvens quebradas', 'nuvens quebradas', 'nuvens quebradas',\n",
       "       'céu pouco nublado', 'nuvens quebradas', 'céu limpo',\n",
       "       'nuvens quebradas', 'céu limpo', 'nuvens quebradas',\n",
       "       'nuvens quebradas', 'nuvens quebradas', 'nuvens quebradas',\n",
       "       'nuvens quebradas', 'céu limpo', 'nuvens quebradas', 'céu limpo',\n",
       "       'nuvens quebradas', 'nuvens quebradas', 'céu limpo',\n",
       "       'nuvens quebradas', 'nuvens quebradas', 'céu limpo',\n",
       "       'nuvens quebradas', 'nuvens quebradas', 'nuvens quebradas',\n",
       "       'céu pouco nublado', 'céu limpo', 'nuvens quebradas',\n",
       "       'nuvens quebradas', 'nuvens quebradas', 'nuvens quebradas',\n",
       "       'céu limpo', 'nuvens quebradas', 'céu limpo', 'céu limpo',\n",
       "       'céu pouco nublado', 'nuvens quebradas', 'céu limpo',\n",
       "       'nuvens quebradas', 'nuvens quebradas', 'céu pouco nublado',\n",
       "       'nuvens quebradas', 'nuvens quebradas', 'céu limpo',\n",
       "       'céu pouco nublado', 'nuvens quebradas', 'céu pouco nublado',\n",
       "       'céu pouco nublado', 'nuvens quebradas', 'céu limpo',\n",
       "       'nuvens quebradas', 'céu pouco nublado', 'nuvens quebradas',\n",
       "       'céu limpo', 'céu limpo', 'céu pouco nublado', 'céu pouco nublado',\n",
       "       'nuvens quebradas', 'nuvens quebradas', 'nuvens quebradas',\n",
       "       'nuvens quebradas', 'céu limpo', 'nuvens quebradas',\n",
       "       'céu pouco nublado', 'céu pouco nublado', 'nuvens quebradas',\n",
       "       'céu limpo', 'céu pouco nublado', 'céu pouco nublado',\n",
       "       'nuvens quebradas', 'céu pouco nublado', 'céu limpo', 'céu limpo',\n",
       "       'nuvens quebradas', 'nuvens quebradas', 'nuvens quebradas',\n",
       "       'nuvens quebradas', 'céu limpo', 'nuvens quebradas',\n",
       "       'céu pouco nublado', 'nuvens quebradas', 'céu limpo',\n",
       "       'nuvens quebradas', 'nuvens quebradas'], dtype=object)"
      ]
     },
     "execution_count": 582,
     "metadata": {},
     "output_type": "execute_result"
    }
   ],
   "source": [
    "prediction"
   ]
  },
  {
   "cell_type": "code",
   "execution_count": 583,
   "metadata": {},
   "outputs": [],
   "source": [
    "naCloud['AVERAGE_CLOUDINESS'] = prediction"
   ]
  },
  {
   "cell_type": "code",
   "execution_count": 584,
   "metadata": {},
   "outputs": [
    {
     "data": {
      "text/html": [
       "<div>\n",
       "<style scoped>\n",
       "    .dataframe tbody tr th:only-of-type {\n",
       "        vertical-align: middle;\n",
       "    }\n",
       "\n",
       "    .dataframe tbody tr th {\n",
       "        vertical-align: top;\n",
       "    }\n",
       "\n",
       "    .dataframe thead th {\n",
       "        text-align: right;\n",
       "    }\n",
       "</style>\n",
       "<table border=\"1\" class=\"dataframe\">\n",
       "  <thead>\n",
       "    <tr style=\"text-align: right;\">\n",
       "      <th></th>\n",
       "      <th>AVERAGE_FREE_FLOW_SPEED</th>\n",
       "      <th>AVERAGE_TIME_DIFF</th>\n",
       "      <th>AVERAGE_FREE_FLOW_TIME</th>\n",
       "      <th>AVERAGE_TEMPERATURE</th>\n",
       "      <th>AVERAGE_ATMOSP_PRESSURE</th>\n",
       "      <th>AVERAGE_HUMIDITY</th>\n",
       "      <th>AVERAGE_WIND_SPEED</th>\n",
       "      <th>weekday</th>\n",
       "      <th>hour</th>\n",
       "      <th>month</th>\n",
       "      <th>unique_id</th>\n",
       "      <th>DARK</th>\n",
       "      <th>LIGHT</th>\n",
       "      <th>LOW_LIGHT</th>\n",
       "      <th>AVERAGE_CLOUDINESS</th>\n",
       "    </tr>\n",
       "  </thead>\n",
       "  <tbody>\n",
       "    <tr>\n",
       "      <th>2</th>\n",
       "      <td>45.9</td>\n",
       "      <td>0.0</td>\n",
       "      <td>86.3</td>\n",
       "      <td>14.0</td>\n",
       "      <td>1017.0</td>\n",
       "      <td>93.0</td>\n",
       "      <td>0.0</td>\n",
       "      <td>1</td>\n",
       "      <td>5</td>\n",
       "      <td>8</td>\n",
       "      <td>3</td>\n",
       "      <td>1</td>\n",
       "      <td>0</td>\n",
       "      <td>0</td>\n",
       "      <td>céu limpo</td>\n",
       "    </tr>\n",
       "    <tr>\n",
       "      <th>4</th>\n",
       "      <td>44.0</td>\n",
       "      <td>3.5</td>\n",
       "      <td>85.5</td>\n",
       "      <td>12.0</td>\n",
       "      <td>1004.0</td>\n",
       "      <td>100.0</td>\n",
       "      <td>9.0</td>\n",
       "      <td>0</td>\n",
       "      <td>6</td>\n",
       "      <td>10</td>\n",
       "      <td>5</td>\n",
       "      <td>1</td>\n",
       "      <td>0</td>\n",
       "      <td>0</td>\n",
       "      <td>nuvens quebradas</td>\n",
       "    </tr>\n",
       "    <tr>\n",
       "      <th>7</th>\n",
       "      <td>34.7</td>\n",
       "      <td>19.1</td>\n",
       "      <td>68.3</td>\n",
       "      <td>17.0</td>\n",
       "      <td>1015.0</td>\n",
       "      <td>67.0</td>\n",
       "      <td>2.0</td>\n",
       "      <td>0</td>\n",
       "      <td>19</td>\n",
       "      <td>5</td>\n",
       "      <td>8</td>\n",
       "      <td>0</td>\n",
       "      <td>1</td>\n",
       "      <td>0</td>\n",
       "      <td>céu pouco nublado</td>\n",
       "    </tr>\n",
       "    <tr>\n",
       "      <th>8</th>\n",
       "      <td>46.5</td>\n",
       "      <td>1.3</td>\n",
       "      <td>75.4</td>\n",
       "      <td>17.0</td>\n",
       "      <td>1013.0</td>\n",
       "      <td>100.0</td>\n",
       "      <td>1.0</td>\n",
       "      <td>4</td>\n",
       "      <td>6</td>\n",
       "      <td>7</td>\n",
       "      <td>9</td>\n",
       "      <td>0</td>\n",
       "      <td>1</td>\n",
       "      <td>0</td>\n",
       "      <td>nuvens quebradas</td>\n",
       "    </tr>\n",
       "    <tr>\n",
       "      <th>12</th>\n",
       "      <td>40.7</td>\n",
       "      <td>26.3</td>\n",
       "      <td>80.9</td>\n",
       "      <td>13.0</td>\n",
       "      <td>1006.0</td>\n",
       "      <td>76.0</td>\n",
       "      <td>4.0</td>\n",
       "      <td>0</td>\n",
       "      <td>11</td>\n",
       "      <td>11</td>\n",
       "      <td>13</td>\n",
       "      <td>0</td>\n",
       "      <td>1</td>\n",
       "      <td>0</td>\n",
       "      <td>nuvens quebradas</td>\n",
       "    </tr>\n",
       "  </tbody>\n",
       "</table>\n",
       "</div>"
      ],
      "text/plain": [
       "    AVERAGE_FREE_FLOW_SPEED  AVERAGE_TIME_DIFF  AVERAGE_FREE_FLOW_TIME  \\\n",
       "2                      45.9                0.0                    86.3   \n",
       "4                      44.0                3.5                    85.5   \n",
       "7                      34.7               19.1                    68.3   \n",
       "8                      46.5                1.3                    75.4   \n",
       "12                     40.7               26.3                    80.9   \n",
       "\n",
       "    AVERAGE_TEMPERATURE  AVERAGE_ATMOSP_PRESSURE  AVERAGE_HUMIDITY  \\\n",
       "2                  14.0                   1017.0              93.0   \n",
       "4                  12.0                   1004.0             100.0   \n",
       "7                  17.0                   1015.0              67.0   \n",
       "8                  17.0                   1013.0             100.0   \n",
       "12                 13.0                   1006.0              76.0   \n",
       "\n",
       "    AVERAGE_WIND_SPEED  weekday  hour  month  unique_id  DARK  LIGHT  \\\n",
       "2                  0.0        1     5      8          3     1      0   \n",
       "4                  9.0        0     6     10          5     1      0   \n",
       "7                  2.0        0    19      5          8     0      1   \n",
       "8                  1.0        4     6      7          9     0      1   \n",
       "12                 4.0        0    11     11         13     0      1   \n",
       "\n",
       "    LOW_LIGHT AVERAGE_CLOUDINESS  \n",
       "2           0          céu limpo  \n",
       "4           0   nuvens quebradas  \n",
       "7           0  céu pouco nublado  \n",
       "8           0   nuvens quebradas  \n",
       "12          0   nuvens quebradas  "
      ]
     },
     "execution_count": 584,
     "metadata": {},
     "output_type": "execute_result"
    }
   ],
   "source": [
    "naCloud.head()"
   ]
  },
  {
   "cell_type": "code",
   "execution_count": 585,
   "metadata": {},
   "outputs": [],
   "source": [
    "test = pd.concat([naCloud, cloud], ignore_index=True).sort_values(by='unique_id',ascending=True)"
   ]
  },
  {
   "cell_type": "code",
   "execution_count": 586,
   "metadata": {},
   "outputs": [
    {
     "data": {
      "text/html": [
       "<div>\n",
       "<style scoped>\n",
       "    .dataframe tbody tr th:only-of-type {\n",
       "        vertical-align: middle;\n",
       "    }\n",
       "\n",
       "    .dataframe tbody tr th {\n",
       "        vertical-align: top;\n",
       "    }\n",
       "\n",
       "    .dataframe thead th {\n",
       "        text-align: right;\n",
       "    }\n",
       "</style>\n",
       "<table border=\"1\" class=\"dataframe\">\n",
       "  <thead>\n",
       "    <tr style=\"text-align: right;\">\n",
       "      <th></th>\n",
       "      <th>AVERAGE_FREE_FLOW_SPEED</th>\n",
       "      <th>AVERAGE_TIME_DIFF</th>\n",
       "      <th>AVERAGE_FREE_FLOW_TIME</th>\n",
       "      <th>AVERAGE_TEMPERATURE</th>\n",
       "      <th>AVERAGE_ATMOSP_PRESSURE</th>\n",
       "      <th>AVERAGE_HUMIDITY</th>\n",
       "      <th>AVERAGE_WIND_SPEED</th>\n",
       "      <th>weekday</th>\n",
       "      <th>hour</th>\n",
       "      <th>month</th>\n",
       "      <th>unique_id</th>\n",
       "      <th>DARK</th>\n",
       "      <th>LIGHT</th>\n",
       "      <th>LOW_LIGHT</th>\n",
       "      <th>AVERAGE_CLOUDINESS</th>\n",
       "    </tr>\n",
       "  </thead>\n",
       "  <tbody>\n",
       "    <tr>\n",
       "      <th>599</th>\n",
       "      <td>39.2</td>\n",
       "      <td>0.0</td>\n",
       "      <td>91.0</td>\n",
       "      <td>8.0</td>\n",
       "      <td>1026.0</td>\n",
       "      <td>71.0</td>\n",
       "      <td>1.0</td>\n",
       "      <td>2</td>\n",
       "      <td>23</td>\n",
       "      <td>2</td>\n",
       "      <td>1</td>\n",
       "      <td>1</td>\n",
       "      <td>0</td>\n",
       "      <td>0</td>\n",
       "      <td>céu limpo</td>\n",
       "    </tr>\n",
       "    <tr>\n",
       "      <th>600</th>\n",
       "      <td>42.5</td>\n",
       "      <td>12.2</td>\n",
       "      <td>76.8</td>\n",
       "      <td>11.0</td>\n",
       "      <td>1020.0</td>\n",
       "      <td>93.0</td>\n",
       "      <td>4.0</td>\n",
       "      <td>2</td>\n",
       "      <td>20</td>\n",
       "      <td>11</td>\n",
       "      <td>2</td>\n",
       "      <td>1</td>\n",
       "      <td>0</td>\n",
       "      <td>0</td>\n",
       "      <td>nuvens quebradas</td>\n",
       "    </tr>\n",
       "    <tr>\n",
       "      <th>0</th>\n",
       "      <td>45.9</td>\n",
       "      <td>0.0</td>\n",
       "      <td>86.3</td>\n",
       "      <td>14.0</td>\n",
       "      <td>1017.0</td>\n",
       "      <td>93.0</td>\n",
       "      <td>0.0</td>\n",
       "      <td>1</td>\n",
       "      <td>5</td>\n",
       "      <td>8</td>\n",
       "      <td>3</td>\n",
       "      <td>1</td>\n",
       "      <td>0</td>\n",
       "      <td>0</td>\n",
       "      <td>céu limpo</td>\n",
       "    </tr>\n",
       "    <tr>\n",
       "      <th>601</th>\n",
       "      <td>33.2</td>\n",
       "      <td>51.7</td>\n",
       "      <td>89.9</td>\n",
       "      <td>22.0</td>\n",
       "      <td>1016.0</td>\n",
       "      <td>77.0</td>\n",
       "      <td>4.0</td>\n",
       "      <td>5</td>\n",
       "      <td>17</td>\n",
       "      <td>7</td>\n",
       "      <td>4</td>\n",
       "      <td>0</td>\n",
       "      <td>1</td>\n",
       "      <td>0</td>\n",
       "      <td>céu pouco nublado</td>\n",
       "    </tr>\n",
       "    <tr>\n",
       "      <th>1</th>\n",
       "      <td>44.0</td>\n",
       "      <td>3.5</td>\n",
       "      <td>85.5</td>\n",
       "      <td>12.0</td>\n",
       "      <td>1004.0</td>\n",
       "      <td>100.0</td>\n",
       "      <td>9.0</td>\n",
       "      <td>0</td>\n",
       "      <td>6</td>\n",
       "      <td>10</td>\n",
       "      <td>5</td>\n",
       "      <td>1</td>\n",
       "      <td>0</td>\n",
       "      <td>0</td>\n",
       "      <td>nuvens quebradas</td>\n",
       "    </tr>\n",
       "  </tbody>\n",
       "</table>\n",
       "</div>"
      ],
      "text/plain": [
       "     AVERAGE_FREE_FLOW_SPEED  AVERAGE_TIME_DIFF  AVERAGE_FREE_FLOW_TIME  \\\n",
       "599                     39.2                0.0                    91.0   \n",
       "600                     42.5               12.2                    76.8   \n",
       "0                       45.9                0.0                    86.3   \n",
       "601                     33.2               51.7                    89.9   \n",
       "1                       44.0                3.5                    85.5   \n",
       "\n",
       "     AVERAGE_TEMPERATURE  AVERAGE_ATMOSP_PRESSURE  AVERAGE_HUMIDITY  \\\n",
       "599                  8.0                   1026.0              71.0   \n",
       "600                 11.0                   1020.0              93.0   \n",
       "0                   14.0                   1017.0              93.0   \n",
       "601                 22.0                   1016.0              77.0   \n",
       "1                   12.0                   1004.0             100.0   \n",
       "\n",
       "     AVERAGE_WIND_SPEED  weekday  hour  month  unique_id  DARK  LIGHT  \\\n",
       "599                 1.0        2    23      2          1     1      0   \n",
       "600                 4.0        2    20     11          2     1      0   \n",
       "0                   0.0        1     5      8          3     1      0   \n",
       "601                 4.0        5    17      7          4     0      1   \n",
       "1                   9.0        0     6     10          5     1      0   \n",
       "\n",
       "     LOW_LIGHT AVERAGE_CLOUDINESS  \n",
       "599          0          céu limpo  \n",
       "600          0   nuvens quebradas  \n",
       "0            0          céu limpo  \n",
       "601          0  céu pouco nublado  \n",
       "1            0   nuvens quebradas  "
      ]
     },
     "execution_count": 586,
     "metadata": {},
     "output_type": "execute_result"
    }
   ],
   "source": [
    "test.head()"
   ]
  },
  {
   "cell_type": "code",
   "execution_count": 587,
   "metadata": {},
   "outputs": [],
   "source": [
    "final = test[['unique_id','AVERAGE_CLOUDINESS']]"
   ]
  },
  {
   "cell_type": "code",
   "execution_count": 588,
   "metadata": {},
   "outputs": [
    {
     "data": {
      "text/html": [
       "<div>\n",
       "<style scoped>\n",
       "    .dataframe tbody tr th:only-of-type {\n",
       "        vertical-align: middle;\n",
       "    }\n",
       "\n",
       "    .dataframe tbody tr th {\n",
       "        vertical-align: top;\n",
       "    }\n",
       "\n",
       "    .dataframe thead th {\n",
       "        text-align: right;\n",
       "    }\n",
       "</style>\n",
       "<table border=\"1\" class=\"dataframe\">\n",
       "  <thead>\n",
       "    <tr style=\"text-align: right;\">\n",
       "      <th></th>\n",
       "      <th>unique_id</th>\n",
       "      <th>AVERAGE_CLOUDINESS</th>\n",
       "    </tr>\n",
       "  </thead>\n",
       "  <tbody>\n",
       "    <tr>\n",
       "      <th>599</th>\n",
       "      <td>1</td>\n",
       "      <td>céu limpo</td>\n",
       "    </tr>\n",
       "    <tr>\n",
       "      <th>600</th>\n",
       "      <td>2</td>\n",
       "      <td>nuvens quebradas</td>\n",
       "    </tr>\n",
       "    <tr>\n",
       "      <th>0</th>\n",
       "      <td>3</td>\n",
       "      <td>céu limpo</td>\n",
       "    </tr>\n",
       "    <tr>\n",
       "      <th>601</th>\n",
       "      <td>4</td>\n",
       "      <td>céu pouco nublado</td>\n",
       "    </tr>\n",
       "    <tr>\n",
       "      <th>1</th>\n",
       "      <td>5</td>\n",
       "      <td>nuvens quebradas</td>\n",
       "    </tr>\n",
       "  </tbody>\n",
       "</table>\n",
       "</div>"
      ],
      "text/plain": [
       "     unique_id AVERAGE_CLOUDINESS\n",
       "599          1          céu limpo\n",
       "600          2   nuvens quebradas\n",
       "0            3          céu limpo\n",
       "601          4  céu pouco nublado\n",
       "1            5   nuvens quebradas"
      ]
     },
     "execution_count": 588,
     "metadata": {},
     "output_type": "execute_result"
    }
   ],
   "source": [
    "final.head()"
   ]
  },
  {
   "cell_type": "code",
   "execution_count": 590,
   "metadata": {},
   "outputs": [],
   "source": [
    "training = training.drop(['AVERAGE_CLOUDINESS'],axis=1)"
   ]
  },
  {
   "cell_type": "code",
   "execution_count": 591,
   "metadata": {},
   "outputs": [],
   "source": [
    "training = training.merge(final,on='unique_id',how='left')"
   ]
  },
  {
   "cell_type": "code",
   "execution_count": 592,
   "metadata": {},
   "outputs": [],
   "source": [
    "training = training.drop(['unique_id','weekday','hour','month'],axis=1)"
   ]
  },
  {
   "cell_type": "code",
   "execution_count": 593,
   "metadata": {},
   "outputs": [],
   "source": [
    "#training.to_csv('cloudTrain.csv',index=False)\n",
    "training.to_csv('cloudTest.csv',index=False)"
   ]
  }
 ],
 "metadata": {
  "interpreter": {
   "hash": "93f4246b72b1dfd2a0724448b6458aeeaf8f9dfbfbe240c26e171f90999410ad"
  },
  "kernelspec": {
   "display_name": "Python 3.8.8 64-bit ('base': conda)",
   "language": "python",
   "name": "python3"
  },
  "language_info": {
   "codemirror_mode": {
    "name": "ipython",
    "version": 3
   },
   "file_extension": ".py",
   "mimetype": "text/x-python",
   "name": "python",
   "nbconvert_exporter": "python",
   "pygments_lexer": "ipython3",
   "version": "3.8.8"
  },
  "orig_nbformat": 4
 },
 "nbformat": 4,
 "nbformat_minor": 2
}
