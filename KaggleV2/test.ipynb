{
 "cells": [
  {
   "cell_type": "code",
   "execution_count": 42,
   "metadata": {},
   "outputs": [],
   "source": [
    "import numpy as np\n",
    "import pandas as pd\n",
    "import xlrd\n",
    "import xlwt\n",
    "import matplotlib.pyplot as plt\n",
    "import seaborn as sns\n",
    "import sklearn\n",
    "import jupyterlab\n",
    "%matplotlib inline"
   ]
  },
  {
   "cell_type": "code",
   "execution_count": 43,
   "metadata": {},
   "outputs": [],
   "source": [
    "testing = pd.read_csv('cloudTest.csv')"
   ]
  },
  {
   "cell_type": "code",
   "execution_count": 44,
   "metadata": {},
   "outputs": [
    {
     "name": "stdout",
     "output_type": "stream",
     "text": [
      "<class 'pandas.core.frame.DataFrame'>\n",
      "RangeIndex: 1500 entries, 0 to 1499\n",
      "Data columns (total 13 columns):\n",
      " #   Column                   Non-Null Count  Dtype  \n",
      "---  ------                   --------------  -----  \n",
      " 0   city_name                1500 non-null   object \n",
      " 1   record_date              1500 non-null   object \n",
      " 2   AVERAGE_FREE_FLOW_SPEED  1500 non-null   float64\n",
      " 3   AVERAGE_TIME_DIFF        1500 non-null   float64\n",
      " 4   AVERAGE_FREE_FLOW_TIME   1500 non-null   float64\n",
      " 5   LUMINOSITY               1500 non-null   object \n",
      " 6   AVERAGE_TEMPERATURE      1500 non-null   float64\n",
      " 7   AVERAGE_ATMOSP_PRESSURE  1500 non-null   float64\n",
      " 8   AVERAGE_HUMIDITY         1500 non-null   float64\n",
      " 9   AVERAGE_WIND_SPEED       1500 non-null   float64\n",
      " 10  AVERAGE_PRECIPITATION    1500 non-null   float64\n",
      " 11  AVERAGE_RAIN             1500 non-null   object \n",
      " 12  AVERAGE_CLOUDINESS       1500 non-null   object \n",
      "dtypes: float64(8), object(5)\n",
      "memory usage: 152.5+ KB\n"
     ]
    }
   ],
   "source": [
    "testing.info()"
   ]
  },
  {
   "cell_type": "code",
   "execution_count": 45,
   "metadata": {},
   "outputs": [
    {
     "name": "stdout",
     "output_type": "stream",
     "text": [
      "(1500, 13)\n"
     ]
    },
    {
     "data": {
      "text/plain": [
       "city_name                  0\n",
       "record_date                0\n",
       "AVERAGE_FREE_FLOW_SPEED    0\n",
       "AVERAGE_TIME_DIFF          0\n",
       "AVERAGE_FREE_FLOW_TIME     0\n",
       "LUMINOSITY                 0\n",
       "AVERAGE_TEMPERATURE        0\n",
       "AVERAGE_ATMOSP_PRESSURE    0\n",
       "AVERAGE_HUMIDITY           0\n",
       "AVERAGE_WIND_SPEED         0\n",
       "AVERAGE_PRECIPITATION      0\n",
       "AVERAGE_RAIN               0\n",
       "AVERAGE_CLOUDINESS         0\n",
       "dtype: int64"
      ]
     },
     "execution_count": 45,
     "metadata": {},
     "output_type": "execute_result"
    }
   ],
   "source": [
    "print(testing.shape)\n",
    "testing.isnull().sum()"
   ]
  },
  {
   "cell_type": "code",
   "execution_count": 46,
   "metadata": {},
   "outputs": [],
   "source": [
    "#testing['AVERAGE_CLOUDINESS'] = testing['AVERAGE_CLOUDINESS'].fillna(testing['AVERAGE_CLOUDINESS'].mode()[0])\n",
    "testing['AVERAGE_CLOUDINESS'] = testing['AVERAGE_CLOUDINESS'].fillna('Not Available')"
   ]
  },
  {
   "cell_type": "code",
   "execution_count": 47,
   "metadata": {},
   "outputs": [],
   "source": [
    "testing['AVERAGE_WIND_SPEED'] = np.log(testing.AVERAGE_WIND_SPEED+1)\n",
    "testing['AVERAGE_TIME_DIFF'] = np.log(testing.AVERAGE_TIME_DIFF+1)"
   ]
  },
  {
   "cell_type": "code",
   "execution_count": 48,
   "metadata": {},
   "outputs": [],
   "source": [
    "testing['record_date'] = pd.to_datetime(testing['record_date'])\n",
    "\n",
    "testing['weekday'] = testing['record_date'].dt.dayofweek\n",
    "testing['hour'] = testing['record_date'].dt.hour\n",
    "testing['month'] = testing['record_date'].dt.month\n",
    "#dummied['year'] = dummied['record_date'].dt.year\n",
    "#dummied['day'] = dummied['record_date'].dt.day"
   ]
  },
  {
   "cell_type": "code",
   "execution_count": 49,
   "metadata": {},
   "outputs": [],
   "source": [
    "testing.drop(['AVERAGE_RAIN','AVERAGE_PRECIPITATION','city_name','record_date'],axis=1,inplace=True)"
   ]
  },
  {
   "cell_type": "code",
   "execution_count": 50,
   "metadata": {},
   "outputs": [],
   "source": [
    "\n",
    "df_dummies = testing[['LUMINOSITY','AVERAGE_CLOUDINESS']]"
   ]
  },
  {
   "cell_type": "code",
   "execution_count": 51,
   "metadata": {},
   "outputs": [],
   "source": [
    "dummied = testing.copy()"
   ]
  },
  {
   "cell_type": "code",
   "execution_count": 52,
   "metadata": {},
   "outputs": [],
   "source": [
    "for i in df_dummies:\n",
    "    dummied = pd.concat([dummied,pd.get_dummies(dummied[i])],axis='columns').drop([i],axis='columns')"
   ]
  },
  {
   "cell_type": "code",
   "execution_count": 53,
   "metadata": {},
   "outputs": [
    {
     "name": "stdout",
     "output_type": "stream",
     "text": [
      "<class 'pandas.core.frame.DataFrame'>\n",
      "RangeIndex: 1500 entries, 0 to 1499\n",
      "Data columns (total 17 columns):\n",
      " #   Column                   Non-Null Count  Dtype  \n",
      "---  ------                   --------------  -----  \n",
      " 0   AVERAGE_FREE_FLOW_SPEED  1500 non-null   float64\n",
      " 1   AVERAGE_TIME_DIFF        1500 non-null   float64\n",
      " 2   AVERAGE_FREE_FLOW_TIME   1500 non-null   float64\n",
      " 3   AVERAGE_TEMPERATURE      1500 non-null   float64\n",
      " 4   AVERAGE_ATMOSP_PRESSURE  1500 non-null   float64\n",
      " 5   AVERAGE_HUMIDITY         1500 non-null   float64\n",
      " 6   AVERAGE_WIND_SPEED       1500 non-null   float64\n",
      " 7   weekday                  1500 non-null   int64  \n",
      " 8   hour                     1500 non-null   int64  \n",
      " 9   month                    1500 non-null   int64  \n",
      " 10  DARK                     1500 non-null   uint8  \n",
      " 11  LIGHT                    1500 non-null   uint8  \n",
      " 12  LOW_LIGHT                1500 non-null   uint8  \n",
      " 13  céu limpo                1500 non-null   uint8  \n",
      " 14  céu pouco nublado        1500 non-null   uint8  \n",
      " 15  nublado                  1500 non-null   uint8  \n",
      " 16  nuvens quebradas         1500 non-null   uint8  \n",
      "dtypes: float64(7), int64(3), uint8(7)\n",
      "memory usage: 127.6 KB\n"
     ]
    }
   ],
   "source": [
    "dummied.info()"
   ]
  },
  {
   "cell_type": "code",
   "execution_count": 54,
   "metadata": {},
   "outputs": [],
   "source": [
    "#testing['city_name'].value_counts()"
   ]
  },
  {
   "cell_type": "code",
   "execution_count": 55,
   "metadata": {},
   "outputs": [],
   "source": [
    "#dummied['record_date'].value_counts().sort_values(ascending=False)"
   ]
  },
  {
   "cell_type": "code",
   "execution_count": 56,
   "metadata": {},
   "outputs": [
    {
     "data": {
      "text/plain": [
       "DARK         730\n",
       "LIGHT        725\n",
       "LOW_LIGHT     45\n",
       "Name: LUMINOSITY, dtype: int64"
      ]
     },
     "execution_count": 56,
     "metadata": {},
     "output_type": "execute_result"
    }
   ],
   "source": [
    "testing['LUMINOSITY'].value_counts()"
   ]
  },
  {
   "cell_type": "code",
   "execution_count": 57,
   "metadata": {},
   "outputs": [
    {
     "data": {
      "text/plain": [
       "nuvens quebradas     711\n",
       "céu limpo            515\n",
       "céu pouco nublado    197\n",
       "nublado               77\n",
       "Name: AVERAGE_CLOUDINESS, dtype: int64"
      ]
     },
     "execution_count": 57,
     "metadata": {},
     "output_type": "execute_result"
    }
   ],
   "source": [
    "testing['AVERAGE_CLOUDINESS'].value_counts()\n"
   ]
  },
  {
   "cell_type": "code",
   "execution_count": 58,
   "metadata": {},
   "outputs": [
    {
     "data": {
      "text/plain": [
       "AVERAGE_FREE_FLOW_SPEED    0\n",
       "AVERAGE_TIME_DIFF          0\n",
       "AVERAGE_FREE_FLOW_TIME     0\n",
       "AVERAGE_TEMPERATURE        0\n",
       "AVERAGE_ATMOSP_PRESSURE    0\n",
       "AVERAGE_HUMIDITY           0\n",
       "AVERAGE_WIND_SPEED         0\n",
       "weekday                    0\n",
       "hour                       0\n",
       "month                      0\n",
       "DARK                       0\n",
       "LIGHT                      0\n",
       "LOW_LIGHT                  0\n",
       "céu limpo                  0\n",
       "céu pouco nublado          0\n",
       "nublado                    0\n",
       "nuvens quebradas           0\n",
       "dtype: int64"
      ]
     },
     "execution_count": 58,
     "metadata": {},
     "output_type": "execute_result"
    }
   ],
   "source": [
    "dummied.isna().sum()"
   ]
  },
  {
   "cell_type": "code",
   "execution_count": 59,
   "metadata": {},
   "outputs": [],
   "source": [
    "dummied = dummied.reindex(sorted(dummied.columns), axis=1)"
   ]
  },
  {
   "cell_type": "code",
   "execution_count": 60,
   "metadata": {},
   "outputs": [
    {
     "name": "stdout",
     "output_type": "stream",
     "text": [
      "<class 'pandas.core.frame.DataFrame'>\n",
      "RangeIndex: 1500 entries, 0 to 1499\n",
      "Data columns (total 17 columns):\n",
      " #   Column                   Non-Null Count  Dtype  \n",
      "---  ------                   --------------  -----  \n",
      " 0   AVERAGE_ATMOSP_PRESSURE  1500 non-null   float64\n",
      " 1   AVERAGE_FREE_FLOW_SPEED  1500 non-null   float64\n",
      " 2   AVERAGE_FREE_FLOW_TIME   1500 non-null   float64\n",
      " 3   AVERAGE_HUMIDITY         1500 non-null   float64\n",
      " 4   AVERAGE_TEMPERATURE      1500 non-null   float64\n",
      " 5   AVERAGE_TIME_DIFF        1500 non-null   float64\n",
      " 6   AVERAGE_WIND_SPEED       1500 non-null   float64\n",
      " 7   DARK                     1500 non-null   uint8  \n",
      " 8   LIGHT                    1500 non-null   uint8  \n",
      " 9   LOW_LIGHT                1500 non-null   uint8  \n",
      " 10  céu limpo                1500 non-null   uint8  \n",
      " 11  céu pouco nublado        1500 non-null   uint8  \n",
      " 12  hour                     1500 non-null   int64  \n",
      " 13  month                    1500 non-null   int64  \n",
      " 14  nublado                  1500 non-null   uint8  \n",
      " 15  nuvens quebradas         1500 non-null   uint8  \n",
      " 16  weekday                  1500 non-null   int64  \n",
      "dtypes: float64(7), int64(3), uint8(7)\n",
      "memory usage: 127.6 KB\n"
     ]
    }
   ],
   "source": [
    "dummied.info()"
   ]
  },
  {
   "cell_type": "code",
   "execution_count": 61,
   "metadata": {},
   "outputs": [],
   "source": [
    "dummied.to_csv('workedTesting.csv',index=False)"
   ]
  }
 ],
 "metadata": {
  "interpreter": {
   "hash": "30295c5bec572e859485b1ffa5e89b8b3e2022ef6e3e739c1ac40f143a557caf"
  },
  "kernelspec": {
   "display_name": "Python 3.6.15 64-bit",
   "name": "python3"
  },
  "language_info": {
   "codemirror_mode": {
    "name": "ipython",
    "version": 3
   },
   "file_extension": ".py",
   "mimetype": "text/x-python",
   "name": "python",
   "nbconvert_exporter": "python",
   "pygments_lexer": "ipython3",
   "version": "3.8.8"
  },
  "orig_nbformat": 4
 },
 "nbformat": 4,
 "nbformat_minor": 2
}
