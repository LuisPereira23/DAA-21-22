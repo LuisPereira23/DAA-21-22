{
 "cells": [
  {
   "cell_type": "code",
   "execution_count": 523,
   "metadata": {},
   "outputs": [],
   "source": [
    "import numpy as np\n",
    "import pandas as pd\n",
    "import xlrd\n",
    "import xlwt\n",
    "import matplotlib.pyplot as plt\n",
    "import seaborn as sns\n",
    "import sklearn\n",
    "import jupyterlab\n",
    "%matplotlib inline"
   ]
  },
  {
   "cell_type": "code",
   "execution_count": 524,
   "metadata": {},
   "outputs": [],
   "source": [
    "testing = pd.read_csv('cloudTest.csv')"
   ]
  },
  {
   "cell_type": "code",
   "execution_count": 525,
   "metadata": {},
   "outputs": [
    {
     "name": "stdout",
     "output_type": "stream",
     "text": [
      "<class 'pandas.core.frame.DataFrame'>\n",
      "RangeIndex: 1500 entries, 0 to 1499\n",
      "Data columns (total 13 columns):\n",
      " #   Column                   Non-Null Count  Dtype  \n",
      "---  ------                   --------------  -----  \n",
      " 0   city_name                1500 non-null   object \n",
      " 1   record_date              1500 non-null   object \n",
      " 2   AVERAGE_FREE_FLOW_SPEED  1500 non-null   float64\n",
      " 3   AVERAGE_TIME_DIFF        1500 non-null   float64\n",
      " 4   AVERAGE_FREE_FLOW_TIME   1500 non-null   float64\n",
      " 5   LUMINOSITY               1500 non-null   object \n",
      " 6   AVERAGE_TEMPERATURE      1500 non-null   float64\n",
      " 7   AVERAGE_ATMOSP_PRESSURE  1500 non-null   float64\n",
      " 8   AVERAGE_HUMIDITY         1500 non-null   float64\n",
      " 9   AVERAGE_WIND_SPEED       1500 non-null   float64\n",
      " 10  AVERAGE_PRECIPITATION    1500 non-null   float64\n",
      " 11  AVERAGE_RAIN             1500 non-null   object \n",
      " 12  AVERAGE_CLOUDINESS       1500 non-null   object \n",
      "dtypes: float64(8), object(5)\n",
      "memory usage: 152.5+ KB\n"
     ]
    }
   ],
   "source": [
    "testing.info()"
   ]
  },
  {
   "cell_type": "code",
   "execution_count": 526,
   "metadata": {},
   "outputs": [
    {
     "name": "stdout",
     "output_type": "stream",
     "text": [
      "(1500, 13)\n"
     ]
    },
    {
     "data": {
      "text/plain": [
       "city_name                  0\n",
       "record_date                0\n",
       "AVERAGE_FREE_FLOW_SPEED    0\n",
       "AVERAGE_TIME_DIFF          0\n",
       "AVERAGE_FREE_FLOW_TIME     0\n",
       "LUMINOSITY                 0\n",
       "AVERAGE_TEMPERATURE        0\n",
       "AVERAGE_ATMOSP_PRESSURE    0\n",
       "AVERAGE_HUMIDITY           0\n",
       "AVERAGE_WIND_SPEED         0\n",
       "AVERAGE_PRECIPITATION      0\n",
       "AVERAGE_RAIN               0\n",
       "AVERAGE_CLOUDINESS         0\n",
       "dtype: int64"
      ]
     },
     "execution_count": 526,
     "metadata": {},
     "output_type": "execute_result"
    }
   ],
   "source": [
    "print(testing.shape)\n",
    "testing.isnull().sum()"
   ]
  },
  {
   "cell_type": "code",
   "execution_count": 527,
   "metadata": {},
   "outputs": [],
   "source": [
    "#testing['AVERAGE_CLOUDINESS'] = testing['AVERAGE_CLOUDINESS'].fillna(testing['AVERAGE_CLOUDINESS'].mode()[0])\n",
    "#testing['AVERAGE_CLOUDINESS'] = testing['AVERAGE_CLOUDINESS'].fillna('Not Available')"
   ]
  },
  {
   "cell_type": "code",
   "execution_count": 528,
   "metadata": {},
   "outputs": [],
   "source": [
    "testing['AVERAGE_DISTANCE_FREE'] = testing['AVERAGE_FREE_FLOW_TIME'] * testing['AVERAGE_FREE_FLOW_SPEED']"
   ]
  },
  {
   "cell_type": "code",
   "execution_count": 529,
   "metadata": {},
   "outputs": [],
   "source": [
    "testing['AVERAGE_TIME'] = testing['AVERAGE_TIME_DIFF'] + testing['AVERAGE_FREE_FLOW_TIME'] "
   ]
  },
  {
   "cell_type": "code",
   "execution_count": 530,
   "metadata": {},
   "outputs": [],
   "source": [
    "testing['AVERAGE_SPEED'] =  testing['AVERAGE_DISTANCE_FREE'] / testing['AVERAGE_TIME']"
   ]
  },
  {
   "cell_type": "code",
   "execution_count": 531,
   "metadata": {},
   "outputs": [],
   "source": [
    "testing['AVERAGE_SPEED_DIFF_Num'] =  testing['AVERAGE_FREE_FLOW_SPEED'] - testing['AVERAGE_SPEED']"
   ]
  },
  {
   "cell_type": "code",
   "execution_count": 532,
   "metadata": {},
   "outputs": [],
   "source": [
    "testing['record_date'] = pd.to_datetime(testing['record_date'])\n",
    "\n",
    "testing['weekday'] = testing['record_date'].dt.dayofweek\n",
    "testing['hour'] = testing['record_date'].dt.hour\n",
    "testing['month'] = testing['record_date'].dt.month\n",
    "testing['year'] = testing['record_date'].dt.year\n",
    "testing['day'] = testing['record_date'].dt.day"
   ]
  },
  {
   "cell_type": "code",
   "execution_count": 533,
   "metadata": {},
   "outputs": [],
   "source": [
    "def applyer(row):\n",
    "    if row == 5 or row == 6:\n",
    "        return 1\n",
    "    else:\n",
    "        return 0 \n",
    "temp2 = testing['weekday'].apply(applyer) \n",
    "testing['weekend']=temp2"
   ]
  },
  {
   "cell_type": "code",
   "execution_count": 534,
   "metadata": {},
   "outputs": [],
   "source": [
    "testing.drop(['AVERAGE_PRECIPITATION','city_name','record_date','AVERAGE_RAIN','AVERAGE_FREE_FLOW_SPEED','AVERAGE_FREE_FLOW_TIME','AVERAGE_DISTANCE_FREE'],axis=1,inplace=True)"
   ]
  },
  {
   "cell_type": "code",
   "execution_count": 535,
   "metadata": {},
   "outputs": [],
   "source": [
    "\n",
    "df_dummies = testing[['LUMINOSITY','AVERAGE_CLOUDINESS']]"
   ]
  },
  {
   "cell_type": "code",
   "execution_count": 536,
   "metadata": {},
   "outputs": [],
   "source": [
    "dummied = testing.copy()"
   ]
  },
  {
   "cell_type": "code",
   "execution_count": 537,
   "metadata": {},
   "outputs": [],
   "source": [
    "for i in df_dummies:\n",
    "    dummied = pd.concat([dummied,pd.get_dummies(dummied[i])],axis='columns').drop([i],axis='columns')"
   ]
  },
  {
   "cell_type": "code",
   "execution_count": 538,
   "metadata": {},
   "outputs": [
    {
     "name": "stdout",
     "output_type": "stream",
     "text": [
      "<class 'pandas.core.frame.DataFrame'>\n",
      "RangeIndex: 1500 entries, 0 to 1499\n",
      "Data columns (total 21 columns):\n",
      " #   Column                   Non-Null Count  Dtype  \n",
      "---  ------                   --------------  -----  \n",
      " 0   AVERAGE_TIME_DIFF        1500 non-null   float64\n",
      " 1   AVERAGE_TEMPERATURE      1500 non-null   float64\n",
      " 2   AVERAGE_ATMOSP_PRESSURE  1500 non-null   float64\n",
      " 3   AVERAGE_HUMIDITY         1500 non-null   float64\n",
      " 4   AVERAGE_WIND_SPEED       1500 non-null   float64\n",
      " 5   AVERAGE_TIME             1500 non-null   float64\n",
      " 6   AVERAGE_SPEED            1500 non-null   float64\n",
      " 7   AVERAGE_SPEED_DIFF_Num   1500 non-null   float64\n",
      " 8   weekday                  1500 non-null   int64  \n",
      " 9   hour                     1500 non-null   int64  \n",
      " 10  month                    1500 non-null   int64  \n",
      " 11  year                     1500 non-null   int64  \n",
      " 12  day                      1500 non-null   int64  \n",
      " 13  weekend                  1500 non-null   int64  \n",
      " 14  DARK                     1500 non-null   uint8  \n",
      " 15  LIGHT                    1500 non-null   uint8  \n",
      " 16  LOW_LIGHT                1500 non-null   uint8  \n",
      " 17  céu limpo                1500 non-null   uint8  \n",
      " 18  céu pouco nublado        1500 non-null   uint8  \n",
      " 19  nublado                  1500 non-null   uint8  \n",
      " 20  nuvens quebradas         1500 non-null   uint8  \n",
      "dtypes: float64(8), int64(6), uint8(7)\n",
      "memory usage: 174.4 KB\n"
     ]
    }
   ],
   "source": [
    "dummied.info()"
   ]
  },
  {
   "cell_type": "code",
   "execution_count": 539,
   "metadata": {},
   "outputs": [],
   "source": [
    "#testing['city_name'].value_counts()"
   ]
  },
  {
   "cell_type": "code",
   "execution_count": 540,
   "metadata": {},
   "outputs": [],
   "source": [
    "#dummied['record_date'].value_counts().sort_values(ascending=False)"
   ]
  },
  {
   "cell_type": "code",
   "execution_count": 541,
   "metadata": {},
   "outputs": [
    {
     "data": {
      "text/plain": [
       "DARK         730\n",
       "LIGHT        725\n",
       "LOW_LIGHT     45\n",
       "Name: LUMINOSITY, dtype: int64"
      ]
     },
     "execution_count": 541,
     "metadata": {},
     "output_type": "execute_result"
    }
   ],
   "source": [
    "testing['LUMINOSITY'].value_counts()"
   ]
  },
  {
   "cell_type": "code",
   "execution_count": 542,
   "metadata": {},
   "outputs": [
    {
     "data": {
      "text/plain": [
       "nuvens quebradas     777\n",
       "céu limpo            528\n",
       "céu pouco nublado    154\n",
       "nublado               41\n",
       "Name: AVERAGE_CLOUDINESS, dtype: int64"
      ]
     },
     "execution_count": 542,
     "metadata": {},
     "output_type": "execute_result"
    }
   ],
   "source": [
    "testing['AVERAGE_CLOUDINESS'].value_counts()\n"
   ]
  },
  {
   "cell_type": "code",
   "execution_count": 543,
   "metadata": {},
   "outputs": [
    {
     "data": {
      "text/plain": [
       "AVERAGE_TIME_DIFF          0\n",
       "AVERAGE_TEMPERATURE        0\n",
       "AVERAGE_ATMOSP_PRESSURE    0\n",
       "AVERAGE_HUMIDITY           0\n",
       "AVERAGE_WIND_SPEED         0\n",
       "AVERAGE_TIME               0\n",
       "AVERAGE_SPEED              0\n",
       "AVERAGE_SPEED_DIFF_Num     0\n",
       "weekday                    0\n",
       "hour                       0\n",
       "month                      0\n",
       "year                       0\n",
       "day                        0\n",
       "weekend                    0\n",
       "DARK                       0\n",
       "LIGHT                      0\n",
       "LOW_LIGHT                  0\n",
       "céu limpo                  0\n",
       "céu pouco nublado          0\n",
       "nublado                    0\n",
       "nuvens quebradas           0\n",
       "dtype: int64"
      ]
     },
     "execution_count": 543,
     "metadata": {},
     "output_type": "execute_result"
    }
   ],
   "source": [
    "dummied.isna().sum()"
   ]
  },
  {
   "cell_type": "code",
   "execution_count": 544,
   "metadata": {},
   "outputs": [],
   "source": [
    "dummied = dummied.reindex(sorted(dummied.columns), axis=1)"
   ]
  },
  {
   "cell_type": "code",
   "execution_count": 545,
   "metadata": {},
   "outputs": [
    {
     "name": "stdout",
     "output_type": "stream",
     "text": [
      "<class 'pandas.core.frame.DataFrame'>\n",
      "RangeIndex: 1500 entries, 0 to 1499\n",
      "Data columns (total 21 columns):\n",
      " #   Column                   Non-Null Count  Dtype  \n",
      "---  ------                   --------------  -----  \n",
      " 0   AVERAGE_ATMOSP_PRESSURE  1500 non-null   float64\n",
      " 1   AVERAGE_HUMIDITY         1500 non-null   float64\n",
      " 2   AVERAGE_SPEED            1500 non-null   float64\n",
      " 3   AVERAGE_SPEED_DIFF_Num   1500 non-null   float64\n",
      " 4   AVERAGE_TEMPERATURE      1500 non-null   float64\n",
      " 5   AVERAGE_TIME             1500 non-null   float64\n",
      " 6   AVERAGE_TIME_DIFF        1500 non-null   float64\n",
      " 7   AVERAGE_WIND_SPEED       1500 non-null   float64\n",
      " 8   DARK                     1500 non-null   uint8  \n",
      " 9   LIGHT                    1500 non-null   uint8  \n",
      " 10  LOW_LIGHT                1500 non-null   uint8  \n",
      " 11  céu limpo                1500 non-null   uint8  \n",
      " 12  céu pouco nublado        1500 non-null   uint8  \n",
      " 13  day                      1500 non-null   int64  \n",
      " 14  hour                     1500 non-null   int64  \n",
      " 15  month                    1500 non-null   int64  \n",
      " 16  nublado                  1500 non-null   uint8  \n",
      " 17  nuvens quebradas         1500 non-null   uint8  \n",
      " 18  weekday                  1500 non-null   int64  \n",
      " 19  weekend                  1500 non-null   int64  \n",
      " 20  year                     1500 non-null   int64  \n",
      "dtypes: float64(8), int64(6), uint8(7)\n",
      "memory usage: 174.4 KB\n"
     ]
    }
   ],
   "source": [
    "dummied.info()"
   ]
  },
  {
   "cell_type": "code",
   "execution_count": 546,
   "metadata": {},
   "outputs": [
    {
     "data": {
      "text/html": [
       "<div>\n",
       "<style scoped>\n",
       "    .dataframe tbody tr th:only-of-type {\n",
       "        vertical-align: middle;\n",
       "    }\n",
       "\n",
       "    .dataframe tbody tr th {\n",
       "        vertical-align: top;\n",
       "    }\n",
       "\n",
       "    .dataframe thead th {\n",
       "        text-align: right;\n",
       "    }\n",
       "</style>\n",
       "<table border=\"1\" class=\"dataframe\">\n",
       "  <thead>\n",
       "    <tr style=\"text-align: right;\">\n",
       "      <th></th>\n",
       "      <th>AVERAGE_ATMOSP_PRESSURE</th>\n",
       "      <th>AVERAGE_HUMIDITY</th>\n",
       "      <th>AVERAGE_SPEED</th>\n",
       "      <th>AVERAGE_SPEED_DIFF_Num</th>\n",
       "      <th>AVERAGE_TEMPERATURE</th>\n",
       "      <th>AVERAGE_TIME</th>\n",
       "      <th>AVERAGE_TIME_DIFF</th>\n",
       "      <th>AVERAGE_WIND_SPEED</th>\n",
       "      <th>DARK</th>\n",
       "      <th>LIGHT</th>\n",
       "      <th>...</th>\n",
       "      <th>céu limpo</th>\n",
       "      <th>céu pouco nublado</th>\n",
       "      <th>day</th>\n",
       "      <th>hour</th>\n",
       "      <th>month</th>\n",
       "      <th>nublado</th>\n",
       "      <th>nuvens quebradas</th>\n",
       "      <th>weekday</th>\n",
       "      <th>weekend</th>\n",
       "      <th>year</th>\n",
       "    </tr>\n",
       "  </thead>\n",
       "  <tbody>\n",
       "    <tr>\n",
       "      <th>0</th>\n",
       "      <td>1026.0</td>\n",
       "      <td>71.0</td>\n",
       "      <td>39.200000</td>\n",
       "      <td>0.000000</td>\n",
       "      <td>8.0</td>\n",
       "      <td>91.0</td>\n",
       "      <td>0.0</td>\n",
       "      <td>1.0</td>\n",
       "      <td>1</td>\n",
       "      <td>0</td>\n",
       "      <td>...</td>\n",
       "      <td>1</td>\n",
       "      <td>0</td>\n",
       "      <td>13</td>\n",
       "      <td>23</td>\n",
       "      <td>2</td>\n",
       "      <td>0</td>\n",
       "      <td>0</td>\n",
       "      <td>2</td>\n",
       "      <td>0</td>\n",
       "      <td>2019</td>\n",
       "    </tr>\n",
       "    <tr>\n",
       "      <th>1</th>\n",
       "      <td>1020.0</td>\n",
       "      <td>93.0</td>\n",
       "      <td>36.674157</td>\n",
       "      <td>5.825843</td>\n",
       "      <td>11.0</td>\n",
       "      <td>89.0</td>\n",
       "      <td>12.2</td>\n",
       "      <td>4.0</td>\n",
       "      <td>1</td>\n",
       "      <td>0</td>\n",
       "      <td>...</td>\n",
       "      <td>0</td>\n",
       "      <td>0</td>\n",
       "      <td>28</td>\n",
       "      <td>20</td>\n",
       "      <td>11</td>\n",
       "      <td>0</td>\n",
       "      <td>1</td>\n",
       "      <td>2</td>\n",
       "      <td>0</td>\n",
       "      <td>2018</td>\n",
       "    </tr>\n",
       "    <tr>\n",
       "      <th>2</th>\n",
       "      <td>1017.0</td>\n",
       "      <td>93.0</td>\n",
       "      <td>45.900000</td>\n",
       "      <td>0.000000</td>\n",
       "      <td>14.0</td>\n",
       "      <td>86.3</td>\n",
       "      <td>0.0</td>\n",
       "      <td>0.0</td>\n",
       "      <td>1</td>\n",
       "      <td>0</td>\n",
       "      <td>...</td>\n",
       "      <td>1</td>\n",
       "      <td>0</td>\n",
       "      <td>14</td>\n",
       "      <td>5</td>\n",
       "      <td>8</td>\n",
       "      <td>0</td>\n",
       "      <td>0</td>\n",
       "      <td>1</td>\n",
       "      <td>0</td>\n",
       "      <td>2018</td>\n",
       "    </tr>\n",
       "    <tr>\n",
       "      <th>3</th>\n",
       "      <td>1016.0</td>\n",
       "      <td>77.0</td>\n",
       "      <td>21.078249</td>\n",
       "      <td>12.121751</td>\n",
       "      <td>22.0</td>\n",
       "      <td>141.6</td>\n",
       "      <td>51.7</td>\n",
       "      <td>4.0</td>\n",
       "      <td>0</td>\n",
       "      <td>1</td>\n",
       "      <td>...</td>\n",
       "      <td>0</td>\n",
       "      <td>1</td>\n",
       "      <td>6</td>\n",
       "      <td>17</td>\n",
       "      <td>7</td>\n",
       "      <td>0</td>\n",
       "      <td>0</td>\n",
       "      <td>5</td>\n",
       "      <td>1</td>\n",
       "      <td>2019</td>\n",
       "    </tr>\n",
       "    <tr>\n",
       "      <th>4</th>\n",
       "      <td>1004.0</td>\n",
       "      <td>100.0</td>\n",
       "      <td>42.269663</td>\n",
       "      <td>1.730337</td>\n",
       "      <td>12.0</td>\n",
       "      <td>89.0</td>\n",
       "      <td>3.5</td>\n",
       "      <td>9.0</td>\n",
       "      <td>1</td>\n",
       "      <td>0</td>\n",
       "      <td>...</td>\n",
       "      <td>0</td>\n",
       "      <td>0</td>\n",
       "      <td>15</td>\n",
       "      <td>6</td>\n",
       "      <td>10</td>\n",
       "      <td>0</td>\n",
       "      <td>1</td>\n",
       "      <td>0</td>\n",
       "      <td>0</td>\n",
       "      <td>2018</td>\n",
       "    </tr>\n",
       "  </tbody>\n",
       "</table>\n",
       "<p>5 rows × 21 columns</p>\n",
       "</div>"
      ],
      "text/plain": [
       "   AVERAGE_ATMOSP_PRESSURE  AVERAGE_HUMIDITY  AVERAGE_SPEED  \\\n",
       "0                   1026.0              71.0      39.200000   \n",
       "1                   1020.0              93.0      36.674157   \n",
       "2                   1017.0              93.0      45.900000   \n",
       "3                   1016.0              77.0      21.078249   \n",
       "4                   1004.0             100.0      42.269663   \n",
       "\n",
       "   AVERAGE_SPEED_DIFF_Num  AVERAGE_TEMPERATURE  AVERAGE_TIME  \\\n",
       "0                0.000000                  8.0          91.0   \n",
       "1                5.825843                 11.0          89.0   \n",
       "2                0.000000                 14.0          86.3   \n",
       "3               12.121751                 22.0         141.6   \n",
       "4                1.730337                 12.0          89.0   \n",
       "\n",
       "   AVERAGE_TIME_DIFF  AVERAGE_WIND_SPEED  DARK  LIGHT  ...  céu limpo  \\\n",
       "0                0.0                 1.0     1      0  ...          1   \n",
       "1               12.2                 4.0     1      0  ...          0   \n",
       "2                0.0                 0.0     1      0  ...          1   \n",
       "3               51.7                 4.0     0      1  ...          0   \n",
       "4                3.5                 9.0     1      0  ...          0   \n",
       "\n",
       "   céu pouco nublado  day  hour  month  nublado  nuvens quebradas  weekday  \\\n",
       "0                  0   13    23      2        0                 0        2   \n",
       "1                  0   28    20     11        0                 1        2   \n",
       "2                  0   14     5      8        0                 0        1   \n",
       "3                  1    6    17      7        0                 0        5   \n",
       "4                  0   15     6     10        0                 1        0   \n",
       "\n",
       "   weekend  year  \n",
       "0        0  2019  \n",
       "1        0  2018  \n",
       "2        0  2018  \n",
       "3        1  2019  \n",
       "4        0  2018  \n",
       "\n",
       "[5 rows x 21 columns]"
      ]
     },
     "execution_count": 546,
     "metadata": {},
     "output_type": "execute_result"
    }
   ],
   "source": [
    "dummied.head()"
   ]
  },
  {
   "cell_type": "code",
   "execution_count": 547,
   "metadata": {},
   "outputs": [],
   "source": [
    "dummied.to_csv('workedTesting.csv',index=False)"
   ]
  }
 ],
 "metadata": {
  "interpreter": {
   "hash": "30295c5bec572e859485b1ffa5e89b8b3e2022ef6e3e739c1ac40f143a557caf"
  },
  "kernelspec": {
   "display_name": "Python 3.6.15 64-bit",
   "name": "python3"
  },
  "language_info": {
   "codemirror_mode": {
    "name": "ipython",
    "version": 3
   },
   "file_extension": ".py",
   "mimetype": "text/x-python",
   "name": "python",
   "nbconvert_exporter": "python",
   "pygments_lexer": "ipython3",
   "version": "3.9.9"
  },
  "orig_nbformat": 4
 },
 "nbformat": 4,
 "nbformat_minor": 2
}
