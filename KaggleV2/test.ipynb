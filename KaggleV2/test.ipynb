{
 "cells": [
  {
   "cell_type": "code",
   "execution_count": 201,
   "metadata": {},
   "outputs": [],
   "source": [
    "import numpy as np\n",
    "import pandas as pd\n",
    "import xlrd\n",
    "import xlwt\n",
    "import matplotlib.pyplot as plt\n",
    "import seaborn as sns\n",
    "import sklearn\n",
    "import jupyterlab\n",
    "%matplotlib inline"
   ]
  },
  {
   "cell_type": "code",
   "execution_count": 202,
   "metadata": {},
   "outputs": [],
   "source": [
    "testing = pd.read_csv('test_data.csv', encoding = \"latin\")"
   ]
  },
  {
   "cell_type": "code",
   "execution_count": 203,
   "metadata": {},
   "outputs": [
    {
     "name": "stdout",
     "output_type": "stream",
     "text": [
      "<class 'pandas.core.frame.DataFrame'>\n",
      "RangeIndex: 1500 entries, 0 to 1499\n",
      "Data columns (total 13 columns):\n",
      " #   Column                   Non-Null Count  Dtype  \n",
      "---  ------                   --------------  -----  \n",
      " 0   city_name                1500 non-null   object \n",
      " 1   record_date              1500 non-null   object \n",
      " 2   AVERAGE_FREE_FLOW_SPEED  1500 non-null   float64\n",
      " 3   AVERAGE_TIME_DIFF        1500 non-null   float64\n",
      " 4   AVERAGE_FREE_FLOW_TIME   1500 non-null   float64\n",
      " 5   LUMINOSITY               1500 non-null   object \n",
      " 6   AVERAGE_TEMPERATURE      1500 non-null   float64\n",
      " 7   AVERAGE_ATMOSP_PRESSURE  1500 non-null   float64\n",
      " 8   AVERAGE_HUMIDITY         1500 non-null   float64\n",
      " 9   AVERAGE_WIND_SPEED       1500 non-null   float64\n",
      " 10  AVERAGE_CLOUDINESS       901 non-null    object \n",
      " 11  AVERAGE_PRECIPITATION    1500 non-null   float64\n",
      " 12  AVERAGE_RAIN             140 non-null    object \n",
      "dtypes: float64(8), object(5)\n",
      "memory usage: 152.5+ KB\n"
     ]
    }
   ],
   "source": [
    "testing.info()"
   ]
  },
  {
   "cell_type": "code",
   "execution_count": 204,
   "metadata": {},
   "outputs": [
    {
     "name": "stdout",
     "output_type": "stream",
     "text": [
      "(1500, 13)\n"
     ]
    },
    {
     "data": {
      "text/plain": [
       "city_name                     0\n",
       "record_date                   0\n",
       "AVERAGE_FREE_FLOW_SPEED       0\n",
       "AVERAGE_TIME_DIFF             0\n",
       "AVERAGE_FREE_FLOW_TIME        0\n",
       "LUMINOSITY                    0\n",
       "AVERAGE_TEMPERATURE           0\n",
       "AVERAGE_ATMOSP_PRESSURE       0\n",
       "AVERAGE_HUMIDITY              0\n",
       "AVERAGE_WIND_SPEED            0\n",
       "AVERAGE_CLOUDINESS          599\n",
       "AVERAGE_PRECIPITATION         0\n",
       "AVERAGE_RAIN               1360\n",
       "dtype: int64"
      ]
     },
     "execution_count": 204,
     "metadata": {},
     "output_type": "execute_result"
    }
   ],
   "source": [
    "print(testing.shape)\n",
    "testing.isnull().sum()"
   ]
  },
  {
   "cell_type": "code",
   "execution_count": 205,
   "metadata": {},
   "outputs": [],
   "source": [
    "testing['AVERAGE_CLOUDINESS'] = testing['AVERAGE_CLOUDINESS'].fillna(testing['AVERAGE_CLOUDINESS'].mode()[0])\n",
    "testing['AVERAGE_RAIN'] = testing['AVERAGE_RAIN'].fillna('NoData')"
   ]
  },
  {
   "cell_type": "code",
   "execution_count": 206,
   "metadata": {},
   "outputs": [],
   "source": [
    "testing['AVERAGE_DISTANCE_FREE'] = testing['AVERAGE_FREE_FLOW_TIME'] * testing['AVERAGE_FREE_FLOW_SPEED']"
   ]
  },
  {
   "cell_type": "code",
   "execution_count": 207,
   "metadata": {},
   "outputs": [],
   "source": [
    "testing['AVERAGE_TIME'] = testing['AVERAGE_TIME_DIFF'] + testing['AVERAGE_FREE_FLOW_TIME'] "
   ]
  },
  {
   "cell_type": "code",
   "execution_count": 208,
   "metadata": {},
   "outputs": [],
   "source": [
    "testing['AVERAGE_SPEED'] =  testing['AVERAGE_DISTANCE_FREE'] / testing['AVERAGE_TIME']"
   ]
  },
  {
   "cell_type": "code",
   "execution_count": 209,
   "metadata": {},
   "outputs": [],
   "source": [
    "testing['AVERAGE_SPEED_DIFF_Num'] =  testing['AVERAGE_FREE_FLOW_SPEED'] - testing['AVERAGE_SPEED']"
   ]
  },
  {
   "cell_type": "code",
   "execution_count": 210,
   "metadata": {},
   "outputs": [],
   "source": [
    "testing['record_date'] = pd.to_datetime(testing['record_date'])\n",
    "\n",
    "testing['weekday'] = testing['record_date'].dt.dayofweek\n",
    "testing['hour'] = testing['record_date'].dt.hour\n",
    "testing['month'] = testing['record_date'].dt.month\n",
    "testing['year'] = testing['record_date'].dt.year\n",
    "testing['day'] = testing['record_date'].dt.day"
   ]
  },
  {
   "cell_type": "code",
   "execution_count": 211,
   "metadata": {},
   "outputs": [],
   "source": [
    "def applyer(row):\n",
    "    if row == 5 or row == 6:\n",
    "        return 1\n",
    "    else:\n",
    "        return 0 \n",
    "temp2 = testing['weekday'].apply(applyer) \n",
    "testing['weekend']=temp2"
   ]
  },
  {
   "cell_type": "code",
   "execution_count": 212,
   "metadata": {},
   "outputs": [],
   "source": [
    "testing.drop(['AVERAGE_PRECIPITATION','city_name','record_date','AVERAGE_RAIN','AVERAGE_FREE_FLOW_SPEED','AVERAGE_FREE_FLOW_TIME','AVERAGE_DISTANCE_FREE'],axis=1,inplace=True)"
   ]
  },
  {
   "cell_type": "code",
   "execution_count": 213,
   "metadata": {},
   "outputs": [],
   "source": [
    "\n",
    "df_dummies = testing[['LUMINOSITY','AVERAGE_CLOUDINESS']]"
   ]
  },
  {
   "cell_type": "code",
   "execution_count": 214,
   "metadata": {},
   "outputs": [],
   "source": [
    "dummied = testing.copy()"
   ]
  },
  {
   "cell_type": "code",
   "execution_count": 215,
   "metadata": {},
   "outputs": [],
   "source": [
    "for i in df_dummies:\n",
    "    dummied = pd.concat([dummied,pd.get_dummies(dummied[i])],axis='columns')#.drop([i],axis='columns')"
   ]
  },
  {
   "cell_type": "code",
   "execution_count": 216,
   "metadata": {},
   "outputs": [
    {
     "name": "stdout",
     "output_type": "stream",
     "text": [
      "<class 'pandas.core.frame.DataFrame'>\n",
      "RangeIndex: 1500 entries, 0 to 1499\n",
      "Data columns (total 28 columns):\n",
      " #   Column                   Non-Null Count  Dtype  \n",
      "---  ------                   --------------  -----  \n",
      " 0   AVERAGE_TIME_DIFF        1500 non-null   float64\n",
      " 1   LUMINOSITY               1500 non-null   object \n",
      " 2   AVERAGE_TEMPERATURE      1500 non-null   float64\n",
      " 3   AVERAGE_ATMOSP_PRESSURE  1500 non-null   float64\n",
      " 4   AVERAGE_HUMIDITY         1500 non-null   float64\n",
      " 5   AVERAGE_WIND_SPEED       1500 non-null   float64\n",
      " 6   AVERAGE_CLOUDINESS       1500 non-null   object \n",
      " 7   AVERAGE_TIME             1500 non-null   float64\n",
      " 8   AVERAGE_SPEED            1500 non-null   float64\n",
      " 9   AVERAGE_SPEED_DIFF_Num   1500 non-null   float64\n",
      " 10  weekday                  1500 non-null   int64  \n",
      " 11  hour                     1500 non-null   int64  \n",
      " 12  month                    1500 non-null   int64  \n",
      " 13  year                     1500 non-null   int64  \n",
      " 14  day                      1500 non-null   int64  \n",
      " 15  weekend                  1500 non-null   int64  \n",
      " 16  DARK                     1500 non-null   uint8  \n",
      " 17  LIGHT                    1500 non-null   uint8  \n",
      " 18  LOW_LIGHT                1500 non-null   uint8  \n",
      " 19  algumas nuvens           1500 non-null   uint8  \n",
      " 20  céu claro                1500 non-null   uint8  \n",
      " 21  céu limpo                1500 non-null   uint8  \n",
      " 22  céu pouco nublado        1500 non-null   uint8  \n",
      " 23  nublado                  1500 non-null   uint8  \n",
      " 24  nuvens dispersas         1500 non-null   uint8  \n",
      " 25  nuvens quebradas         1500 non-null   uint8  \n",
      " 26  nuvens quebrados         1500 non-null   uint8  \n",
      " 27  tempo nublado            1500 non-null   uint8  \n",
      "dtypes: float64(8), int64(6), object(2), uint8(12)\n",
      "memory usage: 205.2+ KB\n"
     ]
    }
   ],
   "source": [
    "dummied.info()"
   ]
  },
  {
   "cell_type": "code",
   "execution_count": 217,
   "metadata": {},
   "outputs": [],
   "source": [
    "#testing['city_name'].value_counts()"
   ]
  },
  {
   "cell_type": "code",
   "execution_count": 218,
   "metadata": {},
   "outputs": [],
   "source": [
    "#dummied['record_date'].value_counts().sort_values(ascending=False)"
   ]
  },
  {
   "cell_type": "code",
   "execution_count": 219,
   "metadata": {},
   "outputs": [
    {
     "data": {
      "text/plain": [
       "DARK         730\n",
       "LIGHT        725\n",
       "LOW_LIGHT     45\n",
       "Name: LUMINOSITY, dtype: int64"
      ]
     },
     "execution_count": 219,
     "metadata": {},
     "output_type": "execute_result"
    }
   ],
   "source": [
    "testing['LUMINOSITY'].value_counts()"
   ]
  },
  {
   "cell_type": "code",
   "execution_count": 220,
   "metadata": {},
   "outputs": [
    {
     "data": {
      "text/plain": [
       "céu claro            944\n",
       "céu pouco nublado    109\n",
       "algumas nuvens        98\n",
       "nuvens quebrados      96\n",
       "nuvens quebradas      95\n",
       "nuvens dispersas      94\n",
       "céu limpo             27\n",
       "tempo nublado         20\n",
       "nublado               17\n",
       "Name: AVERAGE_CLOUDINESS, dtype: int64"
      ]
     },
     "execution_count": 220,
     "metadata": {},
     "output_type": "execute_result"
    }
   ],
   "source": [
    "testing['AVERAGE_CLOUDINESS'].value_counts()\n"
   ]
  },
  {
   "cell_type": "code",
   "execution_count": 221,
   "metadata": {},
   "outputs": [
    {
     "data": {
      "text/plain": [
       "AVERAGE_TIME_DIFF          0\n",
       "LUMINOSITY                 0\n",
       "AVERAGE_TEMPERATURE        0\n",
       "AVERAGE_ATMOSP_PRESSURE    0\n",
       "AVERAGE_HUMIDITY           0\n",
       "AVERAGE_WIND_SPEED         0\n",
       "AVERAGE_CLOUDINESS         0\n",
       "AVERAGE_TIME               0\n",
       "AVERAGE_SPEED              0\n",
       "AVERAGE_SPEED_DIFF_Num     0\n",
       "weekday                    0\n",
       "hour                       0\n",
       "month                      0\n",
       "year                       0\n",
       "day                        0\n",
       "weekend                    0\n",
       "DARK                       0\n",
       "LIGHT                      0\n",
       "LOW_LIGHT                  0\n",
       "algumas nuvens             0\n",
       "céu claro                  0\n",
       "céu limpo                  0\n",
       "céu pouco nublado          0\n",
       "nublado                    0\n",
       "nuvens dispersas           0\n",
       "nuvens quebradas           0\n",
       "nuvens quebrados           0\n",
       "tempo nublado              0\n",
       "dtype: int64"
      ]
     },
     "execution_count": 221,
     "metadata": {},
     "output_type": "execute_result"
    }
   ],
   "source": [
    "dummied.isna().sum()"
   ]
  },
  {
   "cell_type": "code",
   "execution_count": 222,
   "metadata": {},
   "outputs": [],
   "source": [
    "dummied = dummied.reindex(sorted(dummied.columns), axis=1)"
   ]
  },
  {
   "cell_type": "code",
   "execution_count": 223,
   "metadata": {},
   "outputs": [
    {
     "name": "stdout",
     "output_type": "stream",
     "text": [
      "<class 'pandas.core.frame.DataFrame'>\n",
      "RangeIndex: 1500 entries, 0 to 1499\n",
      "Data columns (total 28 columns):\n",
      " #   Column                   Non-Null Count  Dtype  \n",
      "---  ------                   --------------  -----  \n",
      " 0   AVERAGE_ATMOSP_PRESSURE  1500 non-null   float64\n",
      " 1   AVERAGE_CLOUDINESS       1500 non-null   object \n",
      " 2   AVERAGE_HUMIDITY         1500 non-null   float64\n",
      " 3   AVERAGE_SPEED            1500 non-null   float64\n",
      " 4   AVERAGE_SPEED_DIFF_Num   1500 non-null   float64\n",
      " 5   AVERAGE_TEMPERATURE      1500 non-null   float64\n",
      " 6   AVERAGE_TIME             1500 non-null   float64\n",
      " 7   AVERAGE_TIME_DIFF        1500 non-null   float64\n",
      " 8   AVERAGE_WIND_SPEED       1500 non-null   float64\n",
      " 9   DARK                     1500 non-null   uint8  \n",
      " 10  LIGHT                    1500 non-null   uint8  \n",
      " 11  LOW_LIGHT                1500 non-null   uint8  \n",
      " 12  LUMINOSITY               1500 non-null   object \n",
      " 13  algumas nuvens           1500 non-null   uint8  \n",
      " 14  céu claro                1500 non-null   uint8  \n",
      " 15  céu limpo                1500 non-null   uint8  \n",
      " 16  céu pouco nublado        1500 non-null   uint8  \n",
      " 17  day                      1500 non-null   int64  \n",
      " 18  hour                     1500 non-null   int64  \n",
      " 19  month                    1500 non-null   int64  \n",
      " 20  nublado                  1500 non-null   uint8  \n",
      " 21  nuvens dispersas         1500 non-null   uint8  \n",
      " 22  nuvens quebradas         1500 non-null   uint8  \n",
      " 23  nuvens quebrados         1500 non-null   uint8  \n",
      " 24  tempo nublado            1500 non-null   uint8  \n",
      " 25  weekday                  1500 non-null   int64  \n",
      " 26  weekend                  1500 non-null   int64  \n",
      " 27  year                     1500 non-null   int64  \n",
      "dtypes: float64(8), int64(6), object(2), uint8(12)\n",
      "memory usage: 205.2+ KB\n"
     ]
    }
   ],
   "source": [
    "dummied.info()"
   ]
  },
  {
   "cell_type": "code",
   "execution_count": 224,
   "metadata": {},
   "outputs": [
    {
     "data": {
      "text/html": [
       "<div>\n",
       "<style scoped>\n",
       "    .dataframe tbody tr th:only-of-type {\n",
       "        vertical-align: middle;\n",
       "    }\n",
       "\n",
       "    .dataframe tbody tr th {\n",
       "        vertical-align: top;\n",
       "    }\n",
       "\n",
       "    .dataframe thead th {\n",
       "        text-align: right;\n",
       "    }\n",
       "</style>\n",
       "<table border=\"1\" class=\"dataframe\">\n",
       "  <thead>\n",
       "    <tr style=\"text-align: right;\">\n",
       "      <th></th>\n",
       "      <th>AVERAGE_ATMOSP_PRESSURE</th>\n",
       "      <th>AVERAGE_CLOUDINESS</th>\n",
       "      <th>AVERAGE_HUMIDITY</th>\n",
       "      <th>AVERAGE_SPEED</th>\n",
       "      <th>AVERAGE_SPEED_DIFF_Num</th>\n",
       "      <th>AVERAGE_TEMPERATURE</th>\n",
       "      <th>AVERAGE_TIME</th>\n",
       "      <th>AVERAGE_TIME_DIFF</th>\n",
       "      <th>AVERAGE_WIND_SPEED</th>\n",
       "      <th>DARK</th>\n",
       "      <th>...</th>\n",
       "      <th>hour</th>\n",
       "      <th>month</th>\n",
       "      <th>nublado</th>\n",
       "      <th>nuvens dispersas</th>\n",
       "      <th>nuvens quebradas</th>\n",
       "      <th>nuvens quebrados</th>\n",
       "      <th>tempo nublado</th>\n",
       "      <th>weekday</th>\n",
       "      <th>weekend</th>\n",
       "      <th>year</th>\n",
       "    </tr>\n",
       "  </thead>\n",
       "  <tbody>\n",
       "    <tr>\n",
       "      <th>0</th>\n",
       "      <td>1026.0</td>\n",
       "      <td>céu claro</td>\n",
       "      <td>71.0</td>\n",
       "      <td>39.200000</td>\n",
       "      <td>0.000000</td>\n",
       "      <td>8.0</td>\n",
       "      <td>91.0</td>\n",
       "      <td>0.0</td>\n",
       "      <td>1.0</td>\n",
       "      <td>1</td>\n",
       "      <td>...</td>\n",
       "      <td>23</td>\n",
       "      <td>2</td>\n",
       "      <td>0</td>\n",
       "      <td>0</td>\n",
       "      <td>0</td>\n",
       "      <td>0</td>\n",
       "      <td>0</td>\n",
       "      <td>2</td>\n",
       "      <td>0</td>\n",
       "      <td>2019</td>\n",
       "    </tr>\n",
       "    <tr>\n",
       "      <th>1</th>\n",
       "      <td>1020.0</td>\n",
       "      <td>nuvens dispersas</td>\n",
       "      <td>93.0</td>\n",
       "      <td>36.674157</td>\n",
       "      <td>5.825843</td>\n",
       "      <td>11.0</td>\n",
       "      <td>89.0</td>\n",
       "      <td>12.2</td>\n",
       "      <td>4.0</td>\n",
       "      <td>1</td>\n",
       "      <td>...</td>\n",
       "      <td>20</td>\n",
       "      <td>11</td>\n",
       "      <td>0</td>\n",
       "      <td>1</td>\n",
       "      <td>0</td>\n",
       "      <td>0</td>\n",
       "      <td>0</td>\n",
       "      <td>2</td>\n",
       "      <td>0</td>\n",
       "      <td>2018</td>\n",
       "    </tr>\n",
       "    <tr>\n",
       "      <th>2</th>\n",
       "      <td>1017.0</td>\n",
       "      <td>céu claro</td>\n",
       "      <td>93.0</td>\n",
       "      <td>45.900000</td>\n",
       "      <td>0.000000</td>\n",
       "      <td>14.0</td>\n",
       "      <td>86.3</td>\n",
       "      <td>0.0</td>\n",
       "      <td>0.0</td>\n",
       "      <td>1</td>\n",
       "      <td>...</td>\n",
       "      <td>5</td>\n",
       "      <td>8</td>\n",
       "      <td>0</td>\n",
       "      <td>0</td>\n",
       "      <td>0</td>\n",
       "      <td>0</td>\n",
       "      <td>0</td>\n",
       "      <td>1</td>\n",
       "      <td>0</td>\n",
       "      <td>2018</td>\n",
       "    </tr>\n",
       "    <tr>\n",
       "      <th>3</th>\n",
       "      <td>1016.0</td>\n",
       "      <td>céu pouco nublado</td>\n",
       "      <td>77.0</td>\n",
       "      <td>21.078249</td>\n",
       "      <td>12.121751</td>\n",
       "      <td>22.0</td>\n",
       "      <td>141.6</td>\n",
       "      <td>51.7</td>\n",
       "      <td>4.0</td>\n",
       "      <td>0</td>\n",
       "      <td>...</td>\n",
       "      <td>17</td>\n",
       "      <td>7</td>\n",
       "      <td>0</td>\n",
       "      <td>0</td>\n",
       "      <td>0</td>\n",
       "      <td>0</td>\n",
       "      <td>0</td>\n",
       "      <td>5</td>\n",
       "      <td>1</td>\n",
       "      <td>2019</td>\n",
       "    </tr>\n",
       "    <tr>\n",
       "      <th>4</th>\n",
       "      <td>1004.0</td>\n",
       "      <td>céu claro</td>\n",
       "      <td>100.0</td>\n",
       "      <td>42.269663</td>\n",
       "      <td>1.730337</td>\n",
       "      <td>12.0</td>\n",
       "      <td>89.0</td>\n",
       "      <td>3.5</td>\n",
       "      <td>9.0</td>\n",
       "      <td>1</td>\n",
       "      <td>...</td>\n",
       "      <td>6</td>\n",
       "      <td>10</td>\n",
       "      <td>0</td>\n",
       "      <td>0</td>\n",
       "      <td>0</td>\n",
       "      <td>0</td>\n",
       "      <td>0</td>\n",
       "      <td>0</td>\n",
       "      <td>0</td>\n",
       "      <td>2018</td>\n",
       "    </tr>\n",
       "  </tbody>\n",
       "</table>\n",
       "<p>5 rows × 28 columns</p>\n",
       "</div>"
      ],
      "text/plain": [
       "   AVERAGE_ATMOSP_PRESSURE AVERAGE_CLOUDINESS  AVERAGE_HUMIDITY  \\\n",
       "0                   1026.0          céu claro              71.0   \n",
       "1                   1020.0   nuvens dispersas              93.0   \n",
       "2                   1017.0          céu claro              93.0   \n",
       "3                   1016.0  céu pouco nublado              77.0   \n",
       "4                   1004.0          céu claro             100.0   \n",
       "\n",
       "   AVERAGE_SPEED  AVERAGE_SPEED_DIFF_Num  AVERAGE_TEMPERATURE  AVERAGE_TIME  \\\n",
       "0      39.200000                0.000000                  8.0          91.0   \n",
       "1      36.674157                5.825843                 11.0          89.0   \n",
       "2      45.900000                0.000000                 14.0          86.3   \n",
       "3      21.078249               12.121751                 22.0         141.6   \n",
       "4      42.269663                1.730337                 12.0          89.0   \n",
       "\n",
       "   AVERAGE_TIME_DIFF  AVERAGE_WIND_SPEED  DARK  ...  hour  month nublado  \\\n",
       "0                0.0                 1.0     1  ...    23      2       0   \n",
       "1               12.2                 4.0     1  ...    20     11       0   \n",
       "2                0.0                 0.0     1  ...     5      8       0   \n",
       "3               51.7                 4.0     0  ...    17      7       0   \n",
       "4                3.5                 9.0     1  ...     6     10       0   \n",
       "\n",
       "   nuvens dispersas  nuvens quebradas  nuvens quebrados  tempo nublado  \\\n",
       "0                 0                 0                 0              0   \n",
       "1                 1                 0                 0              0   \n",
       "2                 0                 0                 0              0   \n",
       "3                 0                 0                 0              0   \n",
       "4                 0                 0                 0              0   \n",
       "\n",
       "   weekday  weekend  year  \n",
       "0        2        0  2019  \n",
       "1        2        0  2018  \n",
       "2        1        0  2018  \n",
       "3        5        1  2019  \n",
       "4        0        0  2018  \n",
       "\n",
       "[5 rows x 28 columns]"
      ]
     },
     "execution_count": 224,
     "metadata": {},
     "output_type": "execute_result"
    }
   ],
   "source": [
    "dummied.head()"
   ]
  },
  {
   "cell_type": "code",
   "execution_count": 225,
   "metadata": {},
   "outputs": [],
   "source": [
    "dummied.to_csv('workedTesting.csv',index=False)"
   ]
  }
 ],
 "metadata": {
  "interpreter": {
   "hash": "30295c5bec572e859485b1ffa5e89b8b3e2022ef6e3e739c1ac40f143a557caf"
  },
  "kernelspec": {
   "display_name": "Python 3.6.15 64-bit",
   "name": "python3"
  },
  "language_info": {
   "codemirror_mode": {
    "name": "ipython",
    "version": 3
   },
   "file_extension": ".py",
   "mimetype": "text/x-python",
   "name": "python",
   "nbconvert_exporter": "python",
   "pygments_lexer": "ipython3",
   "version": "3.8.0"
  },
  "orig_nbformat": 4
 },
 "nbformat": 4,
 "nbformat_minor": 2
}
