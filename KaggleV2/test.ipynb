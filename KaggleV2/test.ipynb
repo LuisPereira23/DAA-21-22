{
 "cells": [
  {
   "cell_type": "code",
   "execution_count": 406,
   "metadata": {},
   "outputs": [],
   "source": [
    "import numpy as np\n",
    "import pandas as pd\n",
    "import xlrd\n",
    "import xlwt\n",
    "import matplotlib.pyplot as plt\n",
    "import seaborn as sns\n",
    "import sklearn\n",
    "import jupyterlab\n",
    "%matplotlib inline"
   ]
  },
  {
   "cell_type": "code",
   "execution_count": 407,
   "metadata": {},
   "outputs": [],
   "source": [
    "testing = pd.read_csv('cloudTest.csv')"
   ]
  },
  {
   "cell_type": "code",
   "execution_count": 408,
   "metadata": {},
   "outputs": [
    {
     "name": "stdout",
     "output_type": "stream",
     "text": [
      "<class 'pandas.core.frame.DataFrame'>\n",
      "RangeIndex: 1500 entries, 0 to 1499\n",
      "Data columns (total 13 columns):\n",
      " #   Column                   Non-Null Count  Dtype  \n",
      "---  ------                   --------------  -----  \n",
      " 0   city_name                1500 non-null   object \n",
      " 1   record_date              1500 non-null   object \n",
      " 2   AVERAGE_FREE_FLOW_SPEED  1500 non-null   float64\n",
      " 3   AVERAGE_TIME_DIFF        1500 non-null   float64\n",
      " 4   AVERAGE_FREE_FLOW_TIME   1500 non-null   float64\n",
      " 5   LUMINOSITY               1500 non-null   object \n",
      " 6   AVERAGE_TEMPERATURE      1500 non-null   float64\n",
      " 7   AVERAGE_ATMOSP_PRESSURE  1500 non-null   float64\n",
      " 8   AVERAGE_HUMIDITY         1500 non-null   float64\n",
      " 9   AVERAGE_WIND_SPEED       1500 non-null   float64\n",
      " 10  AVERAGE_PRECIPITATION    1500 non-null   float64\n",
      " 11  AVERAGE_RAIN             1500 non-null   object \n",
      " 12  AVERAGE_CLOUDINESS       1500 non-null   object \n",
      "dtypes: float64(8), object(5)\n",
      "memory usage: 152.5+ KB\n"
     ]
    }
   ],
   "source": [
    "testing.info()"
   ]
  },
  {
   "cell_type": "code",
   "execution_count": 409,
   "metadata": {},
   "outputs": [
    {
     "name": "stdout",
     "output_type": "stream",
     "text": [
      "(1500, 13)\n"
     ]
    },
    {
     "data": {
      "text/plain": [
       "city_name                  0\n",
       "record_date                0\n",
       "AVERAGE_FREE_FLOW_SPEED    0\n",
       "AVERAGE_TIME_DIFF          0\n",
       "AVERAGE_FREE_FLOW_TIME     0\n",
       "LUMINOSITY                 0\n",
       "AVERAGE_TEMPERATURE        0\n",
       "AVERAGE_ATMOSP_PRESSURE    0\n",
       "AVERAGE_HUMIDITY           0\n",
       "AVERAGE_WIND_SPEED         0\n",
       "AVERAGE_PRECIPITATION      0\n",
       "AVERAGE_RAIN               0\n",
       "AVERAGE_CLOUDINESS         0\n",
       "dtype: int64"
      ]
     },
     "execution_count": 409,
     "metadata": {},
     "output_type": "execute_result"
    }
   ],
   "source": [
    "print(testing.shape)\n",
    "testing.isnull().sum()"
   ]
  },
  {
   "cell_type": "code",
   "execution_count": 410,
   "metadata": {},
   "outputs": [],
   "source": [
    "#testing['AVERAGE_CLOUDINESS'] = testing['AVERAGE_CLOUDINESS'].fillna(testing['AVERAGE_CLOUDINESS'].mode()[0])\n",
    "testing['AVERAGE_CLOUDINESS'] = testing['AVERAGE_CLOUDINESS'].fillna('Not Available')"
   ]
  },
  {
   "cell_type": "code",
   "execution_count": 411,
   "metadata": {},
   "outputs": [],
   "source": [
    "#testing['AVERAGE_WIND_SPEED'] = np.log(testing.AVERAGE_WIND_SPEED+1)\n",
    "#testing['AVERAGE_TIME_DIFF'] = np.log(testing.AVERAGE_TIME_DIFF+1)"
   ]
  },
  {
   "cell_type": "code",
   "execution_count": 412,
   "metadata": {},
   "outputs": [],
   "source": [
    "testing['record_date'] = pd.to_datetime(testing['record_date'])\n",
    "\n",
    "testing['weekday'] = testing['record_date'].dt.dayofweek\n",
    "testing['hour'] = testing['record_date'].dt.hour\n",
    "testing['month'] = testing['record_date'].dt.month\n",
    "#testing['year'] = testing['record_date'].dt.year\n",
    "testing['day'] = testing['record_date'].dt.day"
   ]
  },
  {
   "cell_type": "code",
   "execution_count": 413,
   "metadata": {},
   "outputs": [],
   "source": [
    "testing.drop(['AVERAGE_PRECIPITATION','city_name','record_date','AVERAGE_RAIN'],axis=1,inplace=True)"
   ]
  },
  {
   "cell_type": "code",
   "execution_count": 414,
   "metadata": {},
   "outputs": [],
   "source": [
    "\n",
    "df_dummies = testing[['LUMINOSITY','AVERAGE_CLOUDINESS']]"
   ]
  },
  {
   "cell_type": "code",
   "execution_count": 415,
   "metadata": {},
   "outputs": [],
   "source": [
    "dummied = testing.copy()"
   ]
  },
  {
   "cell_type": "code",
   "execution_count": 416,
   "metadata": {},
   "outputs": [],
   "source": [
    "for i in df_dummies:\n",
    "    dummied = pd.concat([dummied,pd.get_dummies(dummied[i])],axis='columns').drop([i],axis='columns')"
   ]
  },
  {
   "cell_type": "code",
   "execution_count": 417,
   "metadata": {},
   "outputs": [
    {
     "name": "stdout",
     "output_type": "stream",
     "text": [
      "<class 'pandas.core.frame.DataFrame'>\n",
      "RangeIndex: 1500 entries, 0 to 1499\n",
      "Data columns (total 18 columns):\n",
      " #   Column                   Non-Null Count  Dtype  \n",
      "---  ------                   --------------  -----  \n",
      " 0   AVERAGE_FREE_FLOW_SPEED  1500 non-null   float64\n",
      " 1   AVERAGE_TIME_DIFF        1500 non-null   float64\n",
      " 2   AVERAGE_FREE_FLOW_TIME   1500 non-null   float64\n",
      " 3   AVERAGE_TEMPERATURE      1500 non-null   float64\n",
      " 4   AVERAGE_ATMOSP_PRESSURE  1500 non-null   float64\n",
      " 5   AVERAGE_HUMIDITY         1500 non-null   float64\n",
      " 6   AVERAGE_WIND_SPEED       1500 non-null   float64\n",
      " 7   weekday                  1500 non-null   int64  \n",
      " 8   hour                     1500 non-null   int64  \n",
      " 9   month                    1500 non-null   int64  \n",
      " 10  day                      1500 non-null   int64  \n",
      " 11  DARK                     1500 non-null   uint8  \n",
      " 12  LIGHT                    1500 non-null   uint8  \n",
      " 13  LOW_LIGHT                1500 non-null   uint8  \n",
      " 14  céu limpo                1500 non-null   uint8  \n",
      " 15  céu pouco nublado        1500 non-null   uint8  \n",
      " 16  nublado                  1500 non-null   uint8  \n",
      " 17  nuvens quebradas         1500 non-null   uint8  \n",
      "dtypes: float64(7), int64(4), uint8(7)\n",
      "memory usage: 139.3 KB\n"
     ]
    }
   ],
   "source": [
    "dummied.info()"
   ]
  },
  {
   "cell_type": "code",
   "execution_count": 418,
   "metadata": {},
   "outputs": [],
   "source": [
    "#testing['city_name'].value_counts()"
   ]
  },
  {
   "cell_type": "code",
   "execution_count": 419,
   "metadata": {},
   "outputs": [],
   "source": [
    "#dummied['record_date'].value_counts().sort_values(ascending=False)"
   ]
  },
  {
   "cell_type": "code",
   "execution_count": 420,
   "metadata": {},
   "outputs": [
    {
     "data": {
      "text/plain": [
       "DARK         730\n",
       "LIGHT        725\n",
       "LOW_LIGHT     45\n",
       "Name: LUMINOSITY, dtype: int64"
      ]
     },
     "execution_count": 420,
     "metadata": {},
     "output_type": "execute_result"
    }
   ],
   "source": [
    "testing['LUMINOSITY'].value_counts()"
   ]
  },
  {
   "cell_type": "code",
   "execution_count": 421,
   "metadata": {},
   "outputs": [
    {
     "data": {
      "text/plain": [
       "nuvens quebradas     777\n",
       "céu limpo            528\n",
       "céu pouco nublado    154\n",
       "nublado               41\n",
       "Name: AVERAGE_CLOUDINESS, dtype: int64"
      ]
     },
     "execution_count": 421,
     "metadata": {},
     "output_type": "execute_result"
    }
   ],
   "source": [
    "testing['AVERAGE_CLOUDINESS'].value_counts()\n"
   ]
  },
  {
   "cell_type": "code",
   "execution_count": 422,
   "metadata": {},
   "outputs": [
    {
     "data": {
      "text/plain": [
       "AVERAGE_FREE_FLOW_SPEED    0\n",
       "AVERAGE_TIME_DIFF          0\n",
       "AVERAGE_FREE_FLOW_TIME     0\n",
       "AVERAGE_TEMPERATURE        0\n",
       "AVERAGE_ATMOSP_PRESSURE    0\n",
       "AVERAGE_HUMIDITY           0\n",
       "AVERAGE_WIND_SPEED         0\n",
       "weekday                    0\n",
       "hour                       0\n",
       "month                      0\n",
       "day                        0\n",
       "DARK                       0\n",
       "LIGHT                      0\n",
       "LOW_LIGHT                  0\n",
       "céu limpo                  0\n",
       "céu pouco nublado          0\n",
       "nublado                    0\n",
       "nuvens quebradas           0\n",
       "dtype: int64"
      ]
     },
     "execution_count": 422,
     "metadata": {},
     "output_type": "execute_result"
    }
   ],
   "source": [
    "dummied.isna().sum()"
   ]
  },
  {
   "cell_type": "code",
   "execution_count": 423,
   "metadata": {},
   "outputs": [],
   "source": [
    "dummied = dummied.reindex(sorted(dummied.columns), axis=1)"
   ]
  },
  {
   "cell_type": "code",
   "execution_count": 424,
   "metadata": {},
   "outputs": [
    {
     "name": "stdout",
     "output_type": "stream",
     "text": [
      "<class 'pandas.core.frame.DataFrame'>\n",
      "RangeIndex: 1500 entries, 0 to 1499\n",
      "Data columns (total 18 columns):\n",
      " #   Column                   Non-Null Count  Dtype  \n",
      "---  ------                   --------------  -----  \n",
      " 0   AVERAGE_ATMOSP_PRESSURE  1500 non-null   float64\n",
      " 1   AVERAGE_FREE_FLOW_SPEED  1500 non-null   float64\n",
      " 2   AVERAGE_FREE_FLOW_TIME   1500 non-null   float64\n",
      " 3   AVERAGE_HUMIDITY         1500 non-null   float64\n",
      " 4   AVERAGE_TEMPERATURE      1500 non-null   float64\n",
      " 5   AVERAGE_TIME_DIFF        1500 non-null   float64\n",
      " 6   AVERAGE_WIND_SPEED       1500 non-null   float64\n",
      " 7   DARK                     1500 non-null   uint8  \n",
      " 8   LIGHT                    1500 non-null   uint8  \n",
      " 9   LOW_LIGHT                1500 non-null   uint8  \n",
      " 10  céu limpo                1500 non-null   uint8  \n",
      " 11  céu pouco nublado        1500 non-null   uint8  \n",
      " 12  day                      1500 non-null   int64  \n",
      " 13  hour                     1500 non-null   int64  \n",
      " 14  month                    1500 non-null   int64  \n",
      " 15  nublado                  1500 non-null   uint8  \n",
      " 16  nuvens quebradas         1500 non-null   uint8  \n",
      " 17  weekday                  1500 non-null   int64  \n",
      "dtypes: float64(7), int64(4), uint8(7)\n",
      "memory usage: 139.3 KB\n"
     ]
    }
   ],
   "source": [
    "dummied.info()"
   ]
  },
  {
   "cell_type": "code",
   "execution_count": 425,
   "metadata": {},
   "outputs": [
    {
     "data": {
      "text/html": [
       "<div>\n",
       "<style scoped>\n",
       "    .dataframe tbody tr th:only-of-type {\n",
       "        vertical-align: middle;\n",
       "    }\n",
       "\n",
       "    .dataframe tbody tr th {\n",
       "        vertical-align: top;\n",
       "    }\n",
       "\n",
       "    .dataframe thead th {\n",
       "        text-align: right;\n",
       "    }\n",
       "</style>\n",
       "<table border=\"1\" class=\"dataframe\">\n",
       "  <thead>\n",
       "    <tr style=\"text-align: right;\">\n",
       "      <th></th>\n",
       "      <th>AVERAGE_ATMOSP_PRESSURE</th>\n",
       "      <th>AVERAGE_FREE_FLOW_SPEED</th>\n",
       "      <th>AVERAGE_FREE_FLOW_TIME</th>\n",
       "      <th>AVERAGE_HUMIDITY</th>\n",
       "      <th>AVERAGE_TEMPERATURE</th>\n",
       "      <th>AVERAGE_TIME_DIFF</th>\n",
       "      <th>AVERAGE_WIND_SPEED</th>\n",
       "      <th>DARK</th>\n",
       "      <th>LIGHT</th>\n",
       "      <th>LOW_LIGHT</th>\n",
       "      <th>céu limpo</th>\n",
       "      <th>céu pouco nublado</th>\n",
       "      <th>day</th>\n",
       "      <th>hour</th>\n",
       "      <th>month</th>\n",
       "      <th>nublado</th>\n",
       "      <th>nuvens quebradas</th>\n",
       "      <th>weekday</th>\n",
       "    </tr>\n",
       "  </thead>\n",
       "  <tbody>\n",
       "    <tr>\n",
       "      <th>0</th>\n",
       "      <td>1026.0</td>\n",
       "      <td>39.2</td>\n",
       "      <td>91.0</td>\n",
       "      <td>71.0</td>\n",
       "      <td>8.0</td>\n",
       "      <td>0.0</td>\n",
       "      <td>1.0</td>\n",
       "      <td>1</td>\n",
       "      <td>0</td>\n",
       "      <td>0</td>\n",
       "      <td>1</td>\n",
       "      <td>0</td>\n",
       "      <td>13</td>\n",
       "      <td>23</td>\n",
       "      <td>2</td>\n",
       "      <td>0</td>\n",
       "      <td>0</td>\n",
       "      <td>2</td>\n",
       "    </tr>\n",
       "    <tr>\n",
       "      <th>1</th>\n",
       "      <td>1020.0</td>\n",
       "      <td>42.5</td>\n",
       "      <td>76.8</td>\n",
       "      <td>93.0</td>\n",
       "      <td>11.0</td>\n",
       "      <td>12.2</td>\n",
       "      <td>4.0</td>\n",
       "      <td>1</td>\n",
       "      <td>0</td>\n",
       "      <td>0</td>\n",
       "      <td>0</td>\n",
       "      <td>0</td>\n",
       "      <td>28</td>\n",
       "      <td>20</td>\n",
       "      <td>11</td>\n",
       "      <td>0</td>\n",
       "      <td>1</td>\n",
       "      <td>2</td>\n",
       "    </tr>\n",
       "    <tr>\n",
       "      <th>2</th>\n",
       "      <td>1017.0</td>\n",
       "      <td>45.9</td>\n",
       "      <td>86.3</td>\n",
       "      <td>93.0</td>\n",
       "      <td>14.0</td>\n",
       "      <td>0.0</td>\n",
       "      <td>0.0</td>\n",
       "      <td>1</td>\n",
       "      <td>0</td>\n",
       "      <td>0</td>\n",
       "      <td>1</td>\n",
       "      <td>0</td>\n",
       "      <td>14</td>\n",
       "      <td>5</td>\n",
       "      <td>8</td>\n",
       "      <td>0</td>\n",
       "      <td>0</td>\n",
       "      <td>1</td>\n",
       "    </tr>\n",
       "    <tr>\n",
       "      <th>3</th>\n",
       "      <td>1016.0</td>\n",
       "      <td>33.2</td>\n",
       "      <td>89.9</td>\n",
       "      <td>77.0</td>\n",
       "      <td>22.0</td>\n",
       "      <td>51.7</td>\n",
       "      <td>4.0</td>\n",
       "      <td>0</td>\n",
       "      <td>1</td>\n",
       "      <td>0</td>\n",
       "      <td>0</td>\n",
       "      <td>1</td>\n",
       "      <td>6</td>\n",
       "      <td>17</td>\n",
       "      <td>7</td>\n",
       "      <td>0</td>\n",
       "      <td>0</td>\n",
       "      <td>5</td>\n",
       "    </tr>\n",
       "    <tr>\n",
       "      <th>4</th>\n",
       "      <td>1004.0</td>\n",
       "      <td>44.0</td>\n",
       "      <td>85.5</td>\n",
       "      <td>100.0</td>\n",
       "      <td>12.0</td>\n",
       "      <td>3.5</td>\n",
       "      <td>9.0</td>\n",
       "      <td>1</td>\n",
       "      <td>0</td>\n",
       "      <td>0</td>\n",
       "      <td>0</td>\n",
       "      <td>0</td>\n",
       "      <td>15</td>\n",
       "      <td>6</td>\n",
       "      <td>10</td>\n",
       "      <td>0</td>\n",
       "      <td>1</td>\n",
       "      <td>0</td>\n",
       "    </tr>\n",
       "  </tbody>\n",
       "</table>\n",
       "</div>"
      ],
      "text/plain": [
       "   AVERAGE_ATMOSP_PRESSURE  AVERAGE_FREE_FLOW_SPEED  AVERAGE_FREE_FLOW_TIME  \\\n",
       "0                   1026.0                     39.2                    91.0   \n",
       "1                   1020.0                     42.5                    76.8   \n",
       "2                   1017.0                     45.9                    86.3   \n",
       "3                   1016.0                     33.2                    89.9   \n",
       "4                   1004.0                     44.0                    85.5   \n",
       "\n",
       "   AVERAGE_HUMIDITY  AVERAGE_TEMPERATURE  AVERAGE_TIME_DIFF  \\\n",
       "0              71.0                  8.0                0.0   \n",
       "1              93.0                 11.0               12.2   \n",
       "2              93.0                 14.0                0.0   \n",
       "3              77.0                 22.0               51.7   \n",
       "4             100.0                 12.0                3.5   \n",
       "\n",
       "   AVERAGE_WIND_SPEED  DARK  LIGHT  LOW_LIGHT  céu limpo  céu pouco nublado  \\\n",
       "0                 1.0     1      0          0          1                  0   \n",
       "1                 4.0     1      0          0          0                  0   \n",
       "2                 0.0     1      0          0          1                  0   \n",
       "3                 4.0     0      1          0          0                  1   \n",
       "4                 9.0     1      0          0          0                  0   \n",
       "\n",
       "   day  hour  month  nublado  nuvens quebradas  weekday  \n",
       "0   13    23      2        0                 0        2  \n",
       "1   28    20     11        0                 1        2  \n",
       "2   14     5      8        0                 0        1  \n",
       "3    6    17      7        0                 0        5  \n",
       "4   15     6     10        0                 1        0  "
      ]
     },
     "execution_count": 425,
     "metadata": {},
     "output_type": "execute_result"
    }
   ],
   "source": [
    "dummied.head()"
   ]
  },
  {
   "cell_type": "code",
   "execution_count": 426,
   "metadata": {},
   "outputs": [],
   "source": [
    "dummied.to_csv('workedTesting.csv',index=False)"
   ]
  }
 ],
 "metadata": {
  "interpreter": {
   "hash": "30295c5bec572e859485b1ffa5e89b8b3e2022ef6e3e739c1ac40f143a557caf"
  },
  "kernelspec": {
   "display_name": "Python 3.6.15 64-bit",
   "name": "python3"
  },
  "language_info": {
   "codemirror_mode": {
    "name": "ipython",
    "version": 3
   },
   "file_extension": ".py",
   "mimetype": "text/x-python",
   "name": "python",
   "nbconvert_exporter": "python",
   "pygments_lexer": "ipython3",
   "version": "3.9.9"
  },
  "orig_nbformat": 4
 },
 "nbformat": 4,
 "nbformat_minor": 2
}
