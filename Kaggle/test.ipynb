{
 "cells": [
  {
   "cell_type": "code",
   "execution_count": 1,
   "metadata": {},
   "outputs": [],
   "source": [
    "import numpy as np\n",
    "import pandas as pd\n",
    "import xlrd\n",
    "import xlwt\n",
    "import matplotlib.pyplot as plt\n",
    "import seaborn as sns\n",
    "import sklearn\n",
    "import jupyterlab\n",
    "%matplotlib inline"
   ]
  },
  {
   "cell_type": "code",
   "execution_count": 5,
   "metadata": {},
   "outputs": [],
   "source": [
    "testing = pd.read_csv('test_data.csv', encoding = \"latin\")"
   ]
  },
  {
   "cell_type": "code",
   "execution_count": 7,
   "metadata": {},
   "outputs": [
    {
     "name": "stdout",
     "output_type": "stream",
     "text": [
      "<class 'pandas.core.frame.DataFrame'>\n",
      "RangeIndex: 1500 entries, 0 to 1499\n",
      "Data columns (total 13 columns):\n",
      " #   Column                   Non-Null Count  Dtype  \n",
      "---  ------                   --------------  -----  \n",
      " 0   city_name                1500 non-null   object \n",
      " 1   record_date              1500 non-null   object \n",
      " 2   AVERAGE_FREE_FLOW_SPEED  1500 non-null   float64\n",
      " 3   AVERAGE_TIME_DIFF        1500 non-null   float64\n",
      " 4   AVERAGE_FREE_FLOW_TIME   1500 non-null   float64\n",
      " 5   LUMINOSITY               1500 non-null   object \n",
      " 6   AVERAGE_TEMPERATURE      1500 non-null   float64\n",
      " 7   AVERAGE_ATMOSP_PRESSURE  1500 non-null   float64\n",
      " 8   AVERAGE_HUMIDITY         1500 non-null   float64\n",
      " 9   AVERAGE_WIND_SPEED       1500 non-null   float64\n",
      " 10  AVERAGE_CLOUDINESS       901 non-null    object \n",
      " 11  AVERAGE_PRECIPITATION    1500 non-null   float64\n",
      " 12  AVERAGE_RAIN             140 non-null    object \n",
      "dtypes: float64(8), object(5)\n",
      "memory usage: 152.5+ KB\n"
     ]
    }
   ],
   "source": [
    "testing.info()"
   ]
  },
  {
   "cell_type": "code",
   "execution_count": 8,
   "metadata": {},
   "outputs": [
    {
     "name": "stdout",
     "output_type": "stream",
     "text": [
      "(1500, 13)\n"
     ]
    },
    {
     "data": {
      "text/plain": [
       "city_name                     0\n",
       "record_date                   0\n",
       "AVERAGE_FREE_FLOW_SPEED       0\n",
       "AVERAGE_TIME_DIFF             0\n",
       "AVERAGE_FREE_FLOW_TIME        0\n",
       "LUMINOSITY                    0\n",
       "AVERAGE_TEMPERATURE           0\n",
       "AVERAGE_ATMOSP_PRESSURE       0\n",
       "AVERAGE_HUMIDITY              0\n",
       "AVERAGE_WIND_SPEED            0\n",
       "AVERAGE_CLOUDINESS          599\n",
       "AVERAGE_PRECIPITATION         0\n",
       "AVERAGE_RAIN               1360\n",
       "dtype: int64"
      ]
     },
     "execution_count": 8,
     "metadata": {},
     "output_type": "execute_result"
    }
   ],
   "source": [
    "print(testing.shape)\n",
    "testing.isnull().sum()"
   ]
  },
  {
   "cell_type": "code",
   "execution_count": 9,
   "metadata": {},
   "outputs": [],
   "source": [
    "testing['AVERAGE_CLOUDINESS'] = testing['AVERAGE_CLOUDINESS'].fillna(testing['AVERAGE_CLOUDINESS'].mode()[0])"
   ]
  },
  {
   "cell_type": "code",
   "execution_count": 10,
   "metadata": {},
   "outputs": [],
   "source": [
    "testing.drop(['AVERAGE_RAIN'],axis=1,inplace=True)"
   ]
  },
  {
   "cell_type": "code",
   "execution_count": 12,
   "metadata": {},
   "outputs": [
    {
     "data": {
      "text/plain": [
       "Porto    1500\n",
       "Name: city_name, dtype: int64"
      ]
     },
     "execution_count": 12,
     "metadata": {},
     "output_type": "execute_result"
    }
   ],
   "source": [
    "testing['city_name'].value_counts()"
   ]
  },
  {
   "cell_type": "code",
   "execution_count": 18,
   "metadata": {},
   "outputs": [
    {
     "data": {
      "text/plain": [
       "2019-02-13 23:00:00    1\n",
       "2018-11-25 09:00:00    1\n",
       "2019-07-06 17:00:00    1\n",
       "2018-10-15 06:00:00    1\n",
       "2019-06-19 13:00:00    1\n",
       "                      ..\n",
       "2018-09-05 01:00:00    1\n",
       "2018-11-05 08:00:00    1\n",
       "2018-08-08 11:00:00    1\n",
       "2019-02-09 00:00:00    1\n",
       "2019-08-18 13:00:00    1\n",
       "Name: record_date, Length: 1500, dtype: int64"
      ]
     },
     "execution_count": 18,
     "metadata": {},
     "output_type": "execute_result"
    }
   ],
   "source": [
    "testing['record_date'].value_counts().sort_values(ascending=False)"
   ]
  },
  {
   "cell_type": "code",
   "execution_count": 19,
   "metadata": {},
   "outputs": [
    {
     "data": {
      "text/plain": [
       "DARK         730\n",
       "LIGHT        725\n",
       "LOW_LIGHT     45\n",
       "Name: LUMINOSITY, dtype: int64"
      ]
     },
     "execution_count": 19,
     "metadata": {},
     "output_type": "execute_result"
    }
   ],
   "source": [
    "testing['LUMINOSITY'].value_counts()"
   ]
  },
  {
   "cell_type": "code",
   "execution_count": 20,
   "metadata": {},
   "outputs": [
    {
     "data": {
      "text/plain": [
       "céu claro            944\n",
       "céu pouco nublado    109\n",
       "algumas nuvens        98\n",
       "nuvens quebrados      96\n",
       "nuvens quebradas      95\n",
       "nuvens dispersas      94\n",
       "céu limpo             27\n",
       "tempo nublado         20\n",
       "nublado               17\n",
       "Name: AVERAGE_CLOUDINESS, dtype: int64"
      ]
     },
     "execution_count": 20,
     "metadata": {},
     "output_type": "execute_result"
    }
   ],
   "source": [
    "testing['AVERAGE_CLOUDINESS'].value_counts()"
   ]
  },
  {
   "cell_type": "code",
   "execution_count": 22,
   "metadata": {},
   "outputs": [],
   "source": [
    "testing.to_csv('workedTesting.csv',index=False)"
   ]
  }
 ],
 "metadata": {
  "interpreter": {
   "hash": "30295c5bec572e859485b1ffa5e89b8b3e2022ef6e3e739c1ac40f143a557caf"
  },
  "kernelspec": {
   "display_name": "Python 3.6.15 64-bit",
   "name": "python3"
  },
  "language_info": {
   "codemirror_mode": {
    "name": "ipython",
    "version": 3
   },
   "file_extension": ".py",
   "mimetype": "text/x-python",
   "name": "python",
   "nbconvert_exporter": "python",
   "pygments_lexer": "ipython3",
   "version": "3.8.8"
  },
  "orig_nbformat": 4
 },
 "nbformat": 4,
 "nbformat_minor": 2
}
