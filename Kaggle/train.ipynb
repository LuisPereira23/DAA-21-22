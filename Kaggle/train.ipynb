{
 "cells": [
  {
   "cell_type": "code",
   "execution_count": 154,
   "metadata": {},
   "outputs": [],
   "source": [
    "import numpy as np\n",
    "import pandas as pd\n",
    "import xlrd\n",
    "import xlwt\n",
    "import matplotlib.pyplot as plt\n",
    "import seaborn as sns\n",
    "import sklearn\n",
    "import jupyterlab\n",
    "%matplotlib inline"
   ]
  },
  {
   "cell_type": "code",
   "execution_count": 155,
   "metadata": {},
   "outputs": [],
   "source": [
    "training = pd.read_csv('training_data.csv', encoding = \"latin\")"
   ]
  },
  {
   "cell_type": "code",
   "execution_count": 156,
   "metadata": {},
   "outputs": [
    {
     "data": {
      "text/html": [
       "<div>\n",
       "<style scoped>\n",
       "    .dataframe tbody tr th:only-of-type {\n",
       "        vertical-align: middle;\n",
       "    }\n",
       "\n",
       "    .dataframe tbody tr th {\n",
       "        vertical-align: top;\n",
       "    }\n",
       "\n",
       "    .dataframe thead th {\n",
       "        text-align: right;\n",
       "    }\n",
       "</style>\n",
       "<table border=\"1\" class=\"dataframe\">\n",
       "  <thead>\n",
       "    <tr style=\"text-align: right;\">\n",
       "      <th></th>\n",
       "      <th>city_name</th>\n",
       "      <th>record_date</th>\n",
       "      <th>AVERAGE_SPEED_DIFF</th>\n",
       "      <th>AVERAGE_FREE_FLOW_SPEED</th>\n",
       "      <th>AVERAGE_TIME_DIFF</th>\n",
       "      <th>AVERAGE_FREE_FLOW_TIME</th>\n",
       "      <th>LUMINOSITY</th>\n",
       "      <th>AVERAGE_TEMPERATURE</th>\n",
       "      <th>AVERAGE_ATMOSP_PRESSURE</th>\n",
       "      <th>AVERAGE_HUMIDITY</th>\n",
       "      <th>AVERAGE_WIND_SPEED</th>\n",
       "      <th>AVERAGE_CLOUDINESS</th>\n",
       "      <th>AVERAGE_PRECIPITATION</th>\n",
       "      <th>AVERAGE_RAIN</th>\n",
       "    </tr>\n",
       "  </thead>\n",
       "  <tbody>\n",
       "    <tr>\n",
       "      <th>0</th>\n",
       "      <td>Porto</td>\n",
       "      <td>2019-08-29 07:00:00</td>\n",
       "      <td>Medium</td>\n",
       "      <td>41.5</td>\n",
       "      <td>11.5</td>\n",
       "      <td>71.4</td>\n",
       "      <td>LIGHT</td>\n",
       "      <td>15.0</td>\n",
       "      <td>1019.0</td>\n",
       "      <td>100.0</td>\n",
       "      <td>3.0</td>\n",
       "      <td>NaN</td>\n",
       "      <td>0.0</td>\n",
       "      <td>NaN</td>\n",
       "    </tr>\n",
       "    <tr>\n",
       "      <th>1</th>\n",
       "      <td>Porto</td>\n",
       "      <td>2018-08-10 14:00:00</td>\n",
       "      <td>High</td>\n",
       "      <td>41.7</td>\n",
       "      <td>48.3</td>\n",
       "      <td>87.4</td>\n",
       "      <td>LIGHT</td>\n",
       "      <td>21.0</td>\n",
       "      <td>1021.0</td>\n",
       "      <td>53.0</td>\n",
       "      <td>5.0</td>\n",
       "      <td>céu claro</td>\n",
       "      <td>0.0</td>\n",
       "      <td>NaN</td>\n",
       "    </tr>\n",
       "    <tr>\n",
       "      <th>2</th>\n",
       "      <td>Porto</td>\n",
       "      <td>2019-09-01 16:00:00</td>\n",
       "      <td>High</td>\n",
       "      <td>38.6</td>\n",
       "      <td>38.4</td>\n",
       "      <td>85.2</td>\n",
       "      <td>LIGHT</td>\n",
       "      <td>26.0</td>\n",
       "      <td>1014.0</td>\n",
       "      <td>61.0</td>\n",
       "      <td>4.0</td>\n",
       "      <td>NaN</td>\n",
       "      <td>0.0</td>\n",
       "      <td>NaN</td>\n",
       "    </tr>\n",
       "    <tr>\n",
       "      <th>3</th>\n",
       "      <td>Porto</td>\n",
       "      <td>2019-02-26 11:00:00</td>\n",
       "      <td>High</td>\n",
       "      <td>37.4</td>\n",
       "      <td>61.0</td>\n",
       "      <td>94.1</td>\n",
       "      <td>LIGHT</td>\n",
       "      <td>18.0</td>\n",
       "      <td>1025.0</td>\n",
       "      <td>48.0</td>\n",
       "      <td>4.0</td>\n",
       "      <td>céu claro</td>\n",
       "      <td>0.0</td>\n",
       "      <td>NaN</td>\n",
       "    </tr>\n",
       "    <tr>\n",
       "      <th>4</th>\n",
       "      <td>Porto</td>\n",
       "      <td>2019-06-06 12:00:00</td>\n",
       "      <td>Medium</td>\n",
       "      <td>41.6</td>\n",
       "      <td>50.4</td>\n",
       "      <td>77.0</td>\n",
       "      <td>LIGHT</td>\n",
       "      <td>15.0</td>\n",
       "      <td>1008.0</td>\n",
       "      <td>82.0</td>\n",
       "      <td>10.0</td>\n",
       "      <td>NaN</td>\n",
       "      <td>0.0</td>\n",
       "      <td>NaN</td>\n",
       "    </tr>\n",
       "  </tbody>\n",
       "</table>\n",
       "</div>"
      ],
      "text/plain": [
       "  city_name          record_date AVERAGE_SPEED_DIFF  AVERAGE_FREE_FLOW_SPEED  \\\n",
       "0     Porto  2019-08-29 07:00:00             Medium                     41.5   \n",
       "1     Porto  2018-08-10 14:00:00               High                     41.7   \n",
       "2     Porto  2019-09-01 16:00:00               High                     38.6   \n",
       "3     Porto  2019-02-26 11:00:00               High                     37.4   \n",
       "4     Porto  2019-06-06 12:00:00             Medium                     41.6   \n",
       "\n",
       "   AVERAGE_TIME_DIFF  AVERAGE_FREE_FLOW_TIME LUMINOSITY  AVERAGE_TEMPERATURE  \\\n",
       "0               11.5                    71.4      LIGHT                 15.0   \n",
       "1               48.3                    87.4      LIGHT                 21.0   \n",
       "2               38.4                    85.2      LIGHT                 26.0   \n",
       "3               61.0                    94.1      LIGHT                 18.0   \n",
       "4               50.4                    77.0      LIGHT                 15.0   \n",
       "\n",
       "   AVERAGE_ATMOSP_PRESSURE  AVERAGE_HUMIDITY  AVERAGE_WIND_SPEED  \\\n",
       "0                   1019.0             100.0                 3.0   \n",
       "1                   1021.0              53.0                 5.0   \n",
       "2                   1014.0              61.0                 4.0   \n",
       "3                   1025.0              48.0                 4.0   \n",
       "4                   1008.0              82.0                10.0   \n",
       "\n",
       "  AVERAGE_CLOUDINESS  AVERAGE_PRECIPITATION AVERAGE_RAIN  \n",
       "0                NaN                    0.0          NaN  \n",
       "1          céu claro                    0.0          NaN  \n",
       "2                NaN                    0.0          NaN  \n",
       "3          céu claro                    0.0          NaN  \n",
       "4                NaN                    0.0          NaN  "
      ]
     },
     "execution_count": 156,
     "metadata": {},
     "output_type": "execute_result"
    }
   ],
   "source": [
    "training.head()"
   ]
  },
  {
   "cell_type": "code",
   "execution_count": 157,
   "metadata": {},
   "outputs": [
    {
     "name": "stdout",
     "output_type": "stream",
     "text": [
      "<class 'pandas.core.frame.DataFrame'>\n",
      "RangeIndex: 6812 entries, 0 to 6811\n",
      "Data columns (total 14 columns):\n",
      " #   Column                   Non-Null Count  Dtype  \n",
      "---  ------                   --------------  -----  \n",
      " 0   city_name                6812 non-null   object \n",
      " 1   record_date              6812 non-null   object \n",
      " 2   AVERAGE_SPEED_DIFF       6812 non-null   object \n",
      " 3   AVERAGE_FREE_FLOW_SPEED  6812 non-null   float64\n",
      " 4   AVERAGE_TIME_DIFF        6812 non-null   float64\n",
      " 5   AVERAGE_FREE_FLOW_TIME   6812 non-null   float64\n",
      " 6   LUMINOSITY               6812 non-null   object \n",
      " 7   AVERAGE_TEMPERATURE      6812 non-null   float64\n",
      " 8   AVERAGE_ATMOSP_PRESSURE  6812 non-null   float64\n",
      " 9   AVERAGE_HUMIDITY         6812 non-null   float64\n",
      " 10  AVERAGE_WIND_SPEED       6812 non-null   float64\n",
      " 11  AVERAGE_CLOUDINESS       4130 non-null   object \n",
      " 12  AVERAGE_PRECIPITATION    6812 non-null   float64\n",
      " 13  AVERAGE_RAIN             563 non-null    object \n",
      "dtypes: float64(8), object(6)\n",
      "memory usage: 745.2+ KB\n"
     ]
    }
   ],
   "source": [
    "training.info()"
   ]
  },
  {
   "cell_type": "code",
   "execution_count": 158,
   "metadata": {},
   "outputs": [
    {
     "data": {
      "text/html": [
       "<div>\n",
       "<style scoped>\n",
       "    .dataframe tbody tr th:only-of-type {\n",
       "        vertical-align: middle;\n",
       "    }\n",
       "\n",
       "    .dataframe tbody tr th {\n",
       "        vertical-align: top;\n",
       "    }\n",
       "\n",
       "    .dataframe thead th {\n",
       "        text-align: right;\n",
       "    }\n",
       "</style>\n",
       "<table border=\"1\" class=\"dataframe\">\n",
       "  <thead>\n",
       "    <tr style=\"text-align: right;\">\n",
       "      <th></th>\n",
       "      <th>AVERAGE_FREE_FLOW_SPEED</th>\n",
       "      <th>AVERAGE_TIME_DIFF</th>\n",
       "      <th>AVERAGE_FREE_FLOW_TIME</th>\n",
       "      <th>AVERAGE_TEMPERATURE</th>\n",
       "      <th>AVERAGE_ATMOSP_PRESSURE</th>\n",
       "      <th>AVERAGE_HUMIDITY</th>\n",
       "      <th>AVERAGE_WIND_SPEED</th>\n",
       "      <th>AVERAGE_PRECIPITATION</th>\n",
       "    </tr>\n",
       "  </thead>\n",
       "  <tbody>\n",
       "    <tr>\n",
       "      <th>count</th>\n",
       "      <td>6812.000000</td>\n",
       "      <td>6812.000000</td>\n",
       "      <td>6812.000000</td>\n",
       "      <td>6812.000000</td>\n",
       "      <td>6812.000000</td>\n",
       "      <td>6812.000000</td>\n",
       "      <td>6812.000000</td>\n",
       "      <td>6812.0</td>\n",
       "    </tr>\n",
       "    <tr>\n",
       "      <th>mean</th>\n",
       "      <td>40.661010</td>\n",
       "      <td>25.637111</td>\n",
       "      <td>81.143952</td>\n",
       "      <td>16.193482</td>\n",
       "      <td>1017.388139</td>\n",
       "      <td>80.084190</td>\n",
       "      <td>3.058573</td>\n",
       "      <td>0.0</td>\n",
       "    </tr>\n",
       "    <tr>\n",
       "      <th>std</th>\n",
       "      <td>4.119023</td>\n",
       "      <td>33.510507</td>\n",
       "      <td>8.294401</td>\n",
       "      <td>5.163492</td>\n",
       "      <td>5.751061</td>\n",
       "      <td>18.238863</td>\n",
       "      <td>2.138421</td>\n",
       "      <td>0.0</td>\n",
       "    </tr>\n",
       "    <tr>\n",
       "      <th>min</th>\n",
       "      <td>30.500000</td>\n",
       "      <td>0.000000</td>\n",
       "      <td>46.400000</td>\n",
       "      <td>0.000000</td>\n",
       "      <td>985.000000</td>\n",
       "      <td>14.000000</td>\n",
       "      <td>0.000000</td>\n",
       "      <td>0.0</td>\n",
       "    </tr>\n",
       "    <tr>\n",
       "      <th>25%</th>\n",
       "      <td>37.600000</td>\n",
       "      <td>2.275000</td>\n",
       "      <td>75.400000</td>\n",
       "      <td>13.000000</td>\n",
       "      <td>1015.000000</td>\n",
       "      <td>69.750000</td>\n",
       "      <td>1.000000</td>\n",
       "      <td>0.0</td>\n",
       "    </tr>\n",
       "    <tr>\n",
       "      <th>50%</th>\n",
       "      <td>40.700000</td>\n",
       "      <td>12.200000</td>\n",
       "      <td>82.400000</td>\n",
       "      <td>16.000000</td>\n",
       "      <td>1017.000000</td>\n",
       "      <td>83.000000</td>\n",
       "      <td>3.000000</td>\n",
       "      <td>0.0</td>\n",
       "    </tr>\n",
       "    <tr>\n",
       "      <th>75%</th>\n",
       "      <td>43.500000</td>\n",
       "      <td>36.200000</td>\n",
       "      <td>87.400000</td>\n",
       "      <td>19.000000</td>\n",
       "      <td>1021.000000</td>\n",
       "      <td>93.000000</td>\n",
       "      <td>4.000000</td>\n",
       "      <td>0.0</td>\n",
       "    </tr>\n",
       "    <tr>\n",
       "      <th>max</th>\n",
       "      <td>55.900000</td>\n",
       "      <td>296.500000</td>\n",
       "      <td>112.000000</td>\n",
       "      <td>35.000000</td>\n",
       "      <td>1033.000000</td>\n",
       "      <td>100.000000</td>\n",
       "      <td>14.000000</td>\n",
       "      <td>0.0</td>\n",
       "    </tr>\n",
       "  </tbody>\n",
       "</table>\n",
       "</div>"
      ],
      "text/plain": [
       "       AVERAGE_FREE_FLOW_SPEED  AVERAGE_TIME_DIFF  AVERAGE_FREE_FLOW_TIME  \\\n",
       "count              6812.000000        6812.000000             6812.000000   \n",
       "mean                 40.661010          25.637111               81.143952   \n",
       "std                   4.119023          33.510507                8.294401   \n",
       "min                  30.500000           0.000000               46.400000   \n",
       "25%                  37.600000           2.275000               75.400000   \n",
       "50%                  40.700000          12.200000               82.400000   \n",
       "75%                  43.500000          36.200000               87.400000   \n",
       "max                  55.900000         296.500000              112.000000   \n",
       "\n",
       "       AVERAGE_TEMPERATURE  AVERAGE_ATMOSP_PRESSURE  AVERAGE_HUMIDITY  \\\n",
       "count          6812.000000              6812.000000       6812.000000   \n",
       "mean             16.193482              1017.388139         80.084190   \n",
       "std               5.163492                 5.751061         18.238863   \n",
       "min               0.000000               985.000000         14.000000   \n",
       "25%              13.000000              1015.000000         69.750000   \n",
       "50%              16.000000              1017.000000         83.000000   \n",
       "75%              19.000000              1021.000000         93.000000   \n",
       "max              35.000000              1033.000000        100.000000   \n",
       "\n",
       "       AVERAGE_WIND_SPEED  AVERAGE_PRECIPITATION  \n",
       "count         6812.000000                 6812.0  \n",
       "mean             3.058573                    0.0  \n",
       "std              2.138421                    0.0  \n",
       "min              0.000000                    0.0  \n",
       "25%              1.000000                    0.0  \n",
       "50%              3.000000                    0.0  \n",
       "75%              4.000000                    0.0  \n",
       "max             14.000000                    0.0  "
      ]
     },
     "execution_count": 158,
     "metadata": {},
     "output_type": "execute_result"
    }
   ],
   "source": [
    "training.describe()"
   ]
  },
  {
   "cell_type": "code",
   "execution_count": 159,
   "metadata": {},
   "outputs": [
    {
     "data": {
      "text/plain": [
       "<AxesSubplot:>"
      ]
     },
     "execution_count": 159,
     "metadata": {},
     "output_type": "execute_result"
    },
    {
     "data": {
      "image/png": "[encoded data removed]",
      "text/plain": [
       "<Figure size 432x288 with 1 Axes>"
      ]
     },
     "metadata": {
      "needs_background": "light"
     },
     "output_type": "display_data"
    }
   ],
   "source": [
    "sns.heatmap(training.isnull(),yticklabels=False,cbar=False)"
   ]
  },
  {
   "cell_type": "code",
   "execution_count": 160,
   "metadata": {},
   "outputs": [
    {
     "name": "stdout",
     "output_type": "stream",
     "text": [
      "(6812, 14)\n"
     ]
    },
    {
     "data": {
      "text/plain": [
       "city_name                     0\n",
       "record_date                   0\n",
       "AVERAGE_SPEED_DIFF            0\n",
       "AVERAGE_FREE_FLOW_SPEED       0\n",
       "AVERAGE_TIME_DIFF             0\n",
       "AVERAGE_FREE_FLOW_TIME        0\n",
       "LUMINOSITY                    0\n",
       "AVERAGE_TEMPERATURE           0\n",
       "AVERAGE_ATMOSP_PRESSURE       0\n",
       "AVERAGE_HUMIDITY              0\n",
       "AVERAGE_WIND_SPEED            0\n",
       "AVERAGE_CLOUDINESS         2682\n",
       "AVERAGE_PRECIPITATION         0\n",
       "AVERAGE_RAIN               6249\n",
       "dtype: int64"
      ]
     },
     "execution_count": 160,
     "metadata": {},
     "output_type": "execute_result"
    }
   ],
   "source": [
    "print(training.shape)\n",
    "training.isnull().sum()"
   ]
  },
  {
   "cell_type": "code",
   "execution_count": 161,
   "metadata": {},
   "outputs": [
    {
     "data": {
      "text/plain": [
       "céu claro            1582\n",
       "céu pouco nublado     516\n",
       "nuvens dispersas      459\n",
       "nuvens quebrados      448\n",
       "algumas nuvens        422\n",
       "nuvens quebradas      416\n",
       "céu limpo             153\n",
       "tempo nublado          67\n",
       "nublado                67\n",
       "Name: AVERAGE_CLOUDINESS, dtype: int64"
      ]
     },
     "execution_count": 161,
     "metadata": {},
     "output_type": "execute_result"
    }
   ],
   "source": [
    "training['AVERAGE_CLOUDINESS'].value_counts()"
   ]
  },
  {
   "cell_type": "code",
   "execution_count": 162,
   "metadata": {},
   "outputs": [
    {
     "data": {
      "text/plain": [
       "LIGHT        3293\n",
       "DARK         3253\n",
       "LOW_LIGHT     266\n",
       "Name: LUMINOSITY, dtype: int64"
      ]
     },
     "execution_count": 162,
     "metadata": {},
     "output_type": "execute_result"
    }
   ],
   "source": [
    "training['LUMINOSITY'].value_counts()"
   ]
  },
  {
   "cell_type": "code",
   "execution_count": 163,
   "metadata": {},
   "outputs": [],
   "source": [
    "training['AVERAGE_CLOUDINESS'] = training['AVERAGE_CLOUDINESS'].fillna(training['AVERAGE_CLOUDINESS'].mode()[0])"
   ]
  },
  {
   "cell_type": "code",
   "execution_count": 164,
   "metadata": {},
   "outputs": [
    {
     "name": "stdout",
     "output_type": "stream",
     "text": [
      "(6812, 14)\n"
     ]
    },
    {
     "data": {
      "text/plain": [
       "céu claro            4264\n",
       "céu pouco nublado     516\n",
       "nuvens dispersas      459\n",
       "nuvens quebrados      448\n",
       "algumas nuvens        422\n",
       "nuvens quebradas      416\n",
       "céu limpo             153\n",
       "tempo nublado          67\n",
       "nublado                67\n",
       "Name: AVERAGE_CLOUDINESS, dtype: int64"
      ]
     },
     "execution_count": 164,
     "metadata": {},
     "output_type": "execute_result"
    }
   ],
   "source": [
    "print(training.shape)\n",
    "training['AVERAGE_CLOUDINESS'].value_counts()\n"
   ]
  },
  {
   "cell_type": "code",
   "execution_count": 165,
   "metadata": {},
   "outputs": [
    {
     "data": {
      "text/plain": [
       "2019-08-29 07:00:00    1\n",
       "2019-09-01 16:00:00    1\n",
       "2019-06-06 12:00:00    1\n",
       "2018-11-15 07:00:00    1\n",
       "2018-10-03 21:00:00    1\n",
       "                      ..\n",
       "2018-10-02 04:00:00    1\n",
       "2019-01-30 01:00:00    1\n",
       "2019-09-17 09:00:00    1\n",
       "2019-09-15 01:00:00    1\n",
       "2019-06-15 21:00:00    1\n",
       "Name: record_date, Length: 6812, dtype: int64"
      ]
     },
     "execution_count": 165,
     "metadata": {},
     "output_type": "execute_result"
    }
   ],
   "source": [
    "training['record_date'].value_counts().sort_values(ascending=False)"
   ]
  },
  {
   "cell_type": "code",
   "execution_count": 166,
   "metadata": {},
   "outputs": [],
   "source": [
    "training.drop(['AVERAGE_RAIN','city_name','record_date'],axis=1,inplace=True)"
   ]
  },
  {
   "cell_type": "code",
   "execution_count": 167,
   "metadata": {},
   "outputs": [
    {
     "name": "stdout",
     "output_type": "stream",
     "text": [
      "<class 'pandas.core.frame.DataFrame'>\n",
      "RangeIndex: 6812 entries, 0 to 6811\n",
      "Data columns (total 11 columns):\n",
      " #   Column                   Non-Null Count  Dtype  \n",
      "---  ------                   --------------  -----  \n",
      " 0   AVERAGE_SPEED_DIFF       6812 non-null   object \n",
      " 1   AVERAGE_FREE_FLOW_SPEED  6812 non-null   float64\n",
      " 2   AVERAGE_TIME_DIFF        6812 non-null   float64\n",
      " 3   AVERAGE_FREE_FLOW_TIME   6812 non-null   float64\n",
      " 4   LUMINOSITY               6812 non-null   object \n",
      " 5   AVERAGE_TEMPERATURE      6812 non-null   float64\n",
      " 6   AVERAGE_ATMOSP_PRESSURE  6812 non-null   float64\n",
      " 7   AVERAGE_HUMIDITY         6812 non-null   float64\n",
      " 8   AVERAGE_WIND_SPEED       6812 non-null   float64\n",
      " 9   AVERAGE_CLOUDINESS       6812 non-null   object \n",
      " 10  AVERAGE_PRECIPITATION    6812 non-null   float64\n",
      "dtypes: float64(8), object(3)\n",
      "memory usage: 585.5+ KB\n"
     ]
    }
   ],
   "source": [
    "training.info()"
   ]
  },
  {
   "cell_type": "code",
   "execution_count": 168,
   "metadata": {},
   "outputs": [],
   "source": [
    "from sklearn.preprocessing import OneHotEncoder\n",
    "ohe = OneHotEncoder(sparse=False)"
   ]
  },
  {
   "cell_type": "code",
   "execution_count": 191,
   "metadata": {},
   "outputs": [
    {
     "data": {
      "text/html": [
       "<div>\n",
       "<style scoped>\n",
       "    .dataframe tbody tr th:only-of-type {\n",
       "        vertical-align: middle;\n",
       "    }\n",
       "\n",
       "    .dataframe tbody tr th {\n",
       "        vertical-align: top;\n",
       "    }\n",
       "\n",
       "    .dataframe thead th {\n",
       "        text-align: right;\n",
       "    }\n",
       "</style>\n",
       "<table border=\"1\" class=\"dataframe\">\n",
       "  <thead>\n",
       "    <tr style=\"text-align: right;\">\n",
       "      <th></th>\n",
       "      <th>AVERAGE_FREE_FLOW_SPEED</th>\n",
       "      <th>AVERAGE_TIME_DIFF</th>\n",
       "      <th>AVERAGE_FREE_FLOW_TIME</th>\n",
       "      <th>LUMINOSITY</th>\n",
       "      <th>AVERAGE_TEMPERATURE</th>\n",
       "      <th>AVERAGE_ATMOSP_PRESSURE</th>\n",
       "      <th>AVERAGE_HUMIDITY</th>\n",
       "      <th>AVERAGE_WIND_SPEED</th>\n",
       "      <th>AVERAGE_CLOUDINESS</th>\n",
       "      <th>AVERAGE_PRECIPITATION</th>\n",
       "    </tr>\n",
       "  </thead>\n",
       "  <tbody>\n",
       "    <tr>\n",
       "      <th>0</th>\n",
       "      <td>41.5</td>\n",
       "      <td>11.5</td>\n",
       "      <td>71.4</td>\n",
       "      <td>LIGHT</td>\n",
       "      <td>15.0</td>\n",
       "      <td>1019.0</td>\n",
       "      <td>100.0</td>\n",
       "      <td>3.0</td>\n",
       "      <td>céu claro</td>\n",
       "      <td>0.0</td>\n",
       "    </tr>\n",
       "    <tr>\n",
       "      <th>1</th>\n",
       "      <td>41.7</td>\n",
       "      <td>48.3</td>\n",
       "      <td>87.4</td>\n",
       "      <td>LIGHT</td>\n",
       "      <td>21.0</td>\n",
       "      <td>1021.0</td>\n",
       "      <td>53.0</td>\n",
       "      <td>5.0</td>\n",
       "      <td>céu claro</td>\n",
       "      <td>0.0</td>\n",
       "    </tr>\n",
       "    <tr>\n",
       "      <th>2</th>\n",
       "      <td>38.6</td>\n",
       "      <td>38.4</td>\n",
       "      <td>85.2</td>\n",
       "      <td>LIGHT</td>\n",
       "      <td>26.0</td>\n",
       "      <td>1014.0</td>\n",
       "      <td>61.0</td>\n",
       "      <td>4.0</td>\n",
       "      <td>céu claro</td>\n",
       "      <td>0.0</td>\n",
       "    </tr>\n",
       "    <tr>\n",
       "      <th>3</th>\n",
       "      <td>37.4</td>\n",
       "      <td>61.0</td>\n",
       "      <td>94.1</td>\n",
       "      <td>LIGHT</td>\n",
       "      <td>18.0</td>\n",
       "      <td>1025.0</td>\n",
       "      <td>48.0</td>\n",
       "      <td>4.0</td>\n",
       "      <td>céu claro</td>\n",
       "      <td>0.0</td>\n",
       "    </tr>\n",
       "    <tr>\n",
       "      <th>4</th>\n",
       "      <td>41.6</td>\n",
       "      <td>50.4</td>\n",
       "      <td>77.0</td>\n",
       "      <td>LIGHT</td>\n",
       "      <td>15.0</td>\n",
       "      <td>1008.0</td>\n",
       "      <td>82.0</td>\n",
       "      <td>10.0</td>\n",
       "      <td>céu claro</td>\n",
       "      <td>0.0</td>\n",
       "    </tr>\n",
       "  </tbody>\n",
       "</table>\n",
       "</div>"
      ],
      "text/plain": [
       "   AVERAGE_FREE_FLOW_SPEED  AVERAGE_TIME_DIFF  AVERAGE_FREE_FLOW_TIME  \\\n",
       "0                     41.5               11.5                    71.4   \n",
       "1                     41.7               48.3                    87.4   \n",
       "2                     38.6               38.4                    85.2   \n",
       "3                     37.4               61.0                    94.1   \n",
       "4                     41.6               50.4                    77.0   \n",
       "\n",
       "  LUMINOSITY  AVERAGE_TEMPERATURE  AVERAGE_ATMOSP_PRESSURE  AVERAGE_HUMIDITY  \\\n",
       "0      LIGHT                 15.0                   1019.0             100.0   \n",
       "1      LIGHT                 21.0                   1021.0              53.0   \n",
       "2      LIGHT                 26.0                   1014.0              61.0   \n",
       "3      LIGHT                 18.0                   1025.0              48.0   \n",
       "4      LIGHT                 15.0                   1008.0              82.0   \n",
       "\n",
       "   AVERAGE_WIND_SPEED AVERAGE_CLOUDINESS  AVERAGE_PRECIPITATION  \n",
       "0                 3.0          céu claro                    0.0  \n",
       "1                 5.0          céu claro                    0.0  \n",
       "2                 4.0          céu claro                    0.0  \n",
       "3                 4.0          céu claro                    0.0  \n",
       "4                10.0          céu claro                    0.0  "
      ]
     },
     "execution_count": 191,
     "metadata": {},
     "output_type": "execute_result"
    }
   ],
   "source": [
    "X_train = training.drop('AVERAGE_SPEED_DIFF',axis='columns')\n",
    "y_train = training.AVERAGE_SPEED_DIFF \n",
    "X_train.head()"
   ]
  },
  {
   "cell_type": "code",
   "execution_count": 177,
   "metadata": {},
   "outputs": [],
   "source": [
    "from sklearn.compose import make_column_transformer"
   ]
  },
  {
   "cell_type": "code",
   "execution_count": 183,
   "metadata": {},
   "outputs": [],
   "source": [
    "column_trans = make_column_transformer(\n",
    "    (OneHotEncoder(), ['LUMINOSITY','AVERAGE_CLOUDINESS']),\n",
    "    remainder='passthrough'\n",
    ")"
   ]
  },
  {
   "cell_type": "code",
   "execution_count": 184,
   "metadata": {},
   "outputs": [
    {
     "data": {
      "text/plain": [
       "array([[  0.,   1.,   0., ..., 100.,   3.,   0.],\n",
       "       [  0.,   1.,   0., ...,  53.,   5.,   0.],\n",
       "       [  0.,   1.,   0., ...,  61.,   4.,   0.],\n",
       "       ...,\n",
       "       [  1.,   0.,   0., ...,  39.,   4.,   0.],\n",
       "       [  1.,   0.,   0., ...,  81.,   1.,   0.],\n",
       "       [  1.,   0.,   0., ...,  72.,   4.,   0.]])"
      ]
     },
     "execution_count": 184,
     "metadata": {},
     "output_type": "execute_result"
    }
   ],
   "source": [
    "column_trans.fit_transform(X_train)"
   ]
  },
  {
   "cell_type": "code",
   "execution_count": 193,
   "metadata": {},
   "outputs": [],
   "source": [
    "from sklearn.pipeline import make_pipeline\n",
    "from sklearn.linear_model import LogisticRegression\n",
    "from sklearn.model_selection import cross_val_score"
   ]
  },
  {
   "cell_type": "code",
   "execution_count": 205,
   "metadata": {},
   "outputs": [],
   "source": [
    "logreg = LogisticRegression(solver='lbfgs', max_iter=20000)"
   ]
  },
  {
   "cell_type": "code",
   "execution_count": 206,
   "metadata": {},
   "outputs": [],
   "source": [
    "pipe = make_pipeline(column_trans, logreg)"
   ]
  },
  {
   "cell_type": "code",
   "execution_count": 207,
   "metadata": {},
   "outputs": [
    {
     "data": {
      "text/plain": [
       "0.7651220692025343"
      ]
     },
     "execution_count": 207,
     "metadata": {},
     "output_type": "execute_result"
    }
   ],
   "source": [
    "cross_val_score(pipe, X_train,y_train,cv=5,scoring='accuracy').mean()"
   ]
  }
 ],
 "metadata": {
  "interpreter": {
   "hash": "30295c5bec572e859485b1ffa5e89b8b3e2022ef6e3e739c1ac40f143a557caf"
  },
  "kernelspec": {
   "display_name": "Python 3.6.15 64-bit",
   "name": "python3"
  },
  "language_info": {
   "codemirror_mode": {
    "name": "ipython",
    "version": 3
   },
   "file_extension": ".py",
   "mimetype": "text/x-python",
   "name": "python",
   "nbconvert_exporter": "python",
   "pygments_lexer": "ipython3",
   "version": "3.8.8"
  },
  "orig_nbformat": 4
 },
 "nbformat": 4,
 "nbformat_minor": 2
}
