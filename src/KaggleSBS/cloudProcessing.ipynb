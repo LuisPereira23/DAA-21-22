{
 "cells": [
  {
   "cell_type": "code",
   "execution_count": 35,
   "metadata": {},
   "outputs": [],
   "source": [
    "import numpy as np\n",
    "import pandas as pd\n",
    "import xlrd\n",
    "import xlwt\n",
    "import matplotlib.pyplot as plt\n",
    "import seaborn as sns\n",
    "import sklearn\n",
    "import jupyterlab\n",
    "import statsmodels.api as sm\n",
    "from pandas_profiling import ProfileReport \n",
    "%matplotlib inline"
   ]
  },
  {
   "cell_type": "code",
   "execution_count": 36,
   "metadata": {},
   "outputs": [],
   "source": [
    "training = pd.read_csv('processedTrain.csv')\n",
    "testing = pd.read_csv('processedTest.csv')\n",
    "datasets = [training,testing]"
   ]
  },
  {
   "cell_type": "code",
   "execution_count": 37,
   "metadata": {},
   "outputs": [],
   "source": [
    "training['unique_id'] = training.index + 1\n",
    "testing['unique_id'] = testing.index + 1"
   ]
  },
  {
   "cell_type": "code",
   "execution_count": 38,
   "metadata": {},
   "outputs": [],
   "source": [
    "cloudpred = training.drop('AVERAGE_SPEED_DIFF',axis=1)"
   ]
  },
  {
   "cell_type": "code",
   "execution_count": 39,
   "metadata": {},
   "outputs": [],
   "source": [
    "cloudTrain = pd.concat([cloudpred[cloudpred['AVERAGE_CLOUDINESS'] != 'NoData'],testing[testing['AVERAGE_CLOUDINESS'] != 'NoData']])"
   ]
  },
  {
   "cell_type": "code",
   "execution_count": 40,
   "metadata": {},
   "outputs": [],
   "source": [
    "from sklearn.model_selection import train_test_split\n",
    "from imblearn.over_sampling import SMOTE\n",
    "from imblearn.over_sampling import RandomOverSampler\n",
    "from imblearn.over_sampling import BorderlineSMOTE\n",
    "from imblearn.over_sampling import SVMSMOTE \n",
    "from imblearn.combine import SMOTEENN \n",
    "from imblearn.combine import SMOTETomek "
   ]
  },
  {
   "cell_type": "code",
   "execution_count": 41,
   "metadata": {},
   "outputs": [],
   "source": [
    "X = cloudTrain.drop('AVERAGE_CLOUDINESS',axis=1)\n",
    "y = cloudTrain['AVERAGE_CLOUDINESS']"
   ]
  },
  {
   "cell_type": "code",
   "execution_count": 42,
   "metadata": {},
   "outputs": [],
   "source": [
    "X_train,X_test,y_train,y_test = train_test_split(X,y,test_size=0.3, random_state=2021,stratify=y)"
   ]
  },
  {
   "cell_type": "code",
   "execution_count": 43,
   "metadata": {},
   "outputs": [],
   "source": [
    "sm = BorderlineSMOTE(kind='borderline-2')\n",
    "X_res, y_res = sm.fit_resample(X_train, y_train)"
   ]
  },
  {
   "cell_type": "code",
   "execution_count": 44,
   "metadata": {},
   "outputs": [],
   "source": [
    "#sme = SMOTEENN(sampling_strategy='not majority')\n",
    "#X_res, y_res = sme.fit_resample(X_train, y_train)"
   ]
  },
  {
   "cell_type": "code",
   "execution_count": 45,
   "metadata": {},
   "outputs": [],
   "source": [
    "\n",
    "#ros = RandomOverSampler(sampling_strategy=\"not majority\",random_state=2021)\n",
    "#X_res, y_res = ros.fit_resample(X_train, y_train)"
   ]
  },
  {
   "cell_type": "code",
   "execution_count": 46,
   "metadata": {},
   "outputs": [],
   "source": [
    "#smt = SMOTETomek(sampling_strategy='auto')\n",
    "#X_res, y_res = smt.fit_resample(X_train, y_train)"
   ]
  },
  {
   "cell_type": "code",
   "execution_count": 47,
   "metadata": {},
   "outputs": [],
   "source": [
    "#X_res=X_train\n",
    "#y_res = y_train"
   ]
  },
  {
   "cell_type": "code",
   "execution_count": 48,
   "metadata": {},
   "outputs": [],
   "source": [
    "from sklearn.linear_model import LogisticRegression\n",
    "from sklearn.metrics import plot_confusion_matrix\n",
    "from sklearn.model_selection import cross_val_score\n",
    "from sklearn.naive_bayes import GaussianNB\n",
    "from sklearn.linear_model import LogisticRegression\n",
    "from sklearn import tree\n",
    "from sklearn.neighbors import KNeighborsClassifier\n",
    "from xgboost import XGBClassifier\n",
    "from sklearn.svm import SVC\n",
    "from sklearn.tree import DecisionTreeClassifier\n",
    "from sklearn.neural_network import MLPClassifier\n",
    "from sklearn.ensemble import RandomForestClassifier, AdaBoostClassifier, GradientBoostingClassifier\n",
    "from sklearn.discriminant_analysis import QuadraticDiscriminantAnalysis\n",
    "from sklearn.gaussian_process import GaussianProcessClassifier\n"
   ]
  },
  {
   "cell_type": "code",
   "execution_count": 49,
   "metadata": {},
   "outputs": [],
   "source": [
    "classifiers = [\n",
    "    LogisticRegression(solver='liblinear'),\n",
    "    RandomForestClassifier(),\n",
    "    KNeighborsClassifier(),\n",
    "    DecisionTreeClassifier(),\n",
    "    MLPClassifier(),\n",
    "    AdaBoostClassifier(),\n",
    "    GaussianNB(),\n",
    "    #QuadraticDiscriminantAnalysis(),\n",
    "    SVC(),\n",
    "    #GaussianProcessClassifier(random_state=2021),\n",
    "    #XGBClassifier()\n",
    "    ]"
   ]
  },
  {
   "cell_type": "code",
   "execution_count": 50,
   "metadata": {},
   "outputs": [
    {
     "name": "stdout",
     "output_type": "stream",
     "text": [
      "______________________________________________\n",
      "LogisticRegression(solver='liblinear')\n",
      "..............................................\n",
      "Folds:  [0.5920904  0.61016949 0.62146893 0.66779661 0.63800905]\n",
      "Accuracy score:  62.59068947005139\n",
      "Test Accuracy score:  63.84105960264901\n",
      "______________________________________________\n",
      "RandomForestClassifier()\n",
      "..............................................\n",
      "Folds:  [0.70734463 0.71977401 0.76158192 0.81468927 0.72850679]\n",
      "Accuracy score:  74.63793235677582\n",
      "Test Accuracy score:  73.37748344370861\n",
      "______________________________________________\n",
      "KNeighborsClassifier()\n",
      "..............................................\n",
      "Folds:  [0.39661017 0.4180791  0.44067797 0.51186441 0.43099548]\n",
      "Accuracy score:  43.96454227062403\n",
      "Test Accuracy score:  39.80132450331126\n",
      "______________________________________________\n",
      "DecisionTreeClassifier()\n",
      "..............................................\n",
      "Folds:  [0.58418079 0.6        0.62146893 0.67683616 0.63122172]\n",
      "Accuracy score:  62.27415190326456\n",
      "Test Accuracy score:  63.046357615894046\n",
      "______________________________________________\n",
      "MLPClassifier()\n",
      "..............................................\n",
      "Folds:  [0.43050847 0.57288136 0.41581921 0.57740113 0.54072398]\n",
      "Accuracy score:  50.74668302783956\n",
      "Test Accuracy score:  53.70860927152318\n",
      "______________________________________________\n",
      "AdaBoostClassifier()\n",
      "..............................................\n",
      "Folds:  [0.59322034 0.59548023 0.67344633 0.68022599 0.63800905]\n",
      "Accuracy score:  63.607638622593754\n",
      "Test Accuracy score:  65.82781456953643\n",
      "______________________________________________\n",
      "GaussianNB()\n",
      "..............................................\n",
      "Folds:  [0.55706215 0.53672316 0.5819209  0.58757062 0.56221719]\n",
      "Accuracy score:  56.50988061456654\n",
      "Test Accuracy score:  56.622516556291394\n",
      "______________________________________________\n",
      "SVC()\n",
      "..............................................\n",
      "Folds:  [0.40451977 0.42485876 0.41468927 0.43502825 0.4321267 ]\n",
      "Accuracy score:  42.22445484060639\n",
      "Test Accuracy score:  44.23841059602649\n"
     ]
    }
   ],
   "source": [
    "for i in classifiers:\n",
    "    model = i\n",
    "    print('______________________________________________')\n",
    "    print(i)\n",
    "    print('..............................................')\n",
    "    cv = cross_val_score(model,X_res,y_res,cv=5,n_jobs=-1,)\n",
    "    model.fit(X_res,y_res)\n",
    "    test_score = model.score(X_test, y_test)\n",
    "    print('Folds: ',cv)\n",
    "    print('Accuracy score: ',cv.mean()*100)\n",
    "    print('Test Accuracy score: ',test_score*100)\n"
   ]
  },
  {
   "cell_type": "code",
   "execution_count": 51,
   "metadata": {},
   "outputs": [],
   "source": [
    "from sklearn.model_selection import GridSearchCV \n",
    "from sklearn.model_selection import RandomizedSearchCV "
   ]
  },
  {
   "cell_type": "code",
   "execution_count": 52,
   "metadata": {},
   "outputs": [],
   "source": [
    "#simple performance reporting function\n",
    "def clf_performance(classifier, model_name):\n",
    "    print(model_name)\n",
    "    print('Best Score: ' + str(classifier.best_score_))\n",
    "    print('Best Parameters: ' + str(classifier.best_params_))"
   ]
  },
  {
   "cell_type": "code",
   "execution_count": 53,
   "metadata": {},
   "outputs": [
    {
     "data": {
      "text/plain": [
       "\"param_grid =  {'n_estimators': [50,100,200,300,400,500,600,700,800,900,1000],\\n               'criterion':['gini','entropy'],\\n                                  'bootstrap': [True,False],\\n                                  'max_depth': [3,5,10,20,50,75,100,None],\\n                                  'max_features': ['auto','sqrt'],\\n                                  'min_samples_leaf': [1,2,4,10],\\n                                  'min_samples_split': [2,5,10]}\\n                                  \\nclf_rf = RandomizedSearchCV(RandomForestClassifier(), param_distributions= param_grid,cv = 5, verbose = True, n_jobs = -1)\\nbest_clf_rf = clf_rf.fit(X_res,y_res)\\nclf_performance(best_clf_rf,'Random Forest')\""
      ]
     },
     "execution_count": 53,
     "metadata": {},
     "output_type": "execute_result"
    }
   ],
   "source": [
    "'''param_grid =  {'n_estimators': [50,100,200,300,400,500,600,700,800,900,1000],\n",
    "               'criterion':['gini','entropy'],\n",
    "                                  'bootstrap': [True,False],\n",
    "                                  'max_depth': [3,5,10,20,50,75,100,None],\n",
    "                                  'max_features': ['auto','sqrt'],\n",
    "                                  'min_samples_leaf': [1,2,4,10],\n",
    "                                  'min_samples_split': [2,5,10]}\n",
    "                                  \n",
    "clf_rf = RandomizedSearchCV(RandomForestClassifier(), param_distributions= param_grid,cv = 5, verbose = True, n_jobs = -1)\n",
    "best_clf_rf = clf_rf.fit(X_res,y_res)\n",
    "clf_performance(best_clf_rf,'Random Forest')'''\n"
   ]
  },
  {
   "cell_type": "code",
   "execution_count": 54,
   "metadata": {},
   "outputs": [
    {
     "name": "stdout",
     "output_type": "stream",
     "text": [
      "Fitting 5 folds for each of 1 candidates, totalling 5 fits\n"
     ]
    },
    {
     "name": "stderr",
     "output_type": "stream",
     "text": [
      "[Parallel(n_jobs=-1)]: Using backend LokyBackend with 4 concurrent workers.\n",
      "[Parallel(n_jobs=-1)]: Done   5 out of   5 | elapsed:   25.3s finished\n"
     ]
    },
    {
     "name": "stdout",
     "output_type": "stream",
     "text": [
      "Random Forest\n",
      "Best Score: 0.7554196385203364\n",
      "Best Parameters: {'bootstrap': False, 'criterion': 'gini', 'max_depth': 50, 'max_features': 'sqrt', 'min_samples_leaf': 1, 'min_samples_split': 2, 'n_estimators': 600}\n"
     ]
    }
   ],
   "source": [
    "param_grid =  {'n_estimators': [600],\n",
    "               'min_samples_split': [2],\n",
    "               'min_samples_leaf': [1],\n",
    "               'max_features': ['sqrt'],\n",
    "               'max_depth': [50],\n",
    "               'criterion': ['gini'],\n",
    "               'bootstrap': [False]}\n",
    "                                  \n",
    "clf_rf = GridSearchCV(RandomForestClassifier(), param_grid= param_grid,cv = 5, verbose = True, n_jobs = -1)\n",
    "best_clf_rf = clf_rf.fit(X_res,y_res)\n",
    "clf_performance(best_clf_rf,'Random Forest')"
   ]
  },
  {
   "cell_type": "code",
   "execution_count": 55,
   "metadata": {},
   "outputs": [
    {
     "data": {
      "text/plain": [
       "<AxesSubplot:>"
      ]
     },
     "execution_count": 55,
     "metadata": {},
     "output_type": "execute_result"
    },
    {
     "data": {
      "image/png": "[encoded data removed]",
      "text/plain": [
       "<Figure size 432x288 with 1 Axes>"
      ]
     },
     "metadata": {
      "needs_background": "light"
     },
     "output_type": "display_data"
    }
   ],
   "source": [
    "best_rf = best_clf_rf.best_estimator_.fit(X_res,y_res)\n",
    "feat_importances = pd.Series(best_rf.feature_importances_, index=X_train.columns)\n",
    "feat_importances.nlargest(20).plot(kind='barh')"
   ]
  },
  {
   "cell_type": "code",
   "execution_count": 56,
   "metadata": {},
   "outputs": [
    {
     "data": {
      "text/plain": [
       "<matplotlib.collections.PathCollection at 0x7f508f248220>"
      ]
     },
     "execution_count": 56,
     "metadata": {},
     "output_type": "execute_result"
    },
    {
     "data": {
      "image/png": "[encoded data removed]",
      "text/plain": [
       "<Figure size 432x288 with 1 Axes>"
      ]
     },
     "metadata": {
      "needs_background": "light"
     },
     "output_type": "display_data"
    }
   ],
   "source": [
    "predictions = best_clf_rf.predict(X_test)\n",
    "plt.scatter(y_test,predictions)"
   ]
  },
  {
   "cell_type": "code",
   "execution_count": 57,
   "metadata": {},
   "outputs": [],
   "source": [
    "from sklearn.metrics import confusion_matrix"
   ]
  },
  {
   "cell_type": "code",
   "execution_count": 67,
   "metadata": {},
   "outputs": [
    {
     "data": {
      "image/png": "[encoded data removed]",
      "text/plain": [
       "<Figure size 720x720 with 2 Axes>"
      ]
     },
     "metadata": {
      "needs_background": "light"
     },
     "output_type": "display_data"
    }
   ],
   "source": [
    "y_pred = best_clf_rf.predict(X_test)\n",
    "cm = confusion_matrix(y_test, y_pred)\n",
    "# Normalise\n",
    "cmn = cm.astype('float') / cm.sum(axis=1)[:, np.newaxis]\n",
    "fig, ax = plt.subplots(figsize=(10,10))\n",
    "sns.heatmap(cmn, annot=True, fmt='.2f')\n",
    "plt.ylabel('Actual')\n",
    "plt.xlabel('Predicted')\n",
    "plt.show(block=False)"
   ]
  },
  {
   "cell_type": "code",
   "execution_count": 59,
   "metadata": {},
   "outputs": [],
   "source": [
    "nanCloudTrain = training[training['AVERAGE_CLOUDINESS'] == 'NoData']\n",
    "\n",
    "cloudTrain = training[training['AVERAGE_CLOUDINESS'] != 'NoData']\n",
    "\n",
    "nanCloudTest = testing[testing['AVERAGE_CLOUDINESS'] == 'NoData']\n",
    "\n",
    "cloudTest = testing[testing['AVERAGE_CLOUDINESS'] != 'NoData']\n"
   ]
  },
  {
   "cell_type": "code",
   "execution_count": 60,
   "metadata": {},
   "outputs": [
    {
     "name": "stdout",
     "output_type": "stream",
     "text": [
      "<class 'pandas.core.frame.DataFrame'>\n",
      "RangeIndex: 4424 entries, 0 to 4423\n",
      "Data columns (total 26 columns):\n",
      " #   Column                   Non-Null Count  Dtype  \n",
      "---  ------                   --------------  -----  \n",
      " 0   AVERAGE_FREE_FLOW_SPEED  4424 non-null   float64\n",
      " 1   AVERAGE_TIME_DIFF        4424 non-null   float64\n",
      " 2   AVERAGE_FREE_FLOW_TIME   4424 non-null   float64\n",
      " 3   AVERAGE_TEMPERATURE      4424 non-null   float64\n",
      " 4   AVERAGE_ATMOSP_PRESSURE  4424 non-null   float64\n",
      " 5   AVERAGE_HUMIDITY         4424 non-null   float64\n",
      " 6   AVERAGE_WIND_SPEED       4424 non-null   float64\n",
      " 7   AVERAGE_RAIN             4424 non-null   int64  \n",
      " 8   is_weekend               4424 non-null   int64  \n",
      " 9   AVERAGE_DISTANCE_FREE    4424 non-null   float64\n",
      " 10  AVERAGE_TIME             4424 non-null   float64\n",
      " 11  AVERAGE_SPEED            4424 non-null   float64\n",
      " 12  AVERAGE_SPEED_DIFF_Num   4424 non-null   float64\n",
      " 13  weekday_sin              4424 non-null   float64\n",
      " 14  weekday_cos              4424 non-null   float64\n",
      " 15  hour_sin                 4424 non-null   float64\n",
      " 16  hour_cos                 4424 non-null   float64\n",
      " 17  month_sin                4424 non-null   float64\n",
      " 18  month_cos                4424 non-null   float64\n",
      " 19  year_sin                 4424 non-null   float64\n",
      " 20  year_cos                 4424 non-null   float64\n",
      " 21  day_sin                  4424 non-null   float64\n",
      " 22  day_cos                  4424 non-null   float64\n",
      " 23  DARK                     4424 non-null   int64  \n",
      " 24  LIGHT                    4424 non-null   int64  \n",
      " 25  unique_id                4424 non-null   int64  \n",
      "dtypes: float64(21), int64(5)\n",
      "memory usage: 898.8 KB\n"
     ]
    }
   ],
   "source": [
    "X_res.info()"
   ]
  },
  {
   "cell_type": "code",
   "execution_count": 61,
   "metadata": {},
   "outputs": [],
   "source": [
    "trainPred = best_clf_rf.predict(nanCloudTrain.drop(['AVERAGE_SPEED_DIFF','AVERAGE_CLOUDINESS'],axis=1))\n",
    "\n",
    "testPred = best_clf_rf.predict(nanCloudTest.drop('AVERAGE_CLOUDINESS',axis=1))"
   ]
  },
  {
   "cell_type": "code",
   "execution_count": 62,
   "metadata": {},
   "outputs": [
    {
     "name": "stderr",
     "output_type": "stream",
     "text": [
      "/tmp/ipykernel_1963/3220737146.py:1: SettingWithCopyWarning: \n",
      "A value is trying to be set on a copy of a slice from a DataFrame.\n",
      "Try using .loc[row_indexer,col_indexer] = value instead\n",
      "\n",
      "See the caveats in the documentation: https://pandas.pydata.org/pandas-docs/stable/user_guide/indexing.html#returning-a-view-versus-a-copy\n",
      "  nanCloudTrain['AVERAGE_CLOUDINESS'] = trainPred\n",
      "/tmp/ipykernel_1963/3220737146.py:2: SettingWithCopyWarning: \n",
      "A value is trying to be set on a copy of a slice from a DataFrame.\n",
      "Try using .loc[row_indexer,col_indexer] = value instead\n",
      "\n",
      "See the caveats in the documentation: https://pandas.pydata.org/pandas-docs/stable/user_guide/indexing.html#returning-a-view-versus-a-copy\n",
      "  nanCloudTest['AVERAGE_CLOUDINESS'] = testPred\n"
     ]
    }
   ],
   "source": [
    "nanCloudTrain['AVERAGE_CLOUDINESS'] = trainPred\n",
    "nanCloudTest['AVERAGE_CLOUDINESS'] = testPred"
   ]
  },
  {
   "cell_type": "code",
   "execution_count": 63,
   "metadata": {},
   "outputs": [],
   "source": [
    "training2 = pd.concat([nanCloudTrain, cloudTrain], ignore_index=True).sort_values(by='unique_id',ascending=True)\n",
    "\n",
    "testing2 = pd.concat([nanCloudTest, cloudTest], ignore_index=True).sort_values(by='unique_id',ascending=True)\n"
   ]
  },
  {
   "cell_type": "code",
   "execution_count": 64,
   "metadata": {},
   "outputs": [],
   "source": [
    "training2 = training2.drop('unique_id',axis=1)\n",
    "testing2 = testing2.drop('unique_id',axis=1)"
   ]
  },
  {
   "cell_type": "code",
   "execution_count": 65,
   "metadata": {},
   "outputs": [],
   "source": [
    "training2 = pd.concat([training2,pd.get_dummies(training2['AVERAGE_CLOUDINESS'])],axis='columns').drop(['AVERAGE_CLOUDINESS'],axis='columns')\n",
    "\n",
    "testing2 = pd.concat([testing2,pd.get_dummies(testing2['AVERAGE_CLOUDINESS'])],axis='columns').drop(['AVERAGE_CLOUDINESS'],axis='columns')"
   ]
  },
  {
   "cell_type": "code",
   "execution_count": 66,
   "metadata": {},
   "outputs": [],
   "source": [
    "training2.to_csv('cloudProcessedTrain.csv',index=False)\n",
    "testing2.to_csv('cloudProcessedTest.csv',index=False)"
   ]
  }
 ],
 "metadata": {
  "interpreter": {
   "hash": "916dbcbb3f70747c44a77c7bcd40155683ae19c65e1c03b4aa3499c5328201f1"
  },
  "kernelspec": {
   "display_name": "Python 3.8.10 64-bit",
   "language": "python",
   "name": "python3"
  },
  "language_info": {
   "codemirror_mode": {
    "name": "ipython",
    "version": 3
   },
   "file_extension": ".py",
   "mimetype": "text/x-python",
   "name": "python",
   "nbconvert_exporter": "python",
   "pygments_lexer": "ipython3",
   "version": "3.8.8"
  },
  "orig_nbformat": 4
 },
 "nbformat": 4,
 "nbformat_minor": 2
}
