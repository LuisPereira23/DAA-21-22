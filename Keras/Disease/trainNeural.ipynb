{
 "cells": [
  {
   "cell_type": "code",
   "execution_count": 52,
   "metadata": {},
   "outputs": [],
   "source": [
    "import numpy as np\n",
    "import pandas as pd\n",
    "import matplotlib.pyplot as plt\n",
    "import seaborn as sns\n",
    "import warnings\n",
    "warnings.filterwarnings('ignore')\n",
    "%matplotlib inline"
   ]
  },
  {
   "cell_type": "code",
   "execution_count": 53,
   "metadata": {},
   "outputs": [],
   "source": [
    "training = pd.read_csv('processedTrain.csv')\n",
    "testing = pd.read_csv('processedTest.csv')"
   ]
  },
  {
   "cell_type": "code",
   "execution_count": 54,
   "metadata": {},
   "outputs": [],
   "source": [
    "X_train = training.drop(['prognosis'],axis=1) # the training attributes\n",
    "y_train = training['prognosis'] # the training labels\n",
    "\n",
    "X_test = testing.drop(['prognosis'],axis=1) # the testing attributes\n",
    "y_test = testing['prognosis'] # the testing labels"
   ]
  },
  {
   "cell_type": "code",
   "execution_count": 55,
   "metadata": {},
   "outputs": [],
   "source": [
    "y_train_enc= pd.get_dummies(y_train)\n",
    "y_test_enc= pd.get_dummies(y_test)"
   ]
  },
  {
   "cell_type": "code",
   "execution_count": 56,
   "metadata": {},
   "outputs": [],
   "source": [
    "import keras\n",
    "from keras.layers import Dense\n",
    "from keras.models import Sequential\n",
    "from keras.callbacks import EarlyStopping"
   ]
  },
  {
   "cell_type": "code",
   "execution_count": 57,
   "metadata": {},
   "outputs": [],
   "source": [
    "model= Sequential()\n",
    "model.add(Dense(64, activation='relu', input_shape= (X_train.shape[1], )))\n",
    "model.add(Dense(32, activation='relu'))\n",
    "model.add(Dense(16, activation='relu'))\n",
    "model.add(Dense(y_train_enc.shape[1], activation='softmax'))\n",
    "\n",
    "model.compile('adam', loss='categorical_crossentropy', metrics=['accuracy'])"
   ]
  },
  {
   "cell_type": "code",
   "execution_count": 58,
   "metadata": {},
   "outputs": [
    {
     "name": "stdout",
     "output_type": "stream",
     "text": [
      "Epoch 1/30\n",
      "41/41 [==============================] - 0s 3ms/step - loss: 3.5137 - accuracy: 0.1159 - val_loss: 3.1758 - val_accuracy: 0.4048\n",
      "Epoch 2/30\n",
      "41/41 [==============================] - 0s 1ms/step - loss: 2.6135 - accuracy: 0.5081 - val_loss: 1.8507 - val_accuracy: 0.6429\n",
      "Epoch 3/30\n",
      "41/41 [==============================] - 0s 1ms/step - loss: 1.2158 - accuracy: 0.8020 - val_loss: 0.5913 - val_accuracy: 0.9762\n",
      "Epoch 4/30\n",
      "41/41 [==============================] - 0s 1ms/step - loss: 0.3004 - accuracy: 0.9982 - val_loss: 0.1805 - val_accuracy: 0.9762\n",
      "Epoch 5/30\n",
      "41/41 [==============================] - 0s 1ms/step - loss: 0.0702 - accuracy: 1.0000 - val_loss: 0.1339 - val_accuracy: 0.9762\n",
      "Epoch 6/30\n",
      "41/41 [==============================] - 0s 1ms/step - loss: 0.0305 - accuracy: 1.0000 - val_loss: 0.1306 - val_accuracy: 0.9762\n",
      "Epoch 7/30\n",
      "41/41 [==============================] - 0s 1ms/step - loss: 0.0180 - accuracy: 1.0000 - val_loss: 0.1307 - val_accuracy: 0.9762\n",
      "Epoch 8/30\n",
      "41/41 [==============================] - 0s 1ms/step - loss: 0.0123 - accuracy: 1.0000 - val_loss: 0.1318 - val_accuracy: 0.9762\n",
      "Epoch 9/30\n",
      "41/41 [==============================] - 0s 1ms/step - loss: 0.0090 - accuracy: 1.0000 - val_loss: 0.1386 - val_accuracy: 0.9762\n",
      "Epoch 10/30\n",
      "41/41 [==============================] - 0s 1ms/step - loss: 0.0069 - accuracy: 1.0000 - val_loss: 0.1385 - val_accuracy: 0.9762\n",
      "Epoch 11/30\n",
      "41/41 [==============================] - 0s 1ms/step - loss: 0.0055 - accuracy: 1.0000 - val_loss: 0.1422 - val_accuracy: 0.9762\n",
      "Epoch 12/30\n",
      "41/41 [==============================] - 0s 1ms/step - loss: 0.0045 - accuracy: 1.0000 - val_loss: 0.1455 - val_accuracy: 0.9762\n",
      "Epoch 13/30\n",
      "41/41 [==============================] - 0s 1ms/step - loss: 0.0037 - accuracy: 1.0000 - val_loss: 0.1478 - val_accuracy: 0.9762\n"
     ]
    },
    {
     "data": {
      "text/plain": [
       "<keras.callbacks.History at 0x25e0f1279a0>"
      ]
     },
     "execution_count": 58,
     "metadata": {},
     "output_type": "execute_result"
    }
   ],
   "source": [
    "early_stopping_monitor= EarlyStopping(patience=10, monitor='val_accuracy')\n",
    "model.fit(X_train, y_train_enc, batch_size=120, epochs=30, validation_data=(X_test,y_test_enc), callbacks=[early_stopping_monitor])"
   ]
  },
  {
   "cell_type": "code",
   "execution_count": 59,
   "metadata": {},
   "outputs": [
    {
     "name": "stdout",
     "output_type": "stream",
     "text": [
      "5/5 [==============================] - 0s 1ms/step - loss: 0.0011 - accuracy: 1.0000\n"
     ]
    },
    {
     "data": {
      "text/plain": [
       "[0.0011228186776861548, 1.0]"
      ]
     },
     "execution_count": 59,
     "metadata": {},
     "output_type": "execute_result"
    }
   ],
   "source": [
    "model.evaluate(X_test, y_test_enc, batch_size=1, steps=5)"
   ]
  }
 ],
 "metadata": {
  "interpreter": {
   "hash": "2275e5ca5ece5190d5771f51027ef7e9f1487a38a4cd1a87f85c7812e1eae737"
  },
  "kernelspec": {
   "display_name": "Python 3.8.0 64-bit",
   "language": "python",
   "name": "python3"
  },
  "language_info": {
   "codemirror_mode": {
    "name": "ipython",
    "version": 3
   },
   "file_extension": ".py",
   "mimetype": "text/x-python",
   "name": "python",
   "nbconvert_exporter": "python",
   "pygments_lexer": "ipython3",
   "version": "3.8.0"
  },
  "orig_nbformat": 4
 },
 "nbformat": 4,
 "nbformat_minor": 2
}
