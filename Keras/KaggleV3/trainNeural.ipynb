{
 "cells": [
  {
   "cell_type": "code",
   "execution_count": 1,
   "metadata": {},
   "outputs": [
    {
     "name": "stderr",
     "output_type": "stream",
     "text": [
      "Pandas backend loaded 1.3.4\n",
      "Numpy backend loaded 1.19.5\n",
      "Pyspark backend NOT loaded\n",
      "Python backend loaded\n"
     ]
    }
   ],
   "source": [
    "import numpy as np\n",
    "import pandas as pd\n",
    "import xlrd\n",
    "import xlwt\n",
    "import matplotlib.pyplot as plt\n",
    "import seaborn as sns\n",
    "import sklearn\n",
    "import jupyterlab\n",
    "import statsmodels.api as sm\n",
    "from pandas_profiling import ProfileReport \n",
    "import warnings\n",
    "import tensorflow as tf\n",
    "from tensorflow.keras.models import Sequential\n",
    "from tensorflow.keras.layers import Dense,Dropout,BatchNormalization\n",
    "from tensorflow.keras.wrappers.scikit_learn import KerasRegressor\n",
    "from tensorflow.keras.utils import to_categorical\n",
    "from sklearn.model_selection import GridSearchCV,KFold,train_test_split\n",
    "from sklearn.preprocessing import MinMaxScaler\n",
    "warnings.filterwarnings(\"ignore\", category=UserWarning)\n",
    "%matplotlib inline"
   ]
  },
  {
   "cell_type": "code",
   "execution_count": 2,
   "metadata": {},
   "outputs": [],
   "source": [
    "training = pd.read_csv('processedTrain.csv')"
   ]
  },
  {
   "cell_type": "code",
   "execution_count": 3,
   "metadata": {},
   "outputs": [],
   "source": [
    "training.loc[training.AVERAGE_SPEED_DIFF == 'None', 'AVERAGE_SPEED_DIFF'] = '0'\n",
    "training.loc[training.AVERAGE_SPEED_DIFF == 'Low', 'AVERAGE_SPEED_DIFF'] = '1'\n",
    "training.loc[training.AVERAGE_SPEED_DIFF == 'Medium', 'AVERAGE_SPEED_DIFF'] = '2'\n",
    "training.loc[training.AVERAGE_SPEED_DIFF == 'High', 'AVERAGE_SPEED_DIFF'] = '3'\n",
    "training.loc[training.AVERAGE_SPEED_DIFF == 'Very_High', 'AVERAGE_SPEED_DIFF'] = '4'"
   ]
  },
  {
   "cell_type": "code",
   "execution_count": 4,
   "metadata": {},
   "outputs": [],
   "source": [
    "\n",
    "X = training.drop(['AVERAGE_SPEED_DIFF'],axis=1)\n",
    "y = training[['AVERAGE_SPEED_DIFF']]\n"
   ]
  },
  {
   "cell_type": "code",
   "execution_count": 5,
   "metadata": {},
   "outputs": [],
   "source": [
    "y = to_categorical(y, 5)\n"
   ]
  },
  {
   "cell_type": "code",
   "execution_count": 6,
   "metadata": {},
   "outputs": [],
   "source": [
    "scaler_X = MinMaxScaler(feature_range=(0,1)).fit(X)\n",
    "#scaler_y = MinMaxScaler(feature_range=(0,1)).fit(y)\n",
    "X_scaled = pd.DataFrame(scaler_X.transform(X[X.columns]),columns=X.columns)\n",
    "#y_scaled = pd.DataFrame(scaler_y.transform(y[y.columns]),columns=y.columns)"
   ]
  },
  {
   "cell_type": "code",
   "execution_count": 7,
   "metadata": {},
   "outputs": [],
   "source": [
    "X_train,X_test,y_train,y_test = train_test_split(X_scaled,y,test_size=0.2,random_state=2021)"
   ]
  },
  {
   "cell_type": "code",
   "execution_count": 8,
   "metadata": {},
   "outputs": [
    {
     "name": "stderr",
     "output_type": "stream",
     "text": [
      "C:\\Users\\Krow\\AppData\\Roaming\\Python\\Python38\\site-packages\\sklearn\\utils\\validation.py:67: FutureWarning: Pass classes=[0 1 2 3 4], y=[2 3 3 ... 0 0 2] as keyword args. From version 0.25 passing these as positional arguments will result in an error\n",
      "  warnings.warn(\"Pass {} as keyword args. From version 0.25 \"\n"
     ]
    }
   ],
   "source": [
    "import numpy as np\n",
    "from sklearn.utils.class_weight import compute_class_weight\n",
    "\n",
    "y_integers = np.argmax(y, axis=1)\n",
    "class_weights = compute_class_weight('balanced', np.unique(y_integers), y_integers)\n",
    "d_class_weights = dict(enumerate(class_weights))"
   ]
  },
  {
   "cell_type": "code",
   "execution_count": 9,
   "metadata": {},
   "outputs": [
    {
     "data": {
      "text/plain": [
       "{0: 0.6192727272727273,\n",
       " 1: 0.9601127554615927,\n",
       " 2: 0.8251968503937008,\n",
       " 3: 1.2816556914393227,\n",
       " 4: 2.844258872651357}"
      ]
     },
     "execution_count": 9,
     "metadata": {},
     "output_type": "execute_result"
    }
   ],
   "source": [
    "d_class_weights"
   ]
  },
  {
   "cell_type": "code",
   "execution_count": 10,
   "metadata": {},
   "outputs": [],
   "source": [
    "custom_class_weights={\n",
    " 0: 0.6192727272727273,\n",
    " 1: 1,\n",
    " 2: 1.05,\n",
    " 3: 1.3816556914393227,\n",
    " 4: 2.844258872651357}"
   ]
  },
  {
   "cell_type": "code",
   "execution_count": 11,
   "metadata": {},
   "outputs": [
    {
     "name": "stderr",
     "output_type": "stream",
     "text": [
      "C:\\Users\\Krow\\AppData\\Local\\Temp/ipykernel_7536/1285688646.py:14: DeprecationWarning: `import kerastuner` is deprecated, please use `import keras_tuner`.\n",
      "  from kerastuner.tuners import RandomSearch\n"
     ]
    }
   ],
   "source": [
    "from sklearn.metrics import f1_score\n",
    "from tensorflow.keras.optimizers import Adam\n",
    "from tensorflow.keras.optimizers import Nadam\n",
    "from tensorflow.keras.optimizers import RMSprop\n",
    "from tensorflow.keras.activations import relu\n",
    "from tensorflow.keras.activations import elu\n",
    "from tensorflow.keras.activations import sigmoid\n",
    "from tensorflow.keras.activations import softmax\n",
    "from tensorflow.keras.losses import logcosh\n",
    "from tensorflow.keras.losses import binary_crossentropy\n",
    "from tensorflow.keras.losses import categorical_crossentropy\n",
    "import keras_tuner as kt\n",
    "from keras.layers import Flatten\n",
    "from kerastuner.tuners import RandomSearch\n",
    "from kerastuner.engine.hyperparameters import HyperParameters as hp\n",
    "from keras.callbacks import EarlyStopping"
   ]
  },
  {
   "cell_type": "code",
   "execution_count": 12,
   "metadata": {},
   "outputs": [],
   "source": [
    "def model_create(hp):\n",
    "    model = tf.keras.models.Sequential()\n",
    "    model.add(Flatten(input_shape=X_train.shape[1:]))\n",
    "\n",
    "    model.add(Dense(units=hp.Int('units',\n",
    "                                  min_value=2,\n",
    "                                  max_value=64,\n",
    "                                  step=6),\n",
    "                                  activation='relu'))\n",
    "    \n",
    "    model.add(\n",
    "            Dropout(rate=hp.Float(\n",
    "                'dropout_start',\n",
    "                min_value=0.0,\n",
    "                max_value=0.5,\n",
    "                default=0.25,\n",
    "                step=0.05,\n",
    "            )))\n",
    "\n",
    "    for i in range(hp.Int('n_layers',0,2)):\n",
    "        model.add(Dense(units=hp.Int(f'conv_{i}_units',\n",
    "                                  min_value=2,\n",
    "                                  max_value=64,\n",
    "                                  step=6),\n",
    "                                  activation='relu'))\n",
    "        model.add(\n",
    "            Dropout(rate=hp.Float(\n",
    "                f'dropout_{i}',\n",
    "                min_value=0.0,\n",
    "                max_value=0.5,\n",
    "                default=0.25,\n",
    "                step=0.05,\n",
    "            )))\n",
    "                                  \n",
    "    \n",
    "\n",
    "    model.add(Dense(5,activation='softmax'))\n",
    "\n",
    "    model.compile(\n",
    "    optimizer=Adam(hp.Choice('learning_rate',\n",
    "                        values=[1e-2,1e-3,1e-4])),\n",
    "    loss='categorical_crossentropy',\n",
    "    metrics=[tf.keras.metrics.CategoricalAccuracy()])\n",
    "\n",
    "    return model             "
   ]
  },
  {
   "cell_type": "code",
   "execution_count": 13,
   "metadata": {},
   "outputs": [],
   "source": [
    "tuner = RandomSearch(\n",
    "     model_create,\n",
    "     objective='val_categorical_accuracy',\n",
    "     max_trials=40,\n",
    "     executions_per_trial=5,\n",
    "     project_name='traffic',\n",
    "     directory='/home/krow/Documents/DAA/KaggleV3',\n",
    "     overwrite = True\n",
    "     \n",
    ")"
   ]
  },
  {
   "cell_type": "code",
   "execution_count": 14,
   "metadata": {},
   "outputs": [],
   "source": [
    "#tuner.search(X_train,y_train,epochs=5,validation_split=0.2)"
   ]
  },
  {
   "cell_type": "code",
   "execution_count": 15,
   "metadata": {},
   "outputs": [],
   "source": [
    "model = tf.keras.models.Sequential([\n",
    "    tf.keras.layers.Flatten(input_shape=X_train.shape[1:]),\n",
    "    tf.keras.layers.Dense(32,activation='relu'),\n",
    "    tf.keras.layers.Dropout(0.2),\n",
    "    tf.keras.layers.Dense(16,activation='relu'),\n",
    "    tf.keras.layers.Dropout(0.2),\n",
    "    tf.keras.layers.Dense(5,activation='softmax')\n",
    "])"
   ]
  },
  {
   "cell_type": "code",
   "execution_count": 16,
   "metadata": {},
   "outputs": [],
   "source": [
    "model.compile(\n",
    "    optimizer='Adam',\n",
    "    loss='categorical_crossentropy',\n",
    "    metrics=[tf.keras.metrics.CategoricalAccuracy()]\n",
    ")"
   ]
  },
  {
   "cell_type": "code",
   "execution_count": 17,
   "metadata": {},
   "outputs": [],
   "source": [
    "#best_hps = tuner.get_best_hyperparameters(num_trials=1)[0]"
   ]
  },
  {
   "cell_type": "code",
   "execution_count": 18,
   "metadata": {},
   "outputs": [],
   "source": [
    "#model = tuner.hypermodel.build(best_hps)"
   ]
  },
  {
   "cell_type": "code",
   "execution_count": 19,
   "metadata": {},
   "outputs": [
    {
     "name": "stdout",
     "output_type": "stream",
     "text": [
      "Epoch 1/200\n",
      "171/171 [==============================] - 1s 1ms/step - loss: 1.5952 - categorical_accuracy: 0.3740 - val_loss: 1.2052 - val_categorical_accuracy: 0.5172\n",
      "Epoch 2/200\n",
      "171/171 [==============================] - 0s 848us/step - loss: 1.3455 - categorical_accuracy: 0.4595 - val_loss: 1.0246 - val_categorical_accuracy: 0.5752\n",
      "Epoch 3/200\n",
      "171/171 [==============================] - 0s 860us/step - loss: 1.1443 - categorical_accuracy: 0.5219 - val_loss: 0.8797 - val_categorical_accuracy: 0.6354\n",
      "Epoch 4/200\n",
      "171/171 [==============================] - 0s 854us/step - loss: 1.0165 - categorical_accuracy: 0.5707 - val_loss: 0.8048 - val_categorical_accuracy: 0.6691\n",
      "Epoch 5/200\n",
      "171/171 [==============================] - 0s 824us/step - loss: 0.9421 - categorical_accuracy: 0.6161 - val_loss: 0.7508 - val_categorical_accuracy: 0.7029\n",
      "Epoch 6/200\n",
      "171/171 [==============================] - 0s 813us/step - loss: 0.8862 - categorical_accuracy: 0.6328 - val_loss: 0.6904 - val_categorical_accuracy: 0.7197\n",
      "Epoch 7/200\n",
      "171/171 [==============================] - 0s 813us/step - loss: 0.8546 - categorical_accuracy: 0.6576 - val_loss: 0.6895 - val_categorical_accuracy: 0.7395\n",
      "Epoch 8/200\n",
      "171/171 [==============================] - 0s 836us/step - loss: 0.8201 - categorical_accuracy: 0.6658 - val_loss: 0.6446 - val_categorical_accuracy: 0.7439\n",
      "Epoch 9/200\n",
      "171/171 [==============================] - 0s 848us/step - loss: 0.7922 - categorical_accuracy: 0.6739 - val_loss: 0.6293 - val_categorical_accuracy: 0.7454\n",
      "Epoch 10/200\n",
      "171/171 [==============================] - 0s 854us/step - loss: 0.7572 - categorical_accuracy: 0.6954 - val_loss: 0.6070 - val_categorical_accuracy: 0.7616\n",
      "Epoch 11/200\n",
      "171/171 [==============================] - 0s 813us/step - loss: 0.7386 - categorical_accuracy: 0.7056 - val_loss: 0.5813 - val_categorical_accuracy: 0.7748\n",
      "Epoch 12/200\n",
      "171/171 [==============================] - 0s 807us/step - loss: 0.7300 - categorical_accuracy: 0.7097 - val_loss: 0.5666 - val_categorical_accuracy: 0.7755\n",
      "Epoch 13/200\n",
      "171/171 [==============================] - 0s 830us/step - loss: 0.7158 - categorical_accuracy: 0.7084 - val_loss: 0.5737 - val_categorical_accuracy: 0.7748\n",
      "Epoch 14/200\n",
      "171/171 [==============================] - 0s 830us/step - loss: 0.7072 - categorical_accuracy: 0.7212 - val_loss: 0.5558 - val_categorical_accuracy: 0.7924\n",
      "Epoch 15/200\n",
      "171/171 [==============================] - 0s 801us/step - loss: 0.7056 - categorical_accuracy: 0.7210 - val_loss: 0.5917 - val_categorical_accuracy: 0.7652\n",
      "Epoch 16/200\n",
      "171/171 [==============================] - 0s 842us/step - loss: 0.6878 - categorical_accuracy: 0.7317 - val_loss: 0.5689 - val_categorical_accuracy: 0.7711\n",
      "Epoch 17/200\n",
      "171/171 [==============================] - 0s 795us/step - loss: 0.6794 - categorical_accuracy: 0.7264 - val_loss: 0.5385 - val_categorical_accuracy: 0.7924\n",
      "Epoch 18/200\n",
      "171/171 [==============================] - 0s 795us/step - loss: 0.6793 - categorical_accuracy: 0.7302 - val_loss: 0.5360 - val_categorical_accuracy: 0.7909\n",
      "Epoch 19/200\n",
      "171/171 [==============================] - 0s 801us/step - loss: 0.6704 - categorical_accuracy: 0.7352 - val_loss: 0.5383 - val_categorical_accuracy: 0.7909\n",
      "Epoch 20/200\n",
      "171/171 [==============================] - 0s 795us/step - loss: 0.6564 - categorical_accuracy: 0.7352 - val_loss: 0.5456 - val_categorical_accuracy: 0.7799\n",
      "Epoch 21/200\n",
      "171/171 [==============================] - 0s 807us/step - loss: 0.6752 - categorical_accuracy: 0.7339 - val_loss: 0.5286 - val_categorical_accuracy: 0.7997\n",
      "Epoch 22/200\n",
      "171/171 [==============================] - 0s 836us/step - loss: 0.6525 - categorical_accuracy: 0.7442 - val_loss: 0.5399 - val_categorical_accuracy: 0.8004\n",
      "Epoch 23/200\n",
      "171/171 [==============================] - 0s 824us/step - loss: 0.6520 - categorical_accuracy: 0.7407 - val_loss: 0.5639 - val_categorical_accuracy: 0.7704\n",
      "Epoch 24/200\n",
      "171/171 [==============================] - 0s 801us/step - loss: 0.6472 - categorical_accuracy: 0.7434 - val_loss: 0.5254 - val_categorical_accuracy: 0.7982\n",
      "Epoch 25/200\n",
      "171/171 [==============================] - 0s 966us/step - loss: 0.6301 - categorical_accuracy: 0.7541 - val_loss: 0.5201 - val_categorical_accuracy: 0.7916\n",
      "Epoch 26/200\n",
      "171/171 [==============================] - 0s 801us/step - loss: 0.6398 - categorical_accuracy: 0.7532 - val_loss: 0.5220 - val_categorical_accuracy: 0.7997\n",
      "Epoch 27/200\n",
      "171/171 [==============================] - 0s 818us/step - loss: 0.6385 - categorical_accuracy: 0.7486 - val_loss: 0.5216 - val_categorical_accuracy: 0.7938\n",
      "Epoch 28/200\n",
      "171/171 [==============================] - 0s 824us/step - loss: 0.6414 - categorical_accuracy: 0.7455 - val_loss: 0.5249 - val_categorical_accuracy: 0.7953\n",
      "Epoch 29/200\n",
      "171/171 [==============================] - 0s 783us/step - loss: 0.6226 - categorical_accuracy: 0.7642 - val_loss: 0.5363 - val_categorical_accuracy: 0.7865\n",
      "Epoch 30/200\n",
      "171/171 [==============================] - 0s 807us/step - loss: 0.6294 - categorical_accuracy: 0.7563 - val_loss: 0.5114 - val_categorical_accuracy: 0.7953\n",
      "Epoch 31/200\n",
      "171/171 [==============================] - 0s 848us/step - loss: 0.6395 - categorical_accuracy: 0.7484 - val_loss: 0.5172 - val_categorical_accuracy: 0.7924\n",
      "Epoch 32/200\n",
      "171/171 [==============================] - 0s 818us/step - loss: 0.6190 - categorical_accuracy: 0.7568 - val_loss: 0.5188 - val_categorical_accuracy: 0.7887\n",
      "Epoch 33/200\n",
      "171/171 [==============================] - 0s 813us/step - loss: 0.6239 - categorical_accuracy: 0.7568 - val_loss: 0.5096 - val_categorical_accuracy: 0.7975\n",
      "Epoch 34/200\n",
      "171/171 [==============================] - 0s 807us/step - loss: 0.6221 - categorical_accuracy: 0.7524 - val_loss: 0.5259 - val_categorical_accuracy: 0.7894\n",
      "Epoch 35/200\n",
      "171/171 [==============================] - 0s 830us/step - loss: 0.6155 - categorical_accuracy: 0.7607 - val_loss: 0.5167 - val_categorical_accuracy: 0.7887\n",
      "Epoch 36/200\n",
      "171/171 [==============================] - 0s 836us/step - loss: 0.6155 - categorical_accuracy: 0.7618 - val_loss: 0.5155 - val_categorical_accuracy: 0.7931\n",
      "Epoch 37/200\n",
      "171/171 [==============================] - 0s 860us/step - loss: 0.6159 - categorical_accuracy: 0.7660 - val_loss: 0.5147 - val_categorical_accuracy: 0.7931\n",
      "Epoch 38/200\n",
      "171/171 [==============================] - 0s 789us/step - loss: 0.6069 - categorical_accuracy: 0.7662 - val_loss: 0.5161 - val_categorical_accuracy: 0.7924\n",
      "Epoch 39/200\n",
      "171/171 [==============================] - 0s 807us/step - loss: 0.6068 - categorical_accuracy: 0.7548 - val_loss: 0.5046 - val_categorical_accuracy: 0.7975\n",
      "Epoch 40/200\n",
      "171/171 [==============================] - 0s 860us/step - loss: 0.6078 - categorical_accuracy: 0.7645 - val_loss: 0.5012 - val_categorical_accuracy: 0.8004\n",
      "Epoch 41/200\n",
      "171/171 [==============================] - 0s 871us/step - loss: 0.6014 - categorical_accuracy: 0.7660 - val_loss: 0.5309 - val_categorical_accuracy: 0.7880\n",
      "Epoch 42/200\n",
      "171/171 [==============================] - 0s 830us/step - loss: 0.6036 - categorical_accuracy: 0.7611 - val_loss: 0.5137 - val_categorical_accuracy: 0.7887\n",
      "Epoch 43/200\n",
      "171/171 [==============================] - 0s 783us/step - loss: 0.5985 - categorical_accuracy: 0.7658 - val_loss: 0.5208 - val_categorical_accuracy: 0.7887\n",
      "Epoch 44/200\n",
      "171/171 [==============================] - 0s 813us/step - loss: 0.5947 - categorical_accuracy: 0.7671 - val_loss: 0.5134 - val_categorical_accuracy: 0.8012\n",
      "Epoch 45/200\n",
      "171/171 [==============================] - 0s 807us/step - loss: 0.5954 - categorical_accuracy: 0.7655 - val_loss: 0.5035 - val_categorical_accuracy: 0.7931\n",
      "Epoch 46/200\n",
      "171/171 [==============================] - 0s 895us/step - loss: 0.5942 - categorical_accuracy: 0.7616 - val_loss: 0.4997 - val_categorical_accuracy: 0.7880\n",
      "Epoch 47/200\n",
      "171/171 [==============================] - 0s 865us/step - loss: 0.6021 - categorical_accuracy: 0.7675 - val_loss: 0.4964 - val_categorical_accuracy: 0.7997\n",
      "Epoch 48/200\n",
      "171/171 [==============================] - 0s 830us/step - loss: 0.5905 - categorical_accuracy: 0.7673 - val_loss: 0.5155 - val_categorical_accuracy: 0.7887\n",
      "Epoch 49/200\n",
      "171/171 [==============================] - 0s 812us/step - loss: 0.5969 - categorical_accuracy: 0.7702 - val_loss: 0.5161 - val_categorical_accuracy: 0.7909\n",
      "Epoch 50/200\n",
      "171/171 [==============================] - 0s 830us/step - loss: 0.6008 - categorical_accuracy: 0.7636 - val_loss: 0.5473 - val_categorical_accuracy: 0.7799\n",
      "Epoch 51/200\n",
      "171/171 [==============================] - 0s 848us/step - loss: 0.5992 - categorical_accuracy: 0.7644 - val_loss: 0.5053 - val_categorical_accuracy: 0.7902\n",
      "Epoch 52/200\n",
      "171/171 [==============================] - 0s 813us/step - loss: 0.5762 - categorical_accuracy: 0.7768 - val_loss: 0.5185 - val_categorical_accuracy: 0.7960\n",
      "Epoch 53/200\n",
      "171/171 [==============================] - 0s 813us/step - loss: 0.5957 - categorical_accuracy: 0.7684 - val_loss: 0.5061 - val_categorical_accuracy: 0.7894\n",
      "Epoch 54/200\n",
      "171/171 [==============================] - 0s 783us/step - loss: 0.5839 - categorical_accuracy: 0.7783 - val_loss: 0.5082 - val_categorical_accuracy: 0.7938\n",
      "Epoch 55/200\n",
      "171/171 [==============================] - 0s 824us/step - loss: 0.5919 - categorical_accuracy: 0.7723 - val_loss: 0.4934 - val_categorical_accuracy: 0.7990\n",
      "Epoch 56/200\n",
      "171/171 [==============================] - 0s 807us/step - loss: 0.5788 - categorical_accuracy: 0.7741 - val_loss: 0.5225 - val_categorical_accuracy: 0.7887\n",
      "Epoch 57/200\n",
      "171/171 [==============================] - 0s 795us/step - loss: 0.5824 - categorical_accuracy: 0.7739 - val_loss: 0.5009 - val_categorical_accuracy: 0.7968\n",
      "Epoch 58/200\n",
      "171/171 [==============================] - 0s 848us/step - loss: 0.5869 - categorical_accuracy: 0.7710 - val_loss: 0.5140 - val_categorical_accuracy: 0.7968\n",
      "Epoch 59/200\n",
      "171/171 [==============================] - 0s 836us/step - loss: 0.5654 - categorical_accuracy: 0.7809 - val_loss: 0.4975 - val_categorical_accuracy: 0.7902\n",
      "Epoch 60/200\n",
      "171/171 [==============================] - 0s 789us/step - loss: 0.5853 - categorical_accuracy: 0.7710 - val_loss: 0.4994 - val_categorical_accuracy: 0.7946\n",
      "Epoch 61/200\n",
      "171/171 [==============================] - 0s 807us/step - loss: 0.5762 - categorical_accuracy: 0.7739 - val_loss: 0.4940 - val_categorical_accuracy: 0.7990\n",
      "Epoch 62/200\n",
      "171/171 [==============================] - 0s 824us/step - loss: 0.5777 - categorical_accuracy: 0.7723 - val_loss: 0.5088 - val_categorical_accuracy: 0.7814\n",
      "Epoch 63/200\n",
      "171/171 [==============================] - 0s 848us/step - loss: 0.5777 - categorical_accuracy: 0.7737 - val_loss: 0.5165 - val_categorical_accuracy: 0.7865\n",
      "Epoch 64/200\n",
      "171/171 [==============================] - 0s 795us/step - loss: 0.5826 - categorical_accuracy: 0.7708 - val_loss: 0.4959 - val_categorical_accuracy: 0.7938\n",
      "Epoch 65/200\n",
      "171/171 [==============================] - 0s 807us/step - loss: 0.5754 - categorical_accuracy: 0.7739 - val_loss: 0.4932 - val_categorical_accuracy: 0.7982\n",
      "Epoch 66/200\n",
      "171/171 [==============================] - 0s 854us/step - loss: 0.5684 - categorical_accuracy: 0.7730 - val_loss: 0.4913 - val_categorical_accuracy: 0.8019\n",
      "Epoch 67/200\n",
      "171/171 [==============================] - 0s 807us/step - loss: 0.5673 - categorical_accuracy: 0.7836 - val_loss: 0.5230 - val_categorical_accuracy: 0.7946\n",
      "Epoch 68/200\n",
      "171/171 [==============================] - 0s 771us/step - loss: 0.5670 - categorical_accuracy: 0.7820 - val_loss: 0.5010 - val_categorical_accuracy: 0.7938\n",
      "Epoch 69/200\n",
      "171/171 [==============================] - 0s 836us/step - loss: 0.5675 - categorical_accuracy: 0.7776 - val_loss: 0.4924 - val_categorical_accuracy: 0.7960\n",
      "Epoch 70/200\n",
      "171/171 [==============================] - 0s 824us/step - loss: 0.5528 - categorical_accuracy: 0.7836 - val_loss: 0.4964 - val_categorical_accuracy: 0.7960\n",
      "Epoch 71/200\n",
      "171/171 [==============================] - 0s 818us/step - loss: 0.5660 - categorical_accuracy: 0.7789 - val_loss: 0.5003 - val_categorical_accuracy: 0.7865\n",
      "Epoch 72/200\n",
      "171/171 [==============================] - 0s 913us/step - loss: 0.5628 - categorical_accuracy: 0.7851 - val_loss: 0.4873 - val_categorical_accuracy: 0.7938\n",
      "Epoch 73/200\n",
      "171/171 [==============================] - 0s 812us/step - loss: 0.5648 - categorical_accuracy: 0.7822 - val_loss: 0.4897 - val_categorical_accuracy: 0.7968\n",
      "Epoch 74/200\n",
      "171/171 [==============================] - 0s 818us/step - loss: 0.5573 - categorical_accuracy: 0.7879 - val_loss: 0.5209 - val_categorical_accuracy: 0.7894\n",
      "Epoch 75/200\n",
      "171/171 [==============================] - 0s 848us/step - loss: 0.5646 - categorical_accuracy: 0.7818 - val_loss: 0.4974 - val_categorical_accuracy: 0.7938\n",
      "Epoch 76/200\n",
      "171/171 [==============================] - 0s 836us/step - loss: 0.5559 - categorical_accuracy: 0.7790 - val_loss: 0.4836 - val_categorical_accuracy: 0.7960\n",
      "Epoch 77/200\n",
      "171/171 [==============================] - 0s 830us/step - loss: 0.5575 - categorical_accuracy: 0.7757 - val_loss: 0.4863 - val_categorical_accuracy: 0.7990\n",
      "Epoch 78/200\n",
      "171/171 [==============================] - 0s 830us/step - loss: 0.5612 - categorical_accuracy: 0.7726 - val_loss: 0.4862 - val_categorical_accuracy: 0.7968\n",
      "Epoch 79/200\n",
      "171/171 [==============================] - 0s 783us/step - loss: 0.5595 - categorical_accuracy: 0.7818 - val_loss: 0.4850 - val_categorical_accuracy: 0.8004\n",
      "Epoch 80/200\n",
      "171/171 [==============================] - 0s 801us/step - loss: 0.5527 - categorical_accuracy: 0.7812 - val_loss: 0.4909 - val_categorical_accuracy: 0.7938\n",
      "Epoch 81/200\n",
      "171/171 [==============================] - 0s 842us/step - loss: 0.5530 - categorical_accuracy: 0.7805 - val_loss: 0.4955 - val_categorical_accuracy: 0.7960\n",
      "Epoch 82/200\n",
      "171/171 [==============================] - 0s 942us/step - loss: 0.5516 - categorical_accuracy: 0.7849 - val_loss: 0.4891 - val_categorical_accuracy: 0.7960\n",
      "Epoch 83/200\n",
      "171/171 [==============================] - 0s 807us/step - loss: 0.5560 - categorical_accuracy: 0.7902 - val_loss: 0.4877 - val_categorical_accuracy: 0.7990\n",
      "Epoch 84/200\n",
      "171/171 [==============================] - 0s 777us/step - loss: 0.5509 - categorical_accuracy: 0.7818 - val_loss: 0.4907 - val_categorical_accuracy: 0.7968\n",
      "Epoch 85/200\n",
      "171/171 [==============================] - 0s 813us/step - loss: 0.5585 - categorical_accuracy: 0.7781 - val_loss: 0.4864 - val_categorical_accuracy: 0.7931\n",
      "Epoch 86/200\n",
      "171/171 [==============================] - 0s 860us/step - loss: 0.5615 - categorical_accuracy: 0.7803 - val_loss: 0.4849 - val_categorical_accuracy: 0.7997\n",
      "Epoch 87/200\n",
      "171/171 [==============================] - 0s 824us/step - loss: 0.5506 - categorical_accuracy: 0.7805 - val_loss: 0.4895 - val_categorical_accuracy: 0.7982\n",
      "Epoch 88/200\n",
      "171/171 [==============================] - 0s 830us/step - loss: 0.5586 - categorical_accuracy: 0.7833 - val_loss: 0.4884 - val_categorical_accuracy: 0.7990\n",
      "Epoch 89/200\n",
      "171/171 [==============================] - 0s 854us/step - loss: 0.5506 - categorical_accuracy: 0.7787 - val_loss: 0.4870 - val_categorical_accuracy: 0.7931\n",
      "Epoch 90/200\n",
      "171/171 [==============================] - 0s 842us/step - loss: 0.5458 - categorical_accuracy: 0.7842 - val_loss: 0.4836 - val_categorical_accuracy: 0.7968\n",
      "Epoch 91/200\n",
      "171/171 [==============================] - 0s 813us/step - loss: 0.5465 - categorical_accuracy: 0.7886 - val_loss: 0.5010 - val_categorical_accuracy: 0.7850\n",
      "Epoch 92/200\n",
      "171/171 [==============================] - 0s 789us/step - loss: 0.5386 - categorical_accuracy: 0.7919 - val_loss: 0.4979 - val_categorical_accuracy: 0.7982\n",
      "Epoch 93/200\n",
      "171/171 [==============================] - 0s 789us/step - loss: 0.5476 - categorical_accuracy: 0.7886 - val_loss: 0.4812 - val_categorical_accuracy: 0.7924\n",
      "Epoch 94/200\n",
      "171/171 [==============================] - 0s 783us/step - loss: 0.5438 - categorical_accuracy: 0.7833 - val_loss: 0.4953 - val_categorical_accuracy: 0.7858\n",
      "Epoch 95/200\n",
      "171/171 [==============================] - 0s 795us/step - loss: 0.5407 - categorical_accuracy: 0.7847 - val_loss: 0.4798 - val_categorical_accuracy: 0.7997\n",
      "Epoch 96/200\n",
      "171/171 [==============================] - 0s 777us/step - loss: 0.5495 - categorical_accuracy: 0.7834 - val_loss: 0.4861 - val_categorical_accuracy: 0.7887\n",
      "Epoch 97/200\n",
      "171/171 [==============================] - 0s 813us/step - loss: 0.5527 - categorical_accuracy: 0.7779 - val_loss: 0.5092 - val_categorical_accuracy: 0.7880\n",
      "Epoch 98/200\n",
      "171/171 [==============================] - 0s 842us/step - loss: 0.5399 - categorical_accuracy: 0.7855 - val_loss: 0.4820 - val_categorical_accuracy: 0.8004\n",
      "Epoch 99/200\n",
      "171/171 [==============================] - 0s 860us/step - loss: 0.5463 - categorical_accuracy: 0.7820 - val_loss: 0.4823 - val_categorical_accuracy: 0.7902\n",
      "Epoch 100/200\n",
      "171/171 [==============================] - 0s 860us/step - loss: 0.5350 - categorical_accuracy: 0.7877 - val_loss: 0.4844 - val_categorical_accuracy: 0.7938\n",
      "Epoch 101/200\n",
      "171/171 [==============================] - 0s 789us/step - loss: 0.5287 - categorical_accuracy: 0.7899 - val_loss: 0.4854 - val_categorical_accuracy: 0.7924\n",
      "Epoch 102/200\n",
      "171/171 [==============================] - 0s 789us/step - loss: 0.5425 - categorical_accuracy: 0.7831 - val_loss: 0.4744 - val_categorical_accuracy: 0.8012\n",
      "Epoch 103/200\n",
      "171/171 [==============================] - 0s 795us/step - loss: 0.5328 - categorical_accuracy: 0.7884 - val_loss: 0.4849 - val_categorical_accuracy: 0.7931\n",
      "Epoch 104/200\n",
      "171/171 [==============================] - 0s 818us/step - loss: 0.5362 - categorical_accuracy: 0.7915 - val_loss: 0.4788 - val_categorical_accuracy: 0.7960\n",
      "Epoch 105/200\n",
      "171/171 [==============================] - 0s 836us/step - loss: 0.5483 - categorical_accuracy: 0.7879 - val_loss: 0.4835 - val_categorical_accuracy: 0.7865\n",
      "Epoch 106/200\n",
      "171/171 [==============================] - 0s 801us/step - loss: 0.5386 - categorical_accuracy: 0.7906 - val_loss: 0.4787 - val_categorical_accuracy: 0.7931\n",
      "Epoch 107/200\n",
      "171/171 [==============================] - 0s 789us/step - loss: 0.5404 - categorical_accuracy: 0.7880 - val_loss: 0.4825 - val_categorical_accuracy: 0.7990\n",
      "Epoch 108/200\n",
      "171/171 [==============================] - 0s 789us/step - loss: 0.5383 - categorical_accuracy: 0.7875 - val_loss: 0.4741 - val_categorical_accuracy: 0.7990\n",
      "Epoch 109/200\n",
      "171/171 [==============================] - 0s 783us/step - loss: 0.5241 - categorical_accuracy: 0.7961 - val_loss: 0.4742 - val_categorical_accuracy: 0.8004\n",
      "Epoch 110/200\n",
      "171/171 [==============================] - 0s 789us/step - loss: 0.5430 - categorical_accuracy: 0.7948 - val_loss: 0.4770 - val_categorical_accuracy: 0.7938\n",
      "Epoch 111/200\n",
      "171/171 [==============================] - 0s 783us/step - loss: 0.5356 - categorical_accuracy: 0.7908 - val_loss: 0.4735 - val_categorical_accuracy: 0.7946\n",
      "Epoch 112/200\n",
      "171/171 [==============================] - 0s 771us/step - loss: 0.5330 - categorical_accuracy: 0.7915 - val_loss: 0.4830 - val_categorical_accuracy: 0.7909\n",
      "Epoch 113/200\n",
      "171/171 [==============================] - 0s 818us/step - loss: 0.5376 - categorical_accuracy: 0.7888 - val_loss: 0.4866 - val_categorical_accuracy: 0.7916\n",
      "Epoch 114/200\n",
      "171/171 [==============================] - 0s 842us/step - loss: 0.5219 - categorical_accuracy: 0.7858 - val_loss: 0.4829 - val_categorical_accuracy: 0.7909\n",
      "Epoch 115/200\n",
      "171/171 [==============================] - 0s 795us/step - loss: 0.5335 - categorical_accuracy: 0.7912 - val_loss: 0.4832 - val_categorical_accuracy: 0.7858\n",
      "Epoch 116/200\n",
      "171/171 [==============================] - 0s 789us/step - loss: 0.5437 - categorical_accuracy: 0.7882 - val_loss: 0.4743 - val_categorical_accuracy: 0.7887\n",
      "Epoch 117/200\n",
      "171/171 [==============================] - 0s 783us/step - loss: 0.5413 - categorical_accuracy: 0.7851 - val_loss: 0.4887 - val_categorical_accuracy: 0.7836\n",
      "Epoch 118/200\n",
      "171/171 [==============================] - 0s 783us/step - loss: 0.5372 - categorical_accuracy: 0.7809 - val_loss: 0.4736 - val_categorical_accuracy: 0.7946\n",
      "Epoch 119/200\n",
      "171/171 [==============================] - 0s 795us/step - loss: 0.5351 - categorical_accuracy: 0.7915 - val_loss: 0.4710 - val_categorical_accuracy: 0.7946\n",
      "Epoch 120/200\n",
      "171/171 [==============================] - 0s 830us/step - loss: 0.5270 - categorical_accuracy: 0.7950 - val_loss: 0.4700 - val_categorical_accuracy: 0.7968\n",
      "Epoch 121/200\n",
      "171/171 [==============================] - 0s 848us/step - loss: 0.5275 - categorical_accuracy: 0.7945 - val_loss: 0.4763 - val_categorical_accuracy: 0.7960\n",
      "Epoch 122/200\n",
      "171/171 [==============================] - 0s 854us/step - loss: 0.5207 - categorical_accuracy: 0.7957 - val_loss: 0.4767 - val_categorical_accuracy: 0.7902\n",
      "Epoch 123/200\n",
      "171/171 [==============================] - 0s 807us/step - loss: 0.5257 - categorical_accuracy: 0.7932 - val_loss: 0.4703 - val_categorical_accuracy: 0.7990\n",
      "Epoch 124/200\n",
      "171/171 [==============================] - 0s 807us/step - loss: 0.5335 - categorical_accuracy: 0.7934 - val_loss: 0.4685 - val_categorical_accuracy: 0.7960\n",
      "Epoch 125/200\n",
      "171/171 [==============================] - 0s 801us/step - loss: 0.5158 - categorical_accuracy: 0.7923 - val_loss: 0.4853 - val_categorical_accuracy: 0.7858\n",
      "Epoch 126/200\n",
      "171/171 [==============================] - 0s 813us/step - loss: 0.5322 - categorical_accuracy: 0.7871 - val_loss: 0.4740 - val_categorical_accuracy: 0.7960\n",
      "Epoch 127/200\n",
      "171/171 [==============================] - 0s 813us/step - loss: 0.5228 - categorical_accuracy: 0.7932 - val_loss: 0.4939 - val_categorical_accuracy: 0.7872\n",
      "Epoch 128/200\n",
      "171/171 [==============================] - 0s 795us/step - loss: 0.5245 - categorical_accuracy: 0.7959 - val_loss: 0.4693 - val_categorical_accuracy: 0.7887\n",
      "Epoch 129/200\n",
      "171/171 [==============================] - 0s 812us/step - loss: 0.5245 - categorical_accuracy: 0.7948 - val_loss: 0.4724 - val_categorical_accuracy: 0.7990\n",
      "Epoch 130/200\n",
      "171/171 [==============================] - 0s 983us/step - loss: 0.5209 - categorical_accuracy: 0.7886 - val_loss: 0.4964 - val_categorical_accuracy: 0.7821\n",
      "Epoch 131/200\n",
      "171/171 [==============================] - 0s 865us/step - loss: 0.5355 - categorical_accuracy: 0.7849 - val_loss: 0.4811 - val_categorical_accuracy: 0.7916\n",
      "Epoch 132/200\n",
      "171/171 [==============================] - 0s 807us/step - loss: 0.5210 - categorical_accuracy: 0.7937 - val_loss: 0.4757 - val_categorical_accuracy: 0.7975\n",
      "Epoch 133/200\n",
      "171/171 [==============================] - 0s 818us/step - loss: 0.5142 - categorical_accuracy: 0.7961 - val_loss: 0.4755 - val_categorical_accuracy: 0.7953\n",
      "Epoch 134/200\n",
      "171/171 [==============================] - 0s 801us/step - loss: 0.5257 - categorical_accuracy: 0.7919 - val_loss: 0.4897 - val_categorical_accuracy: 0.7814\n",
      "Epoch 135/200\n",
      "171/171 [==============================] - 0s 807us/step - loss: 0.5241 - categorical_accuracy: 0.7939 - val_loss: 0.4725 - val_categorical_accuracy: 0.7975\n",
      "Epoch 136/200\n",
      "171/171 [==============================] - 0s 807us/step - loss: 0.5282 - categorical_accuracy: 0.7899 - val_loss: 0.4744 - val_categorical_accuracy: 0.7953\n",
      "Epoch 137/200\n",
      "171/171 [==============================] - 0s 807us/step - loss: 0.5231 - categorical_accuracy: 0.7888 - val_loss: 0.4749 - val_categorical_accuracy: 0.7953\n",
      "Epoch 138/200\n",
      "171/171 [==============================] - 0s 807us/step - loss: 0.5175 - categorical_accuracy: 0.7926 - val_loss: 0.4714 - val_categorical_accuracy: 0.7931\n",
      "Epoch 139/200\n",
      "171/171 [==============================] - 0s 801us/step - loss: 0.5239 - categorical_accuracy: 0.7945 - val_loss: 0.4744 - val_categorical_accuracy: 0.7850\n",
      "Epoch 140/200\n",
      "171/171 [==============================] - 0s 818us/step - loss: 0.5264 - categorical_accuracy: 0.7921 - val_loss: 0.4963 - val_categorical_accuracy: 0.7762\n",
      "Epoch 141/200\n",
      "171/171 [==============================] - 0s 818us/step - loss: 0.5205 - categorical_accuracy: 0.7950 - val_loss: 0.4724 - val_categorical_accuracy: 0.7931\n",
      "Epoch 142/200\n",
      "171/171 [==============================] - 0s 836us/step - loss: 0.5176 - categorical_accuracy: 0.7910 - val_loss: 0.4742 - val_categorical_accuracy: 0.7902\n",
      "Epoch 143/200\n",
      "171/171 [==============================] - 0s 818us/step - loss: 0.5050 - categorical_accuracy: 0.8011 - val_loss: 0.4754 - val_categorical_accuracy: 0.7836\n",
      "Epoch 144/200\n",
      "171/171 [==============================] - 0s 795us/step - loss: 0.5264 - categorical_accuracy: 0.7967 - val_loss: 0.4726 - val_categorical_accuracy: 0.7909\n",
      "Epoch 145/200\n",
      "171/171 [==============================] - 0s 830us/step - loss: 0.5184 - categorical_accuracy: 0.7910 - val_loss: 0.4772 - val_categorical_accuracy: 0.7836\n",
      "Epoch 146/200\n",
      "171/171 [==============================] - 0s 877us/step - loss: 0.5219 - categorical_accuracy: 0.7943 - val_loss: 0.4905 - val_categorical_accuracy: 0.7865\n",
      "Epoch 147/200\n",
      "171/171 [==============================] - 0s 818us/step - loss: 0.5201 - categorical_accuracy: 0.7990 - val_loss: 0.4927 - val_categorical_accuracy: 0.7880\n",
      "Epoch 148/200\n",
      "171/171 [==============================] - 0s 824us/step - loss: 0.5203 - categorical_accuracy: 0.7941 - val_loss: 0.4939 - val_categorical_accuracy: 0.7938\n",
      "Epoch 149/200\n",
      "171/171 [==============================] - 0s 865us/step - loss: 0.5174 - categorical_accuracy: 0.7935 - val_loss: 0.4807 - val_categorical_accuracy: 0.7850\n",
      "Epoch 150/200\n",
      "171/171 [==============================] - 0s 807us/step - loss: 0.5216 - categorical_accuracy: 0.7915 - val_loss: 0.4927 - val_categorical_accuracy: 0.7821\n",
      "Epoch 151/200\n",
      "171/171 [==============================] - 0s 824us/step - loss: 0.5206 - categorical_accuracy: 0.7932 - val_loss: 0.4765 - val_categorical_accuracy: 0.7880\n",
      "Epoch 152/200\n",
      "171/171 [==============================] - 0s 813us/step - loss: 0.5186 - categorical_accuracy: 0.7937 - val_loss: 0.4725 - val_categorical_accuracy: 0.7858\n",
      "Epoch 153/200\n",
      "171/171 [==============================] - 0s 801us/step - loss: 0.5260 - categorical_accuracy: 0.7912 - val_loss: 0.4903 - val_categorical_accuracy: 0.7799\n",
      "Epoch 154/200\n",
      "171/171 [==============================] - 0s 795us/step - loss: 0.5225 - categorical_accuracy: 0.7985 - val_loss: 0.4831 - val_categorical_accuracy: 0.7902\n",
      "Epoch 155/200\n",
      "171/171 [==============================] - 0s 795us/step - loss: 0.5133 - categorical_accuracy: 0.7954 - val_loss: 0.4738 - val_categorical_accuracy: 0.7938\n",
      "Epoch 156/200\n",
      "171/171 [==============================] - 0s 801us/step - loss: 0.5193 - categorical_accuracy: 0.7928 - val_loss: 0.4694 - val_categorical_accuracy: 0.7902\n",
      "Epoch 157/200\n",
      "171/171 [==============================] - 0s 807us/step - loss: 0.5103 - categorical_accuracy: 0.7972 - val_loss: 0.4738 - val_categorical_accuracy: 0.7887\n",
      "Epoch 158/200\n",
      "171/171 [==============================] - 0s 801us/step - loss: 0.5159 - categorical_accuracy: 0.7994 - val_loss: 0.4768 - val_categorical_accuracy: 0.7924\n",
      "Epoch 159/200\n",
      "171/171 [==============================] - 0s 795us/step - loss: 0.5216 - categorical_accuracy: 0.7943 - val_loss: 0.4713 - val_categorical_accuracy: 0.7990\n",
      "Epoch 160/200\n",
      "171/171 [==============================] - 0s 801us/step - loss: 0.5168 - categorical_accuracy: 0.7926 - val_loss: 0.5014 - val_categorical_accuracy: 0.7799\n",
      "Epoch 161/200\n",
      "171/171 [==============================] - 0s 795us/step - loss: 0.5222 - categorical_accuracy: 0.7963 - val_loss: 0.4932 - val_categorical_accuracy: 0.7784\n",
      "Epoch 162/200\n",
      "171/171 [==============================] - 0s 801us/step - loss: 0.5152 - categorical_accuracy: 0.7924 - val_loss: 0.4962 - val_categorical_accuracy: 0.7755\n",
      "Epoch 163/200\n",
      "171/171 [==============================] - 0s 801us/step - loss: 0.5226 - categorical_accuracy: 0.7879 - val_loss: 0.4876 - val_categorical_accuracy: 0.7836\n",
      "Epoch 164/200\n",
      "171/171 [==============================] - 0s 795us/step - loss: 0.5206 - categorical_accuracy: 0.7985 - val_loss: 0.4777 - val_categorical_accuracy: 0.7865\n",
      "Epoch 165/200\n",
      "171/171 [==============================] - 0s 795us/step - loss: 0.5140 - categorical_accuracy: 0.7985 - val_loss: 0.4764 - val_categorical_accuracy: 0.7924\n",
      "Epoch 166/200\n",
      "171/171 [==============================] - 0s 795us/step - loss: 0.5060 - categorical_accuracy: 0.7972 - val_loss: 0.4776 - val_categorical_accuracy: 0.7850\n",
      "Epoch 167/200\n",
      "171/171 [==============================] - 0s 795us/step - loss: 0.5138 - categorical_accuracy: 0.7946 - val_loss: 0.4748 - val_categorical_accuracy: 0.7880\n",
      "Epoch 168/200\n",
      "171/171 [==============================] - 0s 795us/step - loss: 0.5048 - categorical_accuracy: 0.7967 - val_loss: 0.4779 - val_categorical_accuracy: 0.7843\n",
      "Epoch 169/200\n",
      "171/171 [==============================] - 0s 795us/step - loss: 0.5134 - categorical_accuracy: 0.7954 - val_loss: 0.4836 - val_categorical_accuracy: 0.7872\n",
      "Epoch 170/200\n",
      "171/171 [==============================] - 0s 795us/step - loss: 0.5195 - categorical_accuracy: 0.7979 - val_loss: 0.4808 - val_categorical_accuracy: 0.7836\n",
      "Epoch 171/200\n",
      "171/171 [==============================] - 0s 795us/step - loss: 0.5120 - categorical_accuracy: 0.7923 - val_loss: 0.4766 - val_categorical_accuracy: 0.7909\n",
      "Epoch 172/200\n",
      "171/171 [==============================] - 0s 801us/step - loss: 0.5086 - categorical_accuracy: 0.7972 - val_loss: 0.5092 - val_categorical_accuracy: 0.7733\n",
      "Epoch 173/200\n",
      "171/171 [==============================] - 0s 789us/step - loss: 0.5060 - categorical_accuracy: 0.8023 - val_loss: 0.4709 - val_categorical_accuracy: 0.7953\n",
      "Epoch 174/200\n",
      "171/171 [==============================] - 0s 783us/step - loss: 0.5131 - categorical_accuracy: 0.7992 - val_loss: 0.4723 - val_categorical_accuracy: 0.7938\n",
      "Epoch 175/200\n",
      "171/171 [==============================] - 0s 801us/step - loss: 0.5127 - categorical_accuracy: 0.7934 - val_loss: 0.4937 - val_categorical_accuracy: 0.7814\n",
      "Epoch 176/200\n",
      "171/171 [==============================] - 0s 795us/step - loss: 0.5070 - categorical_accuracy: 0.8007 - val_loss: 0.4740 - val_categorical_accuracy: 0.7872\n",
      "Epoch 177/200\n",
      "171/171 [==============================] - 0s 795us/step - loss: 0.5068 - categorical_accuracy: 0.7961 - val_loss: 0.4839 - val_categorical_accuracy: 0.7982\n",
      "Epoch 178/200\n",
      "171/171 [==============================] - 0s 795us/step - loss: 0.5100 - categorical_accuracy: 0.8003 - val_loss: 0.4707 - val_categorical_accuracy: 0.7916\n",
      "Epoch 179/200\n",
      "171/171 [==============================] - 0s 795us/step - loss: 0.5086 - categorical_accuracy: 0.7956 - val_loss: 0.4767 - val_categorical_accuracy: 0.7821\n",
      "Epoch 180/200\n",
      "171/171 [==============================] - 0s 789us/step - loss: 0.5049 - categorical_accuracy: 0.7941 - val_loss: 0.4734 - val_categorical_accuracy: 0.8004\n",
      "Epoch 181/200\n",
      "171/171 [==============================] - 0s 936us/step - loss: 0.5000 - categorical_accuracy: 0.8014 - val_loss: 0.4779 - val_categorical_accuracy: 0.7946\n",
      "Epoch 182/200\n",
      "171/171 [==============================] - 0s 789us/step - loss: 0.5142 - categorical_accuracy: 0.7948 - val_loss: 0.4698 - val_categorical_accuracy: 0.7909\n",
      "Epoch 183/200\n",
      "171/171 [==============================] - 0s 789us/step - loss: 0.5128 - categorical_accuracy: 0.7910 - val_loss: 0.4730 - val_categorical_accuracy: 0.7887\n",
      "Epoch 184/200\n",
      "171/171 [==============================] - 0s 789us/step - loss: 0.5024 - categorical_accuracy: 0.7998 - val_loss: 0.4872 - val_categorical_accuracy: 0.7777\n",
      "Epoch 185/200\n",
      "171/171 [==============================] - 0s 789us/step - loss: 0.5144 - categorical_accuracy: 0.7879 - val_loss: 0.4704 - val_categorical_accuracy: 0.7931\n",
      "Epoch 186/200\n",
      "171/171 [==============================] - 0s 795us/step - loss: 0.5049 - categorical_accuracy: 0.7961 - val_loss: 0.4867 - val_categorical_accuracy: 0.7836\n",
      "Epoch 187/200\n",
      "171/171 [==============================] - 0s 789us/step - loss: 0.5016 - categorical_accuracy: 0.8001 - val_loss: 0.4750 - val_categorical_accuracy: 0.7850\n",
      "Epoch 188/200\n",
      "171/171 [==============================] - 0s 789us/step - loss: 0.5167 - categorical_accuracy: 0.7939 - val_loss: 0.4785 - val_categorical_accuracy: 0.7894\n",
      "Epoch 189/200\n",
      "171/171 [==============================] - 0s 795us/step - loss: 0.5100 - categorical_accuracy: 0.7981 - val_loss: 0.4738 - val_categorical_accuracy: 0.7887\n",
      "Epoch 190/200\n",
      "171/171 [==============================] - 0s 789us/step - loss: 0.5118 - categorical_accuracy: 0.7934 - val_loss: 0.4694 - val_categorical_accuracy: 0.7909\n",
      "Epoch 191/200\n",
      "171/171 [==============================] - 0s 813us/step - loss: 0.4995 - categorical_accuracy: 0.8018 - val_loss: 0.4697 - val_categorical_accuracy: 0.7887\n",
      "Epoch 192/200\n",
      "171/171 [==============================] - 0s 836us/step - loss: 0.5030 - categorical_accuracy: 0.7992 - val_loss: 0.4745 - val_categorical_accuracy: 0.7894\n",
      "Epoch 193/200\n",
      "171/171 [==============================] - 0s 813us/step - loss: 0.5081 - categorical_accuracy: 0.7974 - val_loss: 0.4717 - val_categorical_accuracy: 0.7953\n",
      "Epoch 194/200\n",
      "171/171 [==============================] - 0s 818us/step - loss: 0.4995 - categorical_accuracy: 0.8012 - val_loss: 0.4764 - val_categorical_accuracy: 0.7894\n",
      "Epoch 195/200\n",
      "171/171 [==============================] - 0s 795us/step - loss: 0.5065 - categorical_accuracy: 0.7937 - val_loss: 0.4749 - val_categorical_accuracy: 0.7894\n",
      "Epoch 196/200\n",
      "171/171 [==============================] - 0s 789us/step - loss: 0.5104 - categorical_accuracy: 0.7932 - val_loss: 0.4773 - val_categorical_accuracy: 0.7953\n",
      "Epoch 197/200\n",
      "171/171 [==============================] - 0s 795us/step - loss: 0.5133 - categorical_accuracy: 0.7917 - val_loss: 0.4833 - val_categorical_accuracy: 0.7770\n",
      "Epoch 198/200\n",
      "171/171 [==============================] - 0s 977us/step - loss: 0.5053 - categorical_accuracy: 0.7935 - val_loss: 0.4741 - val_categorical_accuracy: 0.7887\n",
      "Epoch 199/200\n",
      "171/171 [==============================] - 0s 807us/step - loss: 0.5049 - categorical_accuracy: 0.7978 - val_loss: 0.4851 - val_categorical_accuracy: 0.7821\n",
      "Epoch 200/200\n",
      "171/171 [==============================] - 0s 795us/step - loss: 0.5059 - categorical_accuracy: 0.7974 - val_loss: 0.4817 - val_categorical_accuracy: 0.7836\n"
     ]
    }
   ],
   "source": [
    "history = model.fit(X_train,y_train,validation_data=(X_test,y_test), epochs=200,class_weight=custom_class_weights)"
   ]
  },
  {
   "cell_type": "code",
   "execution_count": 20,
   "metadata": {},
   "outputs": [
    {
     "data": {
      "image/png": "[encoded data removed]",
      "text/plain": [
       "<Figure size 432x288 with 1 Axes>"
      ]
     },
     "metadata": {
      "needs_background": "light"
     },
     "output_type": "display_data"
    }
   ],
   "source": [
    "# summarize history for accuracy\n",
    "plt.plot(history.history['categorical_accuracy'])\n",
    "plt.plot(history.history['val_categorical_accuracy'])\n",
    "plt.title('model accuracy')\n",
    "plt.ylabel('accuracy')\n",
    "plt.xlabel('epoch')\n",
    "plt.legend(['train', 'test'], loc='upper left')\n",
    "plt.show()"
   ]
  },
  {
   "cell_type": "code",
   "execution_count": 21,
   "metadata": {},
   "outputs": [
    {
     "data": {
      "image/png": "[encoded data removed]",
      "text/plain": [
       "<Figure size 432x288 with 1 Axes>"
      ]
     },
     "metadata": {
      "needs_background": "light"
     },
     "output_type": "display_data"
    }
   ],
   "source": [
    "# summarize history for loss\n",
    "plt.plot(history.history['loss'])\n",
    "plt.plot(history.history['val_loss'])\n",
    "plt.title('model loss')\n",
    "plt.ylabel('loss')\n",
    "plt.xlabel('epoch')\n",
    "plt.legend(['train', 'test'], loc='upper left')\n",
    "plt.show()"
   ]
  },
  {
   "cell_type": "code",
   "execution_count": 22,
   "metadata": {},
   "outputs": [
    {
     "name": "stdout",
     "output_type": "stream",
     "text": [
      "43/43 [==============================] - 0s 429us/step - loss: 0.4817 - categorical_accuracy: 0.7836\n",
      "test loss, test accuracy [0.48171642422676086, 0.7835656404495239]\n"
     ]
    }
   ],
   "source": [
    "evaluation = model.evaluate(X_test,y_test)\n",
    "print('test loss, test accuracy',evaluation)"
   ]
  },
  {
   "cell_type": "code",
   "execution_count": 23,
   "metadata": {},
   "outputs": [],
   "source": [
    "predictions = model.predict(X_test)"
   ]
  },
  {
   "cell_type": "code",
   "execution_count": 25,
   "metadata": {},
   "outputs": [
    {
     "data": {
      "image/png": "[encoded data removed]",
      "text/plain": [
       "<Figure size 720x720 with 2 Axes>"
      ]
     },
     "metadata": {
      "needs_background": "light"
     },
     "output_type": "display_data"
    }
   ],
   "source": [
    "from sklearn.metrics import ConfusionMatrixDisplay,confusion_matrix\n",
    "matrix = confusion_matrix(y_test.argmax(axis=1), predictions.argmax(axis=1))\n",
    "cmn = matrix.astype('float') / matrix.sum(axis=1)[:, np.newaxis]\n",
    "disp = ConfusionMatrixDisplay(confusion_matrix=cmn)\n",
    "fig, ax = plt.subplots(figsize=(10, 10))\n",
    "plt.ylabel('Actual')\n",
    "plt.xlabel('Predicted')\n",
    "disp.plot(ax = ax)\n",
    "plt.show()"
   ]
  },
  {
   "cell_type": "code",
   "execution_count": null,
   "metadata": {},
   "outputs": [],
   "source": [
    "testing = pd.read_csv('processedTest.csv')"
   ]
  },
  {
   "cell_type": "code",
   "execution_count": null,
   "metadata": {},
   "outputs": [],
   "source": [
    "testing_scaled = pd.DataFrame(scaler_X.transform(testing[testing.columns]),columns=testing.columns)"
   ]
  },
  {
   "cell_type": "code",
   "execution_count": null,
   "metadata": {},
   "outputs": [],
   "source": [
    "predict_x=model.predict(testing_scaled) \n",
    "classes_x=np.argmax(predict_x,axis=1)"
   ]
  },
  {
   "cell_type": "code",
   "execution_count": null,
   "metadata": {},
   "outputs": [],
   "source": [
    "prediction = pd.DataFrame({'AVERAGE_SPEED_DIFF': classes_x})"
   ]
  },
  {
   "cell_type": "code",
   "execution_count": null,
   "metadata": {},
   "outputs": [],
   "source": [
    "prediction.loc[prediction.AVERAGE_SPEED_DIFF == 0, 'AVERAGE_SPEED_DIFF'] = 'None'\n",
    "prediction.loc[prediction.AVERAGE_SPEED_DIFF == 1, 'AVERAGE_SPEED_DIFF'] = 'Low'\n",
    "prediction.loc[prediction.AVERAGE_SPEED_DIFF == 2, 'AVERAGE_SPEED_DIFF'] = 'Medium'\n",
    "prediction.loc[prediction.AVERAGE_SPEED_DIFF == 3, 'AVERAGE_SPEED_DIFF'] = 'High'\n",
    "prediction.loc[prediction.AVERAGE_SPEED_DIFF == 4, 'AVERAGE_SPEED_DIFF'] = 'Very_High'\n"
   ]
  },
  {
   "cell_type": "code",
   "execution_count": null,
   "metadata": {},
   "outputs": [],
   "source": [
    "sub_df = pd.read_csv('example_submission.csv')\n",
    "final_data = {'RowId': sub_df.RowId, 'Speed_Diff': prediction.AVERAGE_SPEED_DIFF}\n",
    "submission = pd.DataFrame(data=final_data)"
   ]
  },
  {
   "cell_type": "code",
   "execution_count": null,
   "metadata": {},
   "outputs": [],
   "source": [
    "compare = pd.read_csv('sample_submission.csv')"
   ]
  },
  {
   "cell_type": "code",
   "execution_count": null,
   "metadata": {},
   "outputs": [
    {
     "data": {
      "text/plain": [
       "Medium       430\n",
       "Low          387\n",
       "None         305\n",
       "High         271\n",
       "Very_High    107\n",
       "Name: Speed_Diff, dtype: int64"
      ]
     },
     "execution_count": 319,
     "metadata": {},
     "output_type": "execute_result"
    }
   ],
   "source": [
    "submission['Speed_Diff'].value_counts()"
   ]
  },
  {
   "cell_type": "code",
   "execution_count": null,
   "metadata": {},
   "outputs": [
    {
     "data": {
      "text/plain": [
       "None         482\n",
       "Medium       340\n",
       "Low          313\n",
       "High         268\n",
       "Very_High     97\n",
       "Name: Speed_Diff, dtype: int64"
      ]
     },
     "execution_count": 320,
     "metadata": {},
     "output_type": "execute_result"
    }
   ],
   "source": [
    "compare['Speed_Diff'].value_counts()"
   ]
  },
  {
   "cell_type": "code",
   "execution_count": null,
   "metadata": {},
   "outputs": [
    {
     "data": {
      "text/plain": [
       "equals\n",
       "True      1012\n",
       "False      488\n",
       "dtype: int64"
      ]
     },
     "execution_count": 321,
     "metadata": {},
     "output_type": "execute_result"
    }
   ],
   "source": [
    "df1 = np.where(submission['Speed_Diff'] == compare['Speed_Diff'], 'True', 'False')\n",
    "df1 = pd.DataFrame(df1)\n",
    "df1.columns=['equals']\n",
    "df1.value_counts()"
   ]
  },
  {
   "cell_type": "code",
   "execution_count": null,
   "metadata": {},
   "outputs": [],
   "source": [
    "#submission.to_csv('submission.csv',index=False)"
   ]
  }
 ],
 "metadata": {
  "interpreter": {
   "hash": "93f4246b72b1dfd2a0724448b6458aeeaf8f9dfbfbe240c26e171f90999410ad"
  },
  "kernelspec": {
   "display_name": "Python 3.8.8 64-bit ('base': conda)",
   "language": "python",
   "name": "python3"
  },
  "language_info": {
   "codemirror_mode": {
    "name": "ipython",
    "version": 3
   },
   "file_extension": ".py",
   "mimetype": "text/x-python",
   "name": "python",
   "nbconvert_exporter": "python",
   "pygments_lexer": "ipython3",
   "version": "3.8.0"
  },
  "orig_nbformat": 4
 },
 "nbformat": 4,
 "nbformat_minor": 2
}
