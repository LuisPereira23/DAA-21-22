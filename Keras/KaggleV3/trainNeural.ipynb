{
 "cells": [
  {
   "cell_type": "code",
   "execution_count": 359,
   "metadata": {},
   "outputs": [],
   "source": [
    "import numpy as np\n",
    "import pandas as pd\n",
    "import xlrd\n",
    "import xlwt\n",
    "import matplotlib.pyplot as plt\n",
    "import seaborn as sns\n",
    "import sklearn\n",
    "import jupyterlab\n",
    "import statsmodels.api as sm\n",
    "from pandas_profiling import ProfileReport \n",
    "import warnings\n",
    "import tensorflow as tf\n",
    "from tensorflow.keras.models import Sequential\n",
    "from tensorflow.keras.layers import Dense,Dropout,BatchNormalization\n",
    "from tensorflow.keras.wrappers.scikit_learn import KerasRegressor\n",
    "from tensorflow.keras.utils import to_categorical\n",
    "from sklearn.model_selection import GridSearchCV,KFold,train_test_split\n",
    "from sklearn.preprocessing import MinMaxScaler\n",
    "warnings.filterwarnings(\"ignore\", category=UserWarning)\n",
    "%matplotlib inline"
   ]
  },
  {
   "cell_type": "code",
   "execution_count": 360,
   "metadata": {},
   "outputs": [],
   "source": [
    "training = pd.read_csv('processedTrain.csv')"
   ]
  },
  {
   "cell_type": "code",
   "execution_count": 361,
   "metadata": {},
   "outputs": [
    {
     "name": "stdout",
     "output_type": "stream",
     "text": [
      "<class 'pandas.core.frame.DataFrame'>\n",
      "RangeIndex: 6812 entries, 0 to 6811\n",
      "Data columns (total 30 columns):\n",
      " #   Column                   Non-Null Count  Dtype  \n",
      "---  ------                   --------------  -----  \n",
      " 0   AVERAGE_SPEED_DIFF       6812 non-null   int64  \n",
      " 1   AVERAGE_FREE_FLOW_SPEED  6812 non-null   float64\n",
      " 2   AVERAGE_TIME_DIFF        6812 non-null   float64\n",
      " 3   AVERAGE_FREE_FLOW_TIME   6812 non-null   float64\n",
      " 4   AVERAGE_TEMPERATURE      6812 non-null   float64\n",
      " 5   AVERAGE_ATMOSP_PRESSURE  6812 non-null   float64\n",
      " 6   AVERAGE_HUMIDITY         6812 non-null   float64\n",
      " 7   AVERAGE_WIND_SPEED       6812 non-null   float64\n",
      " 8   AVERAGE_RAIN             6812 non-null   int64  \n",
      " 9   week                     6812 non-null   int64  \n",
      " 10  is_weekend               6812 non-null   int64  \n",
      " 11  AVERAGE_DISTANCE_FREE    6812 non-null   float64\n",
      " 12  AVERAGE_TIME             6812 non-null   float64\n",
      " 13  AVERAGE_SPEED            6812 non-null   float64\n",
      " 14  AVERAGE_SPEED_DIFF_Num   6812 non-null   float64\n",
      " 15  weekday_sin              6812 non-null   float64\n",
      " 16  weekday_cos              6812 non-null   float64\n",
      " 17  hour_sin                 6812 non-null   float64\n",
      " 18  hour_cos                 6812 non-null   float64\n",
      " 19  month_sin                6812 non-null   float64\n",
      " 20  month_cos                6812 non-null   float64\n",
      " 21  year_sin                 6812 non-null   float64\n",
      " 22  year_cos                 6812 non-null   float64\n",
      " 23  day_sin                  6812 non-null   float64\n",
      " 24  day_cos                  6812 non-null   float64\n",
      " 25  DARK                     6812 non-null   int64  \n",
      " 26  LIGHT                    6812 non-null   int64  \n",
      " 27  céu limpo                6812 non-null   int64  \n",
      " 28  céu pouco nublado        6812 non-null   int64  \n",
      " 29  nuvens dispersas         6812 non-null   int64  \n",
      "dtypes: float64(21), int64(9)\n",
      "memory usage: 1.6 MB\n"
     ]
    }
   ],
   "source": [
    "training.info()"
   ]
  },
  {
   "cell_type": "code",
   "execution_count": 362,
   "metadata": {},
   "outputs": [],
   "source": [
    "\n",
    "X = training.drop(['AVERAGE_SPEED_DIFF'],axis=1)\n",
    "''\n",
    "y = training[['AVERAGE_SPEED_DIFF']]\n"
   ]
  },
  {
   "cell_type": "code",
   "execution_count": 363,
   "metadata": {},
   "outputs": [],
   "source": [
    "y = to_categorical(y, 5)\n"
   ]
  },
  {
   "cell_type": "code",
   "execution_count": 364,
   "metadata": {},
   "outputs": [],
   "source": [
    "scaler_X = MinMaxScaler(feature_range=(0,1)).fit(X)\n",
    "#scaler_y = MinMaxScaler(feature_range=(0,1)).fit(y)\n",
    "X_scaled = pd.DataFrame(scaler_X.transform(X[X.columns]),columns=X.columns)\n",
    "#y_scaled = pd.DataFrame(scaler_y.transform(y[y.columns]),columns=y.columns)"
   ]
  },
  {
   "cell_type": "code",
   "execution_count": 365,
   "metadata": {},
   "outputs": [],
   "source": [
    "X_train,X_test,y_train,y_test = train_test_split(X_scaled,y,test_size=0.2,random_state=2021)"
   ]
  },
  {
   "cell_type": "code",
   "execution_count": 366,
   "metadata": {},
   "outputs": [
    {
     "name": "stderr",
     "output_type": "stream",
     "text": [
      "C:\\Users\\Krow\\AppData\\Roaming\\Python\\Python38\\site-packages\\sklearn\\utils\\validation.py:67: FutureWarning: Pass classes=[0 1 2 3 4], y=[2 3 3 ... 0 0 2] as keyword args. From version 0.25 passing these as positional arguments will result in an error\n",
      "  warnings.warn(\"Pass {} as keyword args. From version 0.25 \"\n"
     ]
    }
   ],
   "source": [
    "import numpy as np\n",
    "from sklearn.utils.class_weight import compute_class_weight\n",
    "\n",
    "y_integers = np.argmax(y, axis=1)\n",
    "class_weights = compute_class_weight('balanced', np.unique(y_integers), y_integers)\n",
    "d_class_weights = dict(enumerate(class_weights))"
   ]
  },
  {
   "cell_type": "code",
   "execution_count": 367,
   "metadata": {},
   "outputs": [
    {
     "data": {
      "text/plain": [
       "{0: 0.6192727272727273,\n",
       " 1: 0.9601127554615927,\n",
       " 2: 0.8251968503937008,\n",
       " 3: 1.2816556914393227,\n",
       " 4: 2.844258872651357}"
      ]
     },
     "execution_count": 367,
     "metadata": {},
     "output_type": "execute_result"
    }
   ],
   "source": [
    "d_class_weights"
   ]
  },
  {
   "cell_type": "code",
   "execution_count": 368,
   "metadata": {},
   "outputs": [],
   "source": [
    "custom_class_weights={\n",
    " 0: 0.6192727272727273,\n",
    " 1: 1,\n",
    " 2: 1.05,\n",
    " 3: 1.3816556914393227,\n",
    " 4: 2.844258872651357}"
   ]
  },
  {
   "cell_type": "code",
   "execution_count": 369,
   "metadata": {},
   "outputs": [],
   "source": [
    "from sklearn.metrics import f1_score\n",
    "from tensorflow.keras.optimizers import Adam\n",
    "from tensorflow.keras.optimizers import Nadam\n",
    "from tensorflow.keras.optimizers import RMSprop\n",
    "from tensorflow.keras.activations import relu\n",
    "from tensorflow.keras.activations import elu\n",
    "from tensorflow.keras.activations import sigmoid\n",
    "from tensorflow.keras.activations import softmax\n",
    "from tensorflow.keras.losses import logcosh\n",
    "from tensorflow.keras.losses import binary_crossentropy\n",
    "from tensorflow.keras.losses import categorical_crossentropy\n",
    "import keras_tuner as kt\n",
    "from keras.layers import Flatten\n",
    "from kerastuner.tuners import RandomSearch\n",
    "from kerastuner.engine.hyperparameters import HyperParameters as hp"
   ]
  },
  {
   "cell_type": "code",
   "execution_count": 370,
   "metadata": {},
   "outputs": [],
   "source": [
    "def model_create(hp):\n",
    "    model = tf.keras.models.Sequential()\n",
    "    model.add(Flatten(input_shape=X_train.shape[1:]))\n",
    "\n",
    "    model.add(Dense(units=hp.Int('units',\n",
    "                                  min_value=2,\n",
    "                                  max_value=64,\n",
    "                                  step=6),\n",
    "                                  activation='relu'))\n",
    "    \n",
    "    model.add(\n",
    "            Dropout(rate=hp.Float(\n",
    "                'dropout_start',\n",
    "                min_value=0.0,\n",
    "                max_value=0.5,\n",
    "                default=0.25,\n",
    "                step=0.05,\n",
    "            )))\n",
    "\n",
    "    for i in range(hp.Int('n_layers',0,2)):\n",
    "        model.add(Dense(units=hp.Int(f'conv_{i}_units',\n",
    "                                  min_value=2,\n",
    "                                  max_value=64,\n",
    "                                  step=6),\n",
    "                                  activation='relu'))\n",
    "        model.add(\n",
    "            Dropout(rate=hp.Float(\n",
    "                f'dropout_{i}',\n",
    "                min_value=0.0,\n",
    "                max_value=0.5,\n",
    "                default=0.25,\n",
    "                step=0.05,\n",
    "            )))\n",
    "                                  \n",
    "    \n",
    "\n",
    "    model.add(Dense(5,activation='softmax'))\n",
    "\n",
    "    model.compile(\n",
    "    optimizer=Adam(hp.Choice('learning_rate',\n",
    "                        values=[1e-2,1e-3,1e-4])),\n",
    "    loss='categorical_crossentropy',\n",
    "    metrics=[tf.keras.metrics.CategoricalAccuracy()])\n",
    "\n",
    "    return model             "
   ]
  },
  {
   "cell_type": "code",
   "execution_count": 371,
   "metadata": {},
   "outputs": [],
   "source": [
    "tuner = RandomSearch(\n",
    "     model_create,\n",
    "     objective='val_categorical_accuracy',\n",
    "     max_trials=40,\n",
    "     executions_per_trial=5,\n",
    "     project_name='traffic',\n",
    "     directory='/home/krow/Documents/DAA/KaggleV3',\n",
    "     overwrite = True\n",
    "     \n",
    ")"
   ]
  },
  {
   "cell_type": "code",
   "execution_count": 372,
   "metadata": {},
   "outputs": [],
   "source": [
    "#tuner.search(X_train,y_train,epochs=5,validation_split=0.2)"
   ]
  },
  {
   "cell_type": "code",
   "execution_count": 373,
   "metadata": {},
   "outputs": [],
   "source": [
    "model = tf.keras.models.Sequential([\n",
    "    tf.keras.layers.Flatten(input_shape=X_train.shape[1:]),\n",
    "    tf.keras.layers.Dense(32,activation='relu'),\n",
    "    tf.keras.layers.Dropout(0.2),\n",
    "    tf.keras.layers.Dense(16,activation='relu'),\n",
    "    tf.keras.layers.Dropout(0.2),\n",
    "    tf.keras.layers.Dense(5,activation='softmax')\n",
    "])"
   ]
  },
  {
   "cell_type": "code",
   "execution_count": 374,
   "metadata": {},
   "outputs": [],
   "source": [
    "model.compile(\n",
    "    optimizer='Nadam',\n",
    "    loss='categorical_crossentropy',\n",
    "    metrics=[tf.keras.metrics.CategoricalAccuracy()]\n",
    ")"
   ]
  },
  {
   "cell_type": "code",
   "execution_count": 375,
   "metadata": {},
   "outputs": [],
   "source": [
    "#best_hps = tuner.get_best_hyperparameters(num_trials=1)[0]"
   ]
  },
  {
   "cell_type": "code",
   "execution_count": 376,
   "metadata": {},
   "outputs": [],
   "source": [
    "#model = tuner.hypermodel.build(best_hps)"
   ]
  },
  {
   "cell_type": "code",
   "execution_count": 377,
   "metadata": {},
   "outputs": [
    {
     "name": "stdout",
     "output_type": "stream",
     "text": [
      "Epoch 1/200\n",
      "137/137 [==============================] - 1s 1ms/step - loss: 1.4784 - categorical_accuracy: 0.3652 - val_loss: 1.2668 - val_categorical_accuracy: 0.4908\n",
      "Epoch 2/200\n",
      "137/137 [==============================] - 0s 780us/step - loss: 1.2438 - categorical_accuracy: 0.4696 - val_loss: 1.0992 - val_categorical_accuracy: 0.5083\n",
      "Epoch 3/200\n",
      "137/137 [==============================] - 0s 780us/step - loss: 1.1109 - categorical_accuracy: 0.5231 - val_loss: 0.9892 - val_categorical_accuracy: 0.5844\n",
      "Epoch 4/200\n",
      "137/137 [==============================] - 0s 773us/step - loss: 1.0080 - categorical_accuracy: 0.5586 - val_loss: 0.8889 - val_categorical_accuracy: 0.5982\n",
      "Epoch 5/200\n",
      "137/137 [==============================] - 0s 810us/step - loss: 0.9346 - categorical_accuracy: 0.5994 - val_loss: 0.8201 - val_categorical_accuracy: 0.6229\n",
      "Epoch 6/200\n",
      "137/137 [==============================] - 0s 773us/step - loss: 0.8724 - categorical_accuracy: 0.6160 - val_loss: 0.7544 - val_categorical_accuracy: 0.6624\n",
      "Epoch 7/200\n",
      "137/137 [==============================] - 0s 780us/step - loss: 0.8318 - categorical_accuracy: 0.6371 - val_loss: 0.7014 - val_categorical_accuracy: 0.6945\n",
      "Epoch 8/200\n",
      "137/137 [==============================] - 0s 773us/step - loss: 0.8057 - categorical_accuracy: 0.6518 - val_loss: 0.6769 - val_categorical_accuracy: 0.7138\n",
      "Epoch 9/200\n",
      "137/137 [==============================] - 0s 817us/step - loss: 0.7691 - categorical_accuracy: 0.6719 - val_loss: 0.6461 - val_categorical_accuracy: 0.7330\n",
      "Epoch 10/200\n",
      "137/137 [==============================] - 0s 802us/step - loss: 0.7450 - categorical_accuracy: 0.6735 - val_loss: 0.6062 - val_categorical_accuracy: 0.7587\n",
      "Epoch 11/200\n",
      "137/137 [==============================] - 0s 817us/step - loss: 0.7346 - categorical_accuracy: 0.6850 - val_loss: 0.5850 - val_categorical_accuracy: 0.7541\n",
      "Epoch 12/200\n",
      "137/137 [==============================] - 0s 839us/step - loss: 0.7181 - categorical_accuracy: 0.6926 - val_loss: 0.5782 - val_categorical_accuracy: 0.7725\n",
      "Epoch 13/200\n",
      "137/137 [==============================] - 0s 773us/step - loss: 0.6963 - categorical_accuracy: 0.6940 - val_loss: 0.5620 - val_categorical_accuracy: 0.7752\n",
      "Epoch 14/200\n",
      "137/137 [==============================] - 0s 758us/step - loss: 0.6747 - categorical_accuracy: 0.7100 - val_loss: 0.5551 - val_categorical_accuracy: 0.7743\n",
      "Epoch 15/200\n",
      "137/137 [==============================] - 0s 765us/step - loss: 0.6652 - categorical_accuracy: 0.7197 - val_loss: 0.5539 - val_categorical_accuracy: 0.7615\n",
      "Epoch 16/200\n",
      "137/137 [==============================] - 0s 758us/step - loss: 0.6611 - categorical_accuracy: 0.7197 - val_loss: 0.5419 - val_categorical_accuracy: 0.7771\n",
      "Epoch 17/200\n",
      "137/137 [==============================] - 0s 751us/step - loss: 0.6500 - categorical_accuracy: 0.7279 - val_loss: 0.5341 - val_categorical_accuracy: 0.7862\n",
      "Epoch 18/200\n",
      "137/137 [==============================] - 0s 743us/step - loss: 0.6375 - categorical_accuracy: 0.7288 - val_loss: 0.5409 - val_categorical_accuracy: 0.7716\n",
      "Epoch 19/200\n",
      "137/137 [==============================] - 0s 758us/step - loss: 0.6328 - categorical_accuracy: 0.7334 - val_loss: 0.5312 - val_categorical_accuracy: 0.7752\n",
      "Epoch 20/200\n",
      "137/137 [==============================] - 0s 758us/step - loss: 0.6155 - categorical_accuracy: 0.7327 - val_loss: 0.5212 - val_categorical_accuracy: 0.7734\n",
      "Epoch 21/200\n",
      "137/137 [==============================] - 0s 780us/step - loss: 0.6167 - categorical_accuracy: 0.7355 - val_loss: 0.5170 - val_categorical_accuracy: 0.7853\n",
      "Epoch 22/200\n",
      "137/137 [==============================] - 0s 817us/step - loss: 0.6109 - categorical_accuracy: 0.7447 - val_loss: 0.5076 - val_categorical_accuracy: 0.7844\n",
      "Epoch 23/200\n",
      "137/137 [==============================] - 0s 824us/step - loss: 0.6107 - categorical_accuracy: 0.7415 - val_loss: 0.5097 - val_categorical_accuracy: 0.7899\n",
      "Epoch 24/200\n",
      "137/137 [==============================] - 0s 780us/step - loss: 0.6061 - categorical_accuracy: 0.7405 - val_loss: 0.5040 - val_categorical_accuracy: 0.7844\n",
      "Epoch 25/200\n",
      "137/137 [==============================] - 0s 743us/step - loss: 0.6066 - categorical_accuracy: 0.7428 - val_loss: 0.5057 - val_categorical_accuracy: 0.7936\n",
      "Epoch 26/200\n",
      "137/137 [==============================] - 0s 743us/step - loss: 0.6029 - categorical_accuracy: 0.7431 - val_loss: 0.5030 - val_categorical_accuracy: 0.7936\n",
      "Epoch 27/200\n",
      "137/137 [==============================] - 0s 743us/step - loss: 0.5953 - categorical_accuracy: 0.7504 - val_loss: 0.5066 - val_categorical_accuracy: 0.7862\n",
      "Epoch 28/200\n",
      "137/137 [==============================] - 0s 758us/step - loss: 0.5869 - categorical_accuracy: 0.7472 - val_loss: 0.4936 - val_categorical_accuracy: 0.7881\n",
      "Epoch 29/200\n",
      "137/137 [==============================] - 0s 765us/step - loss: 0.5923 - categorical_accuracy: 0.7465 - val_loss: 0.5044 - val_categorical_accuracy: 0.7826\n",
      "Epoch 30/200\n",
      "137/137 [==============================] - 0s 810us/step - loss: 0.5889 - categorical_accuracy: 0.7502 - val_loss: 0.4946 - val_categorical_accuracy: 0.7927\n",
      "Epoch 31/200\n",
      "137/137 [==============================] - 0s 979us/step - loss: 0.5779 - categorical_accuracy: 0.7552 - val_loss: 0.4903 - val_categorical_accuracy: 0.7899\n",
      "Epoch 32/200\n",
      "137/137 [==============================] - 0s 1ms/step - loss: 0.5791 - categorical_accuracy: 0.7665 - val_loss: 0.4898 - val_categorical_accuracy: 0.7835\n",
      "Epoch 33/200\n",
      "137/137 [==============================] - 0s 854us/step - loss: 0.5719 - categorical_accuracy: 0.7571 - val_loss: 0.4893 - val_categorical_accuracy: 0.7908\n",
      "Epoch 34/200\n",
      "137/137 [==============================] - 0s 839us/step - loss: 0.5740 - categorical_accuracy: 0.7552 - val_loss: 0.4863 - val_categorical_accuracy: 0.7890\n",
      "Epoch 35/200\n",
      "137/137 [==============================] - 0s 773us/step - loss: 0.5778 - categorical_accuracy: 0.7568 - val_loss: 0.4822 - val_categorical_accuracy: 0.7908\n",
      "Epoch 36/200\n",
      "137/137 [==============================] - 0s 780us/step - loss: 0.5692 - categorical_accuracy: 0.7612 - val_loss: 0.4905 - val_categorical_accuracy: 0.7908\n",
      "Epoch 37/200\n",
      "137/137 [==============================] - 0s 765us/step - loss: 0.5670 - categorical_accuracy: 0.7580 - val_loss: 0.4781 - val_categorical_accuracy: 0.8009\n",
      "Epoch 38/200\n",
      "137/137 [==============================] - 0s 787us/step - loss: 0.5495 - categorical_accuracy: 0.7694 - val_loss: 0.4782 - val_categorical_accuracy: 0.7917\n",
      "Epoch 39/200\n",
      "137/137 [==============================] - 0s 765us/step - loss: 0.5658 - categorical_accuracy: 0.7630 - val_loss: 0.4810 - val_categorical_accuracy: 0.7899\n",
      "Epoch 40/200\n",
      "137/137 [==============================] - 0s 810us/step - loss: 0.5615 - categorical_accuracy: 0.7596 - val_loss: 0.4839 - val_categorical_accuracy: 0.7927\n",
      "Epoch 41/200\n",
      "137/137 [==============================] - 0s 810us/step - loss: 0.5438 - categorical_accuracy: 0.7690 - val_loss: 0.4787 - val_categorical_accuracy: 0.7927\n",
      "Epoch 42/200\n",
      "137/137 [==============================] - 0s 780us/step - loss: 0.5675 - categorical_accuracy: 0.7621 - val_loss: 0.4834 - val_categorical_accuracy: 0.7862\n",
      "Epoch 43/200\n",
      "137/137 [==============================] - 0s 765us/step - loss: 0.5580 - categorical_accuracy: 0.7630 - val_loss: 0.4723 - val_categorical_accuracy: 0.7963\n",
      "Epoch 44/200\n",
      "137/137 [==============================] - 0s 758us/step - loss: 0.5430 - categorical_accuracy: 0.7795 - val_loss: 0.4705 - val_categorical_accuracy: 0.7908\n",
      "Epoch 45/200\n",
      "137/137 [==============================] - 0s 780us/step - loss: 0.5492 - categorical_accuracy: 0.7669 - val_loss: 0.4696 - val_categorical_accuracy: 0.7936\n",
      "Epoch 46/200\n",
      "137/137 [==============================] - 0s 751us/step - loss: 0.5400 - categorical_accuracy: 0.7738 - val_loss: 0.4690 - val_categorical_accuracy: 0.7963\n",
      "Epoch 47/200\n",
      "137/137 [==============================] - 0s 780us/step - loss: 0.5444 - categorical_accuracy: 0.7706 - val_loss: 0.4742 - val_categorical_accuracy: 0.7945\n",
      "Epoch 48/200\n",
      "137/137 [==============================] - 0s 765us/step - loss: 0.5428 - categorical_accuracy: 0.7715 - val_loss: 0.4632 - val_categorical_accuracy: 0.8046\n",
      "Epoch 49/200\n",
      "137/137 [==============================] - 0s 751us/step - loss: 0.5309 - categorical_accuracy: 0.7731 - val_loss: 0.4603 - val_categorical_accuracy: 0.7899\n",
      "Epoch 50/200\n",
      "137/137 [==============================] - 0s 795us/step - loss: 0.5343 - categorical_accuracy: 0.7747 - val_loss: 0.4641 - val_categorical_accuracy: 0.8073\n",
      "Epoch 51/200\n",
      "137/137 [==============================] - 0s 817us/step - loss: 0.5353 - categorical_accuracy: 0.7811 - val_loss: 0.4666 - val_categorical_accuracy: 0.7917\n",
      "Epoch 52/200\n",
      "137/137 [==============================] - 0s 810us/step - loss: 0.5411 - categorical_accuracy: 0.7745 - val_loss: 0.4634 - val_categorical_accuracy: 0.7927\n",
      "Epoch 53/200\n",
      "137/137 [==============================] - 0s 824us/step - loss: 0.5335 - categorical_accuracy: 0.7740 - val_loss: 0.4598 - val_categorical_accuracy: 0.8018\n",
      "Epoch 54/200\n",
      "137/137 [==============================] - 0s 751us/step - loss: 0.5257 - categorical_accuracy: 0.7777 - val_loss: 0.4603 - val_categorical_accuracy: 0.7945\n",
      "Epoch 55/200\n",
      "137/137 [==============================] - 0s 780us/step - loss: 0.5312 - categorical_accuracy: 0.7807 - val_loss: 0.4665 - val_categorical_accuracy: 0.8000\n",
      "Epoch 56/200\n",
      "137/137 [==============================] - 0s 773us/step - loss: 0.5191 - categorical_accuracy: 0.7766 - val_loss: 0.4599 - val_categorical_accuracy: 0.7927\n",
      "Epoch 57/200\n",
      "137/137 [==============================] - 0s 787us/step - loss: 0.5196 - categorical_accuracy: 0.7850 - val_loss: 0.4613 - val_categorical_accuracy: 0.8083\n",
      "Epoch 58/200\n",
      "137/137 [==============================] - 0s 758us/step - loss: 0.5258 - categorical_accuracy: 0.7823 - val_loss: 0.4540 - val_categorical_accuracy: 0.8064\n",
      "Epoch 59/200\n",
      "137/137 [==============================] - 0s 751us/step - loss: 0.5355 - categorical_accuracy: 0.7756 - val_loss: 0.4669 - val_categorical_accuracy: 0.7872\n",
      "Epoch 60/200\n",
      "137/137 [==============================] - 0s 743us/step - loss: 0.5281 - categorical_accuracy: 0.7807 - val_loss: 0.4667 - val_categorical_accuracy: 0.7908\n",
      "Epoch 61/200\n",
      "137/137 [==============================] - 0s 758us/step - loss: 0.5276 - categorical_accuracy: 0.7786 - val_loss: 0.4614 - val_categorical_accuracy: 0.7954\n",
      "Epoch 62/200\n",
      "137/137 [==============================] - 0s 751us/step - loss: 0.5276 - categorical_accuracy: 0.7770 - val_loss: 0.4636 - val_categorical_accuracy: 0.8083\n",
      "Epoch 63/200\n",
      "137/137 [==============================] - 0s 751us/step - loss: 0.5287 - categorical_accuracy: 0.7768 - val_loss: 0.4643 - val_categorical_accuracy: 0.7982\n",
      "Epoch 64/200\n",
      "137/137 [==============================] - 0s 758us/step - loss: 0.5309 - categorical_accuracy: 0.7770 - val_loss: 0.4545 - val_categorical_accuracy: 0.8018\n",
      "Epoch 65/200\n",
      "137/137 [==============================] - 0s 743us/step - loss: 0.5207 - categorical_accuracy: 0.7779 - val_loss: 0.4468 - val_categorical_accuracy: 0.8110\n",
      "Epoch 66/200\n",
      "137/137 [==============================] - 0s 758us/step - loss: 0.5172 - categorical_accuracy: 0.7830 - val_loss: 0.4523 - val_categorical_accuracy: 0.8092\n",
      "Epoch 67/200\n",
      "137/137 [==============================] - 0s 758us/step - loss: 0.5190 - categorical_accuracy: 0.7830 - val_loss: 0.4544 - val_categorical_accuracy: 0.7963\n",
      "Epoch 68/200\n",
      "137/137 [==============================] - 0s 751us/step - loss: 0.5099 - categorical_accuracy: 0.7864 - val_loss: 0.4550 - val_categorical_accuracy: 0.8037\n",
      "Epoch 69/200\n",
      "137/137 [==============================] - 0s 743us/step - loss: 0.5104 - categorical_accuracy: 0.7869 - val_loss: 0.4522 - val_categorical_accuracy: 0.7954\n",
      "Epoch 70/200\n",
      "137/137 [==============================] - 0s 751us/step - loss: 0.5064 - categorical_accuracy: 0.7846 - val_loss: 0.4698 - val_categorical_accuracy: 0.7936\n",
      "Epoch 71/200\n",
      "137/137 [==============================] - 0s 795us/step - loss: 0.5181 - categorical_accuracy: 0.7903 - val_loss: 0.4520 - val_categorical_accuracy: 0.8110\n",
      "Epoch 72/200\n",
      "137/137 [==============================] - 0s 765us/step - loss: 0.5133 - categorical_accuracy: 0.7857 - val_loss: 0.4636 - val_categorical_accuracy: 0.7972\n",
      "Epoch 73/200\n",
      "137/137 [==============================] - 0s 780us/step - loss: 0.5077 - categorical_accuracy: 0.7912 - val_loss: 0.4501 - val_categorical_accuracy: 0.7972\n",
      "Epoch 74/200\n",
      "137/137 [==============================] - 0s 787us/step - loss: 0.5033 - categorical_accuracy: 0.7899 - val_loss: 0.4407 - val_categorical_accuracy: 0.8073\n",
      "Epoch 75/200\n",
      "137/137 [==============================] - 0s 802us/step - loss: 0.5050 - categorical_accuracy: 0.7878 - val_loss: 0.4439 - val_categorical_accuracy: 0.7991\n",
      "Epoch 76/200\n",
      "137/137 [==============================] - 0s 795us/step - loss: 0.5109 - categorical_accuracy: 0.7853 - val_loss: 0.4482 - val_categorical_accuracy: 0.7972\n",
      "Epoch 77/200\n",
      "137/137 [==============================] - 0s 751us/step - loss: 0.5022 - categorical_accuracy: 0.7892 - val_loss: 0.4588 - val_categorical_accuracy: 0.8064\n",
      "Epoch 78/200\n",
      "137/137 [==============================] - 0s 751us/step - loss: 0.5149 - categorical_accuracy: 0.7855 - val_loss: 0.4447 - val_categorical_accuracy: 0.8018\n",
      "Epoch 79/200\n",
      "137/137 [==============================] - 0s 751us/step - loss: 0.5053 - categorical_accuracy: 0.7896 - val_loss: 0.4519 - val_categorical_accuracy: 0.7982\n",
      "Epoch 80/200\n",
      "137/137 [==============================] - 0s 751us/step - loss: 0.5065 - categorical_accuracy: 0.7860 - val_loss: 0.4457 - val_categorical_accuracy: 0.8055\n",
      "Epoch 81/200\n",
      "137/137 [==============================] - 0s 751us/step - loss: 0.5062 - categorical_accuracy: 0.7846 - val_loss: 0.4523 - val_categorical_accuracy: 0.8055\n",
      "Epoch 82/200\n",
      "137/137 [==============================] - 0s 743us/step - loss: 0.5075 - categorical_accuracy: 0.7871 - val_loss: 0.4510 - val_categorical_accuracy: 0.8073\n",
      "Epoch 83/200\n",
      "137/137 [==============================] - 0s 743us/step - loss: 0.4982 - categorical_accuracy: 0.7917 - val_loss: 0.4491 - val_categorical_accuracy: 0.8046\n",
      "Epoch 84/200\n",
      "137/137 [==============================] - 0s 758us/step - loss: 0.4967 - categorical_accuracy: 0.7958 - val_loss: 0.4564 - val_categorical_accuracy: 0.8073\n",
      "Epoch 85/200\n",
      "137/137 [==============================] - 0s 758us/step - loss: 0.5085 - categorical_accuracy: 0.7864 - val_loss: 0.4444 - val_categorical_accuracy: 0.8110\n",
      "Epoch 86/200\n",
      "137/137 [==============================] - 0s 758us/step - loss: 0.4956 - categorical_accuracy: 0.7972 - val_loss: 0.4512 - val_categorical_accuracy: 0.7945\n",
      "Epoch 87/200\n",
      "137/137 [==============================] - 0s 758us/step - loss: 0.5054 - categorical_accuracy: 0.7922 - val_loss: 0.4416 - val_categorical_accuracy: 0.8009\n",
      "Epoch 88/200\n",
      "137/137 [==============================] - 0s 751us/step - loss: 0.5046 - categorical_accuracy: 0.7880 - val_loss: 0.4503 - val_categorical_accuracy: 0.7972\n",
      "Epoch 89/200\n",
      "137/137 [==============================] - 0s 751us/step - loss: 0.5037 - categorical_accuracy: 0.7869 - val_loss: 0.4497 - val_categorical_accuracy: 0.8018\n",
      "Epoch 90/200\n",
      "137/137 [==============================] - 0s 751us/step - loss: 0.4963 - categorical_accuracy: 0.7961 - val_loss: 0.4624 - val_categorical_accuracy: 0.8037\n",
      "Epoch 91/200\n",
      "137/137 [==============================] - 0s 751us/step - loss: 0.4918 - categorical_accuracy: 0.7963 - val_loss: 0.4418 - val_categorical_accuracy: 0.8037\n",
      "Epoch 92/200\n",
      "137/137 [==============================] - 0s 758us/step - loss: 0.4973 - categorical_accuracy: 0.7938 - val_loss: 0.4435 - val_categorical_accuracy: 0.8101\n",
      "Epoch 93/200\n",
      "137/137 [==============================] - 0s 751us/step - loss: 0.4916 - categorical_accuracy: 0.7910 - val_loss: 0.4464 - val_categorical_accuracy: 0.8073\n",
      "Epoch 94/200\n",
      "137/137 [==============================] - 0s 751us/step - loss: 0.4907 - categorical_accuracy: 0.7961 - val_loss: 0.4478 - val_categorical_accuracy: 0.8028\n",
      "Epoch 95/200\n",
      "137/137 [==============================] - 0s 751us/step - loss: 0.4924 - categorical_accuracy: 0.7905 - val_loss: 0.4537 - val_categorical_accuracy: 0.7972\n",
      "Epoch 96/200\n",
      "137/137 [==============================] - 0s 758us/step - loss: 0.4925 - categorical_accuracy: 0.7928 - val_loss: 0.4545 - val_categorical_accuracy: 0.8083\n",
      "Epoch 97/200\n",
      "137/137 [==============================] - 0s 765us/step - loss: 0.4958 - categorical_accuracy: 0.7876 - val_loss: 0.4492 - val_categorical_accuracy: 0.8064\n",
      "Epoch 98/200\n",
      "137/137 [==============================] - 0s 751us/step - loss: 0.4949 - categorical_accuracy: 0.7956 - val_loss: 0.4464 - val_categorical_accuracy: 0.8101\n",
      "Epoch 99/200\n",
      "137/137 [==============================] - 0s 751us/step - loss: 0.4951 - categorical_accuracy: 0.7839 - val_loss: 0.4428 - val_categorical_accuracy: 0.8110\n",
      "Epoch 100/200\n",
      "137/137 [==============================] - 0s 751us/step - loss: 0.4857 - categorical_accuracy: 0.7958 - val_loss: 0.4534 - val_categorical_accuracy: 0.8028\n",
      "Epoch 101/200\n",
      "137/137 [==============================] - 0s 743us/step - loss: 0.4926 - categorical_accuracy: 0.7880 - val_loss: 0.4477 - val_categorical_accuracy: 0.8028\n",
      "Epoch 102/200\n",
      "137/137 [==============================] - 0s 751us/step - loss: 0.4962 - categorical_accuracy: 0.7850 - val_loss: 0.4438 - val_categorical_accuracy: 0.8138\n",
      "Epoch 103/200\n",
      "137/137 [==============================] - 0s 751us/step - loss: 0.4824 - categorical_accuracy: 0.7977 - val_loss: 0.4487 - val_categorical_accuracy: 0.8092\n",
      "Epoch 104/200\n",
      "137/137 [==============================] - 0s 751us/step - loss: 0.4978 - categorical_accuracy: 0.7857 - val_loss: 0.4408 - val_categorical_accuracy: 0.8000\n",
      "Epoch 105/200\n",
      "137/137 [==============================] - 0s 751us/step - loss: 0.4871 - categorical_accuracy: 0.7924 - val_loss: 0.4508 - val_categorical_accuracy: 0.7972\n",
      "Epoch 106/200\n",
      "137/137 [==============================] - 0s 758us/step - loss: 0.4802 - categorical_accuracy: 0.7993 - val_loss: 0.4523 - val_categorical_accuracy: 0.8046\n",
      "Epoch 107/200\n",
      "137/137 [==============================] - 0s 751us/step - loss: 0.4948 - categorical_accuracy: 0.7903 - val_loss: 0.4413 - val_categorical_accuracy: 0.8037\n",
      "Epoch 108/200\n",
      "137/137 [==============================] - 0s 839us/step - loss: 0.4919 - categorical_accuracy: 0.7949 - val_loss: 0.4570 - val_categorical_accuracy: 0.7963\n",
      "Epoch 109/200\n",
      "137/137 [==============================] - 0s 2ms/step - loss: 0.4980 - categorical_accuracy: 0.7901 - val_loss: 0.4445 - val_categorical_accuracy: 0.8000\n",
      "Epoch 110/200\n",
      "137/137 [==============================] - 0s 2ms/step - loss: 0.4897 - categorical_accuracy: 0.7841 - val_loss: 0.4397 - val_categorical_accuracy: 0.8055\n",
      "Epoch 111/200\n",
      "137/137 [==============================] - 0s 1ms/step - loss: 0.4935 - categorical_accuracy: 0.7905 - val_loss: 0.4431 - val_categorical_accuracy: 0.7991\n",
      "Epoch 112/200\n",
      "137/137 [==============================] - 0s 1ms/step - loss: 0.4925 - categorical_accuracy: 0.7949 - val_loss: 0.4411 - val_categorical_accuracy: 0.8028\n",
      "Epoch 113/200\n",
      "137/137 [==============================] - 0s 1ms/step - loss: 0.4788 - categorical_accuracy: 0.8036 - val_loss: 0.4530 - val_categorical_accuracy: 0.8000\n",
      "Epoch 114/200\n",
      "137/137 [==============================] - 0s 1ms/step - loss: 0.4874 - categorical_accuracy: 0.8004 - val_loss: 0.4466 - val_categorical_accuracy: 0.7936\n",
      "Epoch 115/200\n",
      "137/137 [==============================] - 0s 1ms/step - loss: 0.4784 - categorical_accuracy: 0.7958 - val_loss: 0.4492 - val_categorical_accuracy: 0.8037\n",
      "Epoch 116/200\n",
      "137/137 [==============================] - 0s 1ms/step - loss: 0.4871 - categorical_accuracy: 0.7928 - val_loss: 0.4446 - val_categorical_accuracy: 0.8055\n",
      "Epoch 117/200\n",
      "137/137 [==============================] - 0s 1ms/step - loss: 0.4836 - categorical_accuracy: 0.7947 - val_loss: 0.4490 - val_categorical_accuracy: 0.8037\n",
      "Epoch 118/200\n",
      "137/137 [==============================] - 0s 1ms/step - loss: 0.4814 - categorical_accuracy: 0.7997 - val_loss: 0.4464 - val_categorical_accuracy: 0.8055\n",
      "Epoch 119/200\n",
      "137/137 [==============================] - 0s 1ms/step - loss: 0.4809 - categorical_accuracy: 0.8000 - val_loss: 0.4394 - val_categorical_accuracy: 0.7945\n",
      "Epoch 120/200\n",
      "137/137 [==============================] - 0s 1ms/step - loss: 0.4830 - categorical_accuracy: 0.7917 - val_loss: 0.4421 - val_categorical_accuracy: 0.8037\n",
      "Epoch 121/200\n",
      "137/137 [==============================] - 0s 1ms/step - loss: 0.4902 - categorical_accuracy: 0.7915 - val_loss: 0.4488 - val_categorical_accuracy: 0.7972\n",
      "Epoch 122/200\n",
      "137/137 [==============================] - 0s 1ms/step - loss: 0.4758 - categorical_accuracy: 0.7961 - val_loss: 0.4544 - val_categorical_accuracy: 0.8064\n",
      "Epoch 123/200\n",
      "137/137 [==============================] - 0s 1ms/step - loss: 0.4841 - categorical_accuracy: 0.8032 - val_loss: 0.4411 - val_categorical_accuracy: 0.8000\n",
      "Epoch 124/200\n",
      "137/137 [==============================] - 0s 1ms/step - loss: 0.4704 - categorical_accuracy: 0.7997 - val_loss: 0.4408 - val_categorical_accuracy: 0.8110\n",
      "Epoch 125/200\n",
      "137/137 [==============================] - 0s 1ms/step - loss: 0.4809 - categorical_accuracy: 0.7951 - val_loss: 0.4388 - val_categorical_accuracy: 0.8147\n",
      "Epoch 126/200\n",
      "137/137 [==============================] - 0s 1ms/step - loss: 0.4828 - categorical_accuracy: 0.7954 - val_loss: 0.4548 - val_categorical_accuracy: 0.7982\n",
      "Epoch 127/200\n",
      "137/137 [==============================] - 0s 1ms/step - loss: 0.4723 - categorical_accuracy: 0.8036 - val_loss: 0.4466 - val_categorical_accuracy: 0.7927\n",
      "Epoch 128/200\n",
      "137/137 [==============================] - 0s 1ms/step - loss: 0.4904 - categorical_accuracy: 0.7905 - val_loss: 0.4473 - val_categorical_accuracy: 0.8119\n",
      "Epoch 129/200\n",
      "137/137 [==============================] - 0s 1ms/step - loss: 0.4699 - categorical_accuracy: 0.8064 - val_loss: 0.4393 - val_categorical_accuracy: 0.8073\n",
      "Epoch 130/200\n",
      "137/137 [==============================] - 0s 1ms/step - loss: 0.4851 - categorical_accuracy: 0.7974 - val_loss: 0.4424 - val_categorical_accuracy: 0.8119\n",
      "Epoch 131/200\n",
      "137/137 [==============================] - 0s 1ms/step - loss: 0.4716 - categorical_accuracy: 0.8059 - val_loss: 0.4416 - val_categorical_accuracy: 0.8083\n",
      "Epoch 132/200\n",
      "137/137 [==============================] - 0s 1ms/step - loss: 0.4729 - categorical_accuracy: 0.8000 - val_loss: 0.4525 - val_categorical_accuracy: 0.8037\n",
      "Epoch 133/200\n",
      "137/137 [==============================] - 0s 1ms/step - loss: 0.4797 - categorical_accuracy: 0.7977 - val_loss: 0.4439 - val_categorical_accuracy: 0.8092\n",
      "Epoch 134/200\n",
      "137/137 [==============================] - 0s 1ms/step - loss: 0.4638 - categorical_accuracy: 0.8029 - val_loss: 0.4455 - val_categorical_accuracy: 0.8101\n",
      "Epoch 135/200\n",
      "137/137 [==============================] - 0s 1ms/step - loss: 0.4678 - categorical_accuracy: 0.7977 - val_loss: 0.4434 - val_categorical_accuracy: 0.7927\n",
      "Epoch 136/200\n",
      "137/137 [==============================] - 0s 1ms/step - loss: 0.4883 - categorical_accuracy: 0.7942 - val_loss: 0.4441 - val_categorical_accuracy: 0.8064\n",
      "Epoch 137/200\n",
      "137/137 [==============================] - 0s 1ms/step - loss: 0.4768 - categorical_accuracy: 0.8000 - val_loss: 0.4451 - val_categorical_accuracy: 0.8064\n",
      "Epoch 138/200\n",
      "137/137 [==============================] - 0s 1ms/step - loss: 0.4770 - categorical_accuracy: 0.7961 - val_loss: 0.4459 - val_categorical_accuracy: 0.7982\n",
      "Epoch 139/200\n",
      "137/137 [==============================] - 0s 1ms/step - loss: 0.4792 - categorical_accuracy: 0.7981 - val_loss: 0.4418 - val_categorical_accuracy: 0.8147\n",
      "Epoch 140/200\n",
      "137/137 [==============================] - 0s 1ms/step - loss: 0.4804 - categorical_accuracy: 0.7983 - val_loss: 0.4510 - val_categorical_accuracy: 0.8101\n",
      "Epoch 141/200\n",
      "137/137 [==============================] - 0s 1ms/step - loss: 0.4765 - categorical_accuracy: 0.8009 - val_loss: 0.4429 - val_categorical_accuracy: 0.7982\n",
      "Epoch 142/200\n",
      "137/137 [==============================] - 0s 1ms/step - loss: 0.4762 - categorical_accuracy: 0.8029 - val_loss: 0.4599 - val_categorical_accuracy: 0.8037\n",
      "Epoch 143/200\n",
      "137/137 [==============================] - 0s 1ms/step - loss: 0.4678 - categorical_accuracy: 0.8036 - val_loss: 0.4581 - val_categorical_accuracy: 0.8073\n",
      "Epoch 144/200\n",
      "137/137 [==============================] - 0s 1ms/step - loss: 0.4789 - categorical_accuracy: 0.7981 - val_loss: 0.4467 - val_categorical_accuracy: 0.8083\n",
      "Epoch 145/200\n",
      "137/137 [==============================] - 0s 1ms/step - loss: 0.4723 - categorical_accuracy: 0.8036 - val_loss: 0.4502 - val_categorical_accuracy: 0.8000\n",
      "Epoch 146/200\n",
      "137/137 [==============================] - 0s 1ms/step - loss: 0.4717 - categorical_accuracy: 0.7988 - val_loss: 0.4425 - val_categorical_accuracy: 0.8009\n",
      "Epoch 147/200\n",
      "137/137 [==============================] - 0s 1ms/step - loss: 0.4846 - categorical_accuracy: 0.7931 - val_loss: 0.4450 - val_categorical_accuracy: 0.8073\n",
      "Epoch 148/200\n",
      "137/137 [==============================] - 0s 1ms/step - loss: 0.4661 - categorical_accuracy: 0.8052 - val_loss: 0.4486 - val_categorical_accuracy: 0.8119\n",
      "Epoch 149/200\n",
      "137/137 [==============================] - 0s 1ms/step - loss: 0.4648 - categorical_accuracy: 0.8039 - val_loss: 0.4470 - val_categorical_accuracy: 0.8083\n",
      "Epoch 150/200\n",
      "137/137 [==============================] - 0s 1ms/step - loss: 0.4729 - categorical_accuracy: 0.8043 - val_loss: 0.4469 - val_categorical_accuracy: 0.8110\n",
      "Epoch 151/200\n",
      "137/137 [==============================] - 0s 1ms/step - loss: 0.4790 - categorical_accuracy: 0.7922 - val_loss: 0.4532 - val_categorical_accuracy: 0.8147\n",
      "Epoch 152/200\n",
      "137/137 [==============================] - 0s 1ms/step - loss: 0.4688 - categorical_accuracy: 0.8041 - val_loss: 0.4439 - val_categorical_accuracy: 0.8101\n",
      "Epoch 153/200\n",
      "137/137 [==============================] - 0s 1ms/step - loss: 0.4699 - categorical_accuracy: 0.8043 - val_loss: 0.4627 - val_categorical_accuracy: 0.7991\n",
      "Epoch 154/200\n",
      "137/137 [==============================] - 0s 1ms/step - loss: 0.4801 - categorical_accuracy: 0.7970 - val_loss: 0.4605 - val_categorical_accuracy: 0.7936\n",
      "Epoch 155/200\n",
      "137/137 [==============================] - 0s 1ms/step - loss: 0.4687 - categorical_accuracy: 0.8055 - val_loss: 0.4481 - val_categorical_accuracy: 0.8064\n",
      "Epoch 156/200\n",
      "137/137 [==============================] - 0s 1ms/step - loss: 0.4651 - categorical_accuracy: 0.7983 - val_loss: 0.4492 - val_categorical_accuracy: 0.8110\n",
      "Epoch 157/200\n",
      "137/137 [==============================] - 0s 1ms/step - loss: 0.4651 - categorical_accuracy: 0.8068 - val_loss: 0.4493 - val_categorical_accuracy: 0.8202\n",
      "Epoch 158/200\n",
      "137/137 [==============================] - 0s 1ms/step - loss: 0.4635 - categorical_accuracy: 0.8052 - val_loss: 0.4550 - val_categorical_accuracy: 0.8055\n",
      "Epoch 159/200\n",
      "137/137 [==============================] - 0s 1ms/step - loss: 0.4668 - categorical_accuracy: 0.8096 - val_loss: 0.4468 - val_categorical_accuracy: 0.8128\n",
      "Epoch 160/200\n",
      "137/137 [==============================] - 0s 1ms/step - loss: 0.4684 - categorical_accuracy: 0.8018 - val_loss: 0.4509 - val_categorical_accuracy: 0.8028\n",
      "Epoch 161/200\n",
      "137/137 [==============================] - 0s 1ms/step - loss: 0.4697 - categorical_accuracy: 0.8022 - val_loss: 0.4397 - val_categorical_accuracy: 0.8092\n",
      "Epoch 162/200\n",
      "137/137 [==============================] - 0s 1ms/step - loss: 0.4741 - categorical_accuracy: 0.8027 - val_loss: 0.4410 - val_categorical_accuracy: 0.7972\n",
      "Epoch 163/200\n",
      "137/137 [==============================] - 0s 1ms/step - loss: 0.4708 - categorical_accuracy: 0.8045 - val_loss: 0.4439 - val_categorical_accuracy: 0.8028\n",
      "Epoch 164/200\n",
      "137/137 [==============================] - 0s 1ms/step - loss: 0.4685 - categorical_accuracy: 0.8052 - val_loss: 0.4497 - val_categorical_accuracy: 0.7982\n",
      "Epoch 165/200\n",
      "137/137 [==============================] - 0s 1ms/step - loss: 0.4616 - categorical_accuracy: 0.8087 - val_loss: 0.4442 - val_categorical_accuracy: 0.8101\n",
      "Epoch 166/200\n",
      "137/137 [==============================] - 0s 1ms/step - loss: 0.4615 - categorical_accuracy: 0.8048 - val_loss: 0.4437 - val_categorical_accuracy: 0.8138\n",
      "Epoch 167/200\n",
      "137/137 [==============================] - 0s 1ms/step - loss: 0.4656 - categorical_accuracy: 0.8066 - val_loss: 0.4424 - val_categorical_accuracy: 0.8138\n",
      "Epoch 168/200\n",
      "137/137 [==============================] - 0s 1ms/step - loss: 0.4592 - categorical_accuracy: 0.8080 - val_loss: 0.4527 - val_categorical_accuracy: 0.8055\n",
      "Epoch 169/200\n",
      "137/137 [==============================] - 0s 1ms/step - loss: 0.4615 - categorical_accuracy: 0.8043 - val_loss: 0.4501 - val_categorical_accuracy: 0.8110\n",
      "Epoch 170/200\n",
      "137/137 [==============================] - 0s 1ms/step - loss: 0.4546 - categorical_accuracy: 0.8068 - val_loss: 0.4467 - val_categorical_accuracy: 0.8092\n",
      "Epoch 171/200\n",
      "137/137 [==============================] - 0s 1ms/step - loss: 0.4632 - categorical_accuracy: 0.7997 - val_loss: 0.4484 - val_categorical_accuracy: 0.8009\n",
      "Epoch 172/200\n",
      "137/137 [==============================] - 0s 1ms/step - loss: 0.4638 - categorical_accuracy: 0.8039 - val_loss: 0.4412 - val_categorical_accuracy: 0.8028\n",
      "Epoch 173/200\n",
      "137/137 [==============================] - 0s 1ms/step - loss: 0.4699 - categorical_accuracy: 0.7997 - val_loss: 0.4408 - val_categorical_accuracy: 0.8156\n",
      "Epoch 174/200\n",
      "137/137 [==============================] - 0s 1ms/step - loss: 0.4712 - categorical_accuracy: 0.8000 - val_loss: 0.4612 - val_categorical_accuracy: 0.8046\n",
      "Epoch 175/200\n",
      "137/137 [==============================] - 0s 1ms/step - loss: 0.4700 - categorical_accuracy: 0.7988 - val_loss: 0.4485 - val_categorical_accuracy: 0.8018\n",
      "Epoch 176/200\n",
      "137/137 [==============================] - 0s 1ms/step - loss: 0.4772 - categorical_accuracy: 0.7990 - val_loss: 0.4400 - val_categorical_accuracy: 0.8101\n",
      "Epoch 177/200\n",
      "137/137 [==============================] - 0s 1ms/step - loss: 0.4763 - categorical_accuracy: 0.7910 - val_loss: 0.4408 - val_categorical_accuracy: 0.8092\n",
      "Epoch 178/200\n",
      "137/137 [==============================] - 0s 1ms/step - loss: 0.4530 - categorical_accuracy: 0.8087 - val_loss: 0.4388 - val_categorical_accuracy: 0.8092\n",
      "Epoch 179/200\n",
      "137/137 [==============================] - 0s 1ms/step - loss: 0.4618 - categorical_accuracy: 0.8027 - val_loss: 0.4410 - val_categorical_accuracy: 0.8092\n",
      "Epoch 180/200\n",
      "137/137 [==============================] - 0s 1ms/step - loss: 0.4635 - categorical_accuracy: 0.8068 - val_loss: 0.4428 - val_categorical_accuracy: 0.8028\n",
      "Epoch 181/200\n",
      "137/137 [==============================] - 0s 1ms/step - loss: 0.4627 - categorical_accuracy: 0.8032 - val_loss: 0.4409 - val_categorical_accuracy: 0.8037\n",
      "Epoch 182/200\n",
      "137/137 [==============================] - 0s 1ms/step - loss: 0.4480 - categorical_accuracy: 0.8121 - val_loss: 0.4420 - val_categorical_accuracy: 0.7954\n",
      "Epoch 183/200\n",
      "137/137 [==============================] - 0s 1ms/step - loss: 0.4615 - categorical_accuracy: 0.8045 - val_loss: 0.4486 - val_categorical_accuracy: 0.7982\n",
      "Epoch 184/200\n",
      "137/137 [==============================] - 0s 1ms/step - loss: 0.4684 - categorical_accuracy: 0.8000 - val_loss: 0.4415 - val_categorical_accuracy: 0.8046\n",
      "Epoch 185/200\n",
      "137/137 [==============================] - 0s 1ms/step - loss: 0.4545 - categorical_accuracy: 0.7993 - val_loss: 0.4493 - val_categorical_accuracy: 0.8028\n",
      "Epoch 186/200\n",
      "137/137 [==============================] - 0s 1ms/step - loss: 0.4680 - categorical_accuracy: 0.8020 - val_loss: 0.4527 - val_categorical_accuracy: 0.8064\n",
      "Epoch 187/200\n",
      "137/137 [==============================] - 0s 1ms/step - loss: 0.4667 - categorical_accuracy: 0.8048 - val_loss: 0.4541 - val_categorical_accuracy: 0.7945\n",
      "Epoch 188/200\n",
      "137/137 [==============================] - 0s 1ms/step - loss: 0.4586 - categorical_accuracy: 0.8064 - val_loss: 0.4504 - val_categorical_accuracy: 0.8055\n",
      "Epoch 189/200\n",
      "137/137 [==============================] - 0s 1ms/step - loss: 0.4577 - categorical_accuracy: 0.8057 - val_loss: 0.4464 - val_categorical_accuracy: 0.8018\n",
      "Epoch 190/200\n",
      "137/137 [==============================] - 0s 1ms/step - loss: 0.4595 - categorical_accuracy: 0.8094 - val_loss: 0.4459 - val_categorical_accuracy: 0.7954\n",
      "Epoch 191/200\n",
      "137/137 [==============================] - 0s 1ms/step - loss: 0.4618 - categorical_accuracy: 0.8022 - val_loss: 0.4495 - val_categorical_accuracy: 0.8055\n",
      "Epoch 192/200\n",
      "137/137 [==============================] - 0s 1ms/step - loss: 0.4663 - categorical_accuracy: 0.8032 - val_loss: 0.4445 - val_categorical_accuracy: 0.8000\n",
      "Epoch 193/200\n",
      "137/137 [==============================] - 0s 1ms/step - loss: 0.4621 - categorical_accuracy: 0.8006 - val_loss: 0.4483 - val_categorical_accuracy: 0.8055\n",
      "Epoch 194/200\n",
      "137/137 [==============================] - 0s 1ms/step - loss: 0.4664 - categorical_accuracy: 0.8039 - val_loss: 0.4500 - val_categorical_accuracy: 0.8018\n",
      "Epoch 195/200\n",
      "137/137 [==============================] - 0s 1ms/step - loss: 0.4648 - categorical_accuracy: 0.8059 - val_loss: 0.4494 - val_categorical_accuracy: 0.8064\n",
      "Epoch 196/200\n",
      "137/137 [==============================] - 0s 1ms/step - loss: 0.4587 - categorical_accuracy: 0.8025 - val_loss: 0.4510 - val_categorical_accuracy: 0.8083\n",
      "Epoch 197/200\n",
      "137/137 [==============================] - 0s 1ms/step - loss: 0.4669 - categorical_accuracy: 0.8029 - val_loss: 0.4572 - val_categorical_accuracy: 0.8009\n",
      "Epoch 198/200\n",
      "137/137 [==============================] - 0s 1ms/step - loss: 0.4648 - categorical_accuracy: 0.8045 - val_loss: 0.4509 - val_categorical_accuracy: 0.8055\n",
      "Epoch 199/200\n",
      "137/137 [==============================] - 0s 1ms/step - loss: 0.4511 - categorical_accuracy: 0.8103 - val_loss: 0.4433 - val_categorical_accuracy: 0.8037\n",
      "Epoch 200/200\n",
      "137/137 [==============================] - 0s 1ms/step - loss: 0.4485 - categorical_accuracy: 0.8094 - val_loss: 0.4532 - val_categorical_accuracy: 0.8064\n"
     ]
    }
   ],
   "source": [
    "history = model.fit(X_train,y_train,validation_split=0.2, epochs=200)"
   ]
  },
  {
   "cell_type": "code",
   "execution_count": 378,
   "metadata": {},
   "outputs": [
    {
     "data": {
      "image/png": "[encoded data removed]",
      "text/plain": [
       "<Figure size 432x288 with 1 Axes>"
      ]
     },
     "metadata": {
      "needs_background": "light"
     },
     "output_type": "display_data"
    }
   ],
   "source": [
    "# summarize history for accuracy\n",
    "plt.plot(history.history['categorical_accuracy'])\n",
    "plt.plot(history.history['val_categorical_accuracy'])\n",
    "plt.title('model accuracy')\n",
    "plt.ylabel('accuracy')\n",
    "plt.xlabel('epoch')\n",
    "plt.legend(['train', 'test'], loc='upper left')\n",
    "plt.show()"
   ]
  },
  {
   "cell_type": "code",
   "execution_count": 379,
   "metadata": {},
   "outputs": [
    {
     "data": {
      "image/png": "[encoded data removed]",
      "text/plain": [
       "<Figure size 432x288 with 1 Axes>"
      ]
     },
     "metadata": {
      "needs_background": "light"
     },
     "output_type": "display_data"
    }
   ],
   "source": [
    "# summarize history for loss\n",
    "plt.plot(history.history['loss'])\n",
    "plt.plot(history.history['val_loss'])\n",
    "plt.title('model loss')\n",
    "plt.ylabel('loss')\n",
    "plt.xlabel('epoch')\n",
    "plt.legend(['train', 'test'], loc='upper left')\n",
    "plt.show()"
   ]
  },
  {
   "cell_type": "code",
   "execution_count": 380,
   "metadata": {},
   "outputs": [
    {
     "name": "stdout",
     "output_type": "stream",
     "text": [
      "43/43 [==============================] - 0s 500us/step - loss: 0.4896 - categorical_accuracy: 0.7865\n",
      "test loss, test accuracy [0.489612877368927, 0.7865003943443298]\n"
     ]
    }
   ],
   "source": [
    "evaluation = model.evaluate(X_test,y_test)\n",
    "print('test loss, test accuracy',evaluation)"
   ]
  },
  {
   "cell_type": "code",
   "execution_count": 381,
   "metadata": {},
   "outputs": [],
   "source": [
    "predictions = model.predict(X_test)"
   ]
  },
  {
   "cell_type": "code",
   "execution_count": 382,
   "metadata": {},
   "outputs": [
    {
     "data": {
      "image/png": "[encoded data removed]",
      "text/plain": [
       "<Figure size 720x720 with 2 Axes>"
      ]
     },
     "metadata": {
      "needs_background": "light"
     },
     "output_type": "display_data"
    }
   ],
   "source": [
    "from sklearn.metrics import confusion_matrix\n",
    "matrix = confusion_matrix(y_test.argmax(axis=1), predictions.argmax(axis=1))\n",
    "cmn = matrix.astype('float') / matrix.sum(axis=1)[:, np.newaxis]\n",
    "fig, ax = plt.subplots(figsize=(10,10))\n",
    "sns.heatmap(cmn, annot=True, fmt='.2f')\n",
    "plt.ylabel('Actual')\n",
    "plt.xlabel('Predicted')\n",
    "plt.show(block=False)"
   ]
  },
  {
   "cell_type": "code",
   "execution_count": 383,
   "metadata": {},
   "outputs": [],
   "source": [
    "testing = pd.read_csv('cloudProcessedTest.csv')"
   ]
  },
  {
   "cell_type": "code",
   "execution_count": 384,
   "metadata": {},
   "outputs": [
    {
     "ename": "ValueError",
     "evalue": "operands could not be broadcast together with shapes (1500,28) (29,) (1500,28) ",
     "output_type": "error",
     "traceback": [
      "\u001b[1;31m---------------------------------------------------------------------------\u001b[0m",
      "\u001b[1;31mValueError\u001b[0m                                Traceback (most recent call last)",
      "\u001b[1;32m~\\AppData\\Local\\Temp/ipykernel_2200/1663145385.py\u001b[0m in \u001b[0;36m<module>\u001b[1;34m\u001b[0m\n\u001b[1;32m----> 1\u001b[1;33m \u001b[0mtesting_scaled\u001b[0m \u001b[1;33m=\u001b[0m \u001b[0mpd\u001b[0m\u001b[1;33m.\u001b[0m\u001b[0mDataFrame\u001b[0m\u001b[1;33m(\u001b[0m\u001b[0mscaler_X\u001b[0m\u001b[1;33m.\u001b[0m\u001b[0mtransform\u001b[0m\u001b[1;33m(\u001b[0m\u001b[0mtesting\u001b[0m\u001b[1;33m[\u001b[0m\u001b[0mtesting\u001b[0m\u001b[1;33m.\u001b[0m\u001b[0mcolumns\u001b[0m\u001b[1;33m]\u001b[0m\u001b[1;33m)\u001b[0m\u001b[1;33m,\u001b[0m\u001b[0mcolumns\u001b[0m\u001b[1;33m=\u001b[0m\u001b[0mtesting\u001b[0m\u001b[1;33m.\u001b[0m\u001b[0mcolumns\u001b[0m\u001b[1;33m)\u001b[0m\u001b[1;33m\u001b[0m\u001b[1;33m\u001b[0m\u001b[0m\n\u001b[0m",
      "\u001b[1;32m~\\AppData\\Roaming\\Python\\Python38\\site-packages\\sklearn\\preprocessing\\_data.py\u001b[0m in \u001b[0;36mtransform\u001b[1;34m(self, X)\u001b[0m\n\u001b[0;32m    408\u001b[0m                         force_all_finite=\"allow-nan\")\n\u001b[0;32m    409\u001b[0m \u001b[1;33m\u001b[0m\u001b[0m\n\u001b[1;32m--> 410\u001b[1;33m         \u001b[0mX\u001b[0m \u001b[1;33m*=\u001b[0m \u001b[0mself\u001b[0m\u001b[1;33m.\u001b[0m\u001b[0mscale_\u001b[0m\u001b[1;33m\u001b[0m\u001b[1;33m\u001b[0m\u001b[0m\n\u001b[0m\u001b[0;32m    411\u001b[0m         \u001b[0mX\u001b[0m \u001b[1;33m+=\u001b[0m \u001b[0mself\u001b[0m\u001b[1;33m.\u001b[0m\u001b[0mmin_\u001b[0m\u001b[1;33m\u001b[0m\u001b[1;33m\u001b[0m\u001b[0m\n\u001b[0;32m    412\u001b[0m         \u001b[1;32mreturn\u001b[0m \u001b[0mX\u001b[0m\u001b[1;33m\u001b[0m\u001b[1;33m\u001b[0m\u001b[0m\n",
      "\u001b[1;31mValueError\u001b[0m: operands could not be broadcast together with shapes (1500,28) (29,) (1500,28) "
     ]
    }
   ],
   "source": [
    "testing_scaled = pd.DataFrame(scaler_X.transform(testing[testing.columns]),columns=testing.columns)"
   ]
  },
  {
   "cell_type": "code",
   "execution_count": null,
   "metadata": {},
   "outputs": [],
   "source": [
    "predict_x=model.predict(testing_scaled) \n",
    "classes_x=np.argmax(predict_x,axis=1)"
   ]
  },
  {
   "cell_type": "code",
   "execution_count": null,
   "metadata": {},
   "outputs": [
    {
     "data": {
      "text/plain": [
       "4"
      ]
     },
     "execution_count": 638,
     "metadata": {},
     "output_type": "execute_result"
    }
   ],
   "source": [
    "classes_x.max()"
   ]
  },
  {
   "cell_type": "code",
   "execution_count": null,
   "metadata": {},
   "outputs": [],
   "source": [
    "prediction = pd.DataFrame({'AVERAGE_SPEED_DIFF': classes_x})"
   ]
  },
  {
   "cell_type": "code",
   "execution_count": null,
   "metadata": {},
   "outputs": [],
   "source": [
    "prediction.loc[prediction.AVERAGE_SPEED_DIFF == 0, 'AVERAGE_SPEED_DIFF'] = 'None'\n",
    "prediction.loc[prediction.AVERAGE_SPEED_DIFF == 1, 'AVERAGE_SPEED_DIFF'] = 'Low'\n",
    "prediction.loc[prediction.AVERAGE_SPEED_DIFF == 2, 'AVERAGE_SPEED_DIFF'] = 'Medium'\n",
    "prediction.loc[prediction.AVERAGE_SPEED_DIFF == 3, 'AVERAGE_SPEED_DIFF'] = 'High'\n",
    "prediction.loc[prediction.AVERAGE_SPEED_DIFF == 4, 'AVERAGE_SPEED_DIFF'] = 'Very_High'\n"
   ]
  },
  {
   "cell_type": "code",
   "execution_count": null,
   "metadata": {},
   "outputs": [],
   "source": [
    "sub_df = pd.read_csv('example_submission.csv')\n",
    "final_data = {'RowId': sub_df.RowId, 'Speed_Diff': prediction.AVERAGE_SPEED_DIFF}\n",
    "submission = pd.DataFrame(data=final_data)"
   ]
  },
  {
   "cell_type": "code",
   "execution_count": null,
   "metadata": {},
   "outputs": [],
   "source": [
    "compare = pd.read_csv('sample_submission.csv')"
   ]
  },
  {
   "cell_type": "code",
   "execution_count": null,
   "metadata": {},
   "outputs": [
    {
     "data": {
      "text/plain": [
       "Low          472\n",
       "Medium       356\n",
       "None         288\n",
       "High         258\n",
       "Very_High    126\n",
       "Name: Speed_Diff, dtype: int64"
      ]
     },
     "execution_count": 643,
     "metadata": {},
     "output_type": "execute_result"
    }
   ],
   "source": [
    "submission['Speed_Diff'].value_counts()"
   ]
  },
  {
   "cell_type": "code",
   "execution_count": null,
   "metadata": {},
   "outputs": [
    {
     "data": {
      "text/plain": [
       "None         482\n",
       "Medium       340\n",
       "Low          313\n",
       "High         268\n",
       "Very_High     97\n",
       "Name: Speed_Diff, dtype: int64"
      ]
     },
     "execution_count": 644,
     "metadata": {},
     "output_type": "execute_result"
    }
   ],
   "source": [
    "compare['Speed_Diff'].value_counts()"
   ]
  },
  {
   "cell_type": "code",
   "execution_count": null,
   "metadata": {},
   "outputs": [
    {
     "data": {
      "text/plain": [
       "equals\n",
       "True      1038\n",
       "False      462\n",
       "dtype: int64"
      ]
     },
     "execution_count": 645,
     "metadata": {},
     "output_type": "execute_result"
    }
   ],
   "source": [
    "df1 = np.where(submission['Speed_Diff'] == compare['Speed_Diff'], 'True', 'False')\n",
    "df1 = pd.DataFrame(df1)\n",
    "df1.columns=['equals']\n",
    "df1.value_counts()"
   ]
  },
  {
   "cell_type": "code",
   "execution_count": null,
   "metadata": {},
   "outputs": [],
   "source": [
    "#submission.to_csv('submission.csv',index=False)"
   ]
  }
 ],
 "metadata": {
  "interpreter": {
   "hash": "93f4246b72b1dfd2a0724448b6458aeeaf8f9dfbfbe240c26e171f90999410ad"
  },
  "kernelspec": {
   "display_name": "Python 3.8.8 64-bit ('base': conda)",
   "language": "python",
   "name": "python3"
  },
  "language_info": {
   "codemirror_mode": {
    "name": "ipython",
    "version": 3
   },
   "file_extension": ".py",
   "mimetype": "text/x-python",
   "name": "python",
   "nbconvert_exporter": "python",
   "pygments_lexer": "ipython3",
   "version": "3.8.0"
  },
  "orig_nbformat": 4
 },
 "nbformat": 4,
 "nbformat_minor": 2
}
