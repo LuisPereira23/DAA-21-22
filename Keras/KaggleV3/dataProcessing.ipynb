{
 "cells": [
  {
   "cell_type": "code",
   "execution_count": 38,
   "metadata": {},
   "outputs": [],
   "source": [
    "import numpy as np\n",
    "import pandas as pd\n",
    "import xlrd\n",
    "import xlwt\n",
    "import matplotlib.pyplot as plt\n",
    "import seaborn as sns\n",
    "import sklearn\n",
    "import jupyterlab\n",
    "import statsmodels.api as sm\n",
    "from pandas_profiling import ProfileReport \n",
    "from feature_engine.creation import CyclicalTransformer\n",
    "import warnings\n",
    "warnings.filterwarnings(\"ignore\", category=UserWarning)\n",
    "%matplotlib inline"
   ]
  },
  {
   "cell_type": "code",
   "execution_count": 39,
   "metadata": {},
   "outputs": [],
   "source": [
    "training = pd.read_csv('training_data.csv', encoding = \"latin\")\n",
    "testing = pd.read_csv('test_data.csv', encoding = \"latin\")\n",
    "datasets = [training,testing]"
   ]
  },
  {
   "cell_type": "code",
   "execution_count": 40,
   "metadata": {},
   "outputs": [],
   "source": [
    "profileTrain = ProfileReport(training)\n",
    "profileTest = ProfileReport(testing)\n",
    "#profileTrain.to_notebook_iframe()\n",
    "#profileTest.to_notebook_iframe()"
   ]
  },
  {
   "cell_type": "code",
   "execution_count": 41,
   "metadata": {},
   "outputs": [],
   "source": [
    "import scipy.stats as stat\n",
    "import pylab"
   ]
  },
  {
   "cell_type": "code",
   "execution_count": 42,
   "metadata": {},
   "outputs": [],
   "source": [
    "def plot_data(df,feature):\n",
    "    plt.figure(figsize=(10,6))\n",
    "    plt.subplot(1,2,1)\n",
    "    df[feature].hist()\n",
    "    plt.subplot(1,2,2)\n",
    "    stat.probplot(df[feature],dist='norm',plot=pylab)\n",
    "    plt.show()"
   ]
  },
  {
   "cell_type": "code",
   "execution_count": 43,
   "metadata": {},
   "outputs": [
    {
     "data": {
      "image/png": "[encoded data removed]",
      "text/plain": [
       "<Figure size 720x432 with 2 Axes>"
      ]
     },
     "metadata": {
      "needs_background": "light"
     },
     "output_type": "display_data"
    }
   ],
   "source": [
    "plot_data(training,'AVERAGE_TIME_DIFF')"
   ]
  },
  {
   "cell_type": "code",
   "execution_count": 44,
   "metadata": {},
   "outputs": [],
   "source": [
    "#training['AVERAGE_TIME_DIFF'] = training.AVERAGE_TIME_DIFF**(1/2)\n",
    "#plot_data(training,'AVERAGE_TIME_DIFF')"
   ]
  },
  {
   "cell_type": "markdown",
   "metadata": {},
   "source": [
    "Treating NaN values"
   ]
  },
  {
   "cell_type": "code",
   "execution_count": 45,
   "metadata": {},
   "outputs": [],
   "source": [
    "for data in datasets:\n",
    " data['AVERAGE_CLOUDINESS'] = data['AVERAGE_CLOUDINESS'].fillna(data['AVERAGE_CLOUDINESS'].mode()[0])\n",
    " #data['AVERAGE_CLOUDINESS'] = data['AVERAGE_CLOUDINESS'].fillna('NoData')"
   ]
  },
  {
   "cell_type": "code",
   "execution_count": 46,
   "metadata": {},
   "outputs": [],
   "source": [
    "for data in datasets:\n",
    "    data['AVERAGE_RAIN'] = data['AVERAGE_RAIN'].fillna(0)\n",
    "    data.loc[data.AVERAGE_RAIN != 0, 'AVERAGE_RAIN'] = 1\n"
   ]
  },
  {
   "cell_type": "code",
   "execution_count": 47,
   "metadata": {},
   "outputs": [],
   "source": [
    "#training.loc[training.AVERAGE_SPEED_DIFF == 'None', 'AVERAGE_SPEED_DIFF'] = '0'\n",
    "#training.loc[training.AVERAGE_SPEED_DIFF == 'Low', 'AVERAGE_SPEED_DIFF'] = '1'\n",
    "#training.loc[training.AVERAGE_SPEED_DIFF == 'Medium', 'AVERAGE_SPEED_DIFF'] = '2'\n",
    "#training.loc[training.AVERAGE_SPEED_DIFF == 'High', 'AVERAGE_SPEED_DIFF'] = '3'\n",
    "#training.loc[training.AVERAGE_SPEED_DIFF == 'Very_High', 'AVERAGE_SPEED_DIFF'] = '4'"
   ]
  },
  {
   "cell_type": "code",
   "execution_count": 48,
   "metadata": {},
   "outputs": [],
   "source": [
    "for data in datasets:\n",
    "\n",
    "    data['record_date'] = pd.to_datetime(training['record_date'])\n",
    "\n",
    "    data['weekday'] = data['record_date'].dt.dayofweek\n",
    "    data['hour'] = data['record_date'].dt.hour\n",
    "    data['month'] = data['record_date'].dt.month\n",
    "    data['year'] = data['record_date'].dt.year\n",
    "    data['day'] = data['record_date'].dt.day\n",
    "    data['week'] = data['record_date'].dt.isocalendar().week"
   ]
  },
  {
   "cell_type": "code",
   "execution_count": 49,
   "metadata": {},
   "outputs": [],
   "source": [
    "def applyer(row):\n",
    "    if row == 5 or row == 6:\n",
    "        return 1\n",
    "    else:\n",
    "        return 0 \n",
    "\n",
    "for data in datasets:\n",
    "    temp2 = data['weekday'].apply(applyer) \n",
    "    data['is_weekend']=temp2"
   ]
  },
  {
   "cell_type": "code",
   "execution_count": 50,
   "metadata": {},
   "outputs": [],
   "source": [
    "for data in datasets:\n",
    "    data['AVERAGE_DISTANCE_FREE'] = data['AVERAGE_FREE_FLOW_TIME'] * data['AVERAGE_FREE_FLOW_SPEED']\n",
    "    data['AVERAGE_TIME'] = data['AVERAGE_TIME_DIFF'] + data['AVERAGE_FREE_FLOW_TIME'] \n",
    "    data['AVERAGE_SPEED'] =  data['AVERAGE_DISTANCE_FREE'] / data['AVERAGE_TIME']\n",
    "    data['AVERAGE_SPEED_DIFF_Num'] =  data['AVERAGE_FREE_FLOW_SPEED'] - data['AVERAGE_SPEED']"
   ]
  },
  {
   "cell_type": "code",
   "execution_count": 51,
   "metadata": {},
   "outputs": [
    {
     "data": {
      "text/plain": [
       "\"corr = training.copy()\\n\\ncorr['AVERAGE_RAIN']=corr['AVERAGE_RAIN'].astype('category').cat.codes\\ncorr['AVERAGE_RAIN'].sort_values(ascending=False)\\n\\ncorr['AVERAGE_CLOUDINESS']=corr['AVERAGE_CLOUDINESS'].astype('category').cat.codes\\ncorr['AVERAGE_CLOUDINESS'].sort_values(ascending=False)\\n\\ncorr['AVERAGE_SPEED_DIFF']=corr['AVERAGE_SPEED_DIFF'].astype('category').cat.codes\\ncorr['AVERAGE_SPEED_DIFF'].sort_values(ascending=False)\\n\\ncorr['LUMINOSITY']=corr['LUMINOSITY'].astype('category').cat.codes\\ncorr['LUMINOSITY'].sort_values(ascending=False)\\n\\ncorr['weekday']=corr['weekday'].astype('category').cat.codes\\ncorr['weekday'].sort_values(ascending=False)\""
      ]
     },
     "execution_count": 51,
     "metadata": {},
     "output_type": "execute_result"
    }
   ],
   "source": [
    "'''corr = training.copy()\n",
    "\n",
    "corr['AVERAGE_RAIN']=corr['AVERAGE_RAIN'].astype('category').cat.codes\n",
    "corr['AVERAGE_RAIN'].sort_values(ascending=False)\n",
    "\n",
    "corr['AVERAGE_CLOUDINESS']=corr['AVERAGE_CLOUDINESS'].astype('category').cat.codes\n",
    "corr['AVERAGE_CLOUDINESS'].sort_values(ascending=False)\n",
    "\n",
    "corr['AVERAGE_SPEED_DIFF']=corr['AVERAGE_SPEED_DIFF'].astype('category').cat.codes\n",
    "corr['AVERAGE_SPEED_DIFF'].sort_values(ascending=False)\n",
    "\n",
    "corr['LUMINOSITY']=corr['LUMINOSITY'].astype('category').cat.codes\n",
    "corr['LUMINOSITY'].sort_values(ascending=False)\n",
    "\n",
    "corr['weekday']=corr['weekday'].astype('category').cat.codes\n",
    "corr['weekday'].sort_values(ascending=False)'''\n",
    "\n"
   ]
  },
  {
   "cell_type": "code",
   "execution_count": 52,
   "metadata": {},
   "outputs": [
    {
     "data": {
      "text/plain": [
       "'#Using Pearson Correlation\\nplt.figure(figsize=(17,17))\\ncor = corr.corr()\\nsns.heatmap(cor, annot=True, cmap=plt.cm.CMRmap_r)\\nplt.show()'"
      ]
     },
     "execution_count": 52,
     "metadata": {},
     "output_type": "execute_result"
    }
   ],
   "source": [
    "'''#Using Pearson Correlation\n",
    "plt.figure(figsize=(17,17))\n",
    "cor = corr.corr()\n",
    "sns.heatmap(cor, annot=True, cmap=plt.cm.CMRmap_r)\n",
    "plt.show()'''"
   ]
  },
  {
   "cell_type": "code",
   "execution_count": 53,
   "metadata": {},
   "outputs": [],
   "source": [
    "# with the following function we can select highly correlated features\n",
    "# it will remove the first feature that is correlated with anything other feature\n",
    "\n",
    "def correlation(dataset, threshold):\n",
    "    col_corr = set()  # Set of all the names of correlated columns\n",
    "    corr_matrix = dataset.corr()\n",
    "    for i in range(len(corr_matrix.columns)):\n",
    "        for j in range(i):\n",
    "            if abs(corr_matrix.iloc[i, j]) > threshold: # we are interested in absolute coeff value\n",
    "                colname = corr_matrix.columns[i]  # getting the name of column\n",
    "                col_corr.add(colname)\n",
    "    return col_corr"
   ]
  },
  {
   "cell_type": "code",
   "execution_count": 54,
   "metadata": {},
   "outputs": [],
   "source": [
    "#corr_features = correlation(corr, 0.75)\n",
    "#len(set(corr_features))"
   ]
  },
  {
   "cell_type": "code",
   "execution_count": 55,
   "metadata": {},
   "outputs": [
    {
     "data": {
      "text/plain": [
       "céu claro            944\n",
       "céu pouco nublado    109\n",
       "algumas nuvens        98\n",
       "nuvens quebrados      96\n",
       "nuvens quebradas      95\n",
       "nuvens dispersas      94\n",
       "céu limpo             27\n",
       "tempo nublado         20\n",
       "nublado               17\n",
       "Name: AVERAGE_CLOUDINESS, dtype: int64"
      ]
     },
     "execution_count": 55,
     "metadata": {},
     "output_type": "execute_result"
    }
   ],
   "source": [
    "testing.AVERAGE_CLOUDINESS.value_counts()"
   ]
  },
  {
   "cell_type": "code",
   "execution_count": 56,
   "metadata": {},
   "outputs": [],
   "source": [
    "for i in datasets:\n",
    "    i.loc[i.AVERAGE_CLOUDINESS == 'céu claro', 'AVERAGE_CLOUDINESS'] = 'céu limpo'\n",
    "    i.loc[i.AVERAGE_CLOUDINESS == 'nuvens quebrados', 'AVERAGE_CLOUDINESS'] = 'nuvens dispersas'\n",
    "    i.loc[i.AVERAGE_CLOUDINESS == 'nuvens quebradas', 'AVERAGE_CLOUDINESS'] = 'nuvens dispersas'\n",
    "    i.loc[i.AVERAGE_CLOUDINESS == 'algumas nuvens', 'AVERAGE_CLOUDINESS'] = 'céu pouco nublado'\n",
    "    i.loc[i.AVERAGE_CLOUDINESS == 'tempo nublado', 'AVERAGE_CLOUDINESS'] = 'nublado'\n",
    "    i.loc[i.AVERAGE_CLOUDINESS == 'nublado', 'AVERAGE_CLOUDINESS'] = 'nuvens dispersas'"
   ]
  },
  {
   "cell_type": "code",
   "execution_count": 57,
   "metadata": {},
   "outputs": [],
   "source": [
    "for i in datasets:\n",
    "    i.loc[i.LUMINOSITY == 'LOW_LIGHT', 'LUMINOSITY'] = 'DARK'"
   ]
  },
  {
   "cell_type": "code",
   "execution_count": 58,
   "metadata": {},
   "outputs": [],
   "source": [
    "profileTrain = ProfileReport(training)\n",
    "profileTest = ProfileReport(testing)\n",
    "#profileTrain.to_notebook_iframe()\n",
    "#profileTest.to_notebook_iframe()"
   ]
  },
  {
   "cell_type": "code",
   "execution_count": 59,
   "metadata": {},
   "outputs": [],
   "source": [
    "\n",
    "cyclical = CyclicalTransformer(variables=None, drop_original=True)\n",
    "\n",
    "for i in datasets:\n",
    "\n",
    "    cic = cyclical.fit_transform(i[['weekday','hour','month','year','day']])\n",
    "    i['weekday_sin'] = cic['weekday_sin'].values\n",
    "    i['weekday_cos'] = cic['weekday_cos'].values\n",
    "\n",
    "    i['hour_sin'] = cic['hour_sin'].values\n",
    "    i['hour_cos'] = cic['hour_cos'].values\n",
    "\n",
    "    i['month_sin'] = cic['month_sin'].values\n",
    "    i['month_cos'] = cic['month_cos'].values\n",
    "\n",
    "    i['year_sin'] = cic['year_sin'].values\n",
    "    i['year_cos'] = cic['year_cos'].values\n",
    "\n",
    "    i['day_sin'] = cic['day_sin'].values\n",
    "    i['day_cos'] = cic['day_cos'].values\n",
    "\n",
    "training = training.drop(['weekday','hour','month','year','day'],axis=1)\n",
    "testing = testing.drop(['weekday','hour','month','year','day'],axis=1)"
   ]
  },
  {
   "cell_type": "code",
   "execution_count": 60,
   "metadata": {},
   "outputs": [],
   "source": [
    "for data in datasets:\n",
    "    if 'AVERAGE_SPEED_DIFF' in data:\n",
    "        data['AVERAGE_SPEED_DIFF'] = data['AVERAGE_SPEED_DIFF'].astype('category')\n",
    "    data['AVERAGE_RAIN'] = data['AVERAGE_RAIN'].astype('category')\n",
    "    data['LUMINOSITY'] = data['LUMINOSITY'].astype('category')\n",
    "    data['AVERAGE_CLOUDINESS'] = data['AVERAGE_CLOUDINESS'].astype('category')"
   ]
  },
  {
   "cell_type": "code",
   "execution_count": 61,
   "metadata": {},
   "outputs": [],
   "source": [
    "df_dummies_train = training[['LUMINOSITY','AVERAGE_CLOUDINESS']]\n",
    "\n",
    "df_dummies_test = testing[['LUMINOSITY','AVERAGE_CLOUDINESS']]\n"
   ]
  },
  {
   "cell_type": "code",
   "execution_count": 62,
   "metadata": {},
   "outputs": [],
   "source": [
    "for i in df_dummies_train:\n",
    "    training = pd.concat([training,pd.get_dummies(training[i])],axis='columns').drop([i],axis='columns')\n",
    "\n",
    "for i in df_dummies_test:\n",
    "    testing = pd.concat([testing,pd.get_dummies(testing[i])],axis='columns').drop([i],axis='columns')"
   ]
  },
  {
   "cell_type": "code",
   "execution_count": 63,
   "metadata": {},
   "outputs": [],
   "source": [
    "training = training.drop(['city_name','record_date','AVERAGE_PRECIPITATION'],axis=1)\n",
    "testing = testing.drop(['city_name','record_date','AVERAGE_PRECIPITATION'],axis=1)"
   ]
  },
  {
   "cell_type": "code",
   "execution_count": 64,
   "metadata": {},
   "outputs": [
    {
     "data": {
      "text/plain": [
       "\"corr = training.copy()\\n\\ncorr['AVERAGE_RAIN']=corr['AVERAGE_RAIN'].astype('category').cat.codes\\ncorr['AVERAGE_RAIN'].sort_values(ascending=False)\\n\\ncorr['AVERAGE_SPEED_DIFF']=corr['AVERAGE_SPEED_DIFF'].astype('category').cat.codes\\ncorr['AVERAGE_SPEED_DIFF'].sort_values(ascending=False)\\n\\n\\n\\n#Using Pearson Correlation\\nplt.figure(figsize=(17,17))\\ncor = corr.corr()\\nsns.heatmap(cor, annot=True, cmap=plt.cm.CMRmap_r)\\nplt.show()\""
      ]
     },
     "execution_count": 64,
     "metadata": {},
     "output_type": "execute_result"
    }
   ],
   "source": [
    "'''corr = training.copy()\n",
    "\n",
    "corr['AVERAGE_RAIN']=corr['AVERAGE_RAIN'].astype('category').cat.codes\n",
    "corr['AVERAGE_RAIN'].sort_values(ascending=False)\n",
    "\n",
    "corr['AVERAGE_SPEED_DIFF']=corr['AVERAGE_SPEED_DIFF'].astype('category').cat.codes\n",
    "corr['AVERAGE_SPEED_DIFF'].sort_values(ascending=False)\n",
    "\n",
    "\n",
    "\n",
    "#Using Pearson Correlation\n",
    "plt.figure(figsize=(17,17))\n",
    "cor = corr.corr()\n",
    "sns.heatmap(cor, annot=True, cmap=plt.cm.CMRmap_r)\n",
    "plt.show()'''"
   ]
  },
  {
   "cell_type": "code",
   "execution_count": 65,
   "metadata": {},
   "outputs": [],
   "source": [
    "def correlation2(dataset, threshold):\n",
    "    col_corr = set()  # Set of all the names of correlated columns\n",
    "    corr_matrix = dataset.corr()\n",
    "    for i in range(len(corr_matrix.columns)):\n",
    "            if abs(corr_matrix.iloc[i, 0]) < threshold: # we are interested in absolute coeff value\n",
    "                colname = corr_matrix.columns[i]  # getting the name of column\n",
    "                col_corr.add(colname)\n",
    "    return col_corr"
   ]
  },
  {
   "cell_type": "code",
   "execution_count": 66,
   "metadata": {},
   "outputs": [],
   "source": [
    "#drop = correlation2(corr,0.10)"
   ]
  },
  {
   "cell_type": "code",
   "execution_count": 67,
   "metadata": {},
   "outputs": [],
   "source": [
    "#training = training.drop(drop,axis=1)\n",
    "#testing = testing.drop(drop,axis=1)"
   ]
  },
  {
   "cell_type": "code",
   "execution_count": 68,
   "metadata": {},
   "outputs": [
    {
     "data": {
      "text/plain": [
       "\"from sklearn.feature_selection import SelectKBest\\nfrom sklearn.feature_selection import chi2\\nfrom sklearn.feature_selection import f_classif\\n\\n\\nX = training.drop(['AVERAGE_SPEED_DIFF'],axis=1)\\n\\ny = training[['AVERAGE_SPEED_DIFF']]\\n\\nordered_rank_features=SelectKBest(score_func=f_classif,k='all')\\nordered_feature = ordered_rank_features.fit(X,y)\\n\\ndfscores = pd.DataFrame(ordered_feature.scores_,columns=['Score'])\\ndfcolumns = pd.DataFrame(X.columns)\\n\\nfeatured_rank=pd.concat([dfcolumns,dfscores],axis=1)\\nfeatured_rank.columns=['Features','Score']\\n\\nfeatured_rank.sort_values(by='Score',ascending=False)\""
      ]
     },
     "execution_count": 68,
     "metadata": {},
     "output_type": "execute_result"
    }
   ],
   "source": [
    "'''from sklearn.feature_selection import SelectKBest\n",
    "from sklearn.feature_selection import chi2\n",
    "from sklearn.feature_selection import f_classif\n",
    "\n",
    "\n",
    "X = training.drop(['AVERAGE_SPEED_DIFF'],axis=1)\n",
    "\n",
    "y = training[['AVERAGE_SPEED_DIFF']]\n",
    "\n",
    "ordered_rank_features=SelectKBest(score_func=f_classif,k='all')\n",
    "ordered_feature = ordered_rank_features.fit(X,y)\n",
    "\n",
    "dfscores = pd.DataFrame(ordered_feature.scores_,columns=['Score'])\n",
    "dfcolumns = pd.DataFrame(X.columns)\n",
    "\n",
    "featured_rank=pd.concat([dfcolumns,dfscores],axis=1)\n",
    "featured_rank.columns=['Features','Score']\n",
    "\n",
    "featured_rank.sort_values(by='Score',ascending=False)'''"
   ]
  },
  {
   "cell_type": "code",
   "execution_count": 69,
   "metadata": {},
   "outputs": [],
   "source": [
    "#training = training.drop(['AVERAGE_TEMPERATURE','AVERAGE_ATMOSP_PRESSURE','AVERAGE_HUMIDITY','AVERAGE_WIND_SPEED'],axis=1)\n",
    "#testing = testing.drop(['AVERAGE_TEMPERATURE','AVERAGE_ATMOSP_PRESSURE','AVERAGE_HUMIDITY','AVERAGE_WIND_SPEED'],axis=1)"
   ]
  },
  {
   "cell_type": "code",
   "execution_count": 70,
   "metadata": {},
   "outputs": [
    {
     "name": "stdout",
     "output_type": "stream",
     "text": [
      "<class 'pandas.core.frame.DataFrame'>\n",
      "RangeIndex: 1500 entries, 0 to 1499\n",
      "Data columns (total 29 columns):\n",
      " #   Column                   Non-Null Count  Dtype  \n",
      "---  ------                   --------------  -----  \n",
      " 0   AVERAGE_FREE_FLOW_SPEED  1500 non-null   float64\n",
      " 1   AVERAGE_TIME_DIFF        1500 non-null   float64\n",
      " 2   AVERAGE_FREE_FLOW_TIME   1500 non-null   float64\n",
      " 3   AVERAGE_TEMPERATURE      1500 non-null   float64\n",
      " 4   AVERAGE_ATMOSP_PRESSURE  1500 non-null   float64\n",
      " 5   AVERAGE_HUMIDITY         1500 non-null   float64\n",
      " 6   AVERAGE_WIND_SPEED       1500 non-null   float64\n",
      " 7   AVERAGE_RAIN             1500 non-null   object \n",
      " 8   week                     1500 non-null   UInt32 \n",
      " 9   is_weekend               1500 non-null   int64  \n",
      " 10  AVERAGE_DISTANCE_FREE    1500 non-null   float64\n",
      " 11  AVERAGE_TIME             1500 non-null   float64\n",
      " 12  AVERAGE_SPEED            1500 non-null   float64\n",
      " 13  AVERAGE_SPEED_DIFF_Num   1500 non-null   float64\n",
      " 14  weekday_sin              1500 non-null   float64\n",
      " 15  weekday_cos              1500 non-null   float64\n",
      " 16  hour_sin                 1500 non-null   float64\n",
      " 17  hour_cos                 1500 non-null   float64\n",
      " 18  month_sin                1500 non-null   float64\n",
      " 19  month_cos                1500 non-null   float64\n",
      " 20  year_sin                 1500 non-null   float64\n",
      " 21  year_cos                 1500 non-null   float64\n",
      " 22  day_sin                  1500 non-null   float64\n",
      " 23  day_cos                  1500 non-null   float64\n",
      " 24  DARK                     1500 non-null   uint8  \n",
      " 25  LIGHT                    1500 non-null   uint8  \n",
      " 26  céu limpo                1500 non-null   uint8  \n",
      " 27  céu pouco nublado        1500 non-null   uint8  \n",
      " 28  nuvens dispersas         1500 non-null   uint8  \n",
      "dtypes: UInt32(1), float64(21), int64(1), object(1), uint8(5)\n",
      "memory usage: 284.3+ KB\n"
     ]
    }
   ],
   "source": [
    "testing.info()"
   ]
  },
  {
   "cell_type": "code",
   "execution_count": 71,
   "metadata": {},
   "outputs": [],
   "source": [
    "training.to_csv('processedTrain.csv',index=False)\n",
    "testing.to_csv('processedTest.csv',index=False)"
   ]
  }
 ],
 "metadata": {
  "interpreter": {
   "hash": "93f4246b72b1dfd2a0724448b6458aeeaf8f9dfbfbe240c26e171f90999410ad"
  },
  "kernelspec": {
   "display_name": "Python 3.8.8 64-bit ('base': conda)",
   "language": "python",
   "name": "python3"
  },
  "language_info": {
   "codemirror_mode": {
    "name": "ipython",
    "version": 3
   },
   "file_extension": ".py",
   "mimetype": "text/x-python",
   "name": "python",
   "nbconvert_exporter": "python",
   "pygments_lexer": "ipython3",
   "version": "3.8.0"
  },
  "orig_nbformat": 4
 },
 "nbformat": 4,
 "nbformat_minor": 2
}
