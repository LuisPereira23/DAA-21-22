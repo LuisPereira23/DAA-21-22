{
 "cells": [
  {
   "cell_type": "code",
   "execution_count": 1,
   "metadata": {},
   "outputs": [],
   "source": [
    "import numpy as np\n",
    "import pandas as pd\n",
    "import xlrd\n",
    "import xlwt\n",
    "import matplotlib.pyplot as plt\n",
    "import seaborn as sns\n",
    "import sklearn\n",
    "import jupyterlab\n",
    "%matplotlib inline\n",
    "import warnings"
   ]
  },
  {
   "cell_type": "code",
   "execution_count": 2,
   "metadata": {},
   "outputs": [],
   "source": [
    "warnings.filterwarnings(action='ignore', category=UserWarning)"
   ]
  },
  {
   "cell_type": "code",
   "execution_count": 3,
   "metadata": {},
   "outputs": [],
   "source": [
    "training = pd.read_csv('processedTrain.csv')"
   ]
  },
  {
   "cell_type": "code",
   "execution_count": 4,
   "metadata": {},
   "outputs": [],
   "source": [
    "\n",
    "X = training.drop(['AVERAGE_SPEED_DIFF'],axis=1)\n",
    "\n",
    "y = training['AVERAGE_SPEED_DIFF']\n"
   ]
  },
  {
   "cell_type": "code",
   "execution_count": 5,
   "metadata": {},
   "outputs": [],
   "source": [
    "from sklearn.model_selection import train_test_split\n",
    "from sklearn import preprocessing\n",
    "from imblearn.over_sampling import SMOTE\n",
    "from imblearn.over_sampling import RandomOverSampler\n",
    "from imblearn.over_sampling import RandomOverSampler\n",
    "from imblearn.under_sampling import RandomUnderSampler\n",
    "from imblearn.over_sampling import BorderlineSMOTE\n",
    "from imblearn.over_sampling import SVMSMOTE \n",
    "from imblearn.over_sampling import ADASYN\n",
    "from imblearn.combine import SMOTEENN \n",
    "from imblearn.combine import SMOTETomek \n",
    "from imblearn.under_sampling import NearMiss "
   ]
  },
  {
   "cell_type": "code",
   "execution_count": 6,
   "metadata": {},
   "outputs": [],
   "source": [
    "X_train,X_test,y_train,y_test = train_test_split(X,y,test_size=0.2, random_state=2021,stratify=y)"
   ]
  },
  {
   "cell_type": "code",
   "execution_count": 7,
   "metadata": {},
   "outputs": [],
   "source": [
    "#scaler = preprocessing.StandardScaler()\n",
    "#X_train_scaled = scaler.fit_transform(X_train)\n",
    "#X_test_scaled = scaler.transform(X_test)"
   ]
  },
  {
   "cell_type": "code",
   "execution_count": 8,
   "metadata": {},
   "outputs": [],
   "source": [
    "X_res = X_train\n",
    "#X_test = X_test_scaled\n",
    "y_res = y_train"
   ]
  },
  {
   "cell_type": "code",
   "execution_count": 9,
   "metadata": {},
   "outputs": [
    {
     "data": {
      "text/plain": [
       "None         1760\n",
       "Medium       1321\n",
       "Low          1135\n",
       "High          850\n",
       "Very_High     383\n",
       "Name: AVERAGE_SPEED_DIFF, dtype: int64"
      ]
     },
     "execution_count": 9,
     "metadata": {},
     "output_type": "execute_result"
    }
   ],
   "source": [
    "y_train.value_counts()"
   ]
  },
  {
   "cell_type": "code",
   "execution_count": 10,
   "metadata": {},
   "outputs": [],
   "source": [
    "strat = {\n",
    "    0: 1321,\n",
    "    1: 1135,\n",
    "    2: 1321, \n",
    "    3: 850,\n",
    "    4: 383,\n",
    "}\n",
    "\n",
    "nm = NearMiss(sampling_strategy=strat)\n",
    "\n",
    "#X_under, y_under = nm.fit_resample(X_train_scaled, y_train)\n",
    "\n",
    "#rus = RandomUnderSampler(sampling_strategy=strat)\n",
    "#X_under, y_under = rus.fit_resample(X_train_scaled, y_train)\n",
    "\n",
    "\n",
    "#X_res, y_res = ros.fit_resample(X_under, y_under)\n"
   ]
  },
  {
   "cell_type": "code",
   "execution_count": 11,
   "metadata": {},
   "outputs": [],
   "source": [
    "\n",
    "ros = RandomOverSampler(sampling_strategy=\"not majority\")\n",
    "smote = SMOTE(k_neighbors = 3)\n",
    "adasyn = ADASYN(random_state=2021)\n",
    "smoteBorder = BorderlineSMOTE(kind='borderline-2')\n",
    "smoteenn = SMOTEENN(sampling_strategy='not majority')\n",
    "smotetomek = SMOTETomek(sampling_strategy='auto')\n",
    "smoteSVM = SVMSMOTE(random_state=2021,sampling_strategy=\"not majority\")\n",
    "oversample = [ros,smote,adasyn,smoteBorder,smoteenn,smotetomek,smoteSVM]"
   ]
  },
  {
   "cell_type": "code",
   "execution_count": 12,
   "metadata": {},
   "outputs": [],
   "source": [
    "#y_train.value_counts().plot.pie(autopct='%.2f')"
   ]
  },
  {
   "cell_type": "code",
   "execution_count": 13,
   "metadata": {},
   "outputs": [],
   "source": [
    "#y_res.value_counts().plot.pie(autopct='%.2f')"
   ]
  },
  {
   "cell_type": "code",
   "execution_count": 14,
   "metadata": {},
   "outputs": [],
   "source": [
    "#sns.displot(y_res)\n",
    "#sns.displot(y_test)"
   ]
  },
  {
   "cell_type": "code",
   "execution_count": 15,
   "metadata": {},
   "outputs": [],
   "source": [
    "from sklearn.linear_model import LogisticRegression\n",
    "from sklearn.model_selection import cross_val_score\n",
    "from sklearn.linear_model import LogisticRegression\n",
    "from sklearn.neighbors import KNeighborsClassifier\n",
    "from xgboost import XGBClassifier\n",
    "from sklearn.svm import SVC\n",
    "from sklearn.tree import DecisionTreeClassifier\n",
    "from sklearn.ensemble import RandomForestClassifier, AdaBoostClassifier\n",
    "from imblearn.under_sampling import NearMiss\n",
    "from sklearn.linear_model import RidgeClassifier\n",
    "from imblearn.pipeline import make_pipeline\n",
    "from imblearn.pipeline import Pipeline \n",
    "from numpy import mean\n",
    "from numpy import std"
   ]
  },
  {
   "cell_type": "code",
   "execution_count": 16,
   "metadata": {},
   "outputs": [],
   "source": [
    "lr = LogisticRegression(solver='liblinear',random_state=2021)\n",
    "rf=RandomForestClassifier(random_state=2021,n_estimators=100)\n",
    "knn=KNeighborsClassifier()\n",
    "dt = DecisionTreeClassifier(random_state=2021)\n",
    "ada = AdaBoostClassifier(random_state=2021)\n",
    "svc = SVC(random_state=2021)\n",
    "xgb = XGBClassifier()\n",
    "rc = RidgeClassifier(random_state=2021)"
   ]
  },
  {
   "cell_type": "code",
   "execution_count": 17,
   "metadata": {},
   "outputs": [],
   "source": [
    "from sklearn.model_selection import StratifiedKFold\n",
    "cv_strat = StratifiedKFold(n_splits=10, shuffle=True, random_state=2021)"
   ]
  },
  {
   "cell_type": "code",
   "execution_count": 18,
   "metadata": {},
   "outputs": [],
   "source": [
    "models = [lr,rf,knn,dt,ada,svc,rc,xgb] "
   ]
  },
  {
   "cell_type": "code",
   "execution_count": 19,
   "metadata": {},
   "outputs": [
    {
     "name": "stdout",
     "output_type": "stream",
     "text": [
      ".................... RandomOverSampler(sampling_strategy='not majority') ..........................\n",
      "______________________________________________\n",
      "LogisticRegression(random_state=2021, solver='liblinear')\n",
      "..............................................\n",
      "Folds:  [0.73167155 0.73900293 0.73715125 0.69750367 0.70484581 0.69750367\n",
      " 0.74743025 0.75917768 0.74302496 0.7298091 ]\n",
      "CV Accuracy: 0.729 (0.020)\n",
      "Test Accuracy score:  72.63389581804842\n",
      "______________________________________________\n",
      "RandomForestClassifier(random_state=2021)\n",
      "..............................................\n",
      "Folds:  [0.81671554 0.82404692 0.8061674  0.79735683 0.81497797 0.79295154\n",
      " 0.80029369 0.81497797 0.79001468 0.80910426]\n",
      "CV Accuracy: 0.807 (0.011)\n",
      "Test Accuracy score:  81.29126925898753\n",
      "______________________________________________\n",
      "KNeighborsClassifier()\n",
      "..............................................\n",
      "Folds:  [0.6686217  0.63489736 0.66226138 0.63582966 0.61380323 0.64023495\n",
      " 0.61820852 0.62555066 0.66372981 0.63729809]\n",
      "CV Accuracy: 0.640 (0.018)\n",
      "Test Accuracy score:  62.289068231841526\n",
      "______________________________________________\n",
      "DecisionTreeClassifier(random_state=2021)\n",
      "..............................................\n",
      "Folds:  [0.73460411 0.75806452 0.7298091  0.74889868 0.72099853 0.7195301\n",
      " 0.69162996 0.71071953 0.74449339 0.74008811]\n",
      "CV Accuracy: 0.730 (0.019)\n",
      "Test Accuracy score:  73.0741012472487\n",
      "______________________________________________\n",
      "AdaBoostClassifier(random_state=2021)\n",
      "..............................................\n",
      "Folds:  [0.58651026 0.57771261 0.70337739 0.43759178 0.60352423 0.62555066\n",
      " 0.58590308 0.59324523 0.59618209 0.65932452]\n",
      "CV Accuracy: 0.597 (0.065)\n",
      "Test Accuracy score:  57.740278796771825\n",
      "______________________________________________\n",
      "SVC(random_state=2021)\n",
      "..............................................\n",
      "Folds:  [0.47067449 0.46627566 0.46549192 0.47577093 0.48898678 0.45668135\n",
      " 0.46989721 0.44640235 0.48017621 0.48017621]\n",
      "CV Accuracy: 0.470 (0.012)\n",
      "Test Accuracy score:  46.074834922964044\n",
      "______________________________________________\n",
      "RidgeClassifier(random_state=2021)\n",
      "..............................................\n",
      "Folds:  [0.65102639 0.63929619 0.65491924 0.60939794 0.61086637 0.6328928\n",
      " 0.64170338 0.65345081 0.63582966 0.6328928 ]\n",
      "CV Accuracy: 0.636 (0.015)\n",
      "Test Accuracy score:  62.14233308877476\n",
      "______________________________________________\n",
      "XGBClassifier(base_score=None, booster=None, colsample_bylevel=None,\n",
      "              colsample_bynode=None, colsample_bytree=None,\n",
      "              enable_categorical=False, gamma=None, gpu_id=None,\n",
      "              importance_type=None, interaction_constraints=None,\n",
      "              learning_rate=None, max_delta_step=None, max_depth=None,\n",
      "              min_child_weight=None, missing=nan, monotone_constraints=None,\n",
      "              n_estimators=100, n_jobs=None, num_parallel_tree=None,\n",
      "              predictor=None, random_state=None, reg_alpha=None,\n",
      "              reg_lambda=None, scale_pos_weight=None, subsample=None,\n",
      "              tree_method=None, validate_parameters=None, verbosity=None)\n",
      "..............................................\n",
      "[11:56:37] WARNING: C:/Users/Administrator/workspace/xgboost-win64_release_1.5.0/src/learner.cc:1115: Starting in XGBoost 1.3.0, the default evaluation metric used with the objective 'multi:softprob' was changed from 'merror' to 'mlogloss'. Explicitly set eval_metric if you'd like to restore the old behavior.\n",
      "Folds:  [0.80938416 0.80205279 0.78854626 0.80323054 0.79441997 0.79148311\n",
      " 0.77826725 0.81204112 0.79735683 0.81204112]\n",
      "CV Accuracy: 0.799 (0.010)\n",
      "Test Accuracy score:  81.43800440205429\n",
      ".................... SMOTE(k_neighbors=3) ..........................\n",
      "______________________________________________\n",
      "LogisticRegression(random_state=2021, solver='liblinear')\n",
      "..............................................\n",
      "Folds:  [0.73313783 0.73607038 0.73421439 0.69750367 0.70631424 0.71071953\n",
      " 0.74008811 0.76211454 0.7298091  0.73421439]\n",
      "CV Accuracy: 0.728 (0.018)\n",
      "Test Accuracy score:  73.0741012472487\n",
      "______________________________________________\n",
      "RandomForestClassifier(random_state=2021)\n",
      "..............................................\n",
      "Folds:  [0.80498534 0.80351906 0.80323054 0.81350954 0.80763583 0.79001468\n",
      " 0.80323054 0.80469897 0.79882526 0.82085169]\n",
      "CV Accuracy: 0.805 (0.008)\n",
      "Test Accuracy score:  81.8782098312546\n",
      "______________________________________________\n",
      "KNeighborsClassifier()\n",
      "..............................................\n",
      "Folds:  [0.67008798 0.63049853 0.6784141  0.65345081 0.62995595 0.64464023\n",
      " 0.64317181 0.64904552 0.65785609 0.64317181]\n",
      "CV Accuracy: 0.650 (0.015)\n",
      "Test Accuracy score:  62.06896551724138\n",
      "______________________________________________\n",
      "DecisionTreeClassifier(random_state=2021)\n",
      "..............................................\n",
      "Folds:  [0.74340176 0.74780059 0.72540382 0.73127753 0.74449339 0.72540382\n",
      " 0.73861968 0.73421439 0.74008811 0.74889868]\n",
      "CV Accuracy: 0.738 (0.008)\n",
      "Test Accuracy score:  74.32134996331622\n",
      "______________________________________________\n",
      "AdaBoostClassifier(random_state=2021)\n",
      "..............................................\n",
      "Folds:  [0.64222874 0.60557185 0.49632893 0.47136564 0.62701909 0.57268722\n",
      " 0.61380323 0.69750367 0.58002937 0.60939794]\n",
      "CV Accuracy: 0.592 (0.063)\n",
      "Test Accuracy score:  66.76449009537784\n",
      "______________________________________________\n",
      "SVC(random_state=2021)\n",
      "..............................................\n",
      "Folds:  [0.45601173 0.47214076 0.46989721 0.47577093 0.48604993 0.43906021\n",
      " 0.45668135 0.44052863 0.4743025  0.46549192]\n",
      "CV Accuracy: 0.464 (0.015)\n",
      "Test Accuracy score:  45.12105649303008\n",
      "______________________________________________\n",
      "RidgeClassifier(random_state=2021)\n",
      "..............................................\n",
      "Folds:  [0.64662757 0.63782991 0.64170338 0.6123348  0.60058737 0.62995595\n",
      " 0.6328928  0.64904552 0.64023495 0.63436123]\n",
      "CV Accuracy: 0.633 (0.014)\n",
      "Test Accuracy score:  62.87600880410859\n",
      "______________________________________________\n",
      "XGBClassifier(base_score=0.5, booster='gbtree', colsample_bylevel=1,\n",
      "              colsample_bynode=1, colsample_bytree=1, enable_categorical=False,\n",
      "              gamma=0, gpu_id=-1, importance_type=None,\n",
      "              interaction_constraints='', learning_rate=0.300000012,\n",
      "              max_delta_step=0, max_depth=6, min_child_weight=1, missing=nan,\n",
      "              monotone_constraints='()', n_estimators=100, n_jobs=12,\n",
      "              num_parallel_tree=1, objective='multi:softprob', predictor='auto',\n",
      "              random_state=0, reg_alpha=0, reg_lambda=1, scale_pos_weight=None,\n",
      "              subsample=1, tree_method='exact', validate_parameters=1,\n",
      "              verbosity=None)\n",
      "..............................................\n",
      "[11:57:15] WARNING: C:/Users/Administrator/workspace/xgboost-win64_release_1.5.0/src/learner.cc:1115: Starting in XGBoost 1.3.0, the default evaluation metric used with the objective 'multi:softprob' was changed from 'merror' to 'mlogloss'. Explicitly set eval_metric if you'd like to restore the old behavior.\n",
      "Folds:  [0.80791789 0.81671554 0.79441997 0.80910426 0.79735683 0.79295154\n",
      " 0.78267254 0.80469897 0.80763583 0.81350954]\n",
      "CV Accuracy: 0.803 (0.010)\n",
      "Test Accuracy score:  81.43800440205429\n",
      ".................... ADASYN(random_state=2021) ..........................\n",
      "______________________________________________\n",
      "LogisticRegression(random_state=2021, solver='liblinear')\n",
      "..............................................\n",
      "Folds:  [0.74193548 0.73020528 0.73274596 0.69016153 0.6989721  0.7092511\n",
      " 0.74743025 0.75330396 0.73715125 0.73715125]\n",
      "CV Accuracy: 0.728 (0.020)\n",
      "Test Accuracy score:  71.82685253118122\n",
      "______________________________________________\n",
      "RandomForestClassifier(random_state=2021)\n",
      "..............................................\n",
      "Folds:  [0.81231672 0.80938416 0.80323054 0.81204112 0.79295154 0.78854626\n",
      " 0.8061674  0.80176211 0.80176211 0.81350954]\n",
      "CV Accuracy: 0.804 (0.008)\n",
      "Test Accuracy score:  80.85106382978722\n",
      "______________________________________________\n",
      "KNeighborsClassifier()\n",
      "..............................................\n",
      "Folds:  [0.64076246 0.63929619 0.64317181 0.6328928  0.61086637 0.61380323\n",
      " 0.62114537 0.60939794 0.66226138 0.63142438]\n",
      "CV Accuracy: 0.631 (0.016)\n",
      "Test Accuracy score:  61.5553925165077\n",
      "______________________________________________\n",
      "DecisionTreeClassifier(random_state=2021)\n",
      "..............................................\n",
      "Folds:  [0.74046921 0.72727273 0.69603524 0.74008811 0.73127753 0.7092511\n",
      " 0.74743025 0.74449339 0.74008811 0.74008811]\n",
      "CV Accuracy: 0.732 (0.016)\n",
      "Test Accuracy score:  73.44093910491563\n",
      "______________________________________________\n",
      "AdaBoostClassifier(random_state=2021)\n",
      "..............................................\n",
      "Folds:  [0.48387097 0.64516129 0.68281938 0.39500734 0.56534508 0.57268722\n",
      " 0.46255507 0.63729809 0.56387665 0.57856094]\n",
      "CV Accuracy: 0.559 (0.084)\n",
      "Test Accuracy score:  60.01467351430667\n",
      "______________________________________________\n",
      "SVC(random_state=2021)\n",
      "..............................................\n",
      "Folds:  [0.3914956  0.40469208 0.40234949 0.40088106 0.39207048 0.39647577\n",
      " 0.3876652  0.37885463 0.40234949 0.39353891]\n",
      "CV Accuracy: 0.395 (0.008)\n",
      "Test Accuracy score:  38.95818048422598\n",
      "______________________________________________\n",
      "RidgeClassifier(random_state=2021)\n",
      "..............................................\n",
      "Folds:  [0.65102639 0.63929619 0.64464023 0.6020558  0.60499266 0.63436123\n",
      " 0.62995595 0.64904552 0.62701909 0.6328928 ]\n",
      "CV Accuracy: 0.632 (0.016)\n",
      "Test Accuracy score:  62.435803374908296\n",
      "______________________________________________\n",
      "XGBClassifier(base_score=0.5, booster='gbtree', colsample_bylevel=1,\n",
      "              colsample_bynode=1, colsample_bytree=1, enable_categorical=False,\n",
      "              gamma=0, gpu_id=-1, importance_type=None,\n",
      "              interaction_constraints='', learning_rate=0.300000012,\n",
      "              max_delta_step=0, max_depth=6, min_child_weight=1, missing=nan,\n",
      "              monotone_constraints='()', n_estimators=100, n_jobs=12,\n",
      "              num_parallel_tree=1, objective='multi:softprob', predictor='auto',\n",
      "              random_state=0, reg_alpha=0, reg_lambda=1, scale_pos_weight=None,\n",
      "              subsample=1, tree_method='exact', validate_parameters=1,\n",
      "              verbosity=None)\n",
      "..............................................\n",
      "[11:57:55] WARNING: C:/Users/Administrator/workspace/xgboost-win64_release_1.5.0/src/learner.cc:1115: Starting in XGBoost 1.3.0, the default evaluation metric used with the objective 'multi:softprob' was changed from 'merror' to 'mlogloss'. Explicitly set eval_metric if you'd like to restore the old behavior.\n",
      "Folds:  [0.79912023 0.81231672 0.79441997 0.8164464  0.7958884  0.79735683\n",
      " 0.79882526 0.8061674  0.81057269 0.81350954]\n",
      "CV Accuracy: 0.804 (0.008)\n",
      "Test Accuracy score:  81.21790168745414\n",
      ".................... BorderlineSMOTE(kind='borderline-2') ..........................\n",
      "______________________________________________\n",
      "LogisticRegression(random_state=2021, solver='liblinear')\n",
      "..............................................\n",
      "Folds:  [0.72140762 0.72727273 0.73421439 0.69603524 0.69750367 0.70484581\n",
      " 0.74302496 0.75330396 0.72540382 0.7298091 ]\n",
      "CV Accuracy: 0.723 (0.018)\n",
      "Test Accuracy score:  71.46001467351431\n",
      "______________________________________________\n",
      "RandomForestClassifier(random_state=2021)\n",
      "..............................................\n",
      "Folds:  [0.80058651 0.81085044 0.78707783 0.80910426 0.80029369 0.77973568\n",
      " 0.80910426 0.8061674  0.79882526 0.81497797]\n",
      "CV Accuracy: 0.802 (0.010)\n",
      "Test Accuracy score:  80.33749082905356\n",
      "______________________________________________\n",
      "KNeighborsClassifier()\n",
      "..............................................\n",
      "Folds:  [0.62756598 0.63343109 0.64464023 0.65198238 0.61527166 0.64023495\n",
      " 0.63876652 0.62555066 0.66226138 0.64023495]\n",
      "CV Accuracy: 0.638 (0.013)\n",
      "Test Accuracy score:  62.36243580337491\n",
      "______________________________________________\n",
      "DecisionTreeClassifier(random_state=2021)\n",
      "..............................................\n",
      "Folds:  [0.74486804 0.73607038 0.69162996 0.6989721  0.68575624 0.7195301\n",
      " 0.71806167 0.73274596 0.72540382 0.71218796]\n",
      "CV Accuracy: 0.717 (0.019)\n",
      "Test Accuracy score:  72.2670579603815\n",
      "______________________________________________\n",
      "AdaBoostClassifier(random_state=2021)\n",
      "..............................................\n",
      "Folds:  [0.47653959 0.56304985 0.54625551 0.27606461 0.44493392 0.53450808\n",
      " 0.44640235 0.44933921 0.55212922 0.61820852]\n",
      "CV Accuracy: 0.491 (0.091)\n",
      "Test Accuracy score:  46.14820249449743\n",
      "______________________________________________\n",
      "SVC(random_state=2021)\n",
      "..............................................\n",
      "Folds:  [0.46334311 0.44721408 0.46402349 0.45521292 0.44346549 0.4287812\n",
      " 0.44787078 0.41703377 0.46255507 0.43024963]\n",
      "CV Accuracy: 0.446 (0.015)\n",
      "Test Accuracy score:  43.50696991929567\n",
      "______________________________________________\n",
      "RidgeClassifier(random_state=2021)\n",
      "..............................................\n",
      "Folds:  [0.65249267 0.63196481 0.6328928  0.61674009 0.59765051 0.62408223\n",
      " 0.63729809 0.64023495 0.63436123 0.64170338]\n",
      "CV Accuracy: 0.631 (0.014)\n",
      "Test Accuracy score:  62.50917094644167\n",
      "______________________________________________\n",
      "XGBClassifier(base_score=0.5, booster='gbtree', colsample_bylevel=1,\n",
      "              colsample_bynode=1, colsample_bytree=1, enable_categorical=False,\n",
      "              gamma=0, gpu_id=-1, importance_type=None,\n",
      "              interaction_constraints='', learning_rate=0.300000012,\n",
      "              max_delta_step=0, max_depth=6, min_child_weight=1, missing=nan,\n",
      "              monotone_constraints='()', n_estimators=100, n_jobs=12,\n",
      "              num_parallel_tree=1, objective='multi:softprob', predictor='auto',\n",
      "              random_state=0, reg_alpha=0, reg_lambda=1, scale_pos_weight=None,\n",
      "              subsample=1, tree_method='exact', validate_parameters=1,\n",
      "              verbosity=None)\n",
      "..............................................\n",
      "[11:58:37] WARNING: C:/Users/Administrator/workspace/xgboost-win64_release_1.5.0/src/learner.cc:1115: Starting in XGBoost 1.3.0, the default evaluation metric used with the objective 'multi:softprob' was changed from 'merror' to 'mlogloss'. Explicitly set eval_metric if you'd like to restore the old behavior.\n",
      "Folds:  [0.81964809 0.80645161 0.79735683 0.8164464  0.78267254 0.80323054\n",
      " 0.7753304  0.7958884  0.79735683 0.8164464 ]\n",
      "CV Accuracy: 0.801 (0.014)\n",
      "Test Accuracy score:  80.41085840058693\n",
      ".................... SMOTEENN(sampling_strategy='not majority') ..........................\n",
      "______________________________________________\n",
      "LogisticRegression(random_state=2021, solver='liblinear')\n",
      "..............................................\n",
      "Folds:  [0.70967742 0.72727273 0.73274596 0.6989721  0.67988253 0.69750367\n",
      " 0.73715125 0.75477239 0.72393539 0.73127753]\n",
      "CV Accuracy: 0.719 (0.021)\n",
      "Test Accuracy score:  71.60674981658107\n",
      "______________________________________________\n",
      "RandomForestClassifier(random_state=2021)\n",
      "..............................................\n",
      "Folds:  [0.78592375 0.76832845 0.7650514  0.75330396 0.76064611 0.75770925\n",
      " 0.77679883 0.79148311 0.77973568 0.77386197]\n",
      "CV Accuracy: 0.771 (0.012)\n",
      "Test Accuracy score:  77.62289068231841\n",
      "______________________________________________\n",
      "KNeighborsClassifier()\n",
      "..............................................\n",
      "Folds:  [0.62463343 0.60703812 0.63142438 0.59324523 0.60058737 0.60499266\n",
      " 0.60058737 0.60939794 0.63876652 0.61527166]\n",
      "CV Accuracy: 0.613 (0.014)\n",
      "Test Accuracy score:  62.802641232575205\n",
      "______________________________________________\n",
      "DecisionTreeClassifier(random_state=2021)\n",
      "..............................................\n",
      "Folds:  [0.74926686 0.74340176 0.73421439 0.74743025 0.7195301  0.73127753\n",
      " 0.70631424 0.74449339 0.75917768 0.76358297]\n",
      "CV Accuracy: 0.740 (0.017)\n",
      "Test Accuracy score:  76.52237710931769\n",
      "______________________________________________\n",
      "AdaBoostClassifier(random_state=2021)\n",
      "..............................................\n",
      "Folds:  [0.7170088  0.71554252 0.72393539 0.70631424 0.68281938 0.47870778\n",
      " 0.66079295 0.70337739 0.72099853 0.72393539]\n",
      "CV Accuracy: 0.683 (0.071)\n",
      "Test Accuracy score:  72.12032281731474\n",
      "______________________________________________\n",
      "SVC(random_state=2021)\n",
      "..............................................\n",
      "Folds:  [0.30058651 0.31818182 0.32452276 0.32599119 0.32305433 0.30837004\n",
      " 0.29662261 0.30690162 0.29221733 0.31424376]\n",
      "CV Accuracy: 0.311 (0.011)\n",
      "Test Accuracy score:  29.933969185619958\n",
      "______________________________________________\n",
      "RidgeClassifier(random_state=2021)\n",
      "..............................................\n",
      "Folds:  [0.60997067 0.60557185 0.60646109 0.58590308 0.57268722 0.59618209\n",
      " 0.59324523 0.61967695 0.61380323 0.61674009]\n",
      "CV Accuracy: 0.602 (0.014)\n",
      "Test Accuracy score:  58.840792369772565\n",
      "______________________________________________\n",
      "XGBClassifier(base_score=0.5, booster='gbtree', colsample_bylevel=1,\n",
      "              colsample_bynode=1, colsample_bytree=1, enable_categorical=False,\n",
      "              gamma=0, gpu_id=-1, importance_type=None,\n",
      "              interaction_constraints='', learning_rate=0.300000012,\n",
      "              max_delta_step=0, max_depth=6, min_child_weight=1, missing=nan,\n",
      "              monotone_constraints='()', n_estimators=100, n_jobs=12,\n",
      "              num_parallel_tree=1, objective='multi:softprob', predictor='auto',\n",
      "              random_state=0, reg_alpha=0, reg_lambda=1, scale_pos_weight=None,\n",
      "              subsample=1, tree_method='exact', validate_parameters=1,\n",
      "              verbosity=None)\n",
      "..............................................\n",
      "[11:58:59] WARNING: C:/Users/Administrator/workspace/xgboost-win64_release_1.5.0/src/learner.cc:1115: Starting in XGBoost 1.3.0, the default evaluation metric used with the objective 'multi:softprob' was changed from 'merror' to 'mlogloss'. Explicitly set eval_metric if you'd like to restore the old behavior.\n",
      "Folds:  [0.79032258 0.7829912  0.77386197 0.74889868 0.76798825 0.75917768\n",
      " 0.76945668 0.78854626 0.79148311 0.78414097]\n",
      "CV Accuracy: 0.776 (0.014)\n",
      "Test Accuracy score:  77.32942039618489\n",
      ".................... SMOTETomek() ..........................\n",
      "______________________________________________\n",
      "LogisticRegression(random_state=2021, solver='liblinear')\n",
      "..............................................\n",
      "Folds:  [0.74046921 0.73753666 0.73715125 0.70044053 0.69603524 0.7092511\n",
      " 0.74449339 0.75477239 0.74008811 0.74155653]\n",
      "CV Accuracy: 0.730 (0.019)\n",
      "Test Accuracy score:  73.22083639031548\n",
      "______________________________________________\n",
      "RandomForestClassifier(random_state=2021)\n",
      "..............................................\n",
      "Folds:  [0.81378299 0.80791789 0.79001468 0.81057269 0.80176211 0.79001468\n",
      " 0.80029369 0.81204112 0.80910426 0.79882526]\n",
      "CV Accuracy: 0.803 (0.008)\n",
      "Test Accuracy score:  80.63096111518708\n",
      "______________________________________________\n",
      "KNeighborsClassifier()\n",
      "..............................................\n",
      "Folds:  [0.67008798 0.63929619 0.64170338 0.63436123 0.59618209 0.64464023\n",
      " 0.65785609 0.65345081 0.69016153 0.64610866]\n",
      "CV Accuracy: 0.647 (0.023)\n",
      "Test Accuracy score:  64.12325752017608\n",
      "______________________________________________\n",
      "DecisionTreeClassifier(random_state=2021)\n",
      "..............................................\n",
      "Folds:  [0.74340176 0.75366569 0.70484581 0.75477239 0.7195301  0.72099853\n",
      " 0.72540382 0.77239354 0.73861968 0.72834068]\n",
      "CV Accuracy: 0.736 (0.019)\n",
      "Test Accuracy score:  72.92736610418196\n",
      "______________________________________________\n",
      "AdaBoostClassifier(random_state=2021)\n",
      "..............................................\n",
      "Folds:  [0.58797654 0.58651026 0.68135095 0.55653451 0.47723935 0.60352423\n",
      " 0.61527166 0.66372981 0.54478708 0.60646109]\n",
      "CV Accuracy: 0.592 (0.055)\n",
      "Test Accuracy score:  46.294937637564196\n",
      "______________________________________________\n",
      "SVC(random_state=2021)\n",
      "..............................................\n",
      "Folds:  [0.47360704 0.47214076 0.4845815  0.47136564 0.48311307 0.43906021\n",
      " 0.4743025  0.46989721 0.47136564 0.46255507]\n",
      "CV Accuracy: 0.470 (0.012)\n",
      "Test Accuracy score:  45.12105649303008\n",
      "______________________________________________\n",
      "RidgeClassifier(random_state=2021)\n",
      "..............................................\n",
      "Folds:  [0.64956012 0.64662757 0.63729809 0.60352423 0.59911894 0.62408223\n",
      " 0.62995595 0.64464023 0.64023495 0.63142438]\n",
      "CV Accuracy: 0.631 (0.016)\n",
      "Test Accuracy score:  63.169479090242106\n",
      "______________________________________________\n",
      "XGBClassifier(base_score=0.5, booster='gbtree', colsample_bylevel=1,\n",
      "              colsample_bynode=1, colsample_bytree=1, enable_categorical=False,\n",
      "              gamma=0, gpu_id=-1, importance_type=None,\n",
      "              interaction_constraints='', learning_rate=0.300000012,\n",
      "              max_delta_step=0, max_depth=6, min_child_weight=1, missing=nan,\n",
      "              monotone_constraints='()', n_estimators=100, n_jobs=12,\n",
      "              num_parallel_tree=1, objective='multi:softprob', predictor='auto',\n",
      "              random_state=0, reg_alpha=0, reg_lambda=1, scale_pos_weight=None,\n",
      "              subsample=1, tree_method='exact', validate_parameters=1,\n",
      "              verbosity=None)\n",
      "..............................................\n",
      "[11:59:36] WARNING: C:/Users/Administrator/workspace/xgboost-win64_release_1.5.0/src/learner.cc:1115: Starting in XGBoost 1.3.0, the default evaluation metric used with the objective 'multi:softprob' was changed from 'merror' to 'mlogloss'. Explicitly set eval_metric if you'd like to restore the old behavior.\n",
      "Folds:  [0.81378299 0.80351906 0.8061674  0.7958884  0.79148311 0.78854626\n",
      " 0.79148311 0.82085169 0.8061674  0.80029369]\n",
      "CV Accuracy: 0.802 (0.010)\n",
      "Test Accuracy score:  80.11738811445342\n",
      ".................... SVMSMOTE(random_state=2021, sampling_strategy='not majority') ..........................\n",
      "______________________________________________\n",
      "LogisticRegression(random_state=2021, solver='liblinear')\n",
      "..............................................\n",
      "Folds:  [0.72140762 0.73313783 0.7298091  0.70190896 0.69309838 0.71512482\n",
      " 0.73421439 0.74596182 0.74889868 0.74155653]\n",
      "CV Accuracy: 0.727 (0.018)\n",
      "Test Accuracy score:  73.00073367571534\n",
      "______________________________________________\n",
      "RandomForestClassifier(random_state=2021)\n",
      "..............................................\n",
      "Folds:  [0.81818182 0.79472141 0.80763583 0.8061674  0.79441997 0.79441997\n",
      " 0.8061674  0.80763583 0.79882526 0.81204112]\n",
      "CV Accuracy: 0.804 (0.008)\n",
      "Test Accuracy score:  81.07116654438738\n",
      "______________________________________________\n",
      "KNeighborsClassifier()\n",
      "..............................................\n",
      "Folds:  [0.67302053 0.64516129 0.68428781 0.65198238 0.60939794 0.63582966\n",
      " 0.64757709 0.64610866 0.67547724 0.66666667]\n",
      "CV Accuracy: 0.654 (0.021)\n",
      "Test Accuracy score:  64.93030080704328\n",
      "______________________________________________\n",
      "DecisionTreeClassifier(random_state=2021)\n",
      "..............................................\n",
      "Folds:  [0.73753666 0.72727273 0.70778267 0.72393539 0.72393539 0.71659325\n",
      " 0.74155653 0.73274596 0.73568282 0.73861968]\n",
      "CV Accuracy: 0.729 (0.010)\n",
      "Test Accuracy score:  72.63389581804842\n",
      "______________________________________________\n",
      "AdaBoostClassifier(random_state=2021)\n",
      "..............................................\n",
      "Folds:  [0.51319648 0.63929619 0.54038179 0.62701909 0.53303965 0.6226138\n",
      " 0.61674009 0.69162996 0.60499266 0.6681351 ]\n",
      "CV Accuracy: 0.606 (0.056)\n",
      "Test Accuracy score:  48.49596478356567\n",
      "______________________________________________\n",
      "SVC(random_state=2021)\n",
      "..............................................\n",
      "Folds:  [0.46774194 0.46480938 0.47577093 0.48164464 0.48898678 0.46696035\n",
      " 0.47870778 0.45227606 0.47870778 0.47577093]\n",
      "CV Accuracy: 0.473 (0.010)\n",
      "Test Accuracy score:  45.56126192223037\n",
      "______________________________________________\n",
      "RidgeClassifier(random_state=2021)\n",
      "..............................................\n",
      "Folds:  [0.64809384 0.63929619 0.64757709 0.61967695 0.61086637 0.63142438\n",
      " 0.62848752 0.64317181 0.64757709 0.63876652]\n",
      "CV Accuracy: 0.635 (0.012)\n",
      "Test Accuracy score:  62.87600880410859\n",
      "______________________________________________\n",
      "XGBClassifier(base_score=0.5, booster='gbtree', colsample_bylevel=1,\n",
      "              colsample_bynode=1, colsample_bytree=1, enable_categorical=False,\n",
      "              gamma=0, gpu_id=-1, importance_type=None,\n",
      "              interaction_constraints='', learning_rate=0.300000012,\n",
      "              max_delta_step=0, max_depth=6, min_child_weight=1, missing=nan,\n",
      "              monotone_constraints='()', n_estimators=100, n_jobs=12,\n",
      "              num_parallel_tree=1, objective='multi:softprob', predictor='auto',\n",
      "              random_state=0, reg_alpha=0, reg_lambda=1, scale_pos_weight=None,\n",
      "              subsample=1, tree_method='exact', validate_parameters=1,\n",
      "              verbosity=None)\n",
      "..............................................\n",
      "[12:02:06] WARNING: C:/Users/Administrator/workspace/xgboost-win64_release_1.5.0/src/learner.cc:1115: Starting in XGBoost 1.3.0, the default evaluation metric used with the objective 'multi:softprob' was changed from 'merror' to 'mlogloss'. Explicitly set eval_metric if you'd like to restore the old behavior.\n",
      "Folds:  [0.81671554 0.81378299 0.79882526 0.8061674  0.80029369 0.79148311\n",
      " 0.79001468 0.81791483 0.81204112 0.80763583]\n",
      "CV Accuracy: 0.805 (0.010)\n",
      "Test Accuracy score:  81.73147468818782\n",
      "Best: (0.80666068098923, RandomForestClassifier(random_state=2021), RandomOverSampler(sampling_strategy='not majority'))\n"
     ]
    }
   ],
   "source": [
    "for j in oversample:\n",
    "    sampling = j\n",
    "    print('.................... '+str(j)+' ..........................')\n",
    "    for i in models:\n",
    "        model = i\n",
    "        imba_pipeline = make_pipeline(sampling,model)\n",
    "    \n",
    "        print('______________________________________________')\n",
    "        print(i)\n",
    "        print('..............................................')\n",
    "        cv = cross_val_score(imba_pipeline,X,y,cv=cv_strat,n_jobs=-1)\n",
    "        imba_pipeline.fit(X_res,y_res)\n",
    "        test_score = imba_pipeline.score(X_test, y_test)\n",
    "        print('Folds: ',cv)\n",
    "        print('CV Accuracy: %.3f (%.3f)' % (mean(cv*100), std(cv*100)))\n",
    "        print('Test Accuracy score: ',test_score*100)\n",
    "        if (mean(cv)>best[0]):\n",
    "            best = tuple((mean(cv),i,j))\n",
    "print('Best: '+ str(best) )\n"
   ]
  },
  {
   "cell_type": "code",
   "execution_count": 20,
   "metadata": {},
   "outputs": [],
   "source": [
    "from sklearn.model_selection import GridSearchCV \n",
    "from sklearn.model_selection import RandomizedSearchCV "
   ]
  },
  {
   "cell_type": "code",
   "execution_count": 21,
   "metadata": {},
   "outputs": [],
   "source": [
    "#simple performance reporting function\n",
    "def clf_performance(classifier, model_name):\n",
    "    print(model_name)\n",
    "    print('Best Score: ' + str(classifier.best_score_))\n",
    "    print('Test Score: ' + str(classifier.score(X_test, y_test)))\n",
    "    print('Best Parameters: ' + str(classifier.best_params_))"
   ]
  },
  {
   "cell_type": "code",
   "execution_count": 22,
   "metadata": {},
   "outputs": [
    {
     "data": {
      "text/plain": [
       "'param_grid = {\\'max_iter\\' : [200000000],\\n              \\'penalty\\' : [\\'l1\\', \\'l2\\'],\\n              \\'C\\' : np.logspace(-4, 4, 20),\\n              \\'solver\\' : [\\'liblinear\\']}\\n\\nnew_params = {\\'lr__\\' + key: param_grid[key] for key in param_grid}\\n\\nlr_pipe = Pipeline(steps=[(\"smote\", smote), (\"lr\", lr)])\\n\\nclf_lr = GridSearchCV(lr_pipe, param_grid = new_params, cv = cv_strat, verbose = True, n_jobs = -1)\\nbest_clf_lr = clf_lr.fit(X_res,y_res)\\nclf_performance(best_clf_lr,\\'Logistic Regression\\')'"
      ]
     },
     "execution_count": 22,
     "metadata": {},
     "output_type": "execute_result"
    }
   ],
   "source": [
    "'''param_grid = {'max_iter' : [200000000],\n",
    "              'penalty' : ['l1', 'l2'],\n",
    "              'C' : np.logspace(-4, 4, 20),\n",
    "              'solver' : ['liblinear']}\n",
    "\n",
    "new_params = {'lr__' + key: param_grid[key] for key in param_grid}\n",
    "\n",
    "lr_pipe = Pipeline(steps=[(\"smote\", smote), (\"lr\", lr)])\n",
    "\n",
    "clf_lr = GridSearchCV(lr_pipe, param_grid = new_params, cv = cv_strat, verbose = True, n_jobs = -1)\n",
    "best_clf_lr = clf_lr.fit(X_res,y_res)\n",
    "clf_performance(best_clf_lr,'Logistic Regression')'''\n"
   ]
  },
  {
   "cell_type": "code",
   "execution_count": 23,
   "metadata": {},
   "outputs": [
    {
     "name": "stdout",
     "output_type": "stream",
     "text": [
      "Fitting 10 folds for each of 4 candidates, totalling 40 fits\n"
     ]
    },
    {
     "name": "stderr",
     "output_type": "stream",
     "text": [
      "[Parallel(n_jobs=-1)]: Using backend LokyBackend with 12 concurrent workers.\n"
     ]
    },
    {
     "name": "stdout",
     "output_type": "stream",
     "text": [
      "KNN\n",
      "Best Score: 0.6858118591473287\n",
      "Test Score: 0.677916360968452\n",
      "Best Parameters: {'knn__algorithm': 'auto', 'knn__n_neighbors': 3, 'knn__p': 1, 'knn__weights': 'distance'}\n"
     ]
    },
    {
     "name": "stderr",
     "output_type": "stream",
     "text": [
      "[Parallel(n_jobs=-1)]: Done  40 out of  40 | elapsed:    0.6s finished\n"
     ]
    }
   ],
   "source": [
    "param_grid = {'n_neighbors' : [3],\n",
    "              'weights' : ['uniform', 'distance'],\n",
    "              'algorithm' : ['auto'],\n",
    "              'p' : [1,2]}\n",
    "\n",
    "new_params = {'knn__' + key: param_grid[key] for key in param_grid}\n",
    "\n",
    "knn_pipe = Pipeline(steps=[(\"smote\", smote), (\"knn\", knn)])\n",
    "\n",
    "clf_knn = GridSearchCV(estimator=knn_pipe, param_grid = new_params, cv = cv_strat, verbose = True, n_jobs = -1)\n",
    "best_clf_knn = clf_knn.fit(X_res,y_res)\n",
    "clf_performance(best_clf_knn,'KNN')"
   ]
  },
  {
   "cell_type": "code",
   "execution_count": 24,
   "metadata": {},
   "outputs": [
    {
     "data": {
      "text/plain": [
       "'param_grid =  {\\'n_estimators\\': [50,100,200,300,400,500,600,700,800,900,1000],\\n               \\'criterion\\':[\\'gini\\',\\'entropy\\'],\\n                                  \\'bootstrap\\': [True,False],\\n                                  \\'max_depth\\': [3,5,10,20,50,75,100,None],\\n                                  \\'max_features\\': [\\'auto\\',\\'sqrt\\'],\\n                                  \\'min_samples_leaf\\': [1,2,4,10],\\n                                  \\'min_samples_split\\': [2,5,10]}\\n                                  \\nnew_params = {\\'rf__\\' + key: param_grid[key] for key in param_grid}\\n\\nrf_pipe = Pipeline(steps=[(\"smote\", smote), (\"rf\", rf)])\\n                                  \\nclf_rf = RandomizedSearchCV(rf_pipe, param_distributions= new_params,cv = cv_strat, verbose = True, n_jobs = -1)\\nbest_clf_rf = clf_rf.fit(X_res,y_res)\\nclf_performance(best_clf_rf,\\'Random Forest\\')'"
      ]
     },
     "execution_count": 24,
     "metadata": {},
     "output_type": "execute_result"
    }
   ],
   "source": [
    "'''param_grid =  {'n_estimators': [50,100,200,300,400,500,600,700,800,900,1000],\n",
    "               'criterion':['gini','entropy'],\n",
    "                                  'bootstrap': [True,False],\n",
    "                                  'max_depth': [3,5,10,20,50,75,100,None],\n",
    "                                  'max_features': ['auto','sqrt'],\n",
    "                                  'min_samples_leaf': [1,2,4,10],\n",
    "                                  'min_samples_split': [2,5,10]}\n",
    "                                  \n",
    "new_params = {'rf__' + key: param_grid[key] for key in param_grid}\n",
    "\n",
    "rf_pipe = Pipeline(steps=[(\"smote\", smote), (\"rf\", rf)])\n",
    "                                  \n",
    "clf_rf = RandomizedSearchCV(rf_pipe, param_distributions= new_params,cv = cv_strat, verbose = True, n_jobs = -1)\n",
    "best_clf_rf = clf_rf.fit(X_res,y_res)\n",
    "clf_performance(best_clf_rf,'Random Forest')'''\n",
    "\n"
   ]
  },
  {
   "cell_type": "code",
   "execution_count": 25,
   "metadata": {},
   "outputs": [
    {
     "name": "stderr",
     "output_type": "stream",
     "text": [
      "[Parallel(n_jobs=-1)]: Using backend LokyBackend with 12 concurrent workers.\n"
     ]
    },
    {
     "name": "stdout",
     "output_type": "stream",
     "text": [
      "Fitting 10 folds for each of 1 candidates, totalling 10 fits\n"
     ]
    },
    {
     "name": "stderr",
     "output_type": "stream",
     "text": [
      "[Parallel(n_jobs=-1)]: Done  10 out of  10 | elapsed:    1.7s finished\n"
     ]
    },
    {
     "name": "stdout",
     "output_type": "stream",
     "text": [
      "Random Forest\n",
      "Best Score: 0.8025310307609284\n",
      "Test Score: 0.8092443140132062\n",
      "Best Parameters: {'rf__bootstrap': True, 'rf__criterion': 'gini', 'rf__max_depth': 25, 'rf__max_features': 'sqrt', 'rf__min_samples_leaf': 1, 'rf__min_samples_split': 2, 'rf__n_estimators': 100}\n"
     ]
    }
   ],
   "source": [
    "param_grid =  {'n_estimators': [100],\n",
    "               'min_samples_split': [2],\n",
    "               'min_samples_leaf': [1],\n",
    "               'max_features': ['sqrt'],\n",
    "               'max_depth': [25],\n",
    "               'criterion': ['gini'],\n",
    "               'bootstrap': [True]}\n",
    "\n",
    "new_params = {'rf__' + key: param_grid[key] for key in param_grid}\n",
    "\n",
    "rf_pipe = Pipeline(steps=[(\"smote\", smote), (\"rf\", rf)])\n",
    "                                  \n",
    "clf_rf = GridSearchCV(rf_pipe, param_grid= new_params,cv = cv_strat, verbose = True, n_jobs = -1)\n",
    "best_clf_rf = clf_rf.fit(X_res,y_res)\n",
    "clf_performance(best_clf_rf,'Random Forest')"
   ]
  },
  {
   "cell_type": "code",
   "execution_count": 26,
   "metadata": {},
   "outputs": [
    {
     "data": {
      "text/plain": [
       "<AxesSubplot:>"
      ]
     },
     "execution_count": 26,
     "metadata": {},
     "output_type": "execute_result"
    },
    {
     "data": {
      "image/png": "[encoded data removed]",
      "text/plain": [
       "<Figure size 432x288 with 1 Axes>"
      ]
     },
     "metadata": {
      "needs_background": "light"
     },
     "output_type": "display_data"
    }
   ],
   "source": [
    "best_rf = best_clf_rf.best_estimator_.fit(X_res,y_res)\n",
    "\n",
    "feat_importances = pd.Series(best_rf.steps[1][1].feature_importances_, index=X_train.columns)\n",
    "feat_importances.nlargest(20).plot(kind='barh')"
   ]
  },
  {
   "cell_type": "code",
   "execution_count": 27,
   "metadata": {},
   "outputs": [
    {
     "data": {
      "text/plain": [
       "'param_grid = {\\n    \\'n_estimators\\': [450,500,550],\\n    \\'colsample_bytree\\': [0.75,0.8,0.85,1],\\n    \\'max_depth\\': [None,10,20,30,50,100,200,300],\\n    \\'reg_alpha\\': [0,1,2],\\n    \\'reg_lambda\\': [2, 5, 10],\\n    \\'subsample\\': [0.55, 0.6, .65],\\n    \\'learning_rate\\':[0.2,0.3,0.5,0.6,0.7],\\n    \\'gamma\\':[.5,1,2],\\n    \\'min_child_weight\\':[0.01],\\n    \\'sampling_method\\': [\\'uniform\\']\\n}\\n\\nnew_params = {\\'xgb__\\' + key: param_grid[key] for key in param_grid}\\n\\nxgb_pipe = Pipeline(steps=[(\"smote\", smote), (\"xgb\", xgb)])\\n\\nclf_xgb = RandomizedSearchCV(xgb_pipe, param_distributions = new_params, cv = cv_strat, verbose = True, n_jobs = -1)\\nbest_clf_xgb = clf_xgb.fit(X,y)\\nclf_performance(best_clf_xgb,\\'XGB\\')'"
      ]
     },
     "execution_count": 27,
     "metadata": {},
     "output_type": "execute_result"
    }
   ],
   "source": [
    "'''param_grid = {\n",
    "    'n_estimators': [450,500,550],\n",
    "    'colsample_bytree': [0.75,0.8,0.85,1],\n",
    "    'max_depth': [None,10,20,30,50,100,200,300],\n",
    "    'reg_alpha': [0,1,2],\n",
    "    'reg_lambda': [2, 5, 10],\n",
    "    'subsample': [0.55, 0.6, .65],\n",
    "    'learning_rate':[0.2,0.3,0.5,0.6,0.7],\n",
    "    'gamma':[.5,1,2],\n",
    "    'min_child_weight':[0.01],\n",
    "    'sampling_method': ['uniform']\n",
    "}\n",
    "\n",
    "new_params = {'xgb__' + key: param_grid[key] for key in param_grid}\n",
    "\n",
    "xgb_pipe = Pipeline(steps=[(\"smote\", smote), (\"xgb\", xgb)])\n",
    "\n",
    "clf_xgb = RandomizedSearchCV(xgb_pipe, param_distributions = new_params, cv = cv_strat, verbose = True, n_jobs = -1)\n",
    "best_clf_xgb = clf_xgb.fit(X,y)\n",
    "clf_performance(best_clf_xgb,'XGB')'''\n"
   ]
  },
  {
   "cell_type": "code",
   "execution_count": 28,
   "metadata": {},
   "outputs": [
    {
     "name": "stdout",
     "output_type": "stream",
     "text": [
      "Fitting 10 folds for each of 1 candidates, totalling 10 fits\n"
     ]
    },
    {
     "name": "stderr",
     "output_type": "stream",
     "text": [
      "[Parallel(n_jobs=-1)]: Using backend LokyBackend with 12 concurrent workers.\n",
      "[Parallel(n_jobs=-1)]: Done  10 out of  10 | elapsed:  1.8min finished\n"
     ]
    },
    {
     "name": "stdout",
     "output_type": "stream",
     "text": [
      "[12:07:54] WARNING: C:/Users/Administrator/workspace/xgboost-win64_release_1.5.0/src/learner.cc:1115: Starting in XGBoost 1.3.0, the default evaluation metric used with the objective 'multi:softprob' was changed from 'merror' to 'mlogloss'. Explicitly set eval_metric if you'd like to restore the old behavior.\n",
      "XGB\n",
      "Best Score: 0.8005140313005936\n",
      "Test Score: 0.8195157740278797\n",
      "Best Parameters: {'xgb__colsample_bytree': 0.75, 'xgb__gamma': 0.5, 'xgb__learning_rate': 0.3, 'xgb__max_depth': 50, 'xgb__min_child_weight': 0.01, 'xgb__n_estimators': 550, 'xgb__reg_alpha': 2, 'xgb__reg_lambda': 5, 'xgb__sampling_method': 'uniform', 'xgb__subsample': 0.55}\n"
     ]
    }
   ],
   "source": [
    "\n",
    "param_grid = {\n",
    "    'n_estimators': [550],\n",
    "    'colsample_bytree': [0.75],\n",
    "    'max_depth': [50],\n",
    "    'reg_alpha': [2],\n",
    "    'reg_lambda': [5],\n",
    "    'subsample': [0.55],\n",
    "    'learning_rate':[0.3],\n",
    "    'gamma':[.5],\n",
    "    'min_child_weight':[0.01],\n",
    "    'sampling_method': ['uniform']\n",
    "}\n",
    "\n",
    "new_params = {'xgb__' + key: param_grid[key] for key in param_grid}\n",
    "\n",
    "xgb_pipe = Pipeline(steps=[(\"smote\", smote), (\"xgb\", xgb)])\n",
    "\n",
    "clf_xgb = GridSearchCV(xgb_pipe, param_grid = new_params, cv = cv_strat, verbose = True, n_jobs = -1)\n",
    "best_clf_xgb = clf_xgb.fit(X_res,y_res)\n",
    "clf_performance(best_clf_xgb,'XGB')\n"
   ]
  },
  {
   "cell_type": "code",
   "execution_count": 32,
   "metadata": {},
   "outputs": [
    {
     "name": "stdout",
     "output_type": "stream",
     "text": [
      "[12:09:27] WARNING: C:/Users/Administrator/workspace/xgboost-win64_release_1.5.0/src/learner.cc:1115: Starting in XGBoost 1.3.0, the default evaluation metric used with the objective 'multi:softprob' was changed from 'merror' to 'mlogloss'. Explicitly set eval_metric if you'd like to restore the old behavior.\n"
     ]
    }
   ],
   "source": [
    "lr = make_pipeline(sampling,lr).fit(X_res,y_res)\n",
    "dt = make_pipeline(sampling,dt).fit(X_res,y_res)\n",
    "knn = make_pipeline(sampling,knn).fit(X_res,y_res)\n",
    "rf = make_pipeline(sampling,rf).fit(X_res,y_res)\n",
    "xgb = make_pipeline(sampling,xgb).fit(X_res,y_res)"
   ]
  },
  {
   "cell_type": "code",
   "execution_count": 33,
   "metadata": {},
   "outputs": [],
   "source": [
    "all_models=[lr,dt,knn,rf,xgb,best_clf_knn,best_clf_rf,best_clf_xgb]"
   ]
  },
  {
   "cell_type": "code",
   "execution_count": 34,
   "metadata": {},
   "outputs": [
    {
     "name": "stdout",
     "output_type": "stream",
     "text": [
      "______________________________________________\n",
      "Pipeline(steps=[('svmsmote',\n",
      "                 SVMSMOTE(random_state=2021, sampling_strategy='not majority')),\n",
      "                ('pipeline',\n",
      "                 Pipeline(steps=[('svmsmote',\n",
      "                                  SVMSMOTE(random_state=2021,\n",
      "                                           sampling_strategy='not majority')),\n",
      "                                 ('pipeline',\n",
      "                                  Pipeline(steps=[('svmsmote',\n",
      "                                                   SVMSMOTE(random_state=2021,\n",
      "                                                            sampling_strategy='not '\n",
      "                                                                              'majority')),\n",
      "                                                  ('pipeline',\n",
      "                                                   Pipeline(steps=[('svmsmote',\n",
      "                                                                    SVMSMOTE(random_s...\n",
      "                                                                                     SVMSMOTE(random_state=2021,\n",
      "                                                                                              sampling_strategy='not '\n",
      "                                                                                                                'majority')),\n",
      "                                                                                    ('pipeline',\n",
      "                                                                                     Pipeline(steps=[('svmsmote',\n",
      "                                                                                                      SVMSMOTE(random_state=2021,\n",
      "                                                                                                               sampling_strategy='not '\n",
      "                                                                                                                                 'majority')),\n",
      "                                                                                                     ('pipeline',\n",
      "                                                                                                      Pipeline(steps=[('svmsmote',\n",
      "                                                                                                                       SVMSMOTE(random_state=2021,\n",
      "                                                                                                                                sampling_strategy='not '\n",
      "                                                                                                                                                  'majority')),\n",
      "                                                                                                                      ('logisticregression',\n",
      "                                                                                                                       LogisticRegression(random_state=2021,\n",
      "                                                                                                                                          solver='liblinear'))]))]))]))]))]))]))])\n",
      "..............................................\n"
     ]
    },
    {
     "data": {
      "image/png": "[encoded data removed]",
      "text/plain": [
       "<Figure size 432x288 with 1 Axes>"
      ]
     },
     "metadata": {
      "needs_background": "light"
     },
     "output_type": "display_data"
    },
    {
     "name": "stdout",
     "output_type": "stream",
     "text": [
      "______________________________________________\n",
      "Pipeline(steps=[('svmsmote',\n",
      "                 SVMSMOTE(random_state=2021, sampling_strategy='not majority')),\n",
      "                ('decisiontreeclassifier',\n",
      "                 DecisionTreeClassifier(random_state=2021))])\n",
      "..............................................\n"
     ]
    },
    {
     "data": {
      "image/png": "[encoded data removed]",
      "text/plain": [
       "<Figure size 432x288 with 1 Axes>"
      ]
     },
     "metadata": {
      "needs_background": "light"
     },
     "output_type": "display_data"
    },
    {
     "name": "stdout",
     "output_type": "stream",
     "text": [
      "______________________________________________\n",
      "Pipeline(steps=[('svmsmote',\n",
      "                 SVMSMOTE(random_state=2021, sampling_strategy='not majority')),\n",
      "                ('kneighborsclassifier', KNeighborsClassifier())])\n",
      "..............................................\n"
     ]
    },
    {
     "data": {
      "image/png": "[encoded data removed]",
      "text/plain": [
       "<Figure size 432x288 with 1 Axes>"
      ]
     },
     "metadata": {
      "needs_background": "light"
     },
     "output_type": "display_data"
    },
    {
     "name": "stdout",
     "output_type": "stream",
     "text": [
      "______________________________________________\n",
      "Pipeline(steps=[('svmsmote',\n",
      "                 SVMSMOTE(random_state=2021, sampling_strategy='not majority')),\n",
      "                ('randomforestclassifier',\n",
      "                 RandomForestClassifier(random_state=2021))])\n",
      "..............................................\n"
     ]
    },
    {
     "data": {
      "image/png": "[encoded data removed]",
      "text/plain": [
       "<Figure size 432x288 with 1 Axes>"
      ]
     },
     "metadata": {
      "needs_background": "light"
     },
     "output_type": "display_data"
    },
    {
     "name": "stdout",
     "output_type": "stream",
     "text": [
      "______________________________________________\n",
      "Pipeline(steps=[('svmsmote',\n",
      "                 SVMSMOTE(random_state=2021, sampling_strategy='not majority')),\n",
      "                ('xgbclassifier',\n",
      "                 XGBClassifier(base_score=0.5, booster='gbtree',\n",
      "                               colsample_bylevel=1, colsample_bynode=1,\n",
      "                               colsample_bytree=1, enable_categorical=False,\n",
      "                               gamma=0, gpu_id=-1, importance_type=None,\n",
      "                               interaction_constraints='',\n",
      "                               learning_rate=0.300000012, max_delta_step=0,\n",
      "                               max_depth=6, min_child_weight=1, missing=nan,\n",
      "                               monotone_constraints='()', n_estimators=100,\n",
      "                               n_jobs=12, num_parallel_tree=1,\n",
      "                               objective='multi:softprob', predictor='auto',\n",
      "                               random_state=0, reg_alpha=0, reg_lambda=1,\n",
      "                               scale_pos_weight=None, subsample=1,\n",
      "                               tree_method='exact', validate_parameters=1,\n",
      "                               verbosity=None))])\n",
      "..............................................\n"
     ]
    },
    {
     "data": {
      "image/png": "[encoded data removed]",
      "text/plain": [
       "<Figure size 432x288 with 1 Axes>"
      ]
     },
     "metadata": {
      "needs_background": "light"
     },
     "output_type": "display_data"
    },
    {
     "name": "stdout",
     "output_type": "stream",
     "text": [
      "______________________________________________\n",
      "GridSearchCV(cv=StratifiedKFold(n_splits=10, random_state=2021, shuffle=True),\n",
      "             estimator=Pipeline(steps=[('smote', SMOTE(k_neighbors=3)),\n",
      "                                       ('knn', KNeighborsClassifier())]),\n",
      "             n_jobs=-1,\n",
      "             param_grid={'knn__algorithm': ['auto'], 'knn__n_neighbors': [3],\n",
      "                         'knn__p': [1, 2],\n",
      "                         'knn__weights': ['uniform', 'distance']},\n",
      "             verbose=True)\n",
      "..............................................\n"
     ]
    },
    {
     "data": {
      "image/png": "[encoded data removed]",
      "text/plain": [
       "<Figure size 432x288 with 1 Axes>"
      ]
     },
     "metadata": {
      "needs_background": "light"
     },
     "output_type": "display_data"
    },
    {
     "name": "stdout",
     "output_type": "stream",
     "text": [
      "______________________________________________\n",
      "GridSearchCV(cv=StratifiedKFold(n_splits=10, random_state=2021, shuffle=True),\n",
      "             estimator=Pipeline(steps=[('smote', SMOTE(k_neighbors=3)),\n",
      "                                       ('rf',\n",
      "                                        RandomForestClassifier(random_state=2021))]),\n",
      "             n_jobs=-1,\n",
      "             param_grid={'rf__bootstrap': [True], 'rf__criterion': ['gini'],\n",
      "                         'rf__max_depth': [25], 'rf__max_features': ['sqrt'],\n",
      "                         'rf__min_samples_leaf': [1],\n",
      "                         'rf__min_samples_split': [2],\n",
      "                         'rf__n_estimators': [100]},\n",
      "             verbose=True)\n",
      "..............................................\n"
     ]
    },
    {
     "data": {
      "image/png": "[encoded data removed]",
      "text/plain": [
       "<Figure size 432x288 with 1 Axes>"
      ]
     },
     "metadata": {
      "needs_background": "light"
     },
     "output_type": "display_data"
    },
    {
     "name": "stdout",
     "output_type": "stream",
     "text": [
      "______________________________________________\n",
      "GridSearchCV(cv=StratifiedKFold(n_splits=10, random_state=2021, shuffle=True),\n",
      "             estimator=Pipeline(steps=[('smote', SMOTE(k_neighbors=3)),\n",
      "                                       ('xgb',\n",
      "                                        XGBClassifier(base_score=0.5,\n",
      "                                                      booster='gbtree',\n",
      "                                                      colsample_bylevel=1,\n",
      "                                                      colsample_bynode=1,\n",
      "                                                      colsample_bytree=1,\n",
      "                                                      enable_categorical=False,\n",
      "                                                      gamma=0, gpu_id=-1,\n",
      "                                                      importance_type=None,\n",
      "                                                      interaction_constraints='',\n",
      "                                                      learning_rate=0...\n",
      "                                                      tree_method='exact',\n",
      "                                                      validate_parameters=1,\n",
      "                                                      verbosity=None))]),\n",
      "             n_jobs=-1,\n",
      "             param_grid={'xgb__colsample_bytree': [0.75], 'xgb__gamma': [0.5],\n",
      "                         'xgb__learning_rate': [0.3], 'xgb__max_depth': [50],\n",
      "                         'xgb__min_child_weight': [0.01],\n",
      "                         'xgb__n_estimators': [550], 'xgb__reg_alpha': [2],\n",
      "                         'xgb__reg_lambda': [5],\n",
      "                         'xgb__sampling_method': ['uniform'],\n",
      "                         'xgb__subsample': [0.55]},\n",
      "             verbose=True)\n",
      "..............................................\n"
     ]
    },
    {
     "data": {
      "image/png": "[encoded data removed]",
      "text/plain": [
       "<Figure size 432x288 with 1 Axes>"
      ]
     },
     "metadata": {
      "needs_background": "light"
     },
     "output_type": "display_data"
    }
   ],
   "source": [
    "for i in all_models:\n",
    "    print('______________________________________________')\n",
    "    print(i)\n",
    "    print('..............................................')\n",
    "    prediction = i.predict(X_test)\n",
    "    plt.scatter(y_test,prediction)\n",
    "    plt.show()"
   ]
  },
  {
   "cell_type": "code",
   "execution_count": 69,
   "metadata": {},
   "outputs": [],
   "source": [
    "from sklearn.metrics import ConfusionMatrixDisplay\n",
    "from sklearn.metrics import confusion_matrix\n",
    "from sklearn.svm import SVC\n",
    "from sklearn.datasets import make_classification"
   ]
  },
  {
   "cell_type": "code",
   "execution_count": 84,
   "metadata": {},
   "outputs": [
    {
     "name": "stdout",
     "output_type": "stream",
     "text": [
      "Pipeline(steps=[('svmsmote',\n",
      "                 SVMSMOTE(random_state=2021, sampling_strategy='not majority')),\n",
      "                ('pipeline',\n",
      "                 Pipeline(steps=[('svmsmote',\n",
      "                                  SVMSMOTE(random_state=2021,\n",
      "                                           sampling_strategy='not majority')),\n",
      "                                 ('pipeline',\n",
      "                                  Pipeline(steps=[('svmsmote',\n",
      "                                                   SVMSMOTE(random_state=2021,\n",
      "                                                            sampling_strategy='not '\n",
      "                                                                              'majority')),\n",
      "                                                  ('pipeline',\n",
      "                                                   Pipeline(steps=[('svmsmote',\n",
      "                                                                    SVMSMOTE(random_s...\n",
      "                                                                                     SVMSMOTE(random_state=2021,\n",
      "                                                                                              sampling_strategy='not '\n",
      "                                                                                                                'majority')),\n",
      "                                                                                    ('pipeline',\n",
      "                                                                                     Pipeline(steps=[('svmsmote',\n",
      "                                                                                                      SVMSMOTE(random_state=2021,\n",
      "                                                                                                               sampling_strategy='not '\n",
      "                                                                                                                                 'majority')),\n",
      "                                                                                                     ('pipeline',\n",
      "                                                                                                      Pipeline(steps=[('svmsmote',\n",
      "                                                                                                                       SVMSMOTE(random_state=2021,\n",
      "                                                                                                                                sampling_strategy='not '\n",
      "                                                                                                                                                  'majority')),\n",
      "                                                                                                                      ('logisticregression',\n",
      "                                                                                                                       LogisticRegression(random_state=2021,\n",
      "                                                                                                                                          solver='liblinear'))]))]))]))]))]))]))])\n"
     ]
    },
    {
     "data": {
      "image/png": "[encoded data removed]",
      "text/plain": [
       "<Figure size 720x720 with 2 Axes>"
      ]
     },
     "metadata": {
      "needs_background": "light"
     },
     "output_type": "display_data"
    },
    {
     "name": "stdout",
     "output_type": "stream",
     "text": [
      "Pipeline(steps=[('svmsmote',\n",
      "                 SVMSMOTE(random_state=2021, sampling_strategy='not majority')),\n",
      "                ('decisiontreeclassifier',\n",
      "                 DecisionTreeClassifier(random_state=2021))])\n"
     ]
    },
    {
     "data": {
      "image/png": "[encoded data removed]",
      "text/plain": [
       "<Figure size 720x720 with 2 Axes>"
      ]
     },
     "metadata": {
      "needs_background": "light"
     },
     "output_type": "display_data"
    },
    {
     "name": "stdout",
     "output_type": "stream",
     "text": [
      "Pipeline(steps=[('svmsmote',\n",
      "                 SVMSMOTE(random_state=2021, sampling_strategy='not majority')),\n",
      "                ('kneighborsclassifier', KNeighborsClassifier())])\n"
     ]
    },
    {
     "data": {
      "image/png": "[encoded data removed]",
      "text/plain": [
       "<Figure size 720x720 with 2 Axes>"
      ]
     },
     "metadata": {
      "needs_background": "light"
     },
     "output_type": "display_data"
    },
    {
     "name": "stdout",
     "output_type": "stream",
     "text": [
      "Pipeline(steps=[('svmsmote',\n",
      "                 SVMSMOTE(random_state=2021, sampling_strategy='not majority')),\n",
      "                ('randomforestclassifier',\n",
      "                 RandomForestClassifier(random_state=2021))])\n"
     ]
    },
    {
     "data": {
      "image/png": "[encoded data removed]",
      "text/plain": [
       "<Figure size 720x720 with 2 Axes>"
      ]
     },
     "metadata": {
      "needs_background": "light"
     },
     "output_type": "display_data"
    },
    {
     "name": "stdout",
     "output_type": "stream",
     "text": [
      "Pipeline(steps=[('svmsmote',\n",
      "                 SVMSMOTE(random_state=2021, sampling_strategy='not majority')),\n",
      "                ('xgbclassifier',\n",
      "                 XGBClassifier(base_score=0.5, booster='gbtree',\n",
      "                               colsample_bylevel=1, colsample_bynode=1,\n",
      "                               colsample_bytree=1, enable_categorical=False,\n",
      "                               gamma=0, gpu_id=-1, importance_type=None,\n",
      "                               interaction_constraints='',\n",
      "                               learning_rate=0.300000012, max_delta_step=0,\n",
      "                               max_depth=6, min_child_weight=1, missing=nan,\n",
      "                               monotone_constraints='()', n_estimators=100,\n",
      "                               n_jobs=12, num_parallel_tree=1,\n",
      "                               objective='multi:softprob', predictor='auto',\n",
      "                               random_state=0, reg_alpha=0, reg_lambda=1,\n",
      "                               scale_pos_weight=None, subsample=1,\n",
      "                               tree_method='exact', validate_parameters=1,\n",
      "                               verbosity=None))])\n"
     ]
    },
    {
     "data": {
      "image/png": "[encoded data removed]",
      "text/plain": [
       "<Figure size 720x720 with 2 Axes>"
      ]
     },
     "metadata": {
      "needs_background": "light"
     },
     "output_type": "display_data"
    },
    {
     "name": "stdout",
     "output_type": "stream",
     "text": [
      "GridSearchCV(cv=StratifiedKFold(n_splits=10, random_state=2021, shuffle=True),\n",
      "             estimator=Pipeline(steps=[('smote', SMOTE(k_neighbors=3)),\n",
      "                                       ('knn', KNeighborsClassifier())]),\n",
      "             n_jobs=-1,\n",
      "             param_grid={'knn__algorithm': ['auto'], 'knn__n_neighbors': [3],\n",
      "                         'knn__p': [1, 2],\n",
      "                         'knn__weights': ['uniform', 'distance']},\n",
      "             verbose=True)\n"
     ]
    },
    {
     "data": {
      "image/png": "[encoded data removed]",
      "text/plain": [
       "<Figure size 720x720 with 2 Axes>"
      ]
     },
     "metadata": {
      "needs_background": "light"
     },
     "output_type": "display_data"
    },
    {
     "name": "stdout",
     "output_type": "stream",
     "text": [
      "GridSearchCV(cv=StratifiedKFold(n_splits=10, random_state=2021, shuffle=True),\n",
      "             estimator=Pipeline(steps=[('smote', SMOTE(k_neighbors=3)),\n",
      "                                       ('rf',\n",
      "                                        RandomForestClassifier(random_state=2021))]),\n",
      "             n_jobs=-1,\n",
      "             param_grid={'rf__bootstrap': [True], 'rf__criterion': ['gini'],\n",
      "                         'rf__max_depth': [25], 'rf__max_features': ['sqrt'],\n",
      "                         'rf__min_samples_leaf': [1],\n",
      "                         'rf__min_samples_split': [2],\n",
      "                         'rf__n_estimators': [100]},\n",
      "             verbose=True)\n"
     ]
    },
    {
     "data": {
      "image/png": "[encoded data removed]",
      "text/plain": [
       "<Figure size 720x720 with 2 Axes>"
      ]
     },
     "metadata": {
      "needs_background": "light"
     },
     "output_type": "display_data"
    },
    {
     "name": "stdout",
     "output_type": "stream",
     "text": [
      "GridSearchCV(cv=StratifiedKFold(n_splits=10, random_state=2021, shuffle=True),\n",
      "             estimator=Pipeline(steps=[('smote', SMOTE(k_neighbors=3)),\n",
      "                                       ('xgb',\n",
      "                                        XGBClassifier(base_score=0.5,\n",
      "                                                      booster='gbtree',\n",
      "                                                      colsample_bylevel=1,\n",
      "                                                      colsample_bynode=1,\n",
      "                                                      colsample_bytree=1,\n",
      "                                                      enable_categorical=False,\n",
      "                                                      gamma=0, gpu_id=-1,\n",
      "                                                      importance_type=None,\n",
      "                                                      interaction_constraints='',\n",
      "                                                      learning_rate=0...\n",
      "                                                      tree_method='exact',\n",
      "                                                      validate_parameters=1,\n",
      "                                                      verbosity=None))]),\n",
      "             n_jobs=-1,\n",
      "             param_grid={'xgb__colsample_bytree': [0.75], 'xgb__gamma': [0.5],\n",
      "                         'xgb__learning_rate': [0.3], 'xgb__max_depth': [50],\n",
      "                         'xgb__min_child_weight': [0.01],\n",
      "                         'xgb__n_estimators': [550], 'xgb__reg_alpha': [2],\n",
      "                         'xgb__reg_lambda': [5],\n",
      "                         'xgb__sampling_method': ['uniform'],\n",
      "                         'xgb__subsample': [0.55]},\n",
      "             verbose=True)\n"
     ]
    },
    {
     "data": {
      "image/png": "[encoded data removed]",
      "text/plain": [
       "<Figure size 720x720 with 2 Axes>"
      ]
     },
     "metadata": {
      "needs_background": "light"
     },
     "output_type": "display_data"
    }
   ],
   "source": [
    "for i in all_models:\n",
    "    model = i\n",
    "    y_pred = model.predict(X_test)\n",
    "    cm = confusion_matrix(y_test, y_pred)\n",
    "    # Normalise\n",
    "    cmn = cm.astype('float') / cm.sum(axis=1)[:, np.newaxis]\n",
    "    disp = ConfusionMatrixDisplay(confusion_matrix=cmn,display_labels=model.classes_)\n",
    "    fig, ax = plt.subplots(figsize=(10, 10))\n",
    "    plt.ylabel('Actual')\n",
    "    plt.xlabel('Predicted')\n",
    "    print(model)\n",
    "    disp.plot(ax = ax)\n",
    "    plt.show()"
   ]
  },
  {
   "cell_type": "code",
   "execution_count": 85,
   "metadata": {},
   "outputs": [
    {
     "name": "stdout",
     "output_type": "stream",
     "text": [
      "Pipeline(steps=[('svmsmote',\n",
      "                 SVMSMOTE(random_state=2021, sampling_strategy='not majority')),\n",
      "                ('pipeline',\n",
      "                 Pipeline(steps=[('svmsmote',\n",
      "                                  SVMSMOTE(random_state=2021,\n",
      "                                           sampling_strategy='not majority')),\n",
      "                                 ('pipeline',\n",
      "                                  Pipeline(steps=[('svmsmote',\n",
      "                                                   SVMSMOTE(random_state=2021,\n",
      "                                                            sampling_strategy='not '\n",
      "                                                                              'majority')),\n",
      "                                                  ('pipeline',\n",
      "                                                   Pipeline(steps=[('svmsmote',\n",
      "                                                                    SVMSMOTE(random_s...\n",
      "                                                                                     SVMSMOTE(random_state=2021,\n",
      "                                                                                              sampling_strategy='not '\n",
      "                                                                                                                'majority')),\n",
      "                                                                                    ('pipeline',\n",
      "                                                                                     Pipeline(steps=[('svmsmote',\n",
      "                                                                                                      SVMSMOTE(random_state=2021,\n",
      "                                                                                                               sampling_strategy='not '\n",
      "                                                                                                                                 'majority')),\n",
      "                                                                                                     ('pipeline',\n",
      "                                                                                                      Pipeline(steps=[('svmsmote',\n",
      "                                                                                                                       SVMSMOTE(random_state=2021,\n",
      "                                                                                                                                sampling_strategy='not '\n",
      "                                                                                                                                                  'majority')),\n",
      "                                                                                                                      ('logisticregression',\n",
      "                                                                                                                       LogisticRegression(random_state=2021,\n",
      "                                                                                                                                          solver='liblinear'))]))]))]))]))]))]))])\n",
      "\n",
      "Accuracy: 0.73\n",
      "\n",
      "Micro Precision: 0.73\n",
      "Micro Recall: 0.73\n",
      "Micro F1-score: 0.73\n",
      "\n",
      "Macro Precision: 0.72\n",
      "Macro Recall: 0.73\n",
      "Macro F1-score: 0.72\n",
      "\n",
      "Weighted Precision: 0.73\n",
      "Weighted Recall: 0.73\n",
      "Weighted F1-score: 0.73\n",
      "\n",
      "Classification Report\n",
      "\n",
      "              precision    recall  f1-score   support\n",
      "\n",
      "        None       0.74      0.63      0.68       213\n",
      "         Low       0.57      0.58      0.58       284\n",
      "      Medium       0.70      0.64      0.67       330\n",
      "        High       0.84      0.90      0.87       440\n",
      "   Very_High       0.76      0.91      0.82        96\n",
      "\n",
      "    accuracy                           0.73      1363\n",
      "   macro avg       0.72      0.73      0.72      1363\n",
      "weighted avg       0.73      0.73      0.73      1363\n",
      "\n",
      "Pipeline(steps=[('svmsmote',\n",
      "                 SVMSMOTE(random_state=2021, sampling_strategy='not majority')),\n",
      "                ('decisiontreeclassifier',\n",
      "                 DecisionTreeClassifier(random_state=2021))])\n",
      "\n",
      "Accuracy: 0.73\n",
      "\n",
      "Micro Precision: 0.73\n",
      "Micro Recall: 0.73\n",
      "Micro F1-score: 0.73\n",
      "\n",
      "Macro Precision: 0.72\n",
      "Macro Recall: 0.72\n",
      "Macro F1-score: 0.72\n",
      "\n",
      "Weighted Precision: 0.73\n",
      "Weighted Recall: 0.73\n",
      "Weighted F1-score: 0.73\n",
      "\n",
      "Classification Report\n",
      "\n",
      "              precision    recall  f1-score   support\n",
      "\n",
      "        None       0.68      0.67      0.67       213\n",
      "         Low       0.60      0.65      0.62       284\n",
      "      Medium       0.68      0.68      0.68       330\n",
      "        High       0.88      0.83      0.85       440\n",
      "   Very_High       0.76      0.78      0.77        96\n",
      "\n",
      "    accuracy                           0.73      1363\n",
      "   macro avg       0.72      0.72      0.72      1363\n",
      "weighted avg       0.73      0.73      0.73      1363\n",
      "\n",
      "Pipeline(steps=[('svmsmote',\n",
      "                 SVMSMOTE(random_state=2021, sampling_strategy='not majority')),\n",
      "                ('kneighborsclassifier', KNeighborsClassifier())])\n",
      "\n",
      "Accuracy: 0.65\n",
      "\n",
      "Micro Precision: 0.65\n",
      "Micro Recall: 0.65\n",
      "Micro F1-score: 0.65\n",
      "\n",
      "Macro Precision: 0.63\n",
      "Macro Recall: 0.65\n",
      "Macro F1-score: 0.64\n",
      "\n",
      "Weighted Precision: 0.66\n",
      "Weighted Recall: 0.65\n",
      "Weighted F1-score: 0.65\n",
      "\n",
      "Classification Report\n",
      "\n",
      "              precision    recall  f1-score   support\n",
      "\n",
      "        None       0.62      0.62      0.62       213\n",
      "         Low       0.49      0.55      0.51       284\n",
      "      Medium       0.71      0.58      0.63       330\n",
      "        High       0.76      0.77      0.77       440\n",
      "   Very_High       0.59      0.72      0.65        96\n",
      "\n",
      "    accuracy                           0.65      1363\n",
      "   macro avg       0.63      0.65      0.64      1363\n",
      "weighted avg       0.66      0.65      0.65      1363\n",
      "\n",
      "Pipeline(steps=[('svmsmote',\n",
      "                 SVMSMOTE(random_state=2021, sampling_strategy='not majority')),\n",
      "                ('randomforestclassifier',\n",
      "                 RandomForestClassifier(random_state=2021))])\n",
      "\n",
      "Accuracy: 0.81\n",
      "\n",
      "Micro Precision: 0.81\n",
      "Micro Recall: 0.81\n",
      "Micro F1-score: 0.81\n",
      "\n",
      "Macro Precision: 0.81\n",
      "Macro Recall: 0.81\n",
      "Macro F1-score: 0.81\n",
      "\n",
      "Weighted Precision: 0.81\n",
      "Weighted Recall: 0.81\n",
      "Weighted F1-score: 0.81\n",
      "\n",
      "Classification Report\n",
      "\n",
      "              precision    recall  f1-score   support\n",
      "\n",
      "        None       0.79      0.79      0.79       213\n",
      "         Low       0.68      0.76      0.72       284\n",
      "      Medium       0.82      0.73      0.77       330\n",
      "        High       0.90      0.90      0.90       440\n",
      "   Very_High       0.85      0.90      0.87        96\n",
      "\n",
      "    accuracy                           0.81      1363\n",
      "   macro avg       0.81      0.81      0.81      1363\n",
      "weighted avg       0.81      0.81      0.81      1363\n",
      "\n",
      "Pipeline(steps=[('svmsmote',\n",
      "                 SVMSMOTE(random_state=2021, sampling_strategy='not majority')),\n",
      "                ('xgbclassifier',\n",
      "                 XGBClassifier(base_score=0.5, booster='gbtree',\n",
      "                               colsample_bylevel=1, colsample_bynode=1,\n",
      "                               colsample_bytree=1, enable_categorical=False,\n",
      "                               gamma=0, gpu_id=-1, importance_type=None,\n",
      "                               interaction_constraints='',\n",
      "                               learning_rate=0.300000012, max_delta_step=0,\n",
      "                               max_depth=6, min_child_weight=1, missing=nan,\n",
      "                               monotone_constraints='()', n_estimators=100,\n",
      "                               n_jobs=12, num_parallel_tree=1,\n",
      "                               objective='multi:softprob', predictor='auto',\n",
      "                               random_state=0, reg_alpha=0, reg_lambda=1,\n",
      "                               scale_pos_weight=None, subsample=1,\n",
      "                               tree_method='exact', validate_parameters=1,\n",
      "                               verbosity=None))])\n",
      "\n",
      "Accuracy: 0.82\n",
      "\n",
      "Micro Precision: 0.82\n",
      "Micro Recall: 0.82\n",
      "Micro F1-score: 0.82\n",
      "\n",
      "Macro Precision: 0.81\n",
      "Macro Recall: 0.82\n",
      "Macro F1-score: 0.81\n",
      "\n",
      "Weighted Precision: 0.82\n",
      "Weighted Recall: 0.82\n",
      "Weighted F1-score: 0.82\n",
      "\n",
      "Classification Report\n",
      "\n",
      "              precision    recall  f1-score   support\n",
      "\n",
      "        None       0.80      0.77      0.79       213\n",
      "         Low       0.71      0.74      0.73       284\n",
      "      Medium       0.82      0.76      0.79       330\n",
      "        High       0.89      0.91      0.90       440\n",
      "   Very_High       0.80      0.90      0.85        96\n",
      "\n",
      "    accuracy                           0.82      1363\n",
      "   macro avg       0.81      0.82      0.81      1363\n",
      "weighted avg       0.82      0.82      0.82      1363\n",
      "\n",
      "GridSearchCV(cv=StratifiedKFold(n_splits=10, random_state=2021, shuffle=True),\n",
      "             estimator=Pipeline(steps=[('smote', SMOTE(k_neighbors=3)),\n",
      "                                       ('knn', KNeighborsClassifier())]),\n",
      "             n_jobs=-1,\n",
      "             param_grid={'knn__algorithm': ['auto'], 'knn__n_neighbors': [3],\n",
      "                         'knn__p': [1, 2],\n",
      "                         'knn__weights': ['uniform', 'distance']},\n",
      "             verbose=True)\n",
      "\n",
      "Accuracy: 0.68\n",
      "\n",
      "Micro Precision: 0.68\n",
      "Micro Recall: 0.68\n",
      "Micro F1-score: 0.68\n",
      "\n",
      "Macro Precision: 0.66\n",
      "Macro Recall: 0.67\n",
      "Macro F1-score: 0.67\n",
      "\n",
      "Weighted Precision: 0.68\n",
      "Weighted Recall: 0.68\n",
      "Weighted F1-score: 0.68\n",
      "\n",
      "Classification Report\n",
      "\n",
      "              precision    recall  f1-score   support\n",
      "\n",
      "        None       0.65      0.67      0.66       213\n",
      "         Low       0.52      0.54      0.53       284\n",
      "      Medium       0.71      0.61      0.65       330\n",
      "        High       0.78      0.82      0.80       440\n",
      "   Very_High       0.67      0.73      0.70        96\n",
      "\n",
      "    accuracy                           0.68      1363\n",
      "   macro avg       0.66      0.67      0.67      1363\n",
      "weighted avg       0.68      0.68      0.68      1363\n",
      "\n",
      "GridSearchCV(cv=StratifiedKFold(n_splits=10, random_state=2021, shuffle=True),\n",
      "             estimator=Pipeline(steps=[('smote', SMOTE(k_neighbors=3)),\n",
      "                                       ('rf',\n",
      "                                        RandomForestClassifier(random_state=2021))]),\n",
      "             n_jobs=-1,\n",
      "             param_grid={'rf__bootstrap': [True], 'rf__criterion': ['gini'],\n",
      "                         'rf__max_depth': [25], 'rf__max_features': ['sqrt'],\n",
      "                         'rf__min_samples_leaf': [1],\n",
      "                         'rf__min_samples_split': [2],\n",
      "                         'rf__n_estimators': [100]},\n",
      "             verbose=True)\n",
      "\n",
      "Accuracy: 0.81\n",
      "\n",
      "Micro Precision: 0.81\n",
      "Micro Recall: 0.81\n",
      "Micro F1-score: 0.81\n",
      "\n",
      "Macro Precision: 0.80\n",
      "Macro Recall: 0.80\n",
      "Macro F1-score: 0.80\n",
      "\n",
      "Weighted Precision: 0.81\n",
      "Weighted Recall: 0.81\n",
      "Weighted F1-score: 0.81\n",
      "\n",
      "Classification Report\n",
      "\n",
      "              precision    recall  f1-score   support\n",
      "\n",
      "        None       0.79      0.77      0.78       213\n",
      "         Low       0.68      0.75      0.71       284\n",
      "      Medium       0.81      0.74      0.77       330\n",
      "        High       0.90      0.90      0.90       440\n",
      "   Very_High       0.80      0.88      0.84        96\n",
      "\n",
      "    accuracy                           0.81      1363\n",
      "   macro avg       0.80      0.80      0.80      1363\n",
      "weighted avg       0.81      0.81      0.81      1363\n",
      "\n",
      "GridSearchCV(cv=StratifiedKFold(n_splits=10, random_state=2021, shuffle=True),\n",
      "             estimator=Pipeline(steps=[('smote', SMOTE(k_neighbors=3)),\n",
      "                                       ('xgb',\n",
      "                                        XGBClassifier(base_score=0.5,\n",
      "                                                      booster='gbtree',\n",
      "                                                      colsample_bylevel=1,\n",
      "                                                      colsample_bynode=1,\n",
      "                                                      colsample_bytree=1,\n",
      "                                                      enable_categorical=False,\n",
      "                                                      gamma=0, gpu_id=-1,\n",
      "                                                      importance_type=None,\n",
      "                                                      interaction_constraints='',\n",
      "                                                      learning_rate=0...\n",
      "                                                      tree_method='exact',\n",
      "                                                      validate_parameters=1,\n",
      "                                                      verbosity=None))]),\n",
      "             n_jobs=-1,\n",
      "             param_grid={'xgb__colsample_bytree': [0.75], 'xgb__gamma': [0.5],\n",
      "                         'xgb__learning_rate': [0.3], 'xgb__max_depth': [50],\n",
      "                         'xgb__min_child_weight': [0.01],\n",
      "                         'xgb__n_estimators': [550], 'xgb__reg_alpha': [2],\n",
      "                         'xgb__reg_lambda': [5],\n",
      "                         'xgb__sampling_method': ['uniform'],\n",
      "                         'xgb__subsample': [0.55]},\n",
      "             verbose=True)\n",
      "\n",
      "Accuracy: 0.82\n",
      "\n",
      "Micro Precision: 0.82\n",
      "Micro Recall: 0.82\n",
      "Micro F1-score: 0.82\n",
      "\n",
      "Macro Precision: 0.81\n",
      "Macro Recall: 0.82\n",
      "Macro F1-score: 0.82\n",
      "\n",
      "Weighted Precision: 0.82\n",
      "Weighted Recall: 0.82\n",
      "Weighted F1-score: 0.82\n",
      "\n",
      "Classification Report\n",
      "\n",
      "              precision    recall  f1-score   support\n",
      "\n",
      "        None       0.84      0.79      0.81       213\n",
      "         Low       0.71      0.71      0.71       284\n",
      "      Medium       0.82      0.80      0.81       330\n",
      "        High       0.88      0.90      0.89       440\n",
      "   Very_High       0.83      0.89      0.85        96\n",
      "\n",
      "    accuracy                           0.82      1363\n",
      "   macro avg       0.81      0.82      0.82      1363\n",
      "weighted avg       0.82      0.82      0.82      1363\n",
      "\n"
     ]
    }
   ],
   "source": [
    "from sklearn.metrics import accuracy_score, precision_score, recall_score, f1_score\n",
    "from sklearn.metrics import classification_report\n",
    "\n",
    "for i in all_models:\n",
    "    print(i)\n",
    "    y_pred = i.predict(X_test)\n",
    "    print('\\nAccuracy: {:.2f}\\n'.format(accuracy_score(y_test, y_pred)))\n",
    "\n",
    "    print('Micro Precision: {:.2f}'.format(precision_score(y_test, y_pred, average='micro')))\n",
    "    print('Micro Recall: {:.2f}'.format(recall_score(y_test, y_pred, average='micro')))\n",
    "    print('Micro F1-score: {:.2f}\\n'.format(f1_score(y_test, y_pred, average='micro')))\n",
    "\n",
    "    print('Macro Precision: {:.2f}'.format(precision_score(y_test, y_pred, average='macro')))\n",
    "    print('Macro Recall: {:.2f}'.format(recall_score(y_test, y_pred, average='macro')))\n",
    "    print('Macro F1-score: {:.2f}\\n'.format(f1_score(y_test, y_pred, average='macro')))\n",
    "\n",
    "    print('Weighted Precision: {:.2f}'.format(precision_score(y_test, y_pred, average='weighted')))\n",
    "    print('Weighted Recall: {:.2f}'.format(recall_score(y_test, y_pred, average='weighted')))\n",
    "    print('Weighted F1-score: {:.2f}'.format(f1_score(y_test, y_pred, average='weighted')))\n",
    "\n",
    "\n",
    "    print('\\nClassification Report\\n')\n",
    "    print(classification_report(y_test, y_pred, target_names=['None', 'Low', 'Medium', 'High', 'Very_High']))"
   ]
  },
  {
   "cell_type": "code",
   "execution_count": 37,
   "metadata": {},
   "outputs": [],
   "source": [
    "import pickle"
   ]
  },
  {
   "cell_type": "code",
   "execution_count": 38,
   "metadata": {},
   "outputs": [],
   "source": [
    "#filename = 'rf-grid-81-75-73-90-92.sav'\n",
    "#pickle.dump(best_clf_rf, open(filename, 'wb'))"
   ]
  },
  {
   "cell_type": "code",
   "execution_count": 39,
   "metadata": {},
   "outputs": [],
   "source": [
    "#loaded_model = pickle.load(open(filename, 'rb'))"
   ]
  },
  {
   "cell_type": "code",
   "execution_count": 40,
   "metadata": {},
   "outputs": [],
   "source": [
    "testing = pd.read_csv('processedTest.csv')"
   ]
  },
  {
   "cell_type": "code",
   "execution_count": 41,
   "metadata": {},
   "outputs": [],
   "source": [
    "#testing[['AVERAGE_ATMOSP_PRESSURE','AVERAGE_HUMIDITY','AVERAGE_TEMPERATURE','AVERAGE_TIME_DIFF','AVERAGE_WIND_SPEED','AVERAGE_TIME','AVERAGE_SPEED','AVERAGE_SPEED_DIFF_Num']] = scaler.transform(testing[['AVERAGE_ATMOSP_PRESSURE','AVERAGE_HUMIDITY','AVERAGE_TEMPERATURE','AVERAGE_TIME_DIFF','AVERAGE_WIND_SPEED','AVERAGE_TIME','AVERAGE_SPEED','AVERAGE_SPEED_DIFF_Num']])"
   ]
  },
  {
   "cell_type": "code",
   "execution_count": 42,
   "metadata": {},
   "outputs": [],
   "source": [
    "#testing_scaled = scaler.transform(testing)"
   ]
  },
  {
   "cell_type": "code",
   "execution_count": 43,
   "metadata": {},
   "outputs": [],
   "source": [
    "prediction = best_clf_rf.predict(testing)"
   ]
  },
  {
   "cell_type": "code",
   "execution_count": 44,
   "metadata": {},
   "outputs": [],
   "source": [
    "prediction = pd.DataFrame({'AVERAGE_SPEED_DIFF': prediction})"
   ]
  },
  {
   "cell_type": "code",
   "execution_count": 45,
   "metadata": {},
   "outputs": [],
   "source": [
    "#prediction.loc[prediction.AVERAGE_SPEED_DIFF == 0, 'AVERAGE_SPEED_DIFF'] = 'None'\n",
    "#prediction.loc[prediction.AVERAGE_SPEED_DIFF == 1, 'AVERAGE_SPEED_DIFF'] = 'Low'\n",
    "#prediction.loc[prediction.AVERAGE_SPEED_DIFF == 2, 'AVERAGE_SPEED_DIFF'] = 'Medium'\n",
    "#prediction.loc[prediction.AVERAGE_SPEED_DIFF == 3, 'AVERAGE_SPEED_DIFF'] = 'High'\n",
    "#prediction.loc[prediction.AVERAGE_SPEED_DIFF == 4, 'AVERAGE_SPEED_DIFF'] = 'Very_High'\n"
   ]
  },
  {
   "cell_type": "code",
   "execution_count": 46,
   "metadata": {},
   "outputs": [],
   "source": [
    "sub_df = pd.read_csv('example_submission.csv')\n",
    "final_data = {'RowId': sub_df.RowId, 'Speed_Diff': prediction.AVERAGE_SPEED_DIFF}\n",
    "submission = pd.DataFrame(data=final_data)"
   ]
  },
  {
   "cell_type": "code",
   "execution_count": 47,
   "metadata": {},
   "outputs": [],
   "source": [
    "compare = pd.read_csv('sample_submission.csv')"
   ]
  },
  {
   "cell_type": "code",
   "execution_count": 48,
   "metadata": {},
   "outputs": [
    {
     "data": {
      "text/plain": [
       "None         428\n",
       "Low          365\n",
       "Medium       326\n",
       "High         268\n",
       "Very_High    113\n",
       "Name: Speed_Diff, dtype: int64"
      ]
     },
     "execution_count": 48,
     "metadata": {},
     "output_type": "execute_result"
    }
   ],
   "source": [
    "submission['Speed_Diff'].value_counts()"
   ]
  },
  {
   "cell_type": "code",
   "execution_count": 49,
   "metadata": {},
   "outputs": [
    {
     "data": {
      "text/plain": [
       "None         482\n",
       "Medium       340\n",
       "Low          313\n",
       "High         268\n",
       "Very_High     97\n",
       "Name: Speed_Diff, dtype: int64"
      ]
     },
     "execution_count": 49,
     "metadata": {},
     "output_type": "execute_result"
    }
   ],
   "source": [
    "compare['Speed_Diff'].value_counts()"
   ]
  },
  {
   "cell_type": "code",
   "execution_count": 50,
   "metadata": {},
   "outputs": [
    {
     "data": {
      "text/plain": [
       "equals\n",
       "True      1273\n",
       "False      227\n",
       "dtype: int64"
      ]
     },
     "execution_count": 50,
     "metadata": {},
     "output_type": "execute_result"
    }
   ],
   "source": [
    "df1 = np.where(submission['Speed_Diff'] == compare['Speed_Diff'], 'True', 'False')\n",
    "df1 = pd.DataFrame(df1)\n",
    "df1.columns=['equals']\n",
    "df1.value_counts()"
   ]
  },
  {
   "cell_type": "code",
   "execution_count": 51,
   "metadata": {},
   "outputs": [],
   "source": [
    "submission.to_csv('submission.csv',index=False)"
   ]
  }
 ],
 "metadata": {
  "interpreter": {
   "hash": "93f4246b72b1dfd2a0724448b6458aeeaf8f9dfbfbe240c26e171f90999410ad"
  },
  "kernelspec": {
   "display_name": "Python 3.8.8 64-bit ('base': conda)",
   "language": "python",
   "name": "python3"
  },
  "language_info": {
   "codemirror_mode": {
    "name": "ipython",
    "version": 3
   },
   "file_extension": ".py",
   "mimetype": "text/x-python",
   "name": "python",
   "nbconvert_exporter": "python",
   "pygments_lexer": "ipython3",
   "version": "3.8.0"
  },
  "orig_nbformat": 4
 },
 "nbformat": 4,
 "nbformat_minor": 2
}
