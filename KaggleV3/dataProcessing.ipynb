{
 "cells": [
  {
   "cell_type": "code",
   "execution_count": 22,
   "metadata": {},
   "outputs": [],
   "source": [
    "import numpy as np\n",
    "import pandas as pd\n",
    "import xlrd\n",
    "import xlwt\n",
    "import matplotlib.pyplot as plt\n",
    "import seaborn as sns\n",
    "import sklearn\n",
    "import jupyterlab\n",
    "import statsmodels.api as sm\n",
    "from pandas_profiling import ProfileReport \n",
    "from feature_engine.creation import CyclicalTransformer\n",
    "import warnings\n",
    "warnings.filterwarnings(\"ignore\", category=UserWarning)\n",
    "%matplotlib inline"
   ]
  },
  {
   "cell_type": "code",
   "execution_count": 23,
   "metadata": {},
   "outputs": [],
   "source": [
    "training = pd.read_csv('training_data.csv', encoding = \"latin\")\n",
    "testing = pd.read_csv('test_data.csv', encoding = \"latin\")\n",
    "datasets = [training,testing]"
   ]
  },
  {
   "cell_type": "code",
   "execution_count": 24,
   "metadata": {},
   "outputs": [],
   "source": [
    "for data in datasets:\n",
    " #data['AVERAGE_CLOUDINESS'] = data['AVERAGE_CLOUDINESS'].fillna(data['AVERAGE_CLOUDINESS'].mode()[0])\n",
    " data['AVERAGE_RAIN'] = data['AVERAGE_RAIN'].fillna('NoData')\n",
    " data['AVERAGE_CLOUDINESS'] = data['AVERAGE_CLOUDINESS'].fillna('NoData')"
   ]
  },
  {
   "cell_type": "code",
   "execution_count": 25,
   "metadata": {},
   "outputs": [],
   "source": [
    "for data in datasets:\n",
    "\n",
    "    data['record_date'] = pd.to_datetime(training['record_date'])\n",
    "\n",
    "    data['weekday'] = data['record_date'].dt.dayofweek\n",
    "    data['hour'] = data['record_date'].dt.hour\n",
    "    data['month'] = data['record_date'].dt.month\n",
    "    data['year'] = data['record_date'].dt.year\n",
    "    data['day'] = data['record_date'].dt.day\n",
    "    #data['week'] = data['record_date'].dt.isocalendar().week"
   ]
  },
  {
   "cell_type": "code",
   "execution_count": 26,
   "metadata": {},
   "outputs": [],
   "source": [
    "for data in datasets:\n",
    "    data['is_weekend'] = np.where(data['weekday'].isin(['Sunday','Saturday']),1,0)"
   ]
  },
  {
   "cell_type": "code",
   "execution_count": 27,
   "metadata": {},
   "outputs": [],
   "source": [
    "for data in datasets:\n",
    "    data['AVERAGE_DISTANCE_FREE'] = data['AVERAGE_FREE_FLOW_TIME'] * data['AVERAGE_FREE_FLOW_SPEED']\n",
    "    data['AVERAGE_TIME'] = data['AVERAGE_TIME_DIFF'] + data['AVERAGE_FREE_FLOW_TIME'] \n",
    "    data['AVERAGE_SPEED'] =  data['AVERAGE_DISTANCE_FREE'] / data['AVERAGE_TIME']\n",
    "    data['AVERAGE_SPEED_DIFF_Num'] =  data['AVERAGE_FREE_FLOW_SPEED'] - data['AVERAGE_SPEED']"
   ]
  },
  {
   "cell_type": "code",
   "execution_count": 28,
   "metadata": {},
   "outputs": [
    {
     "data": {
      "text/plain": [
       "873     6\n",
       "768     6\n",
       "4665    6\n",
       "4671    6\n",
       "773     6\n",
       "       ..\n",
       "5604    0\n",
       "5603    0\n",
       "2434    0\n",
       "5599    0\n",
       "2688    0\n",
       "Name: weekday, Length: 6812, dtype: int8"
      ]
     },
     "execution_count": 28,
     "metadata": {},
     "output_type": "execute_result"
    }
   ],
   "source": [
    "corr = training.copy()\n",
    "\n",
    "corr['AVERAGE_RAIN']=corr['AVERAGE_RAIN'].astype('category').cat.codes\n",
    "corr['AVERAGE_RAIN'].sort_values(ascending=False)\n",
    "\n",
    "corr['AVERAGE_CLOUDINESS']=corr['AVERAGE_CLOUDINESS'].astype('category').cat.codes\n",
    "corr['AVERAGE_CLOUDINESS'].sort_values(ascending=False)\n",
    "\n",
    "corr['AVERAGE_SPEED_DIFF']=corr['AVERAGE_SPEED_DIFF'].astype('category').cat.codes\n",
    "corr['AVERAGE_SPEED_DIFF'].sort_values(ascending=False)\n",
    "\n",
    "corr['LUMINOSITY']=corr['LUMINOSITY'].astype('category').cat.codes\n",
    "corr['LUMINOSITY'].sort_values(ascending=False)\n",
    "\n",
    "corr['weekday']=corr['weekday'].astype('category').cat.codes\n",
    "corr['weekday'].sort_values(ascending=False)\n",
    "\n"
   ]
  },
  {
   "cell_type": "code",
   "execution_count": 29,
   "metadata": {},
   "outputs": [],
   "source": [
    "#fig, ax = plt.subplots(figsize=(12,12))\n",
    "#sns.heatmap(corr.corr(),cmap=\"PiYG\")"
   ]
  },
  {
   "cell_type": "code",
   "execution_count": 30,
   "metadata": {},
   "outputs": [],
   "source": [
    "training = training.drop(['city_name','record_date','AVERAGE_PRECIPITATION','AVERAGE_RAIN','AVERAGE_DISTANCE_FREE','AVERAGE_FREE_FLOW_SPEED'],axis=1)\n",
    "testing = testing.drop(['city_name','record_date','AVERAGE_PRECIPITATION','AVERAGE_RAIN','AVERAGE_DISTANCE_FREE','AVERAGE_FREE_FLOW_SPEED'],axis=1)"
   ]
  },
  {
   "cell_type": "code",
   "execution_count": 31,
   "metadata": {},
   "outputs": [],
   "source": [
    "\n",
    "training.loc[training.AVERAGE_CLOUDINESS == 'céu claro', 'AVERAGE_CLOUDINESS'] = 'céu limpo'\n",
    "training.loc[training.AVERAGE_CLOUDINESS == 'nuvens quebrados', 'AVERAGE_CLOUDINESS'] = 'nuvens dispersas'\n",
    "training.loc[training.AVERAGE_CLOUDINESS == 'nuvens quebradas', 'AVERAGE_CLOUDINESS'] = 'nuvens dispersas'\n",
    "training.loc[training.AVERAGE_CLOUDINESS == 'algumas nuvens', 'AVERAGE_CLOUDINESS'] = 'nuvens dispersas'\n",
    "training.loc[training.AVERAGE_CLOUDINESS == 'tempo nublado', 'AVERAGE_CLOUDINESS'] = 'nublado'\n",
    "\n",
    "\n",
    "testing.loc[testing.AVERAGE_CLOUDINESS == 'céu claro', 'AVERAGE_CLOUDINESS'] = 'céu limpo'\n",
    "testing.loc[testing.AVERAGE_CLOUDINESS == 'nuvens quebrados', 'AVERAGE_CLOUDINESS'] = 'nuvens dispersas'\n",
    "testing.loc[testing.AVERAGE_CLOUDINESS == 'nuvens quebradas', 'AVERAGE_CLOUDINESS'] = 'nuvens dispersas'\n",
    "testing.loc[testing.AVERAGE_CLOUDINESS == 'algumas nuvens', 'AVERAGE_CLOUDINESS'] = 'nuvens dispersas'\n",
    "testing.loc[testing.AVERAGE_CLOUDINESS == 'tempo nublado', 'AVERAGE_CLOUDINESS'] = 'nublado'"
   ]
  },
  {
   "cell_type": "code",
   "execution_count": 32,
   "metadata": {},
   "outputs": [
    {
     "data": {
      "text/plain": [
       "DARK         730\n",
       "LIGHT        725\n",
       "LOW_LIGHT     45\n",
       "Name: LUMINOSITY, dtype: int64"
      ]
     },
     "execution_count": 32,
     "metadata": {},
     "output_type": "execute_result"
    }
   ],
   "source": [
    "testing['LUMINOSITY'].value_counts()"
   ]
  },
  {
   "cell_type": "code",
   "execution_count": 33,
   "metadata": {},
   "outputs": [],
   "source": [
    "training.loc[training.LUMINOSITY == 'LOW_LIGHT', 'LUMINOSITY'] = 'DARK'\n",
    "\n",
    "testing.loc[testing.LUMINOSITY == 'LOW_LIGHT', 'LUMINOSITY'] = 'DARK'"
   ]
  },
  {
   "cell_type": "code",
   "execution_count": 34,
   "metadata": {},
   "outputs": [],
   "source": [
    "from sklearn.preprocessing import RobustScaler\n",
    "scaler = RobustScaler()\n"
   ]
  },
  {
   "cell_type": "code",
   "execution_count": 35,
   "metadata": {},
   "outputs": [],
   "source": [
    "#profileTrain = ProfileReport(training)\n",
    "#profileTest = ProfileReport(testing)"
   ]
  },
  {
   "cell_type": "code",
   "execution_count": 36,
   "metadata": {},
   "outputs": [],
   "source": [
    "#profileTrain.to_notebook_iframe()\n",
    "#profileTest.to_notebook_iframe()"
   ]
  },
  {
   "cell_type": "code",
   "execution_count": 37,
   "metadata": {},
   "outputs": [
    {
     "name": "stdout",
     "output_type": "stream",
     "text": [
      "<class 'pandas.core.frame.DataFrame'>\n",
      "RangeIndex: 6812 entries, 0 to 6811\n",
      "Data columns (total 18 columns):\n",
      " #   Column                   Non-Null Count  Dtype  \n",
      "---  ------                   --------------  -----  \n",
      " 0   AVERAGE_SPEED_DIFF       6812 non-null   object \n",
      " 1   AVERAGE_TIME_DIFF        6812 non-null   float64\n",
      " 2   AVERAGE_FREE_FLOW_TIME   6812 non-null   float64\n",
      " 3   LUMINOSITY               6812 non-null   object \n",
      " 4   AVERAGE_TEMPERATURE      6812 non-null   float64\n",
      " 5   AVERAGE_ATMOSP_PRESSURE  6812 non-null   float64\n",
      " 6   AVERAGE_HUMIDITY         6812 non-null   float64\n",
      " 7   AVERAGE_WIND_SPEED       6812 non-null   float64\n",
      " 8   AVERAGE_CLOUDINESS       6812 non-null   object \n",
      " 9   weekday                  6812 non-null   int64  \n",
      " 10  hour                     6812 non-null   int64  \n",
      " 11  month                    6812 non-null   int64  \n",
      " 12  year                     6812 non-null   int64  \n",
      " 13  day                      6812 non-null   int64  \n",
      " 14  is_weekend               6812 non-null   int64  \n",
      " 15  AVERAGE_TIME             6812 non-null   float64\n",
      " 16  AVERAGE_SPEED            6812 non-null   float64\n",
      " 17  AVERAGE_SPEED_DIFF_Num   6812 non-null   float64\n",
      "dtypes: float64(9), int64(6), object(3)\n",
      "memory usage: 958.1+ KB\n"
     ]
    }
   ],
   "source": [
    "training.info()"
   ]
  },
  {
   "cell_type": "code",
   "execution_count": 38,
   "metadata": {},
   "outputs": [],
   "source": [
    "\n",
    "cyclical = CyclicalTransformer(variables=None, drop_original=True)\n",
    "\n",
    "cic = cyclical.fit_transform(training[['weekday','hour','month','year','day']])\n",
    "training['weekday_sin'] = cic['weekday_sin'].values\n",
    "training['weekday_cos'] = cic['weekday_cos'].values\n",
    "\n",
    "training['hour_sin'] = cic['hour_sin'].values\n",
    "training['hour_cos'] = cic['hour_cos'].values\n",
    "\n",
    "training['month_sin'] = cic['month_sin'].values\n",
    "training['month_cos'] = cic['month_cos'].values\n",
    "\n",
    "training['year_sin'] = cic['year_sin'].values\n",
    "training['year_cos'] = cic['year_cos'].values\n",
    "\n",
    "training['day_sin'] = cic['day_sin'].values\n",
    "training['day_cos'] = cic['day_cos'].values\n",
    "\n",
    "training = training.drop(['weekday','hour','month','year','day'],axis=1)\n",
    "\n",
    "cic = cyclical.fit_transform(testing[['weekday','hour','month','year','day']])\n",
    "testing['weekday_sin'] = cic['weekday_sin'].values\n",
    "testing['weekday_cos'] = cic['weekday_cos'].values\n",
    "\n",
    "testing['hour_sin'] = cic['hour_sin'].values\n",
    "testing['hour_cos'] = cic['hour_cos'].values\n",
    "\n",
    "testing['month_sin'] = cic['month_sin'].values\n",
    "testing['month_cos'] = cic['month_cos'].values\n",
    "\n",
    "testing['year_sin'] = cic['year_sin'].values\n",
    "testing['year_cos'] = cic['year_cos'].values\n",
    "\n",
    "testing['day_sin'] = cic['day_sin'].values\n",
    "testing['day_cos'] = cic['day_cos'].values\n",
    "\n",
    "testing = testing.drop(['weekday','hour','month','year','day'],axis=1)"
   ]
  },
  {
   "cell_type": "code",
   "execution_count": 39,
   "metadata": {},
   "outputs": [
    {
     "data": {
      "text/html": [
       "<div>\n",
       "<style scoped>\n",
       "    .dataframe tbody tr th:only-of-type {\n",
       "        vertical-align: middle;\n",
       "    }\n",
       "\n",
       "    .dataframe tbody tr th {\n",
       "        vertical-align: top;\n",
       "    }\n",
       "\n",
       "    .dataframe thead th {\n",
       "        text-align: right;\n",
       "    }\n",
       "</style>\n",
       "<table border=\"1\" class=\"dataframe\">\n",
       "  <thead>\n",
       "    <tr style=\"text-align: right;\">\n",
       "      <th></th>\n",
       "      <th>AVERAGE_SPEED_DIFF</th>\n",
       "      <th>AVERAGE_TIME_DIFF</th>\n",
       "      <th>AVERAGE_FREE_FLOW_TIME</th>\n",
       "      <th>LUMINOSITY</th>\n",
       "      <th>AVERAGE_TEMPERATURE</th>\n",
       "      <th>AVERAGE_ATMOSP_PRESSURE</th>\n",
       "      <th>AVERAGE_HUMIDITY</th>\n",
       "      <th>AVERAGE_WIND_SPEED</th>\n",
       "      <th>AVERAGE_CLOUDINESS</th>\n",
       "      <th>is_weekend</th>\n",
       "      <th>...</th>\n",
       "      <th>weekday_sin</th>\n",
       "      <th>weekday_cos</th>\n",
       "      <th>hour_sin</th>\n",
       "      <th>hour_cos</th>\n",
       "      <th>month_sin</th>\n",
       "      <th>month_cos</th>\n",
       "      <th>year_sin</th>\n",
       "      <th>year_cos</th>\n",
       "      <th>day_sin</th>\n",
       "      <th>day_cos</th>\n",
       "    </tr>\n",
       "  </thead>\n",
       "  <tbody>\n",
       "    <tr>\n",
       "      <th>0</th>\n",
       "      <td>Medium</td>\n",
       "      <td>11.5</td>\n",
       "      <td>71.4</td>\n",
       "      <td>LIGHT</td>\n",
       "      <td>15.0</td>\n",
       "      <td>1019.0</td>\n",
       "      <td>100.0</td>\n",
       "      <td>3.0</td>\n",
       "      <td>NoData</td>\n",
       "      <td>0</td>\n",
       "      <td>...</td>\n",
       "      <td>1.224647e-16</td>\n",
       "      <td>-1.0</td>\n",
       "      <td>0.942261</td>\n",
       "      <td>-0.334880</td>\n",
       "      <td>-8.660254e-01</td>\n",
       "      <td>-5.000000e-01</td>\n",
       "      <td>-2.449294e-16</td>\n",
       "      <td>1.000000</td>\n",
       "      <td>-0.394356</td>\n",
       "      <td>0.918958</td>\n",
       "    </tr>\n",
       "    <tr>\n",
       "      <th>1</th>\n",
       "      <td>High</td>\n",
       "      <td>48.3</td>\n",
       "      <td>87.4</td>\n",
       "      <td>LIGHT</td>\n",
       "      <td>21.0</td>\n",
       "      <td>1021.0</td>\n",
       "      <td>53.0</td>\n",
       "      <td>5.0</td>\n",
       "      <td>céu limpo</td>\n",
       "      <td>0</td>\n",
       "      <td>...</td>\n",
       "      <td>-8.660254e-01</td>\n",
       "      <td>-0.5</td>\n",
       "      <td>-0.631088</td>\n",
       "      <td>-0.775711</td>\n",
       "      <td>-8.660254e-01</td>\n",
       "      <td>-5.000000e-01</td>\n",
       "      <td>-3.112023e-03</td>\n",
       "      <td>0.999995</td>\n",
       "      <td>0.897805</td>\n",
       "      <td>-0.440394</td>\n",
       "    </tr>\n",
       "    <tr>\n",
       "      <th>2</th>\n",
       "      <td>High</td>\n",
       "      <td>38.4</td>\n",
       "      <td>85.2</td>\n",
       "      <td>LIGHT</td>\n",
       "      <td>26.0</td>\n",
       "      <td>1014.0</td>\n",
       "      <td>61.0</td>\n",
       "      <td>4.0</td>\n",
       "      <td>NoData</td>\n",
       "      <td>0</td>\n",
       "      <td>...</td>\n",
       "      <td>-2.449294e-16</td>\n",
       "      <td>1.0</td>\n",
       "      <td>-0.942261</td>\n",
       "      <td>-0.334880</td>\n",
       "      <td>-1.000000e+00</td>\n",
       "      <td>-1.836970e-16</td>\n",
       "      <td>-2.449294e-16</td>\n",
       "      <td>1.000000</td>\n",
       "      <td>0.201299</td>\n",
       "      <td>0.979530</td>\n",
       "    </tr>\n",
       "    <tr>\n",
       "      <th>3</th>\n",
       "      <td>High</td>\n",
       "      <td>61.0</td>\n",
       "      <td>94.1</td>\n",
       "      <td>LIGHT</td>\n",
       "      <td>18.0</td>\n",
       "      <td>1025.0</td>\n",
       "      <td>48.0</td>\n",
       "      <td>4.0</td>\n",
       "      <td>céu limpo</td>\n",
       "      <td>0</td>\n",
       "      <td>...</td>\n",
       "      <td>8.660254e-01</td>\n",
       "      <td>0.5</td>\n",
       "      <td>0.136167</td>\n",
       "      <td>-0.990686</td>\n",
       "      <td>8.660254e-01</td>\n",
       "      <td>5.000000e-01</td>\n",
       "      <td>-2.449294e-16</td>\n",
       "      <td>1.000000</td>\n",
       "      <td>-0.848644</td>\n",
       "      <td>0.528964</td>\n",
       "    </tr>\n",
       "    <tr>\n",
       "      <th>4</th>\n",
       "      <td>Medium</td>\n",
       "      <td>50.4</td>\n",
       "      <td>77.0</td>\n",
       "      <td>LIGHT</td>\n",
       "      <td>15.0</td>\n",
       "      <td>1008.0</td>\n",
       "      <td>82.0</td>\n",
       "      <td>10.0</td>\n",
       "      <td>NoData</td>\n",
       "      <td>0</td>\n",
       "      <td>...</td>\n",
       "      <td>1.224647e-16</td>\n",
       "      <td>-1.0</td>\n",
       "      <td>-0.136167</td>\n",
       "      <td>-0.990686</td>\n",
       "      <td>1.224647e-16</td>\n",
       "      <td>-1.000000e+00</td>\n",
       "      <td>-2.449294e-16</td>\n",
       "      <td>1.000000</td>\n",
       "      <td>0.937752</td>\n",
       "      <td>0.347305</td>\n",
       "    </tr>\n",
       "  </tbody>\n",
       "</table>\n",
       "<p>5 rows × 23 columns</p>\n",
       "</div>"
      ],
      "text/plain": [
       "  AVERAGE_SPEED_DIFF  AVERAGE_TIME_DIFF  AVERAGE_FREE_FLOW_TIME LUMINOSITY  \\\n",
       "0             Medium               11.5                    71.4      LIGHT   \n",
       "1               High               48.3                    87.4      LIGHT   \n",
       "2               High               38.4                    85.2      LIGHT   \n",
       "3               High               61.0                    94.1      LIGHT   \n",
       "4             Medium               50.4                    77.0      LIGHT   \n",
       "\n",
       "   AVERAGE_TEMPERATURE  AVERAGE_ATMOSP_PRESSURE  AVERAGE_HUMIDITY  \\\n",
       "0                 15.0                   1019.0             100.0   \n",
       "1                 21.0                   1021.0              53.0   \n",
       "2                 26.0                   1014.0              61.0   \n",
       "3                 18.0                   1025.0              48.0   \n",
       "4                 15.0                   1008.0              82.0   \n",
       "\n",
       "   AVERAGE_WIND_SPEED AVERAGE_CLOUDINESS  is_weekend  ...   weekday_sin  \\\n",
       "0                 3.0             NoData           0  ...  1.224647e-16   \n",
       "1                 5.0          céu limpo           0  ... -8.660254e-01   \n",
       "2                 4.0             NoData           0  ... -2.449294e-16   \n",
       "3                 4.0          céu limpo           0  ...  8.660254e-01   \n",
       "4                10.0             NoData           0  ...  1.224647e-16   \n",
       "\n",
       "   weekday_cos  hour_sin  hour_cos     month_sin     month_cos      year_sin  \\\n",
       "0         -1.0  0.942261 -0.334880 -8.660254e-01 -5.000000e-01 -2.449294e-16   \n",
       "1         -0.5 -0.631088 -0.775711 -8.660254e-01 -5.000000e-01 -3.112023e-03   \n",
       "2          1.0 -0.942261 -0.334880 -1.000000e+00 -1.836970e-16 -2.449294e-16   \n",
       "3          0.5  0.136167 -0.990686  8.660254e-01  5.000000e-01 -2.449294e-16   \n",
       "4         -1.0 -0.136167 -0.990686  1.224647e-16 -1.000000e+00 -2.449294e-16   \n",
       "\n",
       "   year_cos   day_sin   day_cos  \n",
       "0  1.000000 -0.394356  0.918958  \n",
       "1  0.999995  0.897805 -0.440394  \n",
       "2  1.000000  0.201299  0.979530  \n",
       "3  1.000000 -0.848644  0.528964  \n",
       "4  1.000000  0.937752  0.347305  \n",
       "\n",
       "[5 rows x 23 columns]"
      ]
     },
     "execution_count": 39,
     "metadata": {},
     "output_type": "execute_result"
    }
   ],
   "source": [
    "training.head()"
   ]
  },
  {
   "cell_type": "code",
   "execution_count": 40,
   "metadata": {},
   "outputs": [],
   "source": [
    "for data in datasets:\n",
    "    if 'AVERAGE_SPEED_DIFF' in data:\n",
    "        data['AVERAGE_SPEED_DIFF'] = data['AVERAGE_SPEED_DIFF'].astype('category')\n",
    "    data['AVERAGE_RAIN'] = data['AVERAGE_RAIN'].astype('category')\n",
    "    data['LUMINOSITY'] = data['LUMINOSITY'].astype('category')\n",
    "    data['AVERAGE_CLOUDINESS'] = data['AVERAGE_CLOUDINESS'].astype('category')"
   ]
  },
  {
   "cell_type": "code",
   "execution_count": 41,
   "metadata": {},
   "outputs": [],
   "source": [
    "df_dummies_train = training[['AVERAGE_CLOUDINESS','LUMINOSITY']]\n",
    "\n",
    "df_dummies_test = testing[['AVERAGE_CLOUDINESS','LUMINOSITY']]\n"
   ]
  },
  {
   "cell_type": "code",
   "execution_count": 42,
   "metadata": {},
   "outputs": [],
   "source": [
    "for i in df_dummies_train:\n",
    "    training = pd.concat([training,pd.get_dummies(training[i])],axis='columns').drop([i],axis='columns')\n",
    "\n",
    "for i in df_dummies_test:\n",
    "    testing = pd.concat([testing,pd.get_dummies(testing[i])],axis='columns').drop([i],axis='columns')"
   ]
  },
  {
   "cell_type": "code",
   "execution_count": 43,
   "metadata": {},
   "outputs": [
    {
     "name": "stdout",
     "output_type": "stream",
     "text": [
      "<class 'pandas.core.frame.DataFrame'>\n",
      "RangeIndex: 6812 entries, 0 to 6811\n",
      "Data columns (total 28 columns):\n",
      " #   Column                   Non-Null Count  Dtype  \n",
      "---  ------                   --------------  -----  \n",
      " 0   AVERAGE_SPEED_DIFF       6812 non-null   object \n",
      " 1   AVERAGE_TIME_DIFF        6812 non-null   float64\n",
      " 2   AVERAGE_FREE_FLOW_TIME   6812 non-null   float64\n",
      " 3   AVERAGE_TEMPERATURE      6812 non-null   float64\n",
      " 4   AVERAGE_ATMOSP_PRESSURE  6812 non-null   float64\n",
      " 5   AVERAGE_HUMIDITY         6812 non-null   float64\n",
      " 6   AVERAGE_WIND_SPEED       6812 non-null   float64\n",
      " 7   is_weekend               6812 non-null   int64  \n",
      " 8   AVERAGE_TIME             6812 non-null   float64\n",
      " 9   AVERAGE_SPEED            6812 non-null   float64\n",
      " 10  AVERAGE_SPEED_DIFF_Num   6812 non-null   float64\n",
      " 11  weekday_sin              6812 non-null   float64\n",
      " 12  weekday_cos              6812 non-null   float64\n",
      " 13  hour_sin                 6812 non-null   float64\n",
      " 14  hour_cos                 6812 non-null   float64\n",
      " 15  month_sin                6812 non-null   float64\n",
      " 16  month_cos                6812 non-null   float64\n",
      " 17  year_sin                 6812 non-null   float64\n",
      " 18  year_cos                 6812 non-null   float64\n",
      " 19  day_sin                  6812 non-null   float64\n",
      " 20  day_cos                  6812 non-null   float64\n",
      " 21  NoData                   6812 non-null   uint8  \n",
      " 22  céu limpo                6812 non-null   uint8  \n",
      " 23  céu pouco nublado        6812 non-null   uint8  \n",
      " 24  nublado                  6812 non-null   uint8  \n",
      " 25  nuvens dispersas         6812 non-null   uint8  \n",
      " 26  DARK                     6812 non-null   uint8  \n",
      " 27  LIGHT                    6812 non-null   uint8  \n",
      "dtypes: float64(19), int64(1), object(1), uint8(7)\n",
      "memory usage: 1.1+ MB\n"
     ]
    }
   ],
   "source": [
    "training.info()"
   ]
  },
  {
   "cell_type": "code",
   "execution_count": 44,
   "metadata": {},
   "outputs": [],
   "source": [
    "training.to_csv('processedTrain.csv',index=False)\n",
    "testing.to_csv('processedTest.csv',index=False)"
   ]
  }
 ],
 "metadata": {
  "interpreter": {
   "hash": "93f4246b72b1dfd2a0724448b6458aeeaf8f9dfbfbe240c26e171f90999410ad"
  },
  "kernelspec": {
   "display_name": "Python 3.8.8 64-bit ('base': conda)",
   "language": "python",
   "name": "python3"
  },
  "language_info": {
   "codemirror_mode": {
    "name": "ipython",
    "version": 3
   },
   "file_extension": ".py",
   "mimetype": "text/x-python",
   "name": "python",
   "nbconvert_exporter": "python",
   "pygments_lexer": "ipython3",
   "version": "3.8.8"
  },
  "orig_nbformat": 4
 },
 "nbformat": 4,
 "nbformat_minor": 2
}
